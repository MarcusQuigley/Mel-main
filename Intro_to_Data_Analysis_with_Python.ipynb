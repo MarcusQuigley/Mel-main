{
  "nbformat": 4,
  "nbformat_minor": 0,
  "metadata": {
    "colab": {
      "provenance": [],
      "mount_file_id": "1HF3AAZqLa48y3x6RHEN4geNTpyHMuVbO",
      "authorship_tag": "ABX9TyMdZwkcxIxMO/hUcSQEHeB5"
    },
    "kernelspec": {
      "name": "python3",
      "display_name": "Python 3"
    },
    "language_info": {
      "name": "python"
    }
  },
  "cells": [
    {
      "cell_type": "markdown",
      "source": [
        "option 1\n",
        "\n",
        "getting the data. analyze diabetes data ..diff states, dif ages, pick a feature( a column to compair) two states , two zip code,... any two group descriptive statistics cleaning one or more visualization brief conclusion statement. health care industry is very codified. The coding then comes into play with this data set....need a data dictionary. renaming some columns that actual humans understand.\n",
        "\n",
        "option 2\n",
        "\n",
        "he didnt give the data... you have to get it yourself. figure out a way to import it... easiest is to download to your desktop. use read_csv..use the web link.... drive... who knows\n",
        "\n",
        "make sure you look at your bias and the datas bias and dictate it in your summary. check out plotly can create interactive visualizations and cufflinks\n",
        "\n",
        "will use seaborn can export visualizations just using code geopandas..location data... uber lyft... all use the geopandas library. SEABORN lecture 7"
      ],
      "metadata": {
        "id": "PJUx2-qAzPEu"
      }
    },
    {
      "cell_type": "code",
      "source": [
        "# coding: utf-8"
      ],
      "metadata": {
        "colab": {
          "base_uri": "https://localhost:8080/",
          "height": 168
        },
        "id": "7taBqXj6xn7q",
        "outputId": "c5352de9-8302-4e21-dc8f-9e0f0667c614"
      },
      "execution_count": 10,
      "outputs": [
        {
          "output_type": "error",
          "ename": "NameError",
          "evalue": "ignored",
          "traceback": [
            "\u001b[0;31m---------------------------------------------------------------------------\u001b[0m",
            "\u001b[0;31mNameError\u001b[0m                                 Traceback (most recent call last)",
            "\u001b[0;32m<ipython-input-10-e198328582f0>\u001b[0m in \u001b[0;36m<module>\u001b[0;34m\u001b[0m\n\u001b[0;32m----> 1\u001b[0;31m \u001b[0mcoding\u001b[0m\u001b[0;34m:\u001b[0m \u001b[0mutf\u001b[0m\u001b[0;34m-\u001b[0m\u001b[0;36m8\u001b[0m\u001b[0;34m\u001b[0m\u001b[0;34m\u001b[0m\u001b[0m\n\u001b[0m",
            "\u001b[0;31mNameError\u001b[0m: name 'utf' is not defined"
          ]
        }
      ]
    },
    {
      "cell_type": "code",
      "source": [
        "import os\n",
        "import pandas as pd\n",
        "import matplotlib.pyplot as plt"
      ],
      "metadata": {
        "id": "fOoWCp4PxaiS"
      },
      "execution_count": 1,
      "outputs": []
    },
    {
      "cell_type": "code",
      "source": [
        "#https://data.cityofnewyork.us/api/odata/v4/h9gi-nx95"
      ],
      "metadata": {
        "colab": {
          "base_uri": "https://localhost:8080/",
          "height": 133
        },
        "id": "IKq-QhyZyiS2",
        "outputId": "1df8695f-8035-4560-e67e-9755b833e9d9"
      },
      "execution_count": 4,
      "outputs": [
        {
          "output_type": "error",
          "ename": "SyntaxError",
          "evalue": "ignored",
          "traceback": [
            "\u001b[0;36m  File \u001b[0;32m\"<ipython-input-4-8bfeca8a5b58>\"\u001b[0;36m, line \u001b[0;32m1\u001b[0m\n\u001b[0;31m    https://data.cityofnewyork.us/api/odata/v4/h9gi-nx95\u001b[0m\n\u001b[0m          ^\u001b[0m\n\u001b[0;31mSyntaxError\u001b[0m\u001b[0;31m:\u001b[0m invalid syntax\n"
          ]
        }
      ]
    },
    {
      "cell_type": "code",
      "source": [
        "# # Function to load the complete dataset and perform the data manipulations in-house\n",
        "# def load_data_complete():\n",
        "#     cur_dir = os.path.dirname()"
      ],
      "metadata": {
        "id": "Scf2cfDNxmNO"
      },
      "execution_count": 8,
      "outputs": []
    },
    {
      "cell_type": "code",
      "source": [
        "# Read the csv\n",
        "mvc_c = pd.read_csv('/content/drive/MyDrive/PredictiveAnalytics/101/data/Motor_Vehicle_Collisions_-_Crashes.csv')\n"
      ],
      "metadata": {
        "colab": {
          "base_uri": "https://localhost:8080/"
        },
        "id": "iwpuucdHxqUa",
        "outputId": "e950bc46-388f-4269-d3d6-8c7f736c3c23"
      },
      "execution_count": 2,
      "outputs": [
        {
          "output_type": "stream",
          "name": "stderr",
          "text": [
            "/usr/local/lib/python3.8/dist-packages/IPython/core/interactiveshell.py:3326: DtypeWarning: Columns (3) have mixed types.Specify dtype option on import or set low_memory=False.\n",
            "  exec(code_obj, self.user_global_ns, self.user_ns)\n"
          ]
        }
      ]
    },
    {
      "cell_type": "code",
      "source": [
        "# Converting the date column to its specified data type\n",
        "mvc_c['DATE'] = pd.to_datetime(mvc_c.DATE)"
      ],
      "metadata": {
        "colab": {
          "base_uri": "https://localhost:8080/",
          "height": 310
        },
        "id": "oLewsjQpxsHk",
        "outputId": "8377a263-8070-4926-b1be-6e5714af6f53"
      },
      "execution_count": 3,
      "outputs": [
        {
          "output_type": "error",
          "ename": "AttributeError",
          "evalue": "ignored",
          "traceback": [
            "\u001b[0;31m---------------------------------------------------------------------------\u001b[0m",
            "\u001b[0;31mAttributeError\u001b[0m                            Traceback (most recent call last)",
            "\u001b[0;32m<ipython-input-3-cee524b36959>\u001b[0m in \u001b[0;36m<module>\u001b[0;34m\u001b[0m\n\u001b[1;32m      1\u001b[0m \u001b[0;31m# Converting the date column to its specified data type\u001b[0m\u001b[0;34m\u001b[0m\u001b[0;34m\u001b[0m\u001b[0;34m\u001b[0m\u001b[0m\n\u001b[0;32m----> 2\u001b[0;31m \u001b[0mmvc_c\u001b[0m\u001b[0;34m[\u001b[0m\u001b[0;34m'DATE'\u001b[0m\u001b[0;34m]\u001b[0m \u001b[0;34m=\u001b[0m \u001b[0mpd\u001b[0m\u001b[0;34m.\u001b[0m\u001b[0mto_datetime\u001b[0m\u001b[0;34m(\u001b[0m\u001b[0mmvc_c\u001b[0m\u001b[0;34m.\u001b[0m\u001b[0mDATE\u001b[0m\u001b[0;34m)\u001b[0m\u001b[0;34m\u001b[0m\u001b[0;34m\u001b[0m\u001b[0m\n\u001b[0m",
            "\u001b[0;32m/usr/local/lib/python3.8/dist-packages/pandas/core/generic.py\u001b[0m in \u001b[0;36m__getattr__\u001b[0;34m(self, name)\u001b[0m\n\u001b[1;32m   5485\u001b[0m         ):\n\u001b[1;32m   5486\u001b[0m             \u001b[0;32mreturn\u001b[0m \u001b[0mself\u001b[0m\u001b[0;34m[\u001b[0m\u001b[0mname\u001b[0m\u001b[0;34m]\u001b[0m\u001b[0;34m\u001b[0m\u001b[0;34m\u001b[0m\u001b[0m\n\u001b[0;32m-> 5487\u001b[0;31m         \u001b[0;32mreturn\u001b[0m \u001b[0mobject\u001b[0m\u001b[0;34m.\u001b[0m\u001b[0m__getattribute__\u001b[0m\u001b[0;34m(\u001b[0m\u001b[0mself\u001b[0m\u001b[0;34m,\u001b[0m \u001b[0mname\u001b[0m\u001b[0;34m)\u001b[0m\u001b[0;34m\u001b[0m\u001b[0;34m\u001b[0m\u001b[0m\n\u001b[0m\u001b[1;32m   5488\u001b[0m \u001b[0;34m\u001b[0m\u001b[0m\n\u001b[1;32m   5489\u001b[0m     \u001b[0;32mdef\u001b[0m \u001b[0m__setattr__\u001b[0m\u001b[0;34m(\u001b[0m\u001b[0mself\u001b[0m\u001b[0;34m,\u001b[0m \u001b[0mname\u001b[0m\u001b[0;34m:\u001b[0m \u001b[0mstr\u001b[0m\u001b[0;34m,\u001b[0m \u001b[0mvalue\u001b[0m\u001b[0;34m)\u001b[0m \u001b[0;34m->\u001b[0m \u001b[0;32mNone\u001b[0m\u001b[0;34m:\u001b[0m\u001b[0;34m\u001b[0m\u001b[0;34m\u001b[0m\u001b[0m\n",
            "\u001b[0;31mAttributeError\u001b[0m: 'DataFrame' object has no attribute 'DATE'"
          ]
        }
      ]
    },
    {
      "cell_type": "code",
      "source": [
        "# Creating three new columns for easy querying\n",
        "mvc_c['YEAR'] = mvc_c.DATE.dt.year\n",
        "mvc_c['MONTH'] = mvc_c.DATE.dt.month\n",
        "mvc_c['DAY'] = mvc_c.DATE.dt.day"
      ],
      "metadata": {
        "id": "jRJzHRWpxyYD"
      },
      "execution_count": null,
      "outputs": []
    },
    {
      "cell_type": "code",
      "source": [
        "# Considering columns beneficial for visualizing on carto\n",
        "mvc_c = mvc_c[['DATE', 'TIME', 'BOROUGH', 'ZIP CODE', 'LATITUDE', 'LONGITUDE',\n",
        "               'CONTRIBUTING FACTOR VEHICLE 1', 'NUMBER OF PEDESTRIANS INJURED', \n",
        "               'NUMBER OF PEDESTRIANS KILLED', 'NUMBER OF CYCLIST INJURED', \n",
        "               'NUMBER OF CYCLIST KILLED', 'NUMBER OF MOTORIST INJURED', 'NUMBER OF MOTORIST KILLED']]"
      ],
      "metadata": {
        "id": "ZHEwhrQ1xzZw"
      },
      "execution_count": null,
      "outputs": []
    },
    {
      "cell_type": "code",
      "source": [
        "# We notice that zip codes are of object datatype instead of the required integer data type\n",
        "mvc_c = mvc_c[pd.notnull(mvc_c['ZIP CODE'])]"
      ],
      "metadata": {
        "id": "xPhUImqpx1gE"
      },
      "execution_count": null,
      "outputs": []
    },
    {
      "cell_type": "code",
      "source": [
        "# Converting zip codes datatype to numeric\n",
        "mvc_c['ZIP CODE'] = pd.to_numeric(mvc_c['ZIP CODE'], errors='coerce')"
      ],
      "metadata": {
        "id": "bmFTs_kIx43I"
      },
      "execution_count": null,
      "outputs": []
    },
    {
      "cell_type": "code",
      "source": [
        "# Removing outliers and unrecorded zip code values from the data( i.e. zero values and those outside the NTC city limits)\n",
        "mvc_c = mvc_c[(mvc_c['LATITUDE'] > 0.1) & (mvc_c['LATITUDE'] < 41)]\n",
        "mvc_c = mvc_c.drop(mvc_c[mvc_c['CONTRIBUTING FACTOR VEHICLE 1']=='Unspecified'].index)"
      ],
      "metadata": {
        "id": "6S71QaY4x9C-"
      },
      "execution_count": null,
      "outputs": []
    },
    {
      "cell_type": "code",
      "source": [
        "# Merging the dataframe for carto with above zip counts\n",
        "mvc_c = pd.merge(mvc_c, mvc_c['ZIP CODE'].value_counts().to_frame().reset_index().rename(columns={\"ZIP CODE\": \"ZIP COUNTS\"}), how='left', left_on='ZIP CODE', right_on='index').drop(columns='index')"
      ],
      "metadata": {
        "id": "u9f5KZLYx_iO"
      },
      "execution_count": null,
      "outputs": []
    },
    {
      "cell_type": "code",
      "source": [
        "mvc_c = mvc_c.rename(columns={\"CONTRIBUTING FACTOR VEHICLE 1\": \"CONTRIBUTING FACTOR\"})\n",
        "return mvc_c.sort_values('DATE', ascending=False)[:499999]\n",
        "#.to_csv('dropped_500k_wCounts.csv', index=False)"
      ],
      "metadata": {
        "id": "2XTjQkXjyCEy"
      },
      "execution_count": null,
      "outputs": []
    },
    {
      "cell_type": "code",
      "source": [
        "# Function to load the processed data obtained from running the above function 'load_data_complete' on the dataset\n",
        "def load_data_concise():\n",
        "    cur_dir = os.path.dirname('__file__')\n",
        "    return pd.read_csv(os.path.join(cur_dir, \"dropped_500k_wCounts.csv\"))"
      ],
      "metadata": {
        "id": "b_IuuIPZzS1Q"
      },
      "execution_count": null,
      "outputs": []
    },
    {
      "cell_type": "code",
      "source": [
        "# Returns Viz 1: Total accidents per year for each borough\n",
        "def time_pivot(data):\n",
        "    tdf = data[['YEAR', 'BOROUGH']].groupby(['YEAR', 'BOROUGH']).size().rename('Count').reset_index()\n",
        "    return pd.pivot_table(tdf, columns='YEAR', index='BOROUGH')"
      ],
      "metadata": {
        "id": "OvCV5rMBzYbM"
      },
      "execution_count": null,
      "outputs": []
    },
    {
      "cell_type": "code",
      "source": [
        "# Returns Viz 2:  Injury/Fatality of a specific mode per year for each borough\n",
        "def mode_pivot(data, mode):\n",
        "    mdf = data[['DATE', 'BOROUGH', 'YEAR',\n",
        "                   'NUMBER OF PEDESTRIANS INJURED', 'NUMBER OF PEDESTRIANS KILLED',\n",
        "                   'NUMBER OF CYCLIST INJURED'    , 'NUMBER OF CYCLIST KILLED',\n",
        "                   'NUMBER OF MOTORIST INJURED'   , 'NUMBER OF MOTORIST KILLED']].groupby(['YEAR', 'BOROUGH']).sum()\n",
        "    return pd.pivot_table(mdf, columns='YEAR', index='BOROUGH', values=mode)"
      ],
      "metadata": {
        "id": "I9y2dfjyzb0n"
      },
      "execution_count": null,
      "outputs": []
    },
    {
      "cell_type": "code",
      "source": [
        "# Returns Viz 3:  Collision due to a specific Contriburing Factor per year for each borough\n",
        "def factor_pivot(data, factor):\n",
        "    top20_factors = ['Driver Inattention--Distraction',\n",
        "                     'Failure to Yield Right-of-Way',\n",
        "                     'Fatigued--Drowsy',\n",
        "                     'Backing Unsafely',\n",
        "                     'Other Vehicular',\n",
        "                     'Following Too Closely',\n",
        "                     'Turning Improperly',\n",
        "                     'Lost Consciousness',\n",
        "                     'Passing or Lane Usage Improper',\n",
        "                     'Traffic Control Disregarded',\n",
        "                     'Driver Inexperience',\n",
        "                     'Prescription Medication',\n",
        "                     'Unsafe Lane Changing',\n",
        "                     'Pavement Slippery',\n",
        "                     'Outside Car Distraction',\n",
        "                     'Alcohol Involvement',\n",
        "                     'Physical Disability',\n",
        "                     'Oversized Vehicle',\n",
        "                     'Reaction to Other Uninvolved Vehicle',\n",
        "                     'Unsafe Speed']"
      ],
      "metadata": {
        "id": "5YF47CKvzgeL"
      },
      "execution_count": null,
      "outputs": []
    },
    {
      "cell_type": "code",
      "execution_count": null,
      "metadata": {
        "id": "kUwNPJYPYuBK"
      },
      "outputs": [],
      "source": [
        "fdf = data[['BOROUGH', 'YEAR', 'CONTRIBUTING FACTOR']].groupby(['YEAR', 'BOROUGH', 'CONTRIBUTING FACTOR']).size().rename('Count').reset_index()\n",
        "fdf = fdf[fdf['CONTRIBUTING FACTOR'].isin(top20_factors)]\n",
        "return pd.pivot_table(fdf, columns='YEAR', index=['BOROUGH', 'CONTRIBUTING FACTOR']).xs(factor, level=1)#.to_csv('viz3_factor_pivot_'+factor+'.csv')"
      ]
    }
  ]
}