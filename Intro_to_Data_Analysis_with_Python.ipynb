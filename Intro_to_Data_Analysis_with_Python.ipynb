{
  "nbformat": 4,
  "nbformat_minor": 0,
  "metadata": {
    "colab": {
      "provenance": [],
      "mount_file_id": "1HF3AAZqLa48y3x6RHEN4geNTpyHMuVbO",
      "authorship_tag": "ABX9TyPpWAFVH1dege/DbSfCPmQb"
    },
    "kernelspec": {
      "name": "python3",
      "display_name": "Python 3"
    },
    "language_info": {
      "name": "python"
    }
  },
  "cells": [
    {
      "cell_type": "markdown",
      "source": [
        "option 1\n",
        "\n",
        "getting the data. analyze diabetes data ..diff states, dif ages, pick a feature( a column to compair) two states , two zip code,... any two group descriptive statistics cleaning one or more visualization brief conclusion statement. health care industry is very codified. The coding then comes into play with this data set....need a data dictionary. renaming some columns that actual humans understand.\n",
        "\n",
        "option 2\n",
        "\n",
        "he didnt give the data... you have to get it yourself. figure out a way to import it... easiest is to download to your desktop. use read_csv..use the web link.... drive... who knows\n",
        "\n",
        "make sure you look at your bias and the datas bias and dictate it in your summary. check out plotly can create interactive visualizations and cufflinks\n",
        "\n",
        "will use seaborn can export visualizations just using code geopandas..location data... uber lyft... all use the geopandas library. SEABORN lecture 7"
      ],
      "metadata": {
        "id": "PJUx2-qAzPEu"
      }
    },
    {
      "cell_type": "code",
      "source": [
        "# coding: utf-8"
      ],
      "metadata": {
        "id": "7taBqXj6xn7q"
      },
      "execution_count": 4,
      "outputs": []
    },
    {
      "cell_type": "code",
      "source": [
        "import os\n",
        "import pandas as pd\n",
        "import matplotlib.pyplot as plt"
      ],
      "metadata": {
        "id": "fOoWCp4PxaiS"
      },
      "execution_count": 1,
      "outputs": []
    },
    {
      "cell_type": "code",
      "source": [
        "#https://data.cityofnewyork.us/api/odata/v4/h9gi-nx95"
      ],
      "metadata": {
        "id": "IKq-QhyZyiS2"
      },
      "execution_count": 5,
      "outputs": []
    },
    {
      "cell_type": "code",
      "source": [
        "# # Function to load the complete dataset and perform the data manipulations in-house\n",
        "# def load_data_complete():\n",
        "#     cur_dir = os.path.dirname()"
      ],
      "metadata": {
        "id": "Scf2cfDNxmNO"
      },
      "execution_count": 6,
      "outputs": []
    },
    {
      "cell_type": "code",
      "source": [
        "# Read the csv\n",
        "mvc_c = pd.read_csv('/content/drive/MyDrive/PredictiveAnalytics/101/data/Motor_Vehicle_Collisions_-_Crashes.csv', na_values = ['NA', '?'], delim_whitespace=True)\n"
      ],
      "metadata": {
        "colab": {
          "base_uri": "https://localhost:8080/"
        },
        "id": "iwpuucdHxqUa",
        "outputId": "62bd6038-f82c-4917-dd3a-bf93774f87d6"
      },
      "execution_count": 9,
      "outputs": [
        {
          "output_type": "stream",
          "name": "stderr",
          "text": [
            "/usr/local/lib/python3.8/dist-packages/IPython/core/interactiveshell.py:3326: DtypeWarning: Columns (20,21,22,23,24,25,26,27,28,29,30,31,32,33,34) have mixed types.Specify dtype option on import or set low_memory=False.\n",
            "  exec(code_obj, self.user_global_ns, self.user_ns)\n"
          ]
        }
      ]
    },
    {
      "cell_type": "code",
      "source": [
        "mvc_c.shape"
      ],
      "metadata": {
        "colab": {
          "base_uri": "https://localhost:8080/"
        },
        "id": "jzTQoOqs1jnJ",
        "outputId": "b8ca53c3-1481-4e74-d239-238d6101990b"
      },
      "execution_count": 11,
      "outputs": [
        {
          "output_type": "execute_result",
          "data": {
            "text/plain": [
              "(1956974, 64)"
            ]
          },
          "metadata": {},
          "execution_count": 11
        }
      ]
    },
    {
      "cell_type": "code",
      "source": [
        "mvc_c.info()"
      ],
      "metadata": {
        "colab": {
          "base_uri": "https://localhost:8080/"
        },
        "id": "gdpC5bDS1p4B",
        "outputId": "e45fa496-4833-4e55-c64c-5395de7ee4a6"
      },
      "execution_count": 13,
      "outputs": [
        {
          "output_type": "stream",
          "name": "stdout",
          "text": [
            "<class 'pandas.core.frame.DataFrame'>\n",
            "RangeIndex: 1956974 entries, 0 to 1956973\n",
            "Data columns (total 64 columns):\n",
            " #   Column                               Dtype  \n",
            "---  ------                               -----  \n",
            " 0   CRASH                                object \n",
            " 1   DATE,CRASH                           object \n",
            " 2   TIME,BOROUGH,ZIP                     object \n",
            " 3   CODE,LATITUDE,LONGITUDE,LOCATION,ON  object \n",
            " 4   STREET                               object \n",
            " 5   NAME,CROSS                           object \n",
            " 6   STREET.1                             object \n",
            " 7   NAME,OFF                             object \n",
            " 8   STREET.2                             object \n",
            " 9   NAME,NUMBER                          object \n",
            " 10  OF                                   object \n",
            " 11  PERSONS                              object \n",
            " 12  INJURED,NUMBER                       object \n",
            " 13  OF.1                                 object \n",
            " 14  PERSONS.1                            object \n",
            " 15  KILLED,NUMBER                        object \n",
            " 16  OF.2                                 object \n",
            " 17  PEDESTRIANS                          object \n",
            " 18  INJURED,NUMBER.1                     object \n",
            " 19  OF.3                                 object \n",
            " 20  PEDESTRIANS.1                        object \n",
            " 21  KILLED,NUMBER.1                      object \n",
            " 22  OF.4                                 object \n",
            " 23  CYCLIST                              object \n",
            " 24  INJURED,NUMBER.2                     object \n",
            " 25  OF.5                                 object \n",
            " 26  CYCLIST.1                            object \n",
            " 27  KILLED,NUMBER.2                      object \n",
            " 28  OF.6                                 object \n",
            " 29  MOTORIST                             object \n",
            " 30  INJURED,NUMBER.3                     object \n",
            " 31  OF.7                                 object \n",
            " 32  MOTORIST.1                           object \n",
            " 33  KILLED,CONTRIBUTING                  object \n",
            " 34  FACTOR                               object \n",
            " 35  VEHICLE                              float64\n",
            " 36  1,CONTRIBUTING                       float64\n",
            " 37  FACTOR.1                             float64\n",
            " 38  VEHICLE.1                            float64\n",
            " 39  2,CONTRIBUTING                       float64\n",
            " 40  FACTOR.2                             float64\n",
            " 41  VEHICLE.2                            float64\n",
            " 42  3,CONTRIBUTING                       float64\n",
            " 43  FACTOR.3                             float64\n",
            " 44  VEHICLE.3                            float64\n",
            " 45  4,CONTRIBUTING                       float64\n",
            " 46  FACTOR.4                             float64\n",
            " 47  VEHICLE.4                            float64\n",
            " 48  5,COLLISION_ID,VEHICLE               float64\n",
            " 49  TYPE                                 float64\n",
            " 50  CODE                                 float64\n",
            " 51  1,VEHICLE                            float64\n",
            " 52  TYPE.1                               float64\n",
            " 53  CODE.1                               float64\n",
            " 54  2,VEHICLE                            float64\n",
            " 55  TYPE.2                               float64\n",
            " 56  CODE.2                               float64\n",
            " 57  3,VEHICLE                            float64\n",
            " 58  TYPE.3                               float64\n",
            " 59  CODE.3                               float64\n",
            " 60  4,VEHICLE                            float64\n",
            " 61  TYPE.4                               float64\n",
            " 62  CODE.4                               float64\n",
            " 63  5                                    float64\n",
            "dtypes: float64(29), object(35)\n",
            "memory usage: 955.6+ MB\n"
          ]
        }
      ]
    },
    {
      "cell_type": "code",
      "source": [
        "mvc_c.head()"
      ],
      "metadata": {
        "colab": {
          "base_uri": "https://localhost:8080/",
          "height": 317
        },
        "id": "faMjApUh16Hl",
        "outputId": "19e82866-09f5-4d57-b331-3dffb8843135"
      },
      "execution_count": 14,
      "outputs": [
        {
          "output_type": "execute_result",
          "data": {
            "text/plain": [
              "                                               CRASH             DATE,CRASH  \\\n",
              "0                    09/11/2021,2:39,,,,,,WHITESTONE          EXPRESSWAY,20   \n",
              "1                   03/26/2022,11:45,,,,,,QUEENSBORO                 BRIDGE   \n",
              "2                        06/29/2022,6:55,,,,,,THROGS                   NECK   \n",
              "3  09/11/2021,9:35,BROOKLYN,11208,40.667202,-73.8...      -73.8665)\",,,1211   \n",
              "4  12/14/2021,8:13,BROOKLYN,11233,40.683304,-73.9...  -73.917274)\",SARATOGA   \n",
              "\n",
              "                     TIME,BOROUGH,ZIP  \\\n",
              "0  AVENUE,,2,0,0,0,0,0,2,0,Aggressive   \n",
              "1    UPPER,,,1,0,0,0,0,0,1,0,Pavement   \n",
              "2  BRIDGE,,,0,0,0,0,0,0,0,0,Following   \n",
              "3                              LORING   \n",
              "4                      AVENUE,DECATUR   \n",
              "\n",
              "                 CODE,LATITUDE,LONGITUDE,LOCATION,ON  \\\n",
              "0                                       Driving/Road   \n",
              "1                     Slippery,,,,,4513547,Sedan,,,,   \n",
              "2                                                Too   \n",
              "3  AVENUE,0,0,0,0,0,0,0,0,Unspecified,,,,,4456314...   \n",
              "4          STREET,,0,0,0,0,0,0,0,0,,,,,,4486609,,,,,   \n",
              "\n",
              "                                         STREET NAME,CROSS STREET.1 NAME,OFF  \\\n",
              "0    Rage,Unspecified,,,,4455765,Sedan,Sedan,,,        NaN      NaN      NaN   \n",
              "1                                           NaN        NaN      NaN      NaN   \n",
              "2  Closely,Unspecified,,,,4541903,Sedan,Pick-up   Truck,,,      NaN      NaN   \n",
              "3                                           NaN        NaN      NaN      NaN   \n",
              "4                                           NaN        NaN      NaN      NaN   \n",
              "\n",
              "  STREET.2 NAME,NUMBER  ... 2,VEHICLE TYPE.2 CODE.2 3,VEHICLE TYPE.3 CODE.3  \\\n",
              "0      NaN         NaN  ...       NaN    NaN    NaN       NaN    NaN    NaN   \n",
              "1      NaN         NaN  ...       NaN    NaN    NaN       NaN    NaN    NaN   \n",
              "2      NaN         NaN  ...       NaN    NaN    NaN       NaN    NaN    NaN   \n",
              "3      NaN         NaN  ...       NaN    NaN    NaN       NaN    NaN    NaN   \n",
              "4      NaN         NaN  ...       NaN    NaN    NaN       NaN    NaN    NaN   \n",
              "\n",
              "  4,VEHICLE TYPE.4 CODE.4   5  \n",
              "0       NaN    NaN    NaN NaN  \n",
              "1       NaN    NaN    NaN NaN  \n",
              "2       NaN    NaN    NaN NaN  \n",
              "3       NaN    NaN    NaN NaN  \n",
              "4       NaN    NaN    NaN NaN  \n",
              "\n",
              "[5 rows x 64 columns]"
            ],
            "text/html": [
              "\n",
              "  <div id=\"df-96044bb5-1d2c-4f4e-b38d-2f3fc32d845d\">\n",
              "    <div class=\"colab-df-container\">\n",
              "      <div>\n",
              "<style scoped>\n",
              "    .dataframe tbody tr th:only-of-type {\n",
              "        vertical-align: middle;\n",
              "    }\n",
              "\n",
              "    .dataframe tbody tr th {\n",
              "        vertical-align: top;\n",
              "    }\n",
              "\n",
              "    .dataframe thead th {\n",
              "        text-align: right;\n",
              "    }\n",
              "</style>\n",
              "<table border=\"1\" class=\"dataframe\">\n",
              "  <thead>\n",
              "    <tr style=\"text-align: right;\">\n",
              "      <th></th>\n",
              "      <th>CRASH</th>\n",
              "      <th>DATE,CRASH</th>\n",
              "      <th>TIME,BOROUGH,ZIP</th>\n",
              "      <th>CODE,LATITUDE,LONGITUDE,LOCATION,ON</th>\n",
              "      <th>STREET</th>\n",
              "      <th>NAME,CROSS</th>\n",
              "      <th>STREET.1</th>\n",
              "      <th>NAME,OFF</th>\n",
              "      <th>STREET.2</th>\n",
              "      <th>NAME,NUMBER</th>\n",
              "      <th>...</th>\n",
              "      <th>2,VEHICLE</th>\n",
              "      <th>TYPE.2</th>\n",
              "      <th>CODE.2</th>\n",
              "      <th>3,VEHICLE</th>\n",
              "      <th>TYPE.3</th>\n",
              "      <th>CODE.3</th>\n",
              "      <th>4,VEHICLE</th>\n",
              "      <th>TYPE.4</th>\n",
              "      <th>CODE.4</th>\n",
              "      <th>5</th>\n",
              "    </tr>\n",
              "  </thead>\n",
              "  <tbody>\n",
              "    <tr>\n",
              "      <th>0</th>\n",
              "      <td>09/11/2021,2:39,,,,,,WHITESTONE</td>\n",
              "      <td>EXPRESSWAY,20</td>\n",
              "      <td>AVENUE,,2,0,0,0,0,0,2,0,Aggressive</td>\n",
              "      <td>Driving/Road</td>\n",
              "      <td>Rage,Unspecified,,,,4455765,Sedan,Sedan,,,</td>\n",
              "      <td>NaN</td>\n",
              "      <td>NaN</td>\n",
              "      <td>NaN</td>\n",
              "      <td>NaN</td>\n",
              "      <td>NaN</td>\n",
              "      <td>...</td>\n",
              "      <td>NaN</td>\n",
              "      <td>NaN</td>\n",
              "      <td>NaN</td>\n",
              "      <td>NaN</td>\n",
              "      <td>NaN</td>\n",
              "      <td>NaN</td>\n",
              "      <td>NaN</td>\n",
              "      <td>NaN</td>\n",
              "      <td>NaN</td>\n",
              "      <td>NaN</td>\n",
              "    </tr>\n",
              "    <tr>\n",
              "      <th>1</th>\n",
              "      <td>03/26/2022,11:45,,,,,,QUEENSBORO</td>\n",
              "      <td>BRIDGE</td>\n",
              "      <td>UPPER,,,1,0,0,0,0,0,1,0,Pavement</td>\n",
              "      <td>Slippery,,,,,4513547,Sedan,,,,</td>\n",
              "      <td>NaN</td>\n",
              "      <td>NaN</td>\n",
              "      <td>NaN</td>\n",
              "      <td>NaN</td>\n",
              "      <td>NaN</td>\n",
              "      <td>NaN</td>\n",
              "      <td>...</td>\n",
              "      <td>NaN</td>\n",
              "      <td>NaN</td>\n",
              "      <td>NaN</td>\n",
              "      <td>NaN</td>\n",
              "      <td>NaN</td>\n",
              "      <td>NaN</td>\n",
              "      <td>NaN</td>\n",
              "      <td>NaN</td>\n",
              "      <td>NaN</td>\n",
              "      <td>NaN</td>\n",
              "    </tr>\n",
              "    <tr>\n",
              "      <th>2</th>\n",
              "      <td>06/29/2022,6:55,,,,,,THROGS</td>\n",
              "      <td>NECK</td>\n",
              "      <td>BRIDGE,,,0,0,0,0,0,0,0,0,Following</td>\n",
              "      <td>Too</td>\n",
              "      <td>Closely,Unspecified,,,,4541903,Sedan,Pick-up</td>\n",
              "      <td>Truck,,,</td>\n",
              "      <td>NaN</td>\n",
              "      <td>NaN</td>\n",
              "      <td>NaN</td>\n",
              "      <td>NaN</td>\n",
              "      <td>...</td>\n",
              "      <td>NaN</td>\n",
              "      <td>NaN</td>\n",
              "      <td>NaN</td>\n",
              "      <td>NaN</td>\n",
              "      <td>NaN</td>\n",
              "      <td>NaN</td>\n",
              "      <td>NaN</td>\n",
              "      <td>NaN</td>\n",
              "      <td>NaN</td>\n",
              "      <td>NaN</td>\n",
              "    </tr>\n",
              "    <tr>\n",
              "      <th>3</th>\n",
              "      <td>09/11/2021,9:35,BROOKLYN,11208,40.667202,-73.8...</td>\n",
              "      <td>-73.8665)\",,,1211</td>\n",
              "      <td>LORING</td>\n",
              "      <td>AVENUE,0,0,0,0,0,0,0,0,Unspecified,,,,,4456314...</td>\n",
              "      <td>NaN</td>\n",
              "      <td>NaN</td>\n",
              "      <td>NaN</td>\n",
              "      <td>NaN</td>\n",
              "      <td>NaN</td>\n",
              "      <td>NaN</td>\n",
              "      <td>...</td>\n",
              "      <td>NaN</td>\n",
              "      <td>NaN</td>\n",
              "      <td>NaN</td>\n",
              "      <td>NaN</td>\n",
              "      <td>NaN</td>\n",
              "      <td>NaN</td>\n",
              "      <td>NaN</td>\n",
              "      <td>NaN</td>\n",
              "      <td>NaN</td>\n",
              "      <td>NaN</td>\n",
              "    </tr>\n",
              "    <tr>\n",
              "      <th>4</th>\n",
              "      <td>12/14/2021,8:13,BROOKLYN,11233,40.683304,-73.9...</td>\n",
              "      <td>-73.917274)\",SARATOGA</td>\n",
              "      <td>AVENUE,DECATUR</td>\n",
              "      <td>STREET,,0,0,0,0,0,0,0,0,,,,,,4486609,,,,,</td>\n",
              "      <td>NaN</td>\n",
              "      <td>NaN</td>\n",
              "      <td>NaN</td>\n",
              "      <td>NaN</td>\n",
              "      <td>NaN</td>\n",
              "      <td>NaN</td>\n",
              "      <td>...</td>\n",
              "      <td>NaN</td>\n",
              "      <td>NaN</td>\n",
              "      <td>NaN</td>\n",
              "      <td>NaN</td>\n",
              "      <td>NaN</td>\n",
              "      <td>NaN</td>\n",
              "      <td>NaN</td>\n",
              "      <td>NaN</td>\n",
              "      <td>NaN</td>\n",
              "      <td>NaN</td>\n",
              "    </tr>\n",
              "  </tbody>\n",
              "</table>\n",
              "<p>5 rows × 64 columns</p>\n",
              "</div>\n",
              "      <button class=\"colab-df-convert\" onclick=\"convertToInteractive('df-96044bb5-1d2c-4f4e-b38d-2f3fc32d845d')\"\n",
              "              title=\"Convert this dataframe to an interactive table.\"\n",
              "              style=\"display:none;\">\n",
              "        \n",
              "  <svg xmlns=\"http://www.w3.org/2000/svg\" height=\"24px\"viewBox=\"0 0 24 24\"\n",
              "       width=\"24px\">\n",
              "    <path d=\"M0 0h24v24H0V0z\" fill=\"none\"/>\n",
              "    <path d=\"M18.56 5.44l.94 2.06.94-2.06 2.06-.94-2.06-.94-.94-2.06-.94 2.06-2.06.94zm-11 1L8.5 8.5l.94-2.06 2.06-.94-2.06-.94L8.5 2.5l-.94 2.06-2.06.94zm10 10l.94 2.06.94-2.06 2.06-.94-2.06-.94-.94-2.06-.94 2.06-2.06.94z\"/><path d=\"M17.41 7.96l-1.37-1.37c-.4-.4-.92-.59-1.43-.59-.52 0-1.04.2-1.43.59L10.3 9.45l-7.72 7.72c-.78.78-.78 2.05 0 2.83L4 21.41c.39.39.9.59 1.41.59.51 0 1.02-.2 1.41-.59l7.78-7.78 2.81-2.81c.8-.78.8-2.07 0-2.86zM5.41 20L4 18.59l7.72-7.72 1.47 1.35L5.41 20z\"/>\n",
              "  </svg>\n",
              "      </button>\n",
              "      \n",
              "  <style>\n",
              "    .colab-df-container {\n",
              "      display:flex;\n",
              "      flex-wrap:wrap;\n",
              "      gap: 12px;\n",
              "    }\n",
              "\n",
              "    .colab-df-convert {\n",
              "      background-color: #E8F0FE;\n",
              "      border: none;\n",
              "      border-radius: 50%;\n",
              "      cursor: pointer;\n",
              "      display: none;\n",
              "      fill: #1967D2;\n",
              "      height: 32px;\n",
              "      padding: 0 0 0 0;\n",
              "      width: 32px;\n",
              "    }\n",
              "\n",
              "    .colab-df-convert:hover {\n",
              "      background-color: #E2EBFA;\n",
              "      box-shadow: 0px 1px 2px rgba(60, 64, 67, 0.3), 0px 1px 3px 1px rgba(60, 64, 67, 0.15);\n",
              "      fill: #174EA6;\n",
              "    }\n",
              "\n",
              "    [theme=dark] .colab-df-convert {\n",
              "      background-color: #3B4455;\n",
              "      fill: #D2E3FC;\n",
              "    }\n",
              "\n",
              "    [theme=dark] .colab-df-convert:hover {\n",
              "      background-color: #434B5C;\n",
              "      box-shadow: 0px 1px 3px 1px rgba(0, 0, 0, 0.15);\n",
              "      filter: drop-shadow(0px 1px 2px rgba(0, 0, 0, 0.3));\n",
              "      fill: #FFFFFF;\n",
              "    }\n",
              "  </style>\n",
              "\n",
              "      <script>\n",
              "        const buttonEl =\n",
              "          document.querySelector('#df-96044bb5-1d2c-4f4e-b38d-2f3fc32d845d button.colab-df-convert');\n",
              "        buttonEl.style.display =\n",
              "          google.colab.kernel.accessAllowed ? 'block' : 'none';\n",
              "\n",
              "        async function convertToInteractive(key) {\n",
              "          const element = document.querySelector('#df-96044bb5-1d2c-4f4e-b38d-2f3fc32d845d');\n",
              "          const dataTable =\n",
              "            await google.colab.kernel.invokeFunction('convertToInteractive',\n",
              "                                                     [key], {});\n",
              "          if (!dataTable) return;\n",
              "\n",
              "          const docLinkHtml = 'Like what you see? Visit the ' +\n",
              "            '<a target=\"_blank\" href=https://colab.research.google.com/notebooks/data_table.ipynb>data table notebook</a>'\n",
              "            + ' to learn more about interactive tables.';\n",
              "          element.innerHTML = '';\n",
              "          dataTable['output_type'] = 'display_data';\n",
              "          await google.colab.output.renderOutput(dataTable, element);\n",
              "          const docLink = document.createElement('div');\n",
              "          docLink.innerHTML = docLinkHtml;\n",
              "          element.appendChild(docLink);\n",
              "        }\n",
              "      </script>\n",
              "    </div>\n",
              "  </div>\n",
              "  "
            ]
          },
          "metadata": {},
          "execution_count": 14
        }
      ]
    },
    {
      "cell_type": "markdown",
      "source": [
        "below is the code i found from one of my foundations of data analytics classes"
      ],
      "metadata": {
        "id": "IViGrg406bcF"
      }
    },
    {
      "cell_type": "markdown",
      "source": [
        "i am going back and reworking it. the data sets have changed in some ways since april 2022\n"
      ],
      "metadata": {
        "id": "AdmSm6oW6kdm"
      }
    },
    {
      "cell_type": "code",
      "source": [
        "# Converting the date column to its specified data type\n",
        "mvc_c['DATE'] = pd.to_datetime(mvc_c.DATE)"
      ],
      "metadata": {
        "colab": {
          "base_uri": "https://localhost:8080/",
          "height": 310
        },
        "id": "oLewsjQpxsHk",
        "outputId": "287051de-7d9f-488d-ed23-5b23caa4ed87"
      },
      "execution_count": 10,
      "outputs": [
        {
          "output_type": "error",
          "ename": "AttributeError",
          "evalue": "ignored",
          "traceback": [
            "\u001b[0;31m---------------------------------------------------------------------------\u001b[0m",
            "\u001b[0;31mAttributeError\u001b[0m                            Traceback (most recent call last)",
            "\u001b[0;32m<ipython-input-10-cee524b36959>\u001b[0m in \u001b[0;36m<module>\u001b[0;34m\u001b[0m\n\u001b[1;32m      1\u001b[0m \u001b[0;31m# Converting the date column to its specified data type\u001b[0m\u001b[0;34m\u001b[0m\u001b[0;34m\u001b[0m\u001b[0;34m\u001b[0m\u001b[0m\n\u001b[0;32m----> 2\u001b[0;31m \u001b[0mmvc_c\u001b[0m\u001b[0;34m[\u001b[0m\u001b[0;34m'DATE'\u001b[0m\u001b[0;34m]\u001b[0m \u001b[0;34m=\u001b[0m \u001b[0mpd\u001b[0m\u001b[0;34m.\u001b[0m\u001b[0mto_datetime\u001b[0m\u001b[0;34m(\u001b[0m\u001b[0mmvc_c\u001b[0m\u001b[0;34m.\u001b[0m\u001b[0mDATE\u001b[0m\u001b[0;34m)\u001b[0m\u001b[0;34m\u001b[0m\u001b[0;34m\u001b[0m\u001b[0m\n\u001b[0m",
            "\u001b[0;32m/usr/local/lib/python3.8/dist-packages/pandas/core/generic.py\u001b[0m in \u001b[0;36m__getattr__\u001b[0;34m(self, name)\u001b[0m\n\u001b[1;32m   5485\u001b[0m         ):\n\u001b[1;32m   5486\u001b[0m             \u001b[0;32mreturn\u001b[0m \u001b[0mself\u001b[0m\u001b[0;34m[\u001b[0m\u001b[0mname\u001b[0m\u001b[0;34m]\u001b[0m\u001b[0;34m\u001b[0m\u001b[0;34m\u001b[0m\u001b[0m\n\u001b[0;32m-> 5487\u001b[0;31m         \u001b[0;32mreturn\u001b[0m \u001b[0mobject\u001b[0m\u001b[0;34m.\u001b[0m\u001b[0m__getattribute__\u001b[0m\u001b[0;34m(\u001b[0m\u001b[0mself\u001b[0m\u001b[0;34m,\u001b[0m \u001b[0mname\u001b[0m\u001b[0;34m)\u001b[0m\u001b[0;34m\u001b[0m\u001b[0;34m\u001b[0m\u001b[0m\n\u001b[0m\u001b[1;32m   5488\u001b[0m \u001b[0;34m\u001b[0m\u001b[0m\n\u001b[1;32m   5489\u001b[0m     \u001b[0;32mdef\u001b[0m \u001b[0m__setattr__\u001b[0m\u001b[0;34m(\u001b[0m\u001b[0mself\u001b[0m\u001b[0;34m,\u001b[0m \u001b[0mname\u001b[0m\u001b[0;34m:\u001b[0m \u001b[0mstr\u001b[0m\u001b[0;34m,\u001b[0m \u001b[0mvalue\u001b[0m\u001b[0;34m)\u001b[0m \u001b[0;34m->\u001b[0m \u001b[0;32mNone\u001b[0m\u001b[0;34m:\u001b[0m\u001b[0;34m\u001b[0m\u001b[0;34m\u001b[0m\u001b[0m\n",
            "\u001b[0;31mAttributeError\u001b[0m: 'DataFrame' object has no attribute 'DATE'"
          ]
        }
      ]
    },
    {
      "cell_type": "code",
      "source": [
        "# Creating three new columns for easy querying\n",
        "mvc_c['YEAR'] = mvc_c.DATE.dt.year\n",
        "mvc_c['MONTH'] = mvc_c.DATE.dt.month\n",
        "mvc_c['DAY'] = mvc_c.DATE.dt.day"
      ],
      "metadata": {
        "id": "jRJzHRWpxyYD"
      },
      "execution_count": null,
      "outputs": []
    },
    {
      "cell_type": "code",
      "source": [
        "# Considering columns beneficial for visualizing on carto\n",
        "mvc_c = mvc_c[['DATE', 'TIME', 'BOROUGH', 'ZIP CODE', 'LATITUDE', 'LONGITUDE',\n",
        "               'CONTRIBUTING FACTOR VEHICLE 1', 'NUMBER OF PEDESTRIANS INJURED', \n",
        "               'NUMBER OF PEDESTRIANS KILLED', 'NUMBER OF CYCLIST INJURED', \n",
        "               'NUMBER OF CYCLIST KILLED', 'NUMBER OF MOTORIST INJURED', 'NUMBER OF MOTORIST KILLED']]"
      ],
      "metadata": {
        "id": "ZHEwhrQ1xzZw"
      },
      "execution_count": null,
      "outputs": []
    },
    {
      "cell_type": "code",
      "source": [
        "# We notice that zip codes are of object datatype instead of the required integer data type\n",
        "mvc_c = mvc_c[pd.notnull(mvc_c['ZIP CODE'])]"
      ],
      "metadata": {
        "id": "xPhUImqpx1gE"
      },
      "execution_count": null,
      "outputs": []
    },
    {
      "cell_type": "code",
      "source": [
        "# Converting zip codes datatype to numeric\n",
        "mvc_c['ZIP CODE'] = pd.to_numeric(mvc_c['ZIP CODE'], errors='coerce')"
      ],
      "metadata": {
        "id": "bmFTs_kIx43I"
      },
      "execution_count": null,
      "outputs": []
    },
    {
      "cell_type": "code",
      "source": [
        "# Removing outliers and unrecorded zip code values from the data( i.e. zero values and those outside the NTC city limits)\n",
        "mvc_c = mvc_c[(mvc_c['LATITUDE'] > 0.1) & (mvc_c['LATITUDE'] < 41)]\n",
        "mvc_c = mvc_c.drop(mvc_c[mvc_c['CONTRIBUTING FACTOR VEHICLE 1']=='Unspecified'].index)"
      ],
      "metadata": {
        "id": "6S71QaY4x9C-"
      },
      "execution_count": null,
      "outputs": []
    },
    {
      "cell_type": "code",
      "source": [
        "# Merging the dataframe for carto with above zip counts\n",
        "mvc_c = pd.merge(mvc_c, mvc_c['ZIP CODE'].value_counts().to_frame().reset_index().rename(columns={\"ZIP CODE\": \"ZIP COUNTS\"}), how='left', left_on='ZIP CODE', right_on='index').drop(columns='index')"
      ],
      "metadata": {
        "id": "u9f5KZLYx_iO"
      },
      "execution_count": null,
      "outputs": []
    },
    {
      "cell_type": "code",
      "source": [
        "mvc_c = mvc_c.rename(columns={\"CONTRIBUTING FACTOR VEHICLE 1\": \"CONTRIBUTING FACTOR\"})\n",
        "return mvc_c.sort_values('DATE', ascending=False)[:499999]\n",
        "#.to_csv('dropped_500k_wCounts.csv', index=False)"
      ],
      "metadata": {
        "id": "2XTjQkXjyCEy"
      },
      "execution_count": null,
      "outputs": []
    },
    {
      "cell_type": "code",
      "source": [
        "# Function to load the processed data obtained from running the above function 'load_data_complete' on the dataset\n",
        "def load_data_concise():\n",
        "    cur_dir = os.path.dirname('__file__')\n",
        "    return pd.read_csv(os.path.join(cur_dir, \"dropped_500k_wCounts.csv\"))"
      ],
      "metadata": {
        "id": "b_IuuIPZzS1Q"
      },
      "execution_count": null,
      "outputs": []
    },
    {
      "cell_type": "code",
      "source": [
        "# Returns Viz 1: Total accidents per year for each borough\n",
        "def time_pivot(data):\n",
        "    tdf = data[['YEAR', 'BOROUGH']].groupby(['YEAR', 'BOROUGH']).size().rename('Count').reset_index()\n",
        "    return pd.pivot_table(tdf, columns='YEAR', index='BOROUGH')"
      ],
      "metadata": {
        "id": "OvCV5rMBzYbM"
      },
      "execution_count": null,
      "outputs": []
    },
    {
      "cell_type": "code",
      "source": [
        "# Returns Viz 2:  Injury/Fatality of a specific mode per year for each borough\n",
        "def mode_pivot(data, mode):\n",
        "    mdf = data[['DATE', 'BOROUGH', 'YEAR',\n",
        "                   'NUMBER OF PEDESTRIANS INJURED', 'NUMBER OF PEDESTRIANS KILLED',\n",
        "                   'NUMBER OF CYCLIST INJURED'    , 'NUMBER OF CYCLIST KILLED',\n",
        "                   'NUMBER OF MOTORIST INJURED'   , 'NUMBER OF MOTORIST KILLED']].groupby(['YEAR', 'BOROUGH']).sum()\n",
        "    return pd.pivot_table(mdf, columns='YEAR', index='BOROUGH', values=mode)"
      ],
      "metadata": {
        "id": "I9y2dfjyzb0n"
      },
      "execution_count": null,
      "outputs": []
    },
    {
      "cell_type": "code",
      "source": [
        "# Returns Viz 3:  Collision due to a specific Contriburing Factor per year for each borough\n",
        "def factor_pivot(data, factor):\n",
        "    top20_factors = ['Driver Inattention--Distraction',\n",
        "                     'Failure to Yield Right-of-Way',\n",
        "                     'Fatigued--Drowsy',\n",
        "                     'Backing Unsafely',\n",
        "                     'Other Vehicular',\n",
        "                     'Following Too Closely',\n",
        "                     'Turning Improperly',\n",
        "                     'Lost Consciousness',\n",
        "                     'Passing or Lane Usage Improper',\n",
        "                     'Traffic Control Disregarded',\n",
        "                     'Driver Inexperience',\n",
        "                     'Prescription Medication',\n",
        "                     'Unsafe Lane Changing',\n",
        "                     'Pavement Slippery',\n",
        "                     'Outside Car Distraction',\n",
        "                     'Alcohol Involvement',\n",
        "                     'Physical Disability',\n",
        "                     'Oversized Vehicle',\n",
        "                     'Reaction to Other Uninvolved Vehicle',\n",
        "                     'Unsafe Speed']"
      ],
      "metadata": {
        "id": "5YF47CKvzgeL"
      },
      "execution_count": null,
      "outputs": []
    },
    {
      "cell_type": "code",
      "execution_count": null,
      "metadata": {
        "id": "kUwNPJYPYuBK"
      },
      "outputs": [],
      "source": [
        "fdf = data[['BOROUGH', 'YEAR', 'CONTRIBUTING FACTOR']].groupby(['YEAR', 'BOROUGH', 'CONTRIBUTING FACTOR']).size().rename('Count').reset_index()\n",
        "fdf = fdf[fdf['CONTRIBUTING FACTOR'].isin(top20_factors)]\n",
        "return pd.pivot_table(fdf, columns='YEAR', index=['BOROUGH', 'CONTRIBUTING FACTOR']).xs(factor, level=1)#.to_csv('viz3_factor_pivot_'+factor+'.csv')"
      ]
    }
  ]
}