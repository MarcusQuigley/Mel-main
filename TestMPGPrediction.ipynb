{
  "nbformat": 4,
  "nbformat_minor": 0,
  "metadata": {
    "colab": {
      "provenance": [],
      "include_colab_link": true
    },
    "kernelspec": {
      "name": "python3",
      "display_name": "Python 3"
    },
    "language_info": {
      "name": "python"
    }
  },
  "cells": [
    {
      "cell_type": "markdown",
      "metadata": {
        "id": "view-in-github",
        "colab_type": "text"
      },
      "source": [
        "<a href=\"https://colab.research.google.com/github/MelAGndy/main/blob/main/TestMPGPrediction.ipynb\" target=\"_parent\"><img src=\"https://colab.research.google.com/assets/colab-badge.svg\" alt=\"Open In Colab\"/></a>"
      ]
    },
    {
      "cell_type": "code",
      "execution_count": null,
      "metadata": {
        "id": "YYH3NOzXhPQB"
      },
      "outputs": [],
      "source": [
        "0\n",
        "\n",
        "+-.369*import numpy as np\n",
        "import pickle"
      ]
    },
    {
      "cell_type": "code",
      "source": [
        "from google.colab import drive\n",
        "drive.mount('/content/drive')"
      ],
      "metadata": {
        "colab": {
          "base_uri": "https://localhost:8080/"
        },
        "id": "_K4Js6DIma_l",
        "outputId": "d6628488-41e2-4b22-bc4f-c4dc61d08a3b"
      },
      "execution_count": null,
      "outputs": [
        {
          "output_type": "stream",
          "name": "stdout",
          "text": [
            "Drive already mounted at /content/drive; to attempt to forcibly remount, call drive.mount(\"/content/drive\", force_remount=True).\n"
          ]
        }
      ]
    },
    {
      "cell_type": "markdown",
      "source": [
        "#Linear Regression Model"
      ],
      "metadata": {
        "id": "ucWw1T8wn2cc"
      }
    },
    {
      "cell_type": "code",
      "source": [
        "model = '/content/drive/MyDrive/PredictiveAnalytics/Projects/Project1/pkl_file'"
      ],
      "metadata": {
        "id": "R9T61eSRj0T0"
      },
      "execution_count": null,
      "outputs": []
    },
    {
      "cell_type": "code",
      "source": [
        "with open(model, 'rb') as file:\n",
        "    model = pickle.load(file)"
      ],
      "metadata": {
        "id": "m6zxFUrnoCNB"
      },
      "execution_count": null,
      "outputs": []
    },
    {
      "cell_type": "code",
      "source": [
        "#creating a vector - a model expects one row 7 times\n",
        "x = np.zeros((1, 7))  \n",
        " "
      ],
      "metadata": {
        "id": "PxYaSMI1ljqs"
      },
      "execution_count": null,
      "outputs": []
    },
    {
      "cell_type": "code",
      "source": [
        "#now assigning values to the test value x by grabing randomly from the data\n",
        "x[0, 0] = 7.0\n",
        "x[0, 1] = 307.0\n",
        "x[0, 2] = 130.0\n",
        "x[0, 3] = 3204.0\n",
        "x[0, 4] = 12.0\n",
        "x[0, 5] = 90.0\n",
        "x[0, 6] = 1.0\n",
        "x"
      ],
      "metadata": {
        "colab": {
          "base_uri": "https://localhost:8080/"
        },
        "id": "byzg3P0GlvMl",
        "outputId": "219e72d2-5943-4c0a-eee0-91ec37061727"
      },
      "execution_count": null,
      "outputs": [
        {
          "output_type": "execute_result",
          "data": {
            "text/plain": [
              "array([[7.000e+00, 3.070e+02, 1.300e+02, 3.204e+03, 1.200e+01, 9.000e+01,\n",
              "        1.000e+00]])"
            ]
          },
          "metadata": {},
          "execution_count": 27
        }
      ]
    },
    {
      "cell_type": "code",
      "source": [
        "#x is a variable. \n",
        "features = {'cylinders' : x[0, 0], 'displacement' : x[0, 1], 'horsepower' : x[0, 2], 'weight' : x[0, 3], 'acceleration' : x[0, 4], 'year' : x[0, 5], 'origin' : x[0, 6]}"
      ],
      "metadata": {
        "id": "v077qvdu6XaT"
      },
      "execution_count": null,
      "outputs": []
    },
    {
      "cell_type": "code",
      "source": [
        "features"
      ],
      "metadata": {
        "colab": {
          "base_uri": "https://localhost:8080/"
        },
        "id": "oGb-wcfww3GY",
        "outputId": "a9552255-5eb6-4150-959b-5992ed615b0d"
      },
      "execution_count": null,
      "outputs": [
        {
          "output_type": "execute_result",
          "data": {
            "text/plain": [
              "{'cylinders': 7.0,\n",
              " 'displacement': 307.0,\n",
              " 'horsepower': 130.0,\n",
              " 'weight': 3204.0,\n",
              " 'acceleration': 12.0,\n",
              " 'year': 90.0,\n",
              " 'origin': 1.0}"
            ]
          },
          "metadata": {},
          "execution_count": 29
        }
      ]
    },
    {
      "cell_type": "code",
      "source": [
        "# Linear Regression Model Prediction\n",
        "#now a prediction ..seeing what the mpg is based on these features...\n",
        "prediction = model.predict(x)\n",
        "print(f'The model predicts that the MPG is {round(float(prediction[0]), 2)} given these features:\\n\\t{features}')"
      ],
      "metadata": {
        "colab": {
          "base_uri": "https://localhost:8080/"
        },
        "id": "oRAIG_LlpXm1",
        "outputId": "f3e7a354-9b60-4582-e564-d558200b3ae0"
      },
      "execution_count": null,
      "outputs": [
        {
          "output_type": "stream",
          "name": "stdout",
          "text": [
            "The model predicts that the MPG is 33.47 given these features:\n",
            "\t{'cylinders': 7.0, 'displacement': 307.0, 'horsepower': 130.0, 'weight': 3204.0, 'acceleration': 12.0, 'year': 90.0, 'origin': 1.0}\n"
          ]
        }
      ]
    },
    {
      "cell_type": "markdown",
      "source": [
        "#Desicion Tree Model"
      ],
      "metadata": {
        "id": "JQUlZ81JoOpX"
      }
    },
    {
      "cell_type": "code",
      "source": [
        "model2 = '/content/drive/MyDrive/PredictiveAnalytics/Projects/Project1/dtm_file'"
      ],
      "metadata": {
        "id": "mVeJwwHYnlGV"
      },
      "execution_count": null,
      "outputs": []
    },
    {
      "cell_type": "code",
      "source": [
        "with open(model2, 'rb') as file:\n",
        "    model2 = pickle.load(file)"
      ],
      "metadata": {
        "id": "NYr39KvalbiU"
      },
      "execution_count": null,
      "outputs": []
    },
    {
      "cell_type": "code",
      "source": [
        "# Desicion Tree Prediction Model\n",
        "#now a prediction ..seeing what the mpg is based on these features...\n",
        "prediction = model2.predict(x)\n",
        "print(f'The model predicts that the MPG is {round(float(prediction[0]), 2)} given these features:\\n\\t{features}')"
      ],
      "metadata": {
        "colab": {
          "base_uri": "https://localhost:8080/"
        },
        "id": "kHL4SThZojmL",
        "outputId": "a9ca6ecc-75fb-41a3-e2f5-ad8e5e8d9e68"
      },
      "execution_count": null,
      "outputs": [
        {
          "output_type": "stream",
          "name": "stdout",
          "text": [
            "The model predicts that the MPG is 18.1 given these features:\n",
            "\t{'cylinders': 7.0, 'displacement': 307.0, 'horsepower': 130.0, 'weight': 3204.0, 'acceleration': 12.0, 'year': 90.0, 'origin': 1.0}\n"
          ]
        }
      ]
    },
    {
      "cell_type": "markdown",
      "source": [
        "can remove the models from the mpg \n",
        "now going to termina\n",
        "model is trained now we are in conda and doing software devel \n",
        "using a virtual environment or a pocket that doesnt cross with the other systems such as python\n",
        "most of his work is done in 2.5 and below because there are compatibility issues\n",
        "\n",
        "conda-n   what name you want to give the environment his is pa for predictive ananlytic and so pa2022\n",
        "then you put the version of python you want \n",
        "press enter\n",
        "hit yes\n",
        "then\n",
        "conda activate\n",
        "then see the ones active \n",
        "conda info --envs\n"
      ],
      "metadata": {
        "id": "Nkf2mlqp3OAf"
      }
    },
    {
      "cell_type": "markdown",
      "source": [
        "creat a folder on desktop called projects \n",
        "or go into commnd prompt and then cd change directory\n",
        "mkdir Projects makes a folder\n",
        "cd. \\Projects\\\n",
        "ls\n",
        "mkdir.'project 1'\n",
        "\n",
        "\n",
        "code and some how he got to visual studio\n",
        "now in visual studio\n",
        "creating a file with the 1st icon calling it requirements.txt\n",
        "pip install -r .\\read and it will install the stuff for me\n",
        "NEED THE REQIREMENTS FILE so when the website is created we will put it into a container\n",
        "so it will work on all environments..all computers.\n"
      ],
      "metadata": {
        "id": "7B-kw1xQ6OtZ"
      }
    },
    {
      "cell_type": "markdown",
      "source": [
        "we have the sample code to create a project\n",
        "the assignement will include your notebook \n",
        "your model\n",
        "why we chose the model\n",
        "and a web server\n",
        "notebook\n",
        "eda\n",
        "and can do  a notebook to test it\n",
        "\n",
        "all on Github\n",
        "\n",
        "\n",
        "\n",
        "\n",
        "\n",
        "\n",
        "\n",
        "\n"
      ],
      "metadata": {
        "id": "j8G3mWQl9ZW8"
      }
    }
  ]
}