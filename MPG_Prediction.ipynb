{
  "nbformat": 4,
  "nbformat_minor": 0,
  "metadata": {
    "colab": {
      "provenance": [],
      "include_colab_link": true
    },
    "kernelspec": {
      "name": "python3",
      "display_name": "Python 3"
    },
    "language_info": {
      "name": "python"
    }
  },
  "cells": [
    {
      "cell_type": "markdown",
      "metadata": {
        "id": "view-in-github",
        "colab_type": "text"
      },
      "source": [
        "<a href=\"https://colab.research.google.com/github/MelAGndy/main/blob/main/MPG_Prediction.ipynb\" target=\"_parent\"><img src=\"https://colab.research.google.com/assets/colab-badge.svg\" alt=\"Open In Colab\"/></a>"
      ]
    },
    {
      "cell_type": "code",
      "execution_count": null,
      "metadata": {
        "id": "YYH3NOzXhPQB"
      },
      "outputs": [],
      "source": [
        "import numpy as np\n",
        "import pandas as pd\n",
        "\n",
        "from sklearn.linear_model import LinearRegression\n",
        "from sklearn.tree import DecisionTreeRegressor\n",
        "from sklearn.ensemble import RandomForestRegressor\n",
        "from xgboost import XGBRegressor\n",
        "from sklearn.metrics import mean_squared_error, r2_score, mean_absolute_error, accuracy_score\n",
        "from math import sqrt\n",
        "from sklearn.model_selection import train_test_split\n",
        "from sklearn import metrics\n",
        "\n",
        "import pickle"
      ]
    },
    {
      "cell_type": "code",
      "source": [
        "columns = ['mpg', 'cylinders', 'displacement', 'horsepower', 'weight', 'acceleration', 'year', 'origin', 'name']"
      ],
      "metadata": {
        "id": "BohOBvazimKV"
      },
      "execution_count": null,
      "outputs": []
    },
    {
      "cell_type": "code",
      "source": [
        "data = pd.read_csv('https://archive.ics.uci.edu/ml/machine-learning-databases/auto-mpg/auto-mpg.data', na_values = ['NA', '?'], names = columns, delim_whitespace=True)"
      ],
      "metadata": {
        "id": "BwnL7RfIixDf"
      },
      "execution_count": null,
      "outputs": []
    },
    {
      "cell_type": "code",
      "source": [
        "data.head()"
      ],
      "metadata": {
        "colab": {
          "base_uri": "https://localhost:8080/",
          "height": 206
        },
        "id": "azrDiN4Oi-Mn",
        "outputId": "b415061e-0257-48b0-8885-ee68a7813ea6"
      },
      "execution_count": null,
      "outputs": [
        {
          "output_type": "execute_result",
          "data": {
            "text/plain": [
              "    mpg  cylinders  displacement  horsepower  weight  acceleration  year  \\\n",
              "0  18.0          8         307.0       130.0  3504.0          12.0    70   \n",
              "1  15.0          8         350.0       165.0  3693.0          11.5    70   \n",
              "2  18.0          8         318.0       150.0  3436.0          11.0    70   \n",
              "3  16.0          8         304.0       150.0  3433.0          12.0    70   \n",
              "4  17.0          8         302.0       140.0  3449.0          10.5    70   \n",
              "\n",
              "   origin                       name  \n",
              "0       1  chevrolet chevelle malibu  \n",
              "1       1          buick skylark 320  \n",
              "2       1         plymouth satellite  \n",
              "3       1              amc rebel sst  \n",
              "4       1                ford torino  "
            ],
            "text/html": [
              "\n",
              "  <div id=\"df-03929553-fc09-4a1e-8d3b-6d01dfd9f47f\">\n",
              "    <div class=\"colab-df-container\">\n",
              "      <div>\n",
              "<style scoped>\n",
              "    .dataframe tbody tr th:only-of-type {\n",
              "        vertical-align: middle;\n",
              "    }\n",
              "\n",
              "    .dataframe tbody tr th {\n",
              "        vertical-align: top;\n",
              "    }\n",
              "\n",
              "    .dataframe thead th {\n",
              "        text-align: right;\n",
              "    }\n",
              "</style>\n",
              "<table border=\"1\" class=\"dataframe\">\n",
              "  <thead>\n",
              "    <tr style=\"text-align: right;\">\n",
              "      <th></th>\n",
              "      <th>mpg</th>\n",
              "      <th>cylinders</th>\n",
              "      <th>displacement</th>\n",
              "      <th>horsepower</th>\n",
              "      <th>weight</th>\n",
              "      <th>acceleration</th>\n",
              "      <th>year</th>\n",
              "      <th>origin</th>\n",
              "      <th>name</th>\n",
              "    </tr>\n",
              "  </thead>\n",
              "  <tbody>\n",
              "    <tr>\n",
              "      <th>0</th>\n",
              "      <td>18.0</td>\n",
              "      <td>8</td>\n",
              "      <td>307.0</td>\n",
              "      <td>130.0</td>\n",
              "      <td>3504.0</td>\n",
              "      <td>12.0</td>\n",
              "      <td>70</td>\n",
              "      <td>1</td>\n",
              "      <td>chevrolet chevelle malibu</td>\n",
              "    </tr>\n",
              "    <tr>\n",
              "      <th>1</th>\n",
              "      <td>15.0</td>\n",
              "      <td>8</td>\n",
              "      <td>350.0</td>\n",
              "      <td>165.0</td>\n",
              "      <td>3693.0</td>\n",
              "      <td>11.5</td>\n",
              "      <td>70</td>\n",
              "      <td>1</td>\n",
              "      <td>buick skylark 320</td>\n",
              "    </tr>\n",
              "    <tr>\n",
              "      <th>2</th>\n",
              "      <td>18.0</td>\n",
              "      <td>8</td>\n",
              "      <td>318.0</td>\n",
              "      <td>150.0</td>\n",
              "      <td>3436.0</td>\n",
              "      <td>11.0</td>\n",
              "      <td>70</td>\n",
              "      <td>1</td>\n",
              "      <td>plymouth satellite</td>\n",
              "    </tr>\n",
              "    <tr>\n",
              "      <th>3</th>\n",
              "      <td>16.0</td>\n",
              "      <td>8</td>\n",
              "      <td>304.0</td>\n",
              "      <td>150.0</td>\n",
              "      <td>3433.0</td>\n",
              "      <td>12.0</td>\n",
              "      <td>70</td>\n",
              "      <td>1</td>\n",
              "      <td>amc rebel sst</td>\n",
              "    </tr>\n",
              "    <tr>\n",
              "      <th>4</th>\n",
              "      <td>17.0</td>\n",
              "      <td>8</td>\n",
              "      <td>302.0</td>\n",
              "      <td>140.0</td>\n",
              "      <td>3449.0</td>\n",
              "      <td>10.5</td>\n",
              "      <td>70</td>\n",
              "      <td>1</td>\n",
              "      <td>ford torino</td>\n",
              "    </tr>\n",
              "  </tbody>\n",
              "</table>\n",
              "</div>\n",
              "      <button class=\"colab-df-convert\" onclick=\"convertToInteractive('df-03929553-fc09-4a1e-8d3b-6d01dfd9f47f')\"\n",
              "              title=\"Convert this dataframe to an interactive table.\"\n",
              "              style=\"display:none;\">\n",
              "        \n",
              "  <svg xmlns=\"http://www.w3.org/2000/svg\" height=\"24px\"viewBox=\"0 0 24 24\"\n",
              "       width=\"24px\">\n",
              "    <path d=\"M0 0h24v24H0V0z\" fill=\"none\"/>\n",
              "    <path d=\"M18.56 5.44l.94 2.06.94-2.06 2.06-.94-2.06-.94-.94-2.06-.94 2.06-2.06.94zm-11 1L8.5 8.5l.94-2.06 2.06-.94-2.06-.94L8.5 2.5l-.94 2.06-2.06.94zm10 10l.94 2.06.94-2.06 2.06-.94-2.06-.94-.94-2.06-.94 2.06-2.06.94z\"/><path d=\"M17.41 7.96l-1.37-1.37c-.4-.4-.92-.59-1.43-.59-.52 0-1.04.2-1.43.59L10.3 9.45l-7.72 7.72c-.78.78-.78 2.05 0 2.83L4 21.41c.39.39.9.59 1.41.59.51 0 1.02-.2 1.41-.59l7.78-7.78 2.81-2.81c.8-.78.8-2.07 0-2.86zM5.41 20L4 18.59l7.72-7.72 1.47 1.35L5.41 20z\"/>\n",
              "  </svg>\n",
              "      </button>\n",
              "      \n",
              "  <style>\n",
              "    .colab-df-container {\n",
              "      display:flex;\n",
              "      flex-wrap:wrap;\n",
              "      gap: 12px;\n",
              "    }\n",
              "\n",
              "    .colab-df-convert {\n",
              "      background-color: #E8F0FE;\n",
              "      border: none;\n",
              "      border-radius: 50%;\n",
              "      cursor: pointer;\n",
              "      display: none;\n",
              "      fill: #1967D2;\n",
              "      height: 32px;\n",
              "      padding: 0 0 0 0;\n",
              "      width: 32px;\n",
              "    }\n",
              "\n",
              "    .colab-df-convert:hover {\n",
              "      background-color: #E2EBFA;\n",
              "      box-shadow: 0px 1px 2px rgba(60, 64, 67, 0.3), 0px 1px 3px 1px rgba(60, 64, 67, 0.15);\n",
              "      fill: #174EA6;\n",
              "    }\n",
              "\n",
              "    [theme=dark] .colab-df-convert {\n",
              "      background-color: #3B4455;\n",
              "      fill: #D2E3FC;\n",
              "    }\n",
              "\n",
              "    [theme=dark] .colab-df-convert:hover {\n",
              "      background-color: #434B5C;\n",
              "      box-shadow: 0px 1px 3px 1px rgba(0, 0, 0, 0.15);\n",
              "      filter: drop-shadow(0px 1px 2px rgba(0, 0, 0, 0.3));\n",
              "      fill: #FFFFFF;\n",
              "    }\n",
              "  </style>\n",
              "\n",
              "      <script>\n",
              "        const buttonEl =\n",
              "          document.querySelector('#df-03929553-fc09-4a1e-8d3b-6d01dfd9f47f button.colab-df-convert');\n",
              "        buttonEl.style.display =\n",
              "          google.colab.kernel.accessAllowed ? 'block' : 'none';\n",
              "\n",
              "        async function convertToInteractive(key) {\n",
              "          const element = document.querySelector('#df-03929553-fc09-4a1e-8d3b-6d01dfd9f47f');\n",
              "          const dataTable =\n",
              "            await google.colab.kernel.invokeFunction('convertToInteractive',\n",
              "                                                     [key], {});\n",
              "          if (!dataTable) return;\n",
              "\n",
              "          const docLinkHtml = 'Like what you see? Visit the ' +\n",
              "            '<a target=\"_blank\" href=https://colab.research.google.com/notebooks/data_table.ipynb>data table notebook</a>'\n",
              "            + ' to learn more about interactive tables.';\n",
              "          element.innerHTML = '';\n",
              "          dataTable['output_type'] = 'display_data';\n",
              "          await google.colab.output.renderOutput(dataTable, element);\n",
              "          const docLink = document.createElement('div');\n",
              "          docLink.innerHTML = docLinkHtml;\n",
              "          element.appendChild(docLink);\n",
              "        }\n",
              "      </script>\n",
              "    </div>\n",
              "  </div>\n",
              "  "
            ]
          },
          "metadata": {},
          "execution_count": 5
        }
      ]
    },
    {
      "cell_type": "code",
      "source": [
        "data.isnull().sum()"
      ],
      "metadata": {
        "colab": {
          "base_uri": "https://localhost:8080/"
        },
        "id": "d2Qm1EITi_eG",
        "outputId": "eb443ceb-da00-44f9-fb53-d4b2793bd369"
      },
      "execution_count": null,
      "outputs": [
        {
          "output_type": "execute_result",
          "data": {
            "text/plain": [
              "mpg             0\n",
              "cylinders       0\n",
              "displacement    0\n",
              "horsepower      6\n",
              "weight          0\n",
              "acceleration    0\n",
              "year            0\n",
              "origin          0\n",
              "name            0\n",
              "dtype: int64"
            ]
          },
          "metadata": {},
          "execution_count": 6
        }
      ]
    },
    {
      "cell_type": "code",
      "source": [
        "data['cylinders'].max()"
      ],
      "metadata": {
        "colab": {
          "base_uri": "https://localhost:8080/"
        },
        "id": "uVUd38B3_anL",
        "outputId": "d14a2848-46d2-449d-cc35-9472789e6d0f"
      },
      "execution_count": null,
      "outputs": [
        {
          "output_type": "execute_result",
          "data": {
            "text/plain": [
              "8"
            ]
          },
          "metadata": {},
          "execution_count": 7
        }
      ]
    },
    {
      "cell_type": "code",
      "source": [
        "data['horsepower'] = data['horsepower'].fillna(data['horsepower'].median())"
      ],
      "metadata": {
        "id": "lyEVaa1ljNBW"
      },
      "execution_count": null,
      "outputs": []
    },
    {
      "cell_type": "code",
      "source": [
        "data.isnull().sum()"
      ],
      "metadata": {
        "colab": {
          "base_uri": "https://localhost:8080/"
        },
        "id": "XT58T_gYjXKH",
        "outputId": "299553ca-0ce1-45d6-fd6f-d6c35213f41b"
      },
      "execution_count": null,
      "outputs": [
        {
          "output_type": "execute_result",
          "data": {
            "text/plain": [
              "mpg             0\n",
              "cylinders       0\n",
              "displacement    0\n",
              "horsepower      0\n",
              "weight          0\n",
              "acceleration    0\n",
              "year            0\n",
              "origin          0\n",
              "name            0\n",
              "dtype: int64"
            ]
          },
          "metadata": {},
          "execution_count": 9
        }
      ]
    },
    {
      "cell_type": "code",
      "source": [
        "numeric_list = data.select_dtypes(include=[np.number]).columns\n",
        "data[numeric_list] = data[numeric_list].astype(np.float32)"
      ],
      "metadata": {
        "id": "9pq4XEdwjacH"
      },
      "execution_count": null,
      "outputs": []
    },
    {
      "cell_type": "code",
      "source": [
        "x = data[['cylinders', 'displacement', 'horsepower', 'weight', 'acceleration', 'year', 'origin']].values\n",
        "y = data['mpg'].values"
      ],
      "metadata": {
        "id": "20tM4izmj2UV"
      },
      "execution_count": null,
      "outputs": []
    },
    {
      "cell_type": "code",
      "source": [
        "type(y)"
      ],
      "metadata": {
        "colab": {
          "base_uri": "https://localhost:8080/"
        },
        "id": "0amCCUMXj9su",
        "outputId": "05b69811-716b-46f9-f99d-d0b0b9360fa7"
      },
      "execution_count": null,
      "outputs": [
        {
          "output_type": "execute_result",
          "data": {
            "text/plain": [
              "numpy.ndarray"
            ]
          },
          "metadata": {},
          "execution_count": 12
        }
      ]
    },
    {
      "cell_type": "code",
      "source": [
        "type(x)"
      ],
      "metadata": {
        "colab": {
          "base_uri": "https://localhost:8080/"
        },
        "id": "WlDj2LG0kB7W",
        "outputId": "2cebd14d-de8b-48c2-af96-52e49f5e76d8"
      },
      "execution_count": null,
      "outputs": [
        {
          "output_type": "execute_result",
          "data": {
            "text/plain": [
              "numpy.ndarray"
            ]
          },
          "metadata": {},
          "execution_count": 13
        }
      ]
    },
    {
      "cell_type": "code",
      "source": [
        "x_train, x_test, y_train, y_test = train_test_split(x, y, test_size = 0.20, random_state = 101)"
      ],
      "metadata": {
        "id": "lge6Ob_5kDVn"
      },
      "execution_count": null,
      "outputs": []
    },
    {
      "cell_type": "code",
      "source": [
        "x_train = x_train.astype(np.float32)"
      ],
      "metadata": {
        "id": "iYqkTegjkJSO"
      },
      "execution_count": null,
      "outputs": []
    },
    {
      "cell_type": "code",
      "source": [
        "print(f'The shape of the data is: \\nx_train: \\t{x_train.shape} \\nx_test: \\t{x_test.shape} \\ny_train: \\t{y_train.shape} \\ny_test: \\t{y_test.shape}')"
      ],
      "metadata": {
        "colab": {
          "base_uri": "https://localhost:8080/"
        },
        "id": "nZ8Hxo7ukQyP",
        "outputId": "656d82ee-8f41-438e-ab28-00e6d3bb58ea"
      },
      "execution_count": null,
      "outputs": [
        {
          "output_type": "stream",
          "name": "stdout",
          "text": [
            "The shape of the data is: \n",
            "x_train: \t(318, 7) \n",
            "x_test: \t(80, 7) \n",
            "y_train: \t(318,) \n",
            "y_test: \t(80,)\n"
          ]
        }
      ]
    },
    {
      "cell_type": "code",
      "source": [
        "LinearRegression_model = LinearRegression()\n",
        "DecisionTree_model = DecisionTreeRegressor()\n",
        "RandomForest_model = RandomForestRegressor()\n",
        "XGBRegressor_model = XGBRegressor()"
      ],
      "metadata": {
        "id": "Ze8zbFyhkSlH"
      },
      "execution_count": null,
      "outputs": []
    },
    {
      "cell_type": "code",
      "source": [
        "models = [LinearRegression_model, DecisionTree_model, RandomForest_model, XGBRegressor_model]\n",
        "for model in models:\n",
        "    model.fit(x_train, y_train)\n",
        "    print(f'{model} is trained!')"
      ],
      "metadata": {
        "colab": {
          "base_uri": "https://localhost:8080/"
        },
        "id": "jkRSNriolHTd",
        "outputId": "cc514f15-0306-403a-ea41-5aef80539e43"
      },
      "execution_count": null,
      "outputs": [
        {
          "output_type": "stream",
          "name": "stdout",
          "text": [
            "LinearRegression() is trained!\n",
            "DecisionTreeRegressor() is trained!\n",
            "RandomForestRegressor() is trained!\n",
            "[00:22:05] WARNING: /workspace/src/objective/regression_obj.cu:152: reg:linear is now deprecated in favor of reg:squarederror.\n",
            "XGBRegressor() is trained!\n"
          ]
        }
      ]
    },
    {
      "cell_type": "code",
      "source": [
        "accuracy_LinearRegression = LinearRegression_model.score(x_test, y_test)\n",
        "accuracy_DecisionTree = DecisionTree_model.score(x_test, y_test)\n",
        "accuracy_RandomForest = RandomForest_model.score(x_test, y_test)\n",
        "accuracy_XGBoost = XGBRegressor_model.score(x_test, y_test)"
      ],
      "metadata": {
        "id": "g86STJ3hmWLH"
      },
      "execution_count": null,
      "outputs": []
    },
    {
      "cell_type": "code",
      "source": [
        "models = {'LinearRegression_model': accuracy_LinearRegression, 'DecisionTree_model': accuracy_DecisionTree, 'RandomForest_model': accuracy_RandomForest, \n",
        "          'XGBRegressor_model': accuracy_XGBoost}\n",
        "for model, score in models.items():\n",
        "    print(f'The accuracy score for the {model} is {round(score, 4)}')"
      ],
      "metadata": {
        "colab": {
          "base_uri": "https://localhost:8080/"
        },
        "id": "76nakm8klmTW",
        "outputId": "84675b82-123a-433b-fb67-b87ba0e83b84"
      },
      "execution_count": null,
      "outputs": [
        {
          "output_type": "stream",
          "name": "stdout",
          "text": [
            "The accuracy score for the LinearRegression_model is 0.8001\n",
            "The accuracy score for the DecisionTree_model is 0.7184\n",
            "The accuracy score for the RandomForest_model is 0.904\n",
            "The accuracy score for the XGBRegressor_model is 0.9017\n"
          ]
        }
      ]
    },
    {
      "cell_type": "code",
      "source": [
        "data.head()"
      ],
      "metadata": {
        "colab": {
          "base_uri": "https://localhost:8080/",
          "height": 206
        },
        "id": "94eAOyTIlOMW",
        "outputId": "da834527-6de7-4cd4-f062-5fc782237a7d"
      },
      "execution_count": null,
      "outputs": [
        {
          "output_type": "execute_result",
          "data": {
            "text/plain": [
              "    mpg  cylinders  displacement  horsepower  weight  acceleration  year  \\\n",
              "0  18.0        8.0         307.0       130.0  3504.0          12.0  70.0   \n",
              "1  15.0        8.0         350.0       165.0  3693.0          11.5  70.0   \n",
              "2  18.0        8.0         318.0       150.0  3436.0          11.0  70.0   \n",
              "3  16.0        8.0         304.0       150.0  3433.0          12.0  70.0   \n",
              "4  17.0        8.0         302.0       140.0  3449.0          10.5  70.0   \n",
              "\n",
              "   origin                       name  \n",
              "0     1.0  chevrolet chevelle malibu  \n",
              "1     1.0          buick skylark 320  \n",
              "2     1.0         plymouth satellite  \n",
              "3     1.0              amc rebel sst  \n",
              "4     1.0                ford torino  "
            ],
            "text/html": [
              "\n",
              "  <div id=\"df-147d1663-634c-4b88-b9f0-173f6a6eb7be\">\n",
              "    <div class=\"colab-df-container\">\n",
              "      <div>\n",
              "<style scoped>\n",
              "    .dataframe tbody tr th:only-of-type {\n",
              "        vertical-align: middle;\n",
              "    }\n",
              "\n",
              "    .dataframe tbody tr th {\n",
              "        vertical-align: top;\n",
              "    }\n",
              "\n",
              "    .dataframe thead th {\n",
              "        text-align: right;\n",
              "    }\n",
              "</style>\n",
              "<table border=\"1\" class=\"dataframe\">\n",
              "  <thead>\n",
              "    <tr style=\"text-align: right;\">\n",
              "      <th></th>\n",
              "      <th>mpg</th>\n",
              "      <th>cylinders</th>\n",
              "      <th>displacement</th>\n",
              "      <th>horsepower</th>\n",
              "      <th>weight</th>\n",
              "      <th>acceleration</th>\n",
              "      <th>year</th>\n",
              "      <th>origin</th>\n",
              "      <th>name</th>\n",
              "    </tr>\n",
              "  </thead>\n",
              "  <tbody>\n",
              "    <tr>\n",
              "      <th>0</th>\n",
              "      <td>18.0</td>\n",
              "      <td>8.0</td>\n",
              "      <td>307.0</td>\n",
              "      <td>130.0</td>\n",
              "      <td>3504.0</td>\n",
              "      <td>12.0</td>\n",
              "      <td>70.0</td>\n",
              "      <td>1.0</td>\n",
              "      <td>chevrolet chevelle malibu</td>\n",
              "    </tr>\n",
              "    <tr>\n",
              "      <th>1</th>\n",
              "      <td>15.0</td>\n",
              "      <td>8.0</td>\n",
              "      <td>350.0</td>\n",
              "      <td>165.0</td>\n",
              "      <td>3693.0</td>\n",
              "      <td>11.5</td>\n",
              "      <td>70.0</td>\n",
              "      <td>1.0</td>\n",
              "      <td>buick skylark 320</td>\n",
              "    </tr>\n",
              "    <tr>\n",
              "      <th>2</th>\n",
              "      <td>18.0</td>\n",
              "      <td>8.0</td>\n",
              "      <td>318.0</td>\n",
              "      <td>150.0</td>\n",
              "      <td>3436.0</td>\n",
              "      <td>11.0</td>\n",
              "      <td>70.0</td>\n",
              "      <td>1.0</td>\n",
              "      <td>plymouth satellite</td>\n",
              "    </tr>\n",
              "    <tr>\n",
              "      <th>3</th>\n",
              "      <td>16.0</td>\n",
              "      <td>8.0</td>\n",
              "      <td>304.0</td>\n",
              "      <td>150.0</td>\n",
              "      <td>3433.0</td>\n",
              "      <td>12.0</td>\n",
              "      <td>70.0</td>\n",
              "      <td>1.0</td>\n",
              "      <td>amc rebel sst</td>\n",
              "    </tr>\n",
              "    <tr>\n",
              "      <th>4</th>\n",
              "      <td>17.0</td>\n",
              "      <td>8.0</td>\n",
              "      <td>302.0</td>\n",
              "      <td>140.0</td>\n",
              "      <td>3449.0</td>\n",
              "      <td>10.5</td>\n",
              "      <td>70.0</td>\n",
              "      <td>1.0</td>\n",
              "      <td>ford torino</td>\n",
              "    </tr>\n",
              "  </tbody>\n",
              "</table>\n",
              "</div>\n",
              "      <button class=\"colab-df-convert\" onclick=\"convertToInteractive('df-147d1663-634c-4b88-b9f0-173f6a6eb7be')\"\n",
              "              title=\"Convert this dataframe to an interactive table.\"\n",
              "              style=\"display:none;\">\n",
              "        \n",
              "  <svg xmlns=\"http://www.w3.org/2000/svg\" height=\"24px\"viewBox=\"0 0 24 24\"\n",
              "       width=\"24px\">\n",
              "    <path d=\"M0 0h24v24H0V0z\" fill=\"none\"/>\n",
              "    <path d=\"M18.56 5.44l.94 2.06.94-2.06 2.06-.94-2.06-.94-.94-2.06-.94 2.06-2.06.94zm-11 1L8.5 8.5l.94-2.06 2.06-.94-2.06-.94L8.5 2.5l-.94 2.06-2.06.94zm10 10l.94 2.06.94-2.06 2.06-.94-2.06-.94-.94-2.06-.94 2.06-2.06.94z\"/><path d=\"M17.41 7.96l-1.37-1.37c-.4-.4-.92-.59-1.43-.59-.52 0-1.04.2-1.43.59L10.3 9.45l-7.72 7.72c-.78.78-.78 2.05 0 2.83L4 21.41c.39.39.9.59 1.41.59.51 0 1.02-.2 1.41-.59l7.78-7.78 2.81-2.81c.8-.78.8-2.07 0-2.86zM5.41 20L4 18.59l7.72-7.72 1.47 1.35L5.41 20z\"/>\n",
              "  </svg>\n",
              "      </button>\n",
              "      \n",
              "  <style>\n",
              "    .colab-df-container {\n",
              "      display:flex;\n",
              "      flex-wrap:wrap;\n",
              "      gap: 12px;\n",
              "    }\n",
              "\n",
              "    .colab-df-convert {\n",
              "      background-color: #E8F0FE;\n",
              "      border: none;\n",
              "      border-radius: 50%;\n",
              "      cursor: pointer;\n",
              "      display: none;\n",
              "      fill: #1967D2;\n",
              "      height: 32px;\n",
              "      padding: 0 0 0 0;\n",
              "      width: 32px;\n",
              "    }\n",
              "\n",
              "    .colab-df-convert:hover {\n",
              "      background-color: #E2EBFA;\n",
              "      box-shadow: 0px 1px 2px rgba(60, 64, 67, 0.3), 0px 1px 3px 1px rgba(60, 64, 67, 0.15);\n",
              "      fill: #174EA6;\n",
              "    }\n",
              "\n",
              "    [theme=dark] .colab-df-convert {\n",
              "      background-color: #3B4455;\n",
              "      fill: #D2E3FC;\n",
              "    }\n",
              "\n",
              "    [theme=dark] .colab-df-convert:hover {\n",
              "      background-color: #434B5C;\n",
              "      box-shadow: 0px 1px 3px 1px rgba(0, 0, 0, 0.15);\n",
              "      filter: drop-shadow(0px 1px 2px rgba(0, 0, 0, 0.3));\n",
              "      fill: #FFFFFF;\n",
              "    }\n",
              "  </style>\n",
              "\n",
              "      <script>\n",
              "        const buttonEl =\n",
              "          document.querySelector('#df-147d1663-634c-4b88-b9f0-173f6a6eb7be button.colab-df-convert');\n",
              "        buttonEl.style.display =\n",
              "          google.colab.kernel.accessAllowed ? 'block' : 'none';\n",
              "\n",
              "        async function convertToInteractive(key) {\n",
              "          const element = document.querySelector('#df-147d1663-634c-4b88-b9f0-173f6a6eb7be');\n",
              "          const dataTable =\n",
              "            await google.colab.kernel.invokeFunction('convertToInteractive',\n",
              "                                                     [key], {});\n",
              "          if (!dataTable) return;\n",
              "\n",
              "          const docLinkHtml = 'Like what you see? Visit the ' +\n",
              "            '<a target=\"_blank\" href=https://colab.research.google.com/notebooks/data_table.ipynb>data table notebook</a>'\n",
              "            + ' to learn more about interactive tables.';\n",
              "          element.innerHTML = '';\n",
              "          dataTable['output_type'] = 'display_data';\n",
              "          await google.colab.output.renderOutput(dataTable, element);\n",
              "          const docLink = document.createElement('div');\n",
              "          docLink.innerHTML = docLinkHtml;\n",
              "          element.appendChild(docLink);\n",
              "        }\n",
              "      </script>\n",
              "    </div>\n",
              "  </div>\n",
              "  "
            ]
          },
          "metadata": {},
          "execution_count": 21
        }
      ]
    },
    {
      "cell_type": "code",
      "source": [
        "test_x = np.zeros((1, 7))\n",
        "test_x"
      ],
      "metadata": {
        "colab": {
          "base_uri": "https://localhost:8080/"
        },
        "id": "7WXfiq2IlgBW",
        "outputId": "231c09b4-4ef5-40fe-f13f-05e280a68a40"
      },
      "execution_count": null,
      "outputs": [
        {
          "output_type": "execute_result",
          "data": {
            "text/plain": [
              "array([[0., 0., 0., 0., 0., 0., 0.]])"
            ]
          },
          "metadata": {},
          "execution_count": 22
        }
      ]
    },
    {
      "cell_type": "code",
      "source": [
        "test_x = np.zeros((1, 7))\n",
        "\n",
        "test_x[0, 0] = 8.0\n",
        "test_x[0, 1] = 307.0\n",
        "test_x[0, 2] = 130.0\n",
        "test_x[0, 3] = 3504.0\n",
        "test_x[0, 4] = 12.0\n",
        "test_x[0, 5] = 70.0\n",
        "test_x[0, 6] = 1.0\n",
        "test_x"
      ],
      "metadata": {
        "colab": {
          "base_uri": "https://localhost:8080/"
        },
        "id": "bwYKj682m833",
        "outputId": "18f65197-4946-4667-8af8-f8bc11f16700"
      },
      "execution_count": null,
      "outputs": [
        {
          "output_type": "execute_result",
          "data": {
            "text/plain": [
              "array([[8.000e+00, 3.070e+02, 1.300e+02, 3.504e+03, 1.200e+01, 7.000e+01,\n",
              "        1.000e+00]])"
            ]
          },
          "metadata": {},
          "execution_count": 23
        }
      ]
    },
    {
      "cell_type": "code",
      "source": [
        "prediction = LinearRegression_model.predict(test_x)\n",
        "round(float(prediction[0]), 2)"
      ],
      "metadata": {
        "colab": {
          "base_uri": "https://localhost:8080/"
        },
        "id": "tsZMcalznK1l",
        "outputId": "e0b903ed-d026-4ef1-e188-4ac55374f8a0"
      },
      "execution_count": null,
      "outputs": [
        {
          "output_type": "execute_result",
          "data": {
            "text/plain": [
              "15.09"
            ]
          },
          "metadata": {},
          "execution_count": 24
        }
      ]
    },
    {
      "cell_type": "code",
      "source": [
        "models = [LinearRegression_model, DecisionTree_model, RandomForest_model, XGBRegressor_model]"
      ],
      "metadata": {
        "id": "PH98ZJb-nUlD"
      },
      "execution_count": null,
      "outputs": []
    },
    {
      "cell_type": "code",
      "source": [
        "for model in models:\n",
        "    prediction = model.predict(test_x)\n",
        "    print(f'The model {model} predicts an mpg of {round(float(prediction[0]), 2)}')"
      ],
      "metadata": {
        "colab": {
          "base_uri": "https://localhost:8080/"
        },
        "id": "zP4Hfi4Fnbj9",
        "outputId": "c259cf31-d745-44a4-a13d-50ab7f58bf2a"
      },
      "execution_count": null,
      "outputs": [
        {
          "output_type": "stream",
          "name": "stdout",
          "text": [
            "The model LinearRegression() predicts an mpg of 15.09\n",
            "The model DecisionTreeRegressor() predicts an mpg of 18.0\n",
            "The model RandomForestRegressor() predicts an mpg of 17.17\n",
            "The model XGBRegressor() predicts an mpg of 16.05\n"
          ]
        }
      ]
    },
    {
      "cell_type": "code",
      "source": [
        "model_file = '/content/drive/MyDrive/LaGuardia Classes/Fall Predictive Analytics/Projects/Project 1/'"
      ],
      "metadata": {
        "id": "7BxWukJknhme"
      },
      "execution_count": null,
      "outputs": []
    },
    {
      "cell_type": "code",
      "source": [
        "with open('pkl_file', 'wb') as file:\n",
        "    model = pickle.dump(LinearRegression_model, file)"
      ],
      "metadata": {
        "id": "v8kZ2eFHoGFn"
      },
      "execution_count": null,
      "outputs": []
    },
    {
      "cell_type": "code",
      "source": [
        "with open('dtm_file', 'wb') as file:\n",
        "    model = pickle.dump(DecisionTree_model, file)"
      ],
      "metadata": {
        "id": "JQUlZ81JoOpX"
      },
      "execution_count": null,
      "outputs": []
    },
    {
      "cell_type": "markdown",
      "source": [
        "## ANN Part"
      ],
      "metadata": {
        "id": "XqiRf8v6q7bW"
      }
    },
    {
      "cell_type": "code",
      "source": [
        "from tensorflow.keras.models import Sequential\n",
        "from tensorflow.keras.layers import Dense, Activation\n",
        "from tensorflow.keras.callbacks import EarlyStopping\n",
        "from tensorflow.keras.models import load_model\n",
        "from sklearn.model_selection import train_test_split\n",
        "from sklearn import metrics"
      ],
      "metadata": {
        "id": "rw7dc937t0Xe"
      },
      "execution_count": null,
      "outputs": []
    },
    {
      "cell_type": "code",
      "source": [
        "model = Sequential()\n",
        "model.add(Dense(25, input_dim = x.shape[1], activation = 'relu'))\n",
        "model.add(Dense(10, activation = 'relu'))\n",
        "model.add(Dense(1))"
      ],
      "metadata": {
        "id": "Gnh3ymn2t0UK"
      },
      "execution_count": null,
      "outputs": []
    },
    {
      "cell_type": "code",
      "source": [
        "model.compile(loss = 'mean_squared_error', optimizer = 'adam')"
      ],
      "metadata": {
        "id": "DG9EstEZt0Q2"
      },
      "execution_count": null,
      "outputs": []
    },
    {
      "cell_type": "code",
      "source": [
        "monitor = EarlyStopping(monitor = 'val_loss', min_delta = 1e-3, patience = 5, verbose = 1, mode = 'auto', restore_best_weights = True)"
      ],
      "metadata": {
        "id": "39y0MBTft0NZ"
      },
      "execution_count": null,
      "outputs": []
    },
    {
      "cell_type": "code",
      "source": [
        "model.fit(x_train, y_train, validation_data = (x_test, y_test), callbacks = [monitor], verbose = 2, epochs = 1000)"
      ],
      "metadata": {
        "colab": {
          "base_uri": "https://localhost:8080/"
        },
        "id": "p0qrYtSXt0KG",
        "outputId": "f2a95225-5fd6-403e-93f1-bc586a9e7e64"
      },
      "execution_count": null,
      "outputs": [
        {
          "output_type": "stream",
          "name": "stdout",
          "text": [
            "Epoch 1/1000\n",
            "10/10 - 1s - loss: 2607.7483 - val_loss: 604.5176 - 1s/epoch - 101ms/step\n",
            "Epoch 2/1000\n",
            "10/10 - 0s - loss: 342.5299 - val_loss: 380.3713 - 59ms/epoch - 6ms/step\n",
            "Epoch 3/1000\n",
            "10/10 - 0s - loss: 425.5168 - val_loss: 286.0007 - 44ms/epoch - 4ms/step\n",
            "Epoch 4/1000\n",
            "10/10 - 0s - loss: 239.9058 - val_loss: 218.9885 - 42ms/epoch - 4ms/step\n",
            "Epoch 5/1000\n",
            "10/10 - 0s - loss: 231.8112 - val_loss: 233.3443 - 58ms/epoch - 6ms/step\n",
            "Epoch 6/1000\n",
            "10/10 - 0s - loss: 214.0113 - val_loss: 197.9445 - 57ms/epoch - 6ms/step\n",
            "Epoch 7/1000\n",
            "10/10 - 0s - loss: 207.6267 - val_loss: 195.4582 - 41ms/epoch - 4ms/step\n",
            "Epoch 8/1000\n",
            "10/10 - 0s - loss: 204.6405 - val_loss: 196.2676 - 45ms/epoch - 4ms/step\n",
            "Epoch 9/1000\n",
            "10/10 - 0s - loss: 199.3004 - val_loss: 190.8098 - 50ms/epoch - 5ms/step\n",
            "Epoch 10/1000\n",
            "10/10 - 0s - loss: 196.2802 - val_loss: 188.0391 - 67ms/epoch - 7ms/step\n",
            "Epoch 11/1000\n",
            "10/10 - 0s - loss: 195.5217 - val_loss: 184.1413 - 46ms/epoch - 5ms/step\n",
            "Epoch 12/1000\n",
            "10/10 - 0s - loss: 191.1657 - val_loss: 182.9881 - 59ms/epoch - 6ms/step\n",
            "Epoch 13/1000\n",
            "10/10 - 0s - loss: 188.0039 - val_loss: 179.9677 - 60ms/epoch - 6ms/step\n",
            "Epoch 14/1000\n",
            "10/10 - 0s - loss: 185.1114 - val_loss: 175.4390 - 41ms/epoch - 4ms/step\n",
            "Epoch 15/1000\n",
            "10/10 - 0s - loss: 182.4556 - val_loss: 173.8008 - 43ms/epoch - 4ms/step\n",
            "Epoch 16/1000\n",
            "10/10 - 0s - loss: 179.1356 - val_loss: 169.9529 - 67ms/epoch - 7ms/step\n",
            "Epoch 17/1000\n",
            "10/10 - 0s - loss: 176.1057 - val_loss: 167.3386 - 46ms/epoch - 5ms/step\n",
            "Epoch 18/1000\n",
            "10/10 - 0s - loss: 173.4039 - val_loss: 164.2999 - 44ms/epoch - 4ms/step\n",
            "Epoch 19/1000\n",
            "10/10 - 0s - loss: 170.5253 - val_loss: 161.3755 - 63ms/epoch - 6ms/step\n",
            "Epoch 20/1000\n",
            "10/10 - 0s - loss: 167.6175 - val_loss: 158.4792 - 67ms/epoch - 7ms/step\n",
            "Epoch 21/1000\n",
            "10/10 - 0s - loss: 164.4797 - val_loss: 155.1891 - 48ms/epoch - 5ms/step\n",
            "Epoch 22/1000\n",
            "10/10 - 0s - loss: 162.5712 - val_loss: 152.6617 - 60ms/epoch - 6ms/step\n",
            "Epoch 23/1000\n",
            "10/10 - 0s - loss: 158.4403 - val_loss: 148.9111 - 60ms/epoch - 6ms/step\n",
            "Epoch 24/1000\n",
            "10/10 - 0s - loss: 156.7458 - val_loss: 147.4290 - 43ms/epoch - 4ms/step\n",
            "Epoch 25/1000\n",
            "10/10 - 0s - loss: 153.5177 - val_loss: 143.8161 - 53ms/epoch - 5ms/step\n",
            "Epoch 26/1000\n",
            "10/10 - 0s - loss: 150.9413 - val_loss: 141.7619 - 47ms/epoch - 5ms/step\n",
            "Epoch 27/1000\n",
            "10/10 - 0s - loss: 147.6978 - val_loss: 137.7191 - 51ms/epoch - 5ms/step\n",
            "Epoch 28/1000\n",
            "10/10 - 0s - loss: 144.4756 - val_loss: 136.9899 - 69ms/epoch - 7ms/step\n",
            "Epoch 29/1000\n",
            "10/10 - 0s - loss: 142.2960 - val_loss: 133.1345 - 46ms/epoch - 5ms/step\n",
            "Epoch 30/1000\n",
            "10/10 - 0s - loss: 139.7063 - val_loss: 130.3508 - 45ms/epoch - 4ms/step\n",
            "Epoch 31/1000\n",
            "10/10 - 0s - loss: 136.6682 - val_loss: 127.8935 - 49ms/epoch - 5ms/step\n",
            "Epoch 32/1000\n",
            "10/10 - 0s - loss: 134.5976 - val_loss: 125.2436 - 50ms/epoch - 5ms/step\n",
            "Epoch 33/1000\n",
            "10/10 - 0s - loss: 132.1157 - val_loss: 122.0755 - 46ms/epoch - 5ms/step\n",
            "Epoch 34/1000\n",
            "10/10 - 0s - loss: 128.6796 - val_loss: 119.8557 - 43ms/epoch - 4ms/step\n",
            "Epoch 35/1000\n",
            "10/10 - 0s - loss: 126.0940 - val_loss: 116.9520 - 45ms/epoch - 5ms/step\n",
            "Epoch 36/1000\n",
            "10/10 - 0s - loss: 123.4339 - val_loss: 114.8237 - 42ms/epoch - 4ms/step\n",
            "Epoch 37/1000\n",
            "10/10 - 0s - loss: 121.0946 - val_loss: 111.6963 - 43ms/epoch - 4ms/step\n",
            "Epoch 38/1000\n",
            "10/10 - 0s - loss: 119.4781 - val_loss: 108.7205 - 46ms/epoch - 5ms/step\n",
            "Epoch 39/1000\n",
            "10/10 - 0s - loss: 116.0304 - val_loss: 107.9689 - 47ms/epoch - 5ms/step\n",
            "Epoch 40/1000\n",
            "10/10 - 0s - loss: 113.4764 - val_loss: 104.3071 - 52ms/epoch - 5ms/step\n",
            "Epoch 41/1000\n",
            "10/10 - 0s - loss: 111.3397 - val_loss: 101.9411 - 49ms/epoch - 5ms/step\n",
            "Epoch 42/1000\n",
            "10/10 - 0s - loss: 108.8810 - val_loss: 99.1237 - 56ms/epoch - 6ms/step\n",
            "Epoch 43/1000\n",
            "10/10 - 0s - loss: 106.8949 - val_loss: 99.6865 - 63ms/epoch - 6ms/step\n",
            "Epoch 44/1000\n",
            "10/10 - 0s - loss: 104.3351 - val_loss: 94.5698 - 71ms/epoch - 7ms/step\n",
            "Epoch 45/1000\n",
            "10/10 - 0s - loss: 101.9118 - val_loss: 92.4624 - 61ms/epoch - 6ms/step\n",
            "Epoch 46/1000\n",
            "10/10 - 0s - loss: 99.3623 - val_loss: 90.6986 - 49ms/epoch - 5ms/step\n",
            "Epoch 47/1000\n",
            "10/10 - 0s - loss: 97.6013 - val_loss: 87.8345 - 69ms/epoch - 7ms/step\n",
            "Epoch 48/1000\n",
            "10/10 - 0s - loss: 95.1757 - val_loss: 85.7406 - 53ms/epoch - 5ms/step\n",
            "Epoch 49/1000\n",
            "10/10 - 0s - loss: 93.3946 - val_loss: 84.7726 - 45ms/epoch - 4ms/step\n",
            "Epoch 50/1000\n",
            "10/10 - 0s - loss: 91.4519 - val_loss: 80.9567 - 44ms/epoch - 4ms/step\n",
            "Epoch 51/1000\n",
            "10/10 - 0s - loss: 88.3411 - val_loss: 81.1250 - 64ms/epoch - 6ms/step\n",
            "Epoch 52/1000\n",
            "10/10 - 0s - loss: 87.1371 - val_loss: 77.0445 - 64ms/epoch - 6ms/step\n",
            "Epoch 53/1000\n",
            "10/10 - 0s - loss: 84.2582 - val_loss: 75.8149 - 47ms/epoch - 5ms/step\n",
            "Epoch 54/1000\n",
            "10/10 - 0s - loss: 82.4800 - val_loss: 73.0571 - 42ms/epoch - 4ms/step\n",
            "Epoch 55/1000\n",
            "10/10 - 0s - loss: 80.4513 - val_loss: 71.0750 - 47ms/epoch - 5ms/step\n",
            "Epoch 56/1000\n",
            "10/10 - 0s - loss: 78.8176 - val_loss: 69.9511 - 43ms/epoch - 4ms/step\n",
            "Epoch 57/1000\n",
            "10/10 - 0s - loss: 77.0794 - val_loss: 67.0453 - 42ms/epoch - 4ms/step\n",
            "Epoch 58/1000\n",
            "10/10 - 0s - loss: 74.8396 - val_loss: 66.1217 - 43ms/epoch - 4ms/step\n",
            "Epoch 59/1000\n",
            "10/10 - 0s - loss: 73.1231 - val_loss: 64.3469 - 43ms/epoch - 4ms/step\n",
            "Epoch 60/1000\n",
            "10/10 - 0s - loss: 72.1741 - val_loss: 62.1821 - 50ms/epoch - 5ms/step\n",
            "Epoch 61/1000\n",
            "10/10 - 0s - loss: 69.9058 - val_loss: 60.1944 - 43ms/epoch - 4ms/step\n",
            "Epoch 62/1000\n",
            "10/10 - 0s - loss: 67.7857 - val_loss: 58.4220 - 68ms/epoch - 7ms/step\n",
            "Epoch 63/1000\n",
            "10/10 - 0s - loss: 66.1593 - val_loss: 57.5032 - 44ms/epoch - 4ms/step\n",
            "Epoch 64/1000\n",
            "10/10 - 0s - loss: 65.4806 - val_loss: 54.9859 - 62ms/epoch - 6ms/step\n",
            "Epoch 65/1000\n",
            "10/10 - 0s - loss: 63.2597 - val_loss: 53.8616 - 64ms/epoch - 6ms/step\n",
            "Epoch 66/1000\n",
            "10/10 - 0s - loss: 61.6573 - val_loss: 53.1139 - 48ms/epoch - 5ms/step\n",
            "Epoch 67/1000\n",
            "10/10 - 0s - loss: 59.9343 - val_loss: 50.5093 - 66ms/epoch - 7ms/step\n",
            "Epoch 68/1000\n",
            "10/10 - 0s - loss: 59.2025 - val_loss: 50.3025 - 46ms/epoch - 5ms/step\n",
            "Epoch 69/1000\n",
            "10/10 - 0s - loss: 58.6326 - val_loss: 48.2382 - 48ms/epoch - 5ms/step\n",
            "Epoch 70/1000\n",
            "10/10 - 0s - loss: 56.8477 - val_loss: 46.5894 - 62ms/epoch - 6ms/step\n",
            "Epoch 71/1000\n",
            "10/10 - 0s - loss: 55.5622 - val_loss: 45.3436 - 45ms/epoch - 5ms/step\n",
            "Epoch 72/1000\n",
            "10/10 - 0s - loss: 53.6785 - val_loss: 44.0563 - 43ms/epoch - 4ms/step\n",
            "Epoch 73/1000\n",
            "10/10 - 0s - loss: 52.3654 - val_loss: 43.1065 - 44ms/epoch - 4ms/step\n",
            "Epoch 74/1000\n",
            "10/10 - 0s - loss: 51.2980 - val_loss: 41.7939 - 61ms/epoch - 6ms/step\n",
            "Epoch 75/1000\n",
            "10/10 - 0s - loss: 50.1069 - val_loss: 40.6219 - 42ms/epoch - 4ms/step\n",
            "Epoch 76/1000\n",
            "10/10 - 0s - loss: 49.3139 - val_loss: 39.6560 - 46ms/epoch - 5ms/step\n",
            "Epoch 77/1000\n",
            "10/10 - 0s - loss: 48.5786 - val_loss: 38.5179 - 47ms/epoch - 5ms/step\n",
            "Epoch 78/1000\n",
            "10/10 - 0s - loss: 48.0805 - val_loss: 39.0447 - 64ms/epoch - 6ms/step\n",
            "Epoch 79/1000\n",
            "10/10 - 0s - loss: 46.5163 - val_loss: 36.6417 - 43ms/epoch - 4ms/step\n",
            "Epoch 80/1000\n",
            "10/10 - 0s - loss: 45.3634 - val_loss: 36.4040 - 44ms/epoch - 4ms/step\n",
            "Epoch 81/1000\n",
            "10/10 - 0s - loss: 45.0890 - val_loss: 34.9417 - 47ms/epoch - 5ms/step\n",
            "Epoch 82/1000\n",
            "10/10 - 0s - loss: 46.3877 - val_loss: 37.9412 - 43ms/epoch - 4ms/step\n",
            "Epoch 83/1000\n",
            "10/10 - 0s - loss: 45.2699 - val_loss: 34.2721 - 46ms/epoch - 5ms/step\n",
            "Epoch 84/1000\n",
            "10/10 - 0s - loss: 43.6421 - val_loss: 33.6747 - 46ms/epoch - 5ms/step\n",
            "Epoch 85/1000\n",
            "10/10 - 0s - loss: 41.9829 - val_loss: 32.0173 - 62ms/epoch - 6ms/step\n",
            "Epoch 86/1000\n",
            "10/10 - 0s - loss: 41.8917 - val_loss: 31.4865 - 61ms/epoch - 6ms/step\n",
            "Epoch 87/1000\n",
            "10/10 - 0s - loss: 40.7317 - val_loss: 30.9220 - 60ms/epoch - 6ms/step\n",
            "Epoch 88/1000\n",
            "10/10 - 0s - loss: 40.0092 - val_loss: 30.4745 - 50ms/epoch - 5ms/step\n",
            "Epoch 89/1000\n",
            "10/10 - 0s - loss: 40.1674 - val_loss: 30.1101 - 41ms/epoch - 4ms/step\n",
            "Epoch 90/1000\n",
            "10/10 - 0s - loss: 39.4190 - val_loss: 28.8701 - 46ms/epoch - 5ms/step\n",
            "Epoch 91/1000\n",
            "10/10 - 0s - loss: 38.1639 - val_loss: 28.5821 - 41ms/epoch - 4ms/step\n",
            "Epoch 92/1000\n",
            "10/10 - 0s - loss: 37.6234 - val_loss: 27.9065 - 41ms/epoch - 4ms/step\n",
            "Epoch 93/1000\n",
            "10/10 - 0s - loss: 37.4020 - val_loss: 27.2313 - 45ms/epoch - 4ms/step\n",
            "Epoch 94/1000\n",
            "10/10 - 0s - loss: 36.8554 - val_loss: 27.2445 - 40ms/epoch - 4ms/step\n",
            "Epoch 95/1000\n",
            "10/10 - 0s - loss: 36.3236 - val_loss: 26.1811 - 45ms/epoch - 5ms/step\n",
            "Epoch 96/1000\n",
            "10/10 - 0s - loss: 35.6426 - val_loss: 25.8888 - 43ms/epoch - 4ms/step\n",
            "Epoch 97/1000\n",
            "10/10 - 0s - loss: 35.6260 - val_loss: 25.1063 - 45ms/epoch - 5ms/step\n",
            "Epoch 98/1000\n",
            "10/10 - 0s - loss: 34.5492 - val_loss: 24.7467 - 46ms/epoch - 5ms/step\n",
            "Epoch 99/1000\n",
            "10/10 - 0s - loss: 33.8842 - val_loss: 24.3251 - 62ms/epoch - 6ms/step\n",
            "Epoch 100/1000\n",
            "10/10 - 0s - loss: 32.9013 - val_loss: 23.6583 - 43ms/epoch - 4ms/step\n",
            "Epoch 101/1000\n",
            "10/10 - 0s - loss: 32.9811 - val_loss: 23.5268 - 42ms/epoch - 4ms/step\n",
            "Epoch 102/1000\n",
            "10/10 - 0s - loss: 32.6502 - val_loss: 23.7371 - 65ms/epoch - 6ms/step\n",
            "Epoch 103/1000\n",
            "10/10 - 0s - loss: 31.2563 - val_loss: 22.5488 - 52ms/epoch - 5ms/step\n",
            "Epoch 104/1000\n",
            "10/10 - 0s - loss: 30.7809 - val_loss: 25.1199 - 44ms/epoch - 4ms/step\n",
            "Epoch 105/1000\n",
            "10/10 - 0s - loss: 31.9024 - val_loss: 21.6013 - 45ms/epoch - 5ms/step\n",
            "Epoch 106/1000\n",
            "10/10 - 0s - loss: 30.3744 - val_loss: 21.2153 - 42ms/epoch - 4ms/step\n",
            "Epoch 107/1000\n",
            "10/10 - 0s - loss: 29.5550 - val_loss: 20.8099 - 41ms/epoch - 4ms/step\n",
            "Epoch 108/1000\n",
            "10/10 - 0s - loss: 29.2645 - val_loss: 20.3993 - 47ms/epoch - 5ms/step\n",
            "Epoch 109/1000\n",
            "10/10 - 0s - loss: 29.9842 - val_loss: 21.2159 - 45ms/epoch - 5ms/step\n",
            "Epoch 110/1000\n",
            "10/10 - 0s - loss: 29.3304 - val_loss: 24.3212 - 63ms/epoch - 6ms/step\n",
            "Epoch 111/1000\n",
            "10/10 - 0s - loss: 28.9387 - val_loss: 19.7291 - 43ms/epoch - 4ms/step\n",
            "Epoch 112/1000\n",
            "10/10 - 0s - loss: 28.1104 - val_loss: 19.3135 - 43ms/epoch - 4ms/step\n",
            "Epoch 113/1000\n",
            "10/10 - 0s - loss: 27.9053 - val_loss: 19.1391 - 60ms/epoch - 6ms/step\n",
            "Epoch 114/1000\n",
            "10/10 - 0s - loss: 27.2816 - val_loss: 18.7318 - 46ms/epoch - 5ms/step\n",
            "Epoch 115/1000\n",
            "10/10 - 0s - loss: 26.9735 - val_loss: 18.4363 - 47ms/epoch - 5ms/step\n",
            "Epoch 116/1000\n",
            "10/10 - 0s - loss: 26.9022 - val_loss: 18.2477 - 68ms/epoch - 7ms/step\n",
            "Epoch 117/1000\n",
            "10/10 - 0s - loss: 26.3765 - val_loss: 17.9500 - 48ms/epoch - 5ms/step\n",
            "Epoch 118/1000\n",
            "10/10 - 0s - loss: 26.1155 - val_loss: 17.9318 - 44ms/epoch - 4ms/step\n",
            "Epoch 119/1000\n",
            "10/10 - 0s - loss: 26.3891 - val_loss: 17.7264 - 59ms/epoch - 6ms/step\n",
            "Epoch 120/1000\n",
            "10/10 - 0s - loss: 26.0149 - val_loss: 17.9575 - 46ms/epoch - 5ms/step\n",
            "Epoch 121/1000\n",
            "10/10 - 0s - loss: 25.5868 - val_loss: 18.2355 - 70ms/epoch - 7ms/step\n",
            "Epoch 122/1000\n",
            "10/10 - 0s - loss: 25.4331 - val_loss: 16.8713 - 48ms/epoch - 5ms/step\n",
            "Epoch 123/1000\n",
            "10/10 - 0s - loss: 25.1759 - val_loss: 17.3082 - 43ms/epoch - 4ms/step\n",
            "Epoch 124/1000\n",
            "10/10 - 0s - loss: 25.2286 - val_loss: 16.7347 - 63ms/epoch - 6ms/step\n",
            "Epoch 125/1000\n",
            "10/10 - 0s - loss: 24.6643 - val_loss: 16.3841 - 48ms/epoch - 5ms/step\n",
            "Epoch 126/1000\n",
            "10/10 - 0s - loss: 24.1546 - val_loss: 16.3331 - 60ms/epoch - 6ms/step\n",
            "Epoch 127/1000\n",
            "10/10 - 0s - loss: 24.0514 - val_loss: 16.6019 - 64ms/epoch - 6ms/step\n",
            "Epoch 128/1000\n",
            "10/10 - 0s - loss: 24.4088 - val_loss: 15.7970 - 48ms/epoch - 5ms/step\n",
            "Epoch 129/1000\n",
            "10/10 - 0s - loss: 23.7182 - val_loss: 16.0495 - 62ms/epoch - 6ms/step\n",
            "Epoch 130/1000\n",
            "10/10 - 0s - loss: 23.4864 - val_loss: 15.6151 - 68ms/epoch - 7ms/step\n",
            "Epoch 131/1000\n",
            "10/10 - 0s - loss: 23.0043 - val_loss: 15.4813 - 46ms/epoch - 5ms/step\n",
            "Epoch 132/1000\n",
            "10/10 - 0s - loss: 22.9084 - val_loss: 15.6486 - 41ms/epoch - 4ms/step\n",
            "Epoch 133/1000\n",
            "10/10 - 0s - loss: 22.9222 - val_loss: 16.2674 - 42ms/epoch - 4ms/step\n",
            "Epoch 134/1000\n",
            "10/10 - 0s - loss: 22.3508 - val_loss: 15.7312 - 43ms/epoch - 4ms/step\n",
            "Epoch 135/1000\n",
            "10/10 - 0s - loss: 23.1017 - val_loss: 14.7982 - 46ms/epoch - 5ms/step\n",
            "Epoch 136/1000\n",
            "10/10 - 0s - loss: 22.2371 - val_loss: 14.9497 - 57ms/epoch - 6ms/step\n",
            "Epoch 137/1000\n",
            "10/10 - 0s - loss: 21.7764 - val_loss: 14.4586 - 42ms/epoch - 4ms/step\n",
            "Epoch 138/1000\n",
            "10/10 - 0s - loss: 21.7381 - val_loss: 14.2805 - 49ms/epoch - 5ms/step\n",
            "Epoch 139/1000\n",
            "10/10 - 0s - loss: 21.6010 - val_loss: 14.5051 - 50ms/epoch - 5ms/step\n",
            "Epoch 140/1000\n",
            "10/10 - 0s - loss: 21.4507 - val_loss: 14.4591 - 44ms/epoch - 4ms/step\n",
            "Epoch 141/1000\n",
            "10/10 - 0s - loss: 21.5450 - val_loss: 13.9391 - 62ms/epoch - 6ms/step\n",
            "Epoch 142/1000\n",
            "10/10 - 0s - loss: 21.2114 - val_loss: 15.6887 - 43ms/epoch - 4ms/step\n",
            "Epoch 143/1000\n",
            "10/10 - 0s - loss: 21.3005 - val_loss: 13.7812 - 46ms/epoch - 5ms/step\n",
            "Epoch 144/1000\n",
            "10/10 - 0s - loss: 20.7423 - val_loss: 14.6177 - 41ms/epoch - 4ms/step\n",
            "Epoch 145/1000\n",
            "10/10 - 0s - loss: 21.1049 - val_loss: 15.3259 - 42ms/epoch - 4ms/step\n",
            "Epoch 146/1000\n",
            "10/10 - 0s - loss: 20.7249 - val_loss: 14.8220 - 41ms/epoch - 4ms/step\n",
            "Epoch 147/1000\n",
            "10/10 - 0s - loss: 20.8653 - val_loss: 13.3679 - 47ms/epoch - 5ms/step\n",
            "Epoch 148/1000\n",
            "10/10 - 0s - loss: 20.7424 - val_loss: 13.2492 - 44ms/epoch - 4ms/step\n",
            "Epoch 149/1000\n",
            "10/10 - 0s - loss: 20.0470 - val_loss: 13.1346 - 71ms/epoch - 7ms/step\n",
            "Epoch 150/1000\n",
            "10/10 - 0s - loss: 19.8522 - val_loss: 14.0930 - 42ms/epoch - 4ms/step\n",
            "Epoch 151/1000\n",
            "10/10 - 0s - loss: 20.8664 - val_loss: 14.7100 - 59ms/epoch - 6ms/step\n",
            "Epoch 152/1000\n",
            "10/10 - 0s - loss: 19.4338 - val_loss: 13.0196 - 43ms/epoch - 4ms/step\n",
            "Epoch 153/1000\n",
            "10/10 - 0s - loss: 19.2061 - val_loss: 14.6608 - 63ms/epoch - 6ms/step\n",
            "Epoch 154/1000\n",
            "10/10 - 0s - loss: 19.2633 - val_loss: 13.1439 - 42ms/epoch - 4ms/step\n",
            "Epoch 155/1000\n",
            "10/10 - 0s - loss: 18.9328 - val_loss: 12.8281 - 45ms/epoch - 5ms/step\n",
            "Epoch 156/1000\n",
            "10/10 - 0s - loss: 18.9056 - val_loss: 12.8552 - 41ms/epoch - 4ms/step\n",
            "Epoch 157/1000\n",
            "10/10 - 0s - loss: 18.5786 - val_loss: 13.6925 - 47ms/epoch - 5ms/step\n",
            "Epoch 158/1000\n",
            "10/10 - 0s - loss: 18.9057 - val_loss: 13.7336 - 67ms/epoch - 7ms/step\n",
            "Epoch 159/1000\n",
            "10/10 - 0s - loss: 18.5526 - val_loss: 14.2520 - 45ms/epoch - 4ms/step\n",
            "Epoch 160/1000\n",
            "10/10 - 0s - loss: 19.8538 - val_loss: 12.4260 - 65ms/epoch - 6ms/step\n",
            "Epoch 161/1000\n",
            "10/10 - 0s - loss: 18.6362 - val_loss: 13.4640 - 42ms/epoch - 4ms/step\n",
            "Epoch 162/1000\n",
            "10/10 - 0s - loss: 18.1696 - val_loss: 13.9067 - 48ms/epoch - 5ms/step\n",
            "Epoch 163/1000\n",
            "10/10 - 0s - loss: 18.2080 - val_loss: 12.2122 - 50ms/epoch - 5ms/step\n",
            "Epoch 164/1000\n",
            "10/10 - 0s - loss: 17.6360 - val_loss: 12.1159 - 64ms/epoch - 6ms/step\n",
            "Epoch 165/1000\n",
            "10/10 - 0s - loss: 17.6703 - val_loss: 12.1422 - 47ms/epoch - 5ms/step\n",
            "Epoch 166/1000\n",
            "10/10 - 0s - loss: 17.5040 - val_loss: 13.1684 - 44ms/epoch - 4ms/step\n",
            "Epoch 167/1000\n",
            "10/10 - 0s - loss: 17.9416 - val_loss: 13.1302 - 63ms/epoch - 6ms/step\n",
            "Epoch 168/1000\n",
            "10/10 - 0s - loss: 18.5728 - val_loss: 12.3388 - 62ms/epoch - 6ms/step\n",
            "Epoch 169/1000\n",
            "Restoring model weights from the end of the best epoch: 164.\n",
            "10/10 - 0s - loss: 17.9909 - val_loss: 12.2213 - 45ms/epoch - 5ms/step\n",
            "Epoch 169: early stopping\n"
          ]
        },
        {
          "output_type": "execute_result",
          "data": {
            "text/plain": [
              "<keras.callbacks.History at 0x7fc9e0774f10>"
            ]
          },
          "metadata": {},
          "execution_count": 34
        }
      ]
    },
    {
      "cell_type": "code",
      "source": [
        "prediction = model.predict(x_test)\n",
        "score = np.sqrt(metrics.mean_squared_error(prediction, y_test))\n",
        "print(f'After training teh score is: {score}')"
      ],
      "metadata": {
        "colab": {
          "base_uri": "https://localhost:8080/"
        },
        "id": "VrYIcMHtt0G1",
        "outputId": "26cfe9e0-95f3-4bf5-f493-f270db9bbe30"
      },
      "execution_count": null,
      "outputs": [
        {
          "output_type": "stream",
          "name": "stdout",
          "text": [
            "3/3 [==============================] - 0s 5ms/step\n",
            "After training teh score is: 3.4807846546173096\n"
          ]
        }
      ]
    },
    {
      "cell_type": "code",
      "source": [
        "# Defining boundaries for the input data\n",
        " # List comprehension way\n",
        "col = [x for x in data.columns if x not in ('mpg', 'name')]\n",
        "# col\n",
        "\n",
        "# Normal loop way\n",
        "print('{')\n",
        "for i, name in enumerate(col):\n",
        "    print(f'\"{name}\":{{\"min\":{data[name].min()}, \"max\":{data[name].max()}}}{\",\" if i < (len(col)-1) else \"\"}')\n",
        "print('}')"
      ],
      "metadata": {
        "colab": {
          "base_uri": "https://localhost:8080/"
        },
        "id": "tMAi_K2ot0CU",
        "outputId": "78d166d7-5a69-4746-c2a9-96eaafac39c4"
      },
      "execution_count": null,
      "outputs": [
        {
          "output_type": "stream",
          "name": "stdout",
          "text": [
            "{\n",
            "\"cylinders\":{\"min\":3.0, \"max\":8.0},\n",
            "\"displacement\":{\"min\":68.0, \"max\":455.0},\n",
            "\"horsepower\":{\"min\":46.0, \"max\":230.0},\n",
            "\"weight\":{\"min\":1613.0, \"max\":5140.0},\n",
            "\"acceleration\":{\"min\":8.0, \"max\":24.799999237060547},\n",
            "\"year\":{\"min\":70.0, \"max\":82.0},\n",
            "\"origin\":{\"min\":1.0, \"max\":3.0}\n",
            "}\n"
          ]
        }
      ]
    },
    {
      "cell_type": "code",
      "source": [
        "model.save('mpg_model1.h5')"
      ],
      "metadata": {
        "id": "gbA6TjK1vrXJ"
      },
      "execution_count": null,
      "outputs": []
    },
    {
      "cell_type": "code",
      "source": [
        "model.summary()\n"
      ],
      "metadata": {
        "colab": {
          "base_uri": "https://localhost:8080/"
        },
        "id": "PFTP4rwNv0uk",
        "outputId": "c5c8fd6b-82f2-4072-ec85-9fc7564ae8ef"
      },
      "execution_count": null,
      "outputs": [
        {
          "output_type": "stream",
          "name": "stdout",
          "text": [
            "Model: \"sequential\"\n",
            "_________________________________________________________________\n",
            " Layer (type)                Output Shape              Param #   \n",
            "=================================================================\n",
            " dense (Dense)               (None, 25)                200       \n",
            "                                                                 \n",
            " dense_1 (Dense)             (None, 10)                260       \n",
            "                                                                 \n",
            " dense_2 (Dense)             (None, 1)                 11        \n",
            "                                                                 \n",
            "=================================================================\n",
            "Total params: 471\n",
            "Trainable params: 471\n",
            "Non-trainable params: 0\n",
            "_________________________________________________________________\n"
          ]
        }
      ]
    },
    {
      "cell_type": "code",
      "source": [
        "from keras.utils import plot_model\n",
        "plot_model(model, show_shapes=True)"
      ],
      "metadata": {
        "colab": {
          "base_uri": "https://localhost:8080/",
          "height": 422
        },
        "id": "oODFkjngwAit",
        "outputId": "c1126c0d-5d1f-49ba-9c56-1337ef5f042b"
      },
      "execution_count": null,
      "outputs": [
        {
          "output_type": "execute_result",
          "data": {
            "image/png": "[encoded data removed]",
            "text/plain": [
              "<IPython.core.display.Image object>"
            ]
          },
          "metadata": {},
          "execution_count": 39
        }
      ]
    },
    {
      "cell_type": "code",
      "source": [
        "test_x = np.zeros((1, 7))\n",
        "\n",
        "test_x[0, 0] = 8.0\n",
        "test_x[0, 1] = 307.0\n",
        "test_x[0, 2] = 130.0\n",
        "test_x[0, 3] = 3200.0\n",
        "test_x[0, 4] = 12.0\n",
        "test_x[0, 5] = 70.0\n",
        "test_x[0, 6] = 1.0\n",
        "test_x"
      ],
      "metadata": {
        "colab": {
          "base_uri": "https://localhost:8080/"
        },
        "id": "wRazJbqjwG7D",
        "outputId": "4bbbb389-6fcc-4b3d-ac01-df360b750072"
      },
      "execution_count": null,
      "outputs": [
        {
          "output_type": "execute_result",
          "data": {
            "text/plain": [
              "array([[8.00e+00, 3.07e+02, 1.30e+02, 3.20e+03, 1.20e+01, 7.00e+01,\n",
              "        1.00e+00]])"
            ]
          },
          "metadata": {},
          "execution_count": 42
        }
      ]
    },
    {
      "cell_type": "code",
      "source": [
        "prediction = model.predict(test_x)\n",
        "float(prediction[0])"
      ],
      "metadata": {
        "colab": {
          "base_uri": "https://localhost:8080/"
        },
        "id": "a3ugV3U2wP8j",
        "outputId": "db3c8265-c5e6-4350-dcf9-0dec284d3fce"
      },
      "execution_count": null,
      "outputs": [
        {
          "output_type": "stream",
          "name": "stdout",
          "text": [
            "1/1 [==============================] - 0s 18ms/step\n"
          ]
        },
        {
          "output_type": "execute_result",
          "data": {
            "text/plain": [
              "15.628670692443848"
            ]
          },
          "metadata": {},
          "execution_count": 43
        }
      ]
    },
    {
      "cell_type": "code",
      "source": [],
      "metadata": {
        "id": "2iCdls7_wSfU"
      },
      "execution_count": null,
      "outputs": []
    }
  ]
}