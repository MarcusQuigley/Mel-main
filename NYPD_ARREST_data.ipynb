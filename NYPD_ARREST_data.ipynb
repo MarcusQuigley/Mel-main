{
  "nbformat": 4,
  "nbformat_minor": 0,
  "metadata": {
    "colab": {
      "provenance": [],
      "toc_visible": true,
      "mount_file_id": "1HF3AAZqLa48y3x6RHEN4geNTpyHMuVbO",
      "authorship_tag": "ABX9TyN/XYVuW+/yj5sjFYzbT5ZT"
    },
    "kernelspec": {
      "name": "python3",
      "display_name": "Python 3"
    },
    "language_info": {
      "name": "python"
    }
  },
  "cells": [
    {
      "cell_type": "markdown",
      "source": [
        "option 1\n",
        "\n",
        "getting the data. analyze diabetes data ..diff states, dif ages, pick a feature( a column to compair) two states , two zip code,... any two group descriptive statistics cleaning one or more visualization brief conclusion statement. health care industry is very codified. The coding then comes into play with this data set....need a data dictionary. renaming some columns that actual humans understand.\n",
        "\n",
        "**option 2\n",
        "\n",
        "he didnt give the data... you have to get it yourself. figure out a way to import it... easiest is to download to your desktop. use read_csv..use the web link.... drive... who knows\n",
        "\n",
        "make sure you look at your bias and the datas bias and dictate it in your summary. check out plotly can create interactive visualizations and cufflinks\n",
        "\n",
        "will use seaborn can export visualizations just using code geopandas..location data... uber lyft... all use the geopandas library. SEABORN lecture 7"
      ],
      "metadata": {
        "id": "PJUx2-qAzPEu"
      }
    },
    {
      "cell_type": "markdown",
      "source": [
        "##**Questions:**\n",
        "> ### *Are the crimes equally distributed throughout the precents?*\n",
        "\n",
        ">> Does one precinct suffer more from one type of felony vs onother?\n",
        "\n",
        ">> Do more misdemeaors get documented in one area than the others?  \n",
        "\n",
        "> ### *Can the crimes be predicted by age,sex and place?*\n",
        ">>Further reading and research working with racial bias in data:\n",
        ">>>"
      ],
      "metadata": {
        "id": "LgYXyw1F8YxD"
      }
    },
    {
      "cell_type": "markdown",
      "source": [
        "Dataset Dictionary\n",
        "\n",
        "\n",
        "| Column Name | Description\tType | Data Type |\n",
        "|-------------|------------------|-----------|\n",
        "|ARREST_KEY|Randomly generated persistent ID for each arrest|plain Text|\n",
        "|ARREST_DATE|Exact date of arrest for the reported event|Date & Time|\n",
        "|PD_CD | Three digit internal classification code (more granular than Key Code)|Number|\n",
        "|PD_DESC|Description of internal classification corresponding with PD code (more granular than Offense Description)|Plain Text|\n",
        "|KY_CD|Three digit internal classification code (more general category than PD code)|Number|\n",
        "|OFNS_DESC|Description of internal classification corresponding with KY code (more general category than PD description)|Plain Text|\n",
        "|LAW_CODE|Law code charges corresponding to the NYS Penal Law, VTL and other various local laws|Plain Text|\n",
        "|LAW_CAT_CD|Level of offense: felony, misdemeanor, violation|Plain Text|\n",
        "|ARREST_BORO|Borough of arrest. B(Bronx), S(Staten Island), K(Brooklyn), M(Manhattan), Q(Queens)|Plain Text|\n",
        "|ARREST_PRECINCT|Precinct where the arrest occurred|Number|\n",
        "|JURISDICTION_CODE|Jurisdiction responsible for arrest.0(Patrol), 1(Transit) and 2(Housing) represent NYPD. Codes 3 and more represent non NYPD jurisdictions|Number|\n",
        "|AGE_GROUP\t|Perpetrator’s age within a category|Plain Text|\n",
        "|PERP_SEX|Perpetrator’s sex description|Plain Text|\n",
        "|PERP_RACE\t|Perpetrator’s race description|Plain Text|\n",
        "|X_COORD_CD|Midblock X-coordinate for New York State Plane Coordinate System, Long Island Zone, NAD 83, units feet (FIPS 3104)|Number|\n",
        "|Y_COORD_CD\t|Midblock Y-coordinate for New York State Plane Coordinate System, Long Island Zone, NAD 83, units feet (FIPS 3104)|Number|\n",
        "|Latitude|Latitude coordinate for Global Coordinate System, WGS 1984, decimal degrees (EPSG 4326)|Number|\n",
        "|Longitude\t|Longitude coordinate for Global Coordinate System, WGS 1984, decimal degrees (EPSG 4326)|Number|New Georeferenced Column Point|\n"
      ],
      "metadata": {
        "id": "8zxX-FkcsqTK"
      }
    },
    {
      "cell_type": "code",
      "source": [
        "# coding: utf-8"
      ],
      "metadata": {
        "id": "7taBqXj6xn7q"
      },
      "execution_count": 1,
      "outputs": []
    },
    {
      "cell_type": "markdown",
      "source": [
        "#Import"
      ],
      "metadata": {
        "id": "C8YT7yhvwO5s"
      }
    },
    {
      "cell_type": "code",
      "source": [
        "import os\n",
        "import pandas as pd\n",
        "import matplotlib.pyplot as plt"
      ],
      "metadata": {
        "id": "fOoWCp4PxaiS"
      },
      "execution_count": 2,
      "outputs": []
    },
    {
      "cell_type": "code",
      "source": [
        "#https://data.cityofnewyork.us/api/odata/v4/h9gi-nx95"
      ],
      "metadata": {
        "id": "IKq-QhyZyiS2"
      },
      "execution_count": 3,
      "outputs": []
    },
    {
      "cell_type": "code",
      "source": [
        "# # Function to load the complete dataset and perform the data manipulations in-house\n",
        "# def load_data_complete():\n",
        "#     cur_dir = os.path.dirname()"
      ],
      "metadata": {
        "id": "Scf2cfDNxmNO"
      },
      "execution_count": 4,
      "outputs": []
    },
    {
      "cell_type": "code",
      "source": [
        "# Read the csv\n",
        "nypd_a_y2d = pd.read_csv('/content/drive/MyDrive/PredictiveAnalytics/101/data/NYPD_Arrest_Data__Year_to_Date_.csv')\n"
      ],
      "metadata": {
        "id": "iwpuucdHxqUa"
      },
      "execution_count": 5,
      "outputs": []
    },
    {
      "cell_type": "markdown",
      "source": [
        "#EDA"
      ],
      "metadata": {
        "id": "mpGP4MZKwSJm"
      }
    },
    {
      "cell_type": "code",
      "source": [
        "nypd_a_y2d.shape"
      ],
      "metadata": {
        "colab": {
          "base_uri": "https://localhost:8080/"
        },
        "id": "jzTQoOqs1jnJ",
        "outputId": "3345b24f-4a99-4fb5-a36b-8626c14dae80"
      },
      "execution_count": 6,
      "outputs": [
        {
          "output_type": "execute_result",
          "data": {
            "text/plain": [
              "(140564, 19)"
            ]
          },
          "metadata": {},
          "execution_count": 6
        }
      ]
    },
    {
      "cell_type": "code",
      "source": [
        "nypd_a_y2d.info()"
      ],
      "metadata": {
        "colab": {
          "base_uri": "https://localhost:8080/"
        },
        "id": "gdpC5bDS1p4B",
        "outputId": "131b91df-8f6d-48d9-abad-ec2b2fcda6d6"
      },
      "execution_count": 7,
      "outputs": [
        {
          "output_type": "stream",
          "name": "stdout",
          "text": [
            "<class 'pandas.core.frame.DataFrame'>\n",
            "RangeIndex: 140564 entries, 0 to 140563\n",
            "Data columns (total 19 columns):\n",
            " #   Column                    Non-Null Count   Dtype  \n",
            "---  ------                    --------------   -----  \n",
            " 0   ARREST_KEY                140564 non-null  int64  \n",
            " 1   ARREST_DATE               140564 non-null  object \n",
            " 2   PD_CD                     140188 non-null  float64\n",
            " 3   PD_DESC                   140564 non-null  object \n",
            " 4   KY_CD                     140185 non-null  float64\n",
            " 5   OFNS_DESC                 140564 non-null  object \n",
            " 6   LAW_CODE                  140564 non-null  object \n",
            " 7   LAW_CAT_CD                139202 non-null  object \n",
            " 8   ARREST_BORO               140564 non-null  object \n",
            " 9   ARREST_PRECINCT           140564 non-null  int64  \n",
            " 10  JURISDICTION_CODE         140564 non-null  int64  \n",
            " 11  AGE_GROUP                 140564 non-null  object \n",
            " 12  PERP_SEX                  140564 non-null  object \n",
            " 13  PERP_RACE                 140564 non-null  object \n",
            " 14  X_COORD_CD                140564 non-null  int64  \n",
            " 15  Y_COORD_CD                140564 non-null  int64  \n",
            " 16  Latitude                  140564 non-null  float64\n",
            " 17  Longitude                 140564 non-null  float64\n",
            " 18  New Georeferenced Column  140564 non-null  object \n",
            "dtypes: float64(4), int64(5), object(10)\n",
            "memory usage: 20.4+ MB\n"
          ]
        }
      ]
    },
    {
      "cell_type": "code",
      "source": [
        "nypd_a_y2d.head()"
      ],
      "metadata": {
        "colab": {
          "base_uri": "https://localhost:8080/",
          "height": 461
        },
        "id": "faMjApUh16Hl",
        "outputId": "43d2ae7b-4eee-4ce9-c9bd-832949409d9f"
      },
      "execution_count": 8,
      "outputs": [
        {
          "output_type": "execute_result",
          "data": {
            "text/plain": [
              "   ARREST_KEY ARREST_DATE  PD_CD PD_DESC  KY_CD OFNS_DESC    LAW_CODE  \\\n",
              "0   238859078  01/09/2022    NaN  (null)    NaN    (null)  PL 2650022   \n",
              "1   239923883  01/31/2022    NaN  (null)    NaN    (null)  CPL5700600   \n",
              "2   239651234  01/25/2022  153.0  RAPE 3  104.0      RAPE  PL 1302503   \n",
              "3   241524225  03/03/2022  157.0  RAPE 1  104.0      RAPE  PL 1303501   \n",
              "4   241038267  02/22/2022  157.0  RAPE 1  104.0      RAPE  PL 1303501   \n",
              "\n",
              "  LAW_CAT_CD ARREST_BORO  ARREST_PRECINCT  JURISDICTION_CODE AGE_GROUP  \\\n",
              "0          M           B               49                  0     25-44   \n",
              "1          9           Q              113                  3     25-44   \n",
              "2          F           K               71                  0     25-44   \n",
              "3          F           K               84                  0     18-24   \n",
              "4          F           B               41                  0     45-64   \n",
              "\n",
              "  PERP_SEX       PERP_RACE  X_COORD_CD  Y_COORD_CD   Latitude  Longitude  \\\n",
              "0        M  BLACK HISPANIC     1021536      251417  40.856680 -73.865212   \n",
              "1        M           BLACK     1046367      186986  40.679701 -73.776047   \n",
              "2        M           BLACK      998742      181235  40.664121 -73.947765   \n",
              "3        M           BLACK      988902      192641  40.695439 -73.983225   \n",
              "4        M           BLACK     1013037      236657  40.816206 -73.896001   \n",
              "\n",
              "                     New Georeferenced Column  \n",
              "0                 POINT (-73.865212 40.85668)  \n",
              "1            POINT (-73.77604735 40.67970059)  \n",
              "2   POINT (-73.9477648403751 40.664121282631)  \n",
              "3  POINT (-73.9832253756043 40.6954388081238)  \n",
              "4  POINT (-73.8960011932583 40.8162058439227)  "
            ],
            "text/html": [
              "\n",
              "  <div id=\"df-3ad2a697-ae41-42c3-9dcb-87583f34da35\">\n",
              "    <div class=\"colab-df-container\">\n",
              "      <div>\n",
              "<style scoped>\n",
              "    .dataframe tbody tr th:only-of-type {\n",
              "        vertical-align: middle;\n",
              "    }\n",
              "\n",
              "    .dataframe tbody tr th {\n",
              "        vertical-align: top;\n",
              "    }\n",
              "\n",
              "    .dataframe thead th {\n",
              "        text-align: right;\n",
              "    }\n",
              "</style>\n",
              "<table border=\"1\" class=\"dataframe\">\n",
              "  <thead>\n",
              "    <tr style=\"text-align: right;\">\n",
              "      <th></th>\n",
              "      <th>ARREST_KEY</th>\n",
              "      <th>ARREST_DATE</th>\n",
              "      <th>PD_CD</th>\n",
              "      <th>PD_DESC</th>\n",
              "      <th>KY_CD</th>\n",
              "      <th>OFNS_DESC</th>\n",
              "      <th>LAW_CODE</th>\n",
              "      <th>LAW_CAT_CD</th>\n",
              "      <th>ARREST_BORO</th>\n",
              "      <th>ARREST_PRECINCT</th>\n",
              "      <th>JURISDICTION_CODE</th>\n",
              "      <th>AGE_GROUP</th>\n",
              "      <th>PERP_SEX</th>\n",
              "      <th>PERP_RACE</th>\n",
              "      <th>X_COORD_CD</th>\n",
              "      <th>Y_COORD_CD</th>\n",
              "      <th>Latitude</th>\n",
              "      <th>Longitude</th>\n",
              "      <th>New Georeferenced Column</th>\n",
              "    </tr>\n",
              "  </thead>\n",
              "  <tbody>\n",
              "    <tr>\n",
              "      <th>0</th>\n",
              "      <td>238859078</td>\n",
              "      <td>01/09/2022</td>\n",
              "      <td>NaN</td>\n",
              "      <td>(null)</td>\n",
              "      <td>NaN</td>\n",
              "      <td>(null)</td>\n",
              "      <td>PL 2650022</td>\n",
              "      <td>M</td>\n",
              "      <td>B</td>\n",
              "      <td>49</td>\n",
              "      <td>0</td>\n",
              "      <td>25-44</td>\n",
              "      <td>M</td>\n",
              "      <td>BLACK HISPANIC</td>\n",
              "      <td>1021536</td>\n",
              "      <td>251417</td>\n",
              "      <td>40.856680</td>\n",
              "      <td>-73.865212</td>\n",
              "      <td>POINT (-73.865212 40.85668)</td>\n",
              "    </tr>\n",
              "    <tr>\n",
              "      <th>1</th>\n",
              "      <td>239923883</td>\n",
              "      <td>01/31/2022</td>\n",
              "      <td>NaN</td>\n",
              "      <td>(null)</td>\n",
              "      <td>NaN</td>\n",
              "      <td>(null)</td>\n",
              "      <td>CPL5700600</td>\n",
              "      <td>9</td>\n",
              "      <td>Q</td>\n",
              "      <td>113</td>\n",
              "      <td>3</td>\n",
              "      <td>25-44</td>\n",
              "      <td>M</td>\n",
              "      <td>BLACK</td>\n",
              "      <td>1046367</td>\n",
              "      <td>186986</td>\n",
              "      <td>40.679701</td>\n",
              "      <td>-73.776047</td>\n",
              "      <td>POINT (-73.77604735 40.67970059)</td>\n",
              "    </tr>\n",
              "    <tr>\n",
              "      <th>2</th>\n",
              "      <td>239651234</td>\n",
              "      <td>01/25/2022</td>\n",
              "      <td>153.0</td>\n",
              "      <td>RAPE 3</td>\n",
              "      <td>104.0</td>\n",
              "      <td>RAPE</td>\n",
              "      <td>PL 1302503</td>\n",
              "      <td>F</td>\n",
              "      <td>K</td>\n",
              "      <td>71</td>\n",
              "      <td>0</td>\n",
              "      <td>25-44</td>\n",
              "      <td>M</td>\n",
              "      <td>BLACK</td>\n",
              "      <td>998742</td>\n",
              "      <td>181235</td>\n",
              "      <td>40.664121</td>\n",
              "      <td>-73.947765</td>\n",
              "      <td>POINT (-73.9477648403751 40.664121282631)</td>\n",
              "    </tr>\n",
              "    <tr>\n",
              "      <th>3</th>\n",
              "      <td>241524225</td>\n",
              "      <td>03/03/2022</td>\n",
              "      <td>157.0</td>\n",
              "      <td>RAPE 1</td>\n",
              "      <td>104.0</td>\n",
              "      <td>RAPE</td>\n",
              "      <td>PL 1303501</td>\n",
              "      <td>F</td>\n",
              "      <td>K</td>\n",
              "      <td>84</td>\n",
              "      <td>0</td>\n",
              "      <td>18-24</td>\n",
              "      <td>M</td>\n",
              "      <td>BLACK</td>\n",
              "      <td>988902</td>\n",
              "      <td>192641</td>\n",
              "      <td>40.695439</td>\n",
              "      <td>-73.983225</td>\n",
              "      <td>POINT (-73.9832253756043 40.6954388081238)</td>\n",
              "    </tr>\n",
              "    <tr>\n",
              "      <th>4</th>\n",
              "      <td>241038267</td>\n",
              "      <td>02/22/2022</td>\n",
              "      <td>157.0</td>\n",
              "      <td>RAPE 1</td>\n",
              "      <td>104.0</td>\n",
              "      <td>RAPE</td>\n",
              "      <td>PL 1303501</td>\n",
              "      <td>F</td>\n",
              "      <td>B</td>\n",
              "      <td>41</td>\n",
              "      <td>0</td>\n",
              "      <td>45-64</td>\n",
              "      <td>M</td>\n",
              "      <td>BLACK</td>\n",
              "      <td>1013037</td>\n",
              "      <td>236657</td>\n",
              "      <td>40.816206</td>\n",
              "      <td>-73.896001</td>\n",
              "      <td>POINT (-73.8960011932583 40.8162058439227)</td>\n",
              "    </tr>\n",
              "  </tbody>\n",
              "</table>\n",
              "</div>\n",
              "      <button class=\"colab-df-convert\" onclick=\"convertToInteractive('df-3ad2a697-ae41-42c3-9dcb-87583f34da35')\"\n",
              "              title=\"Convert this dataframe to an interactive table.\"\n",
              "              style=\"display:none;\">\n",
              "        \n",
              "  <svg xmlns=\"http://www.w3.org/2000/svg\" height=\"24px\"viewBox=\"0 0 24 24\"\n",
              "       width=\"24px\">\n",
              "    <path d=\"M0 0h24v24H0V0z\" fill=\"none\"/>\n",
              "    <path d=\"M18.56 5.44l.94 2.06.94-2.06 2.06-.94-2.06-.94-.94-2.06-.94 2.06-2.06.94zm-11 1L8.5 8.5l.94-2.06 2.06-.94-2.06-.94L8.5 2.5l-.94 2.06-2.06.94zm10 10l.94 2.06.94-2.06 2.06-.94-2.06-.94-.94-2.06-.94 2.06-2.06.94z\"/><path d=\"M17.41 7.96l-1.37-1.37c-.4-.4-.92-.59-1.43-.59-.52 0-1.04.2-1.43.59L10.3 9.45l-7.72 7.72c-.78.78-.78 2.05 0 2.83L4 21.41c.39.39.9.59 1.41.59.51 0 1.02-.2 1.41-.59l7.78-7.78 2.81-2.81c.8-.78.8-2.07 0-2.86zM5.41 20L4 18.59l7.72-7.72 1.47 1.35L5.41 20z\"/>\n",
              "  </svg>\n",
              "      </button>\n",
              "      \n",
              "  <style>\n",
              "    .colab-df-container {\n",
              "      display:flex;\n",
              "      flex-wrap:wrap;\n",
              "      gap: 12px;\n",
              "    }\n",
              "\n",
              "    .colab-df-convert {\n",
              "      background-color: #E8F0FE;\n",
              "      border: none;\n",
              "      border-radius: 50%;\n",
              "      cursor: pointer;\n",
              "      display: none;\n",
              "      fill: #1967D2;\n",
              "      height: 32px;\n",
              "      padding: 0 0 0 0;\n",
              "      width: 32px;\n",
              "    }\n",
              "\n",
              "    .colab-df-convert:hover {\n",
              "      background-color: #E2EBFA;\n",
              "      box-shadow: 0px 1px 2px rgba(60, 64, 67, 0.3), 0px 1px 3px 1px rgba(60, 64, 67, 0.15);\n",
              "      fill: #174EA6;\n",
              "    }\n",
              "\n",
              "    [theme=dark] .colab-df-convert {\n",
              "      background-color: #3B4455;\n",
              "      fill: #D2E3FC;\n",
              "    }\n",
              "\n",
              "    [theme=dark] .colab-df-convert:hover {\n",
              "      background-color: #434B5C;\n",
              "      box-shadow: 0px 1px 3px 1px rgba(0, 0, 0, 0.15);\n",
              "      filter: drop-shadow(0px 1px 2px rgba(0, 0, 0, 0.3));\n",
              "      fill: #FFFFFF;\n",
              "    }\n",
              "  </style>\n",
              "\n",
              "      <script>\n",
              "        const buttonEl =\n",
              "          document.querySelector('#df-3ad2a697-ae41-42c3-9dcb-87583f34da35 button.colab-df-convert');\n",
              "        buttonEl.style.display =\n",
              "          google.colab.kernel.accessAllowed ? 'block' : 'none';\n",
              "\n",
              "        async function convertToInteractive(key) {\n",
              "          const element = document.querySelector('#df-3ad2a697-ae41-42c3-9dcb-87583f34da35');\n",
              "          const dataTable =\n",
              "            await google.colab.kernel.invokeFunction('convertToInteractive',\n",
              "                                                     [key], {});\n",
              "          if (!dataTable) return;\n",
              "\n",
              "          const docLinkHtml = 'Like what you see? Visit the ' +\n",
              "            '<a target=\"_blank\" href=https://colab.research.google.com/notebooks/data_table.ipynb>data table notebook</a>'\n",
              "            + ' to learn more about interactive tables.';\n",
              "          element.innerHTML = '';\n",
              "          dataTable['output_type'] = 'display_data';\n",
              "          await google.colab.output.renderOutput(dataTable, element);\n",
              "          const docLink = document.createElement('div');\n",
              "          docLink.innerHTML = docLinkHtml;\n",
              "          element.appendChild(docLink);\n",
              "        }\n",
              "      </script>\n",
              "    </div>\n",
              "  </div>\n",
              "  "
            ]
          },
          "metadata": {},
          "execution_count": 8
        }
      ]
    },
    {
      "cell_type": "code",
      "source": [
        "nypd_a_y2d.isnull().sum()"
      ],
      "metadata": {
        "colab": {
          "base_uri": "https://localhost:8080/"
        },
        "id": "qEhkQCcUpw-n",
        "outputId": "70add224-6c73-46c2-9596-88d188e344e7"
      },
      "execution_count": 9,
      "outputs": [
        {
          "output_type": "execute_result",
          "data": {
            "text/plain": [
              "ARREST_KEY                     0\n",
              "ARREST_DATE                    0\n",
              "PD_CD                        376\n",
              "PD_DESC                        0\n",
              "KY_CD                        379\n",
              "OFNS_DESC                      0\n",
              "LAW_CODE                       0\n",
              "LAW_CAT_CD                  1362\n",
              "ARREST_BORO                    0\n",
              "ARREST_PRECINCT                0\n",
              "JURISDICTION_CODE              0\n",
              "AGE_GROUP                      0\n",
              "PERP_SEX                       0\n",
              "PERP_RACE                      0\n",
              "X_COORD_CD                     0\n",
              "Y_COORD_CD                     0\n",
              "Latitude                       0\n",
              "Longitude                      0\n",
              "New Georeferenced Column       0\n",
              "dtype: int64"
            ]
          },
          "metadata": {},
          "execution_count": 9
        }
      ]
    },
    {
      "cell_type": "code",
      "source": [
        "nypd_a_y2d.columns"
      ],
      "metadata": {
        "colab": {
          "base_uri": "https://localhost:8080/"
        },
        "id": "092qSL1Dr4WI",
        "outputId": "692f8b77-baa0-421a-f058-ff0d23db403e"
      },
      "execution_count": 10,
      "outputs": [
        {
          "output_type": "execute_result",
          "data": {
            "text/plain": [
              "Index(['ARREST_KEY', 'ARREST_DATE', 'PD_CD', 'PD_DESC', 'KY_CD', 'OFNS_DESC',\n",
              "       'LAW_CODE', 'LAW_CAT_CD', 'ARREST_BORO', 'ARREST_PRECINCT',\n",
              "       'JURISDICTION_CODE', 'AGE_GROUP', 'PERP_SEX', 'PERP_RACE', 'X_COORD_CD',\n",
              "       'Y_COORD_CD', 'Latitude', 'Longitude', 'New Georeferenced Column'],\n",
              "      dtype='object')"
            ]
          },
          "metadata": {},
          "execution_count": 10
        }
      ]
    },
    {
      "cell_type": "code",
      "source": [
        "borough= {'B':'Bronx','K': 'Brooklyn', 'M': 'Manhattan','Q':\"Queens\", 'S':'Staten Island'}\n",
        "gender = {'M': 'Male', 'F':'Female'}\n"
      ],
      "metadata": {
        "id": "USCiyMsv0his"
      },
      "execution_count": 11,
      "outputs": []
    },
    {
      "cell_type": "code",
      "source": [
        "#Look at the unique values for each column with less than 20 unique values\n",
        "for column in nypd_a_y2d.columns:\n",
        "    if len(nypd_a_y2d[column].unique()) <20:\n",
        "        print(column,':',nypd_a_y2d[column].unique())"
      ],
      "metadata": {
        "id": "Z3vuOilmSW4N",
        "colab": {
          "base_uri": "https://localhost:8080/"
        },
        "outputId": "e4a3042c-d079-4a4b-cd0a-50e832379611"
      },
      "execution_count": 13,
      "outputs": [
        {
          "output_type": "stream",
          "name": "stdout",
          "text": [
            "LAW_CAT_CD : ['M' '9' 'F' nan 'I' 'V']\n",
            "ARREST_BORO : ['B' 'Q' 'K' 'M' 'S']\n",
            "AGE_GROUP : ['25-44' '18-24' '45-64' '<18' '65+']\n",
            "PERP_SEX : ['M' 'F']\n",
            "PERP_RACE : ['BLACK HISPANIC' 'BLACK' 'WHITE HISPANIC' 'WHITE'\n",
            " 'ASIAN / PACIFIC ISLANDER' 'UNKNOWN' 'AMERICAN INDIAN/ALASKAN NATIVE']\n"
          ]
        }
      ]
    },
    {
      "cell_type": "code",
      "source": [
        "for column in nypd_a_y2d.columns:\n",
        "    if len(nypd_a_y2d[column].unique()) <100:\n",
        "        print(column,':',nypd_a_y2d[column].unique())"
      ],
      "metadata": {
        "colab": {
          "base_uri": "https://localhost:8080/"
        },
        "id": "ew_Fda8nu7oK",
        "outputId": "56a0fa88-b330-4abd-fdb4-559cd338ef85"
      },
      "execution_count": 17,
      "outputs": [
        {
          "output_type": "stream",
          "name": "stdout",
          "text": [
            "KY_CD : [ nan 104. 233. 237. 230. 114. 116. 347. 118. 344. 126. 348. 881. 106.\n",
            " 341. 109. 235. 351. 361. 358. 121. 105. 353. 113. 995. 343. 107. 236.\n",
            " 232. 117. 359. 119. 250. 101. 110. 111. 364. 572. 352. 355. 346. 677.\n",
            " 356. 112. 578. 120. 125. 103. 363. 350. 102. 124. 365. 231. 675. 340.\n",
            " 880. 234. 122. 115. 238. 345. 354. 676. 678. 571. 455. 882. 685. 349.]\n",
            "OFNS_DESC : ['(null)' 'RAPE' 'SEX CRIMES' 'ESCAPE 3' 'JOSTLING' 'ARSON'\n",
            " 'INTOXICATED & IMPAIRED DRIVING' 'DANGEROUS WEAPONS'\n",
            " 'ASSAULT 3 & RELATED OFFENSES' 'MISCELLANEOUS PENAL LAW'\n",
            " 'VEHICLE AND TRAFFIC LAWS' 'OTHER TRAFFIC INFRACTION' 'FELONY ASSAULT'\n",
            " 'PETIT LARCENY' 'GRAND LARCENY' 'DANGEROUS DRUGS'\n",
            " 'CRIMINAL MISCHIEF & RELATED OF' 'OFF. AGNST PUB ORD SENSBLTY &'\n",
            " 'OFFENSES INVOLVING FRAUD' 'ROBBERY' 'UNAUTHORIZED USE OF A VEHICLE'\n",
            " 'FORGERY' 'FOR OTHER AUTHORITIES' 'OTHER OFFENSES RELATED TO THEF'\n",
            " 'BURGLARY' 'POSSESSION OF STOLEN PROPERTY'\n",
            " 'OFFENSES AGAINST PUBLIC ADMINI' 'INTOXICATED/IMPAIRED DRIVING'\n",
            " 'CANNABIS RELATED OFFENSES' 'MURDER & NON-NEGL. MANSLAUGHTE'\n",
            " 'GRAND LARCENY OF MOTOR VEHICLE' 'OTHER STATE LAWS (NON PENAL LA'\n",
            " 'DISORDERLY CONDUCT' 'CRIMINAL TRESPASS' 'OFFENSES AGAINST THE PERSON'\n",
            " 'ALCOHOLIC BEVERAGE CONTROL LAW' 'OTHER STATE LAWS'\n",
            " 'PROSTITUTION & RELATED OFFENSES' 'THEFT OF SERVICES' 'THEFT-FRAUD'\n",
            " 'HARRASSMENT 2' 'ENDAN WELFARE INCOMP' 'NYS LAWS-UNCLASSIFIED FELONY'\n",
            " 'HOMICIDE-NEGLIGENT,UNCLASSIFIE' 'OFFENSES AGAINST PUBLIC SAFETY'\n",
            " 'GAMBLING' 'HOMICIDE-NEGLIGENT-VEHICLE' 'KIDNAPPING & RELATED OFFENSES'\n",
            " 'ADMINISTRATIVE CODE' \"BURGLAR'S TOOLS\" 'FRAUDS' 'MOVING INFRACTIONS'\n",
            " 'AGRICULTURE & MRKTS LAW-UNCLASSIFIED' 'FRAUDULENT ACCOSTING'\n",
            " 'ANTICIPATORY OFFENSES' 'NEW YORK CITY HEALTH CODE'\n",
            " 'CHILD ABANDONMENT/NON SUPPORT' 'LOITERING/GAMBLING (CARDS, DIC'\n",
            " 'UNLAWFUL POSS. WEAP. ON SCHOOL' 'PARKING OFFENSES' 'KIDNAPPING'\n",
            " 'OTHER STATE LAWS (NON PENAL LAW)' 'ADMINISTRATIVE CODES'\n",
            " 'OFFENSES RELATED TO CHILDREN' 'DISRUPTION OF A RELIGIOUS SERV']\n",
            "LAW_CAT_CD : ['M' '9' 'F' nan 'I' 'V']\n",
            "ARREST_BORO : ['B' 'Q' 'K' 'M' 'S']\n",
            "ARREST_PRECINCT : [ 49 113  71  84  41  46  77  13  14  32   5 107 114 112  60 122  75 121\n",
            "  78  69  81 102  79 103  73 120  43  45  66  63 111  72  62   7  40   1\n",
            " 110  44  10  25  23  28  19 115  90  47  30  83  52  94 105  33 104  88\n",
            "  34  70 106 109  48 100  26  50  67  42  18 101 108   9  20 123  61  76\n",
            "   6  68  24  17  22]\n",
            "JURISDICTION_CODE : [ 0  3  1  2 72 71 97 73 11 15  7 14 87  4  6 88 16 69 13 12 85 74  9]\n",
            "AGE_GROUP : ['25-44' '18-24' '45-64' '<18' '65+']\n",
            "PERP_SEX : ['M' 'F']\n",
            "PERP_RACE : ['BLACK HISPANIC' 'BLACK' 'WHITE HISPANIC' 'WHITE'\n",
            " 'ASIAN / PACIFIC ISLANDER' 'UNKNOWN' 'AMERICAN INDIAN/ALASKAN NATIVE']\n"
          ]
        }
      ]
    },
    {
      "cell_type": "code",
      "source": [
        "nypd_a_y2d.tail(5)"
      ],
      "metadata": {
        "colab": {
          "base_uri": "https://localhost:8080/",
          "height": 461
        },
        "id": "rmzRLjghsFq_",
        "outputId": "be80a749-d65c-4368-f854-8067b8ead9a6"
      },
      "execution_count": 24,
      "outputs": [
        {
          "output_type": "execute_result",
          "data": {
            "text/plain": [
              "        ARREST_KEY ARREST_DATE  PD_CD                         PD_DESC  KY_CD  \\\n",
              "140559   251412120  09/21/2022  114.0             OBSTR BREATH/CIRCUL  344.0   \n",
              "140560   249578318  08/15/2022  105.0               STRANGULATION 1ST  106.0   \n",
              "140561   247641284  07/06/2022  339.0  LARCENY,PETIT FROM OPEN AREAS,  341.0   \n",
              "140562   251006627  09/13/2022  508.0  DRUG PARAPHERNALIA,   POSSESSE  235.0   \n",
              "140563   248124580  07/16/2022  847.0  NY STATE LAWS,UNCLASSIFIED FEL  125.0   \n",
              "\n",
              "                           OFNS_DESC    LAW_CODE LAW_CAT_CD ARREST_BORO  \\\n",
              "140559  ASSAULT 3 & RELATED OFFENSES  PL 1211100          M           B   \n",
              "140560                FELONY ASSAULT  PL 1211200          F           K   \n",
              "140561                 PETIT LARCENY  PL 1552500          M           K   \n",
              "140562               DANGEROUS DRUGS  PL 2205001          M           B   \n",
              "140563  NYS LAWS-UNCLASSIFIED FELONY  VTL05110FE          F           M   \n",
              "\n",
              "        ARREST_PRECINCT  JURISDICTION_CODE AGE_GROUP PERP_SEX       PERP_RACE  \\\n",
              "140559               41                  0     25-44        M  WHITE HISPANIC   \n",
              "140560               70                  0     25-44        M           BLACK   \n",
              "140561               78                  0     45-64        M           BLACK   \n",
              "140562               43                  0     25-44        F           BLACK   \n",
              "140563               32                  0     45-64        M  WHITE HISPANIC   \n",
              "\n",
              "        X_COORD_CD  Y_COORD_CD   Latitude  Longitude  \\\n",
              "140559     1013096      236605  40.816057 -73.895785   \n",
              "140560      991549      169019  40.630600 -73.973705   \n",
              "140561      990420      188642  40.684454 -73.977750   \n",
              "140562     1019464      241704  40.830027 -73.872754   \n",
              "140563     1001611      241370  40.829163 -73.937267   \n",
              "\n",
              "                          New Georeferenced Column  \n",
              "140559                POINT (-73.895785 40.816057)  \n",
              "140560  POINT (-73.9737053160275 40.6305998504358)  \n",
              "140561                 POINT (-73.97775 40.684454)  \n",
              "140562            POINT (-73.87275417 40.83002685)  \n",
              "140563            POINT (-73.93726683 40.82916325)  "
            ],
            "text/html": [
              "\n",
              "  <div id=\"df-2f9a9099-3d33-4c83-a780-0f707b69c72b\">\n",
              "    <div class=\"colab-df-container\">\n",
              "      <div>\n",
              "<style scoped>\n",
              "    .dataframe tbody tr th:only-of-type {\n",
              "        vertical-align: middle;\n",
              "    }\n",
              "\n",
              "    .dataframe tbody tr th {\n",
              "        vertical-align: top;\n",
              "    }\n",
              "\n",
              "    .dataframe thead th {\n",
              "        text-align: right;\n",
              "    }\n",
              "</style>\n",
              "<table border=\"1\" class=\"dataframe\">\n",
              "  <thead>\n",
              "    <tr style=\"text-align: right;\">\n",
              "      <th></th>\n",
              "      <th>ARREST_KEY</th>\n",
              "      <th>ARREST_DATE</th>\n",
              "      <th>PD_CD</th>\n",
              "      <th>PD_DESC</th>\n",
              "      <th>KY_CD</th>\n",
              "      <th>OFNS_DESC</th>\n",
              "      <th>LAW_CODE</th>\n",
              "      <th>LAW_CAT_CD</th>\n",
              "      <th>ARREST_BORO</th>\n",
              "      <th>ARREST_PRECINCT</th>\n",
              "      <th>JURISDICTION_CODE</th>\n",
              "      <th>AGE_GROUP</th>\n",
              "      <th>PERP_SEX</th>\n",
              "      <th>PERP_RACE</th>\n",
              "      <th>X_COORD_CD</th>\n",
              "      <th>Y_COORD_CD</th>\n",
              "      <th>Latitude</th>\n",
              "      <th>Longitude</th>\n",
              "      <th>New Georeferenced Column</th>\n",
              "    </tr>\n",
              "  </thead>\n",
              "  <tbody>\n",
              "    <tr>\n",
              "      <th>140559</th>\n",
              "      <td>251412120</td>\n",
              "      <td>09/21/2022</td>\n",
              "      <td>114.0</td>\n",
              "      <td>OBSTR BREATH/CIRCUL</td>\n",
              "      <td>344.0</td>\n",
              "      <td>ASSAULT 3 &amp; RELATED OFFENSES</td>\n",
              "      <td>PL 1211100</td>\n",
              "      <td>M</td>\n",
              "      <td>B</td>\n",
              "      <td>41</td>\n",
              "      <td>0</td>\n",
              "      <td>25-44</td>\n",
              "      <td>M</td>\n",
              "      <td>WHITE HISPANIC</td>\n",
              "      <td>1013096</td>\n",
              "      <td>236605</td>\n",
              "      <td>40.816057</td>\n",
              "      <td>-73.895785</td>\n",
              "      <td>POINT (-73.895785 40.816057)</td>\n",
              "    </tr>\n",
              "    <tr>\n",
              "      <th>140560</th>\n",
              "      <td>249578318</td>\n",
              "      <td>08/15/2022</td>\n",
              "      <td>105.0</td>\n",
              "      <td>STRANGULATION 1ST</td>\n",
              "      <td>106.0</td>\n",
              "      <td>FELONY ASSAULT</td>\n",
              "      <td>PL 1211200</td>\n",
              "      <td>F</td>\n",
              "      <td>K</td>\n",
              "      <td>70</td>\n",
              "      <td>0</td>\n",
              "      <td>25-44</td>\n",
              "      <td>M</td>\n",
              "      <td>BLACK</td>\n",
              "      <td>991549</td>\n",
              "      <td>169019</td>\n",
              "      <td>40.630600</td>\n",
              "      <td>-73.973705</td>\n",
              "      <td>POINT (-73.9737053160275 40.6305998504358)</td>\n",
              "    </tr>\n",
              "    <tr>\n",
              "      <th>140561</th>\n",
              "      <td>247641284</td>\n",
              "      <td>07/06/2022</td>\n",
              "      <td>339.0</td>\n",
              "      <td>LARCENY,PETIT FROM OPEN AREAS,</td>\n",
              "      <td>341.0</td>\n",
              "      <td>PETIT LARCENY</td>\n",
              "      <td>PL 1552500</td>\n",
              "      <td>M</td>\n",
              "      <td>K</td>\n",
              "      <td>78</td>\n",
              "      <td>0</td>\n",
              "      <td>45-64</td>\n",
              "      <td>M</td>\n",
              "      <td>BLACK</td>\n",
              "      <td>990420</td>\n",
              "      <td>188642</td>\n",
              "      <td>40.684454</td>\n",
              "      <td>-73.977750</td>\n",
              "      <td>POINT (-73.97775 40.684454)</td>\n",
              "    </tr>\n",
              "    <tr>\n",
              "      <th>140562</th>\n",
              "      <td>251006627</td>\n",
              "      <td>09/13/2022</td>\n",
              "      <td>508.0</td>\n",
              "      <td>DRUG PARAPHERNALIA,   POSSESSE</td>\n",
              "      <td>235.0</td>\n",
              "      <td>DANGEROUS DRUGS</td>\n",
              "      <td>PL 2205001</td>\n",
              "      <td>M</td>\n",
              "      <td>B</td>\n",
              "      <td>43</td>\n",
              "      <td>0</td>\n",
              "      <td>25-44</td>\n",
              "      <td>F</td>\n",
              "      <td>BLACK</td>\n",
              "      <td>1019464</td>\n",
              "      <td>241704</td>\n",
              "      <td>40.830027</td>\n",
              "      <td>-73.872754</td>\n",
              "      <td>POINT (-73.87275417 40.83002685)</td>\n",
              "    </tr>\n",
              "    <tr>\n",
              "      <th>140563</th>\n",
              "      <td>248124580</td>\n",
              "      <td>07/16/2022</td>\n",
              "      <td>847.0</td>\n",
              "      <td>NY STATE LAWS,UNCLASSIFIED FEL</td>\n",
              "      <td>125.0</td>\n",
              "      <td>NYS LAWS-UNCLASSIFIED FELONY</td>\n",
              "      <td>VTL05110FE</td>\n",
              "      <td>F</td>\n",
              "      <td>M</td>\n",
              "      <td>32</td>\n",
              "      <td>0</td>\n",
              "      <td>45-64</td>\n",
              "      <td>M</td>\n",
              "      <td>WHITE HISPANIC</td>\n",
              "      <td>1001611</td>\n",
              "      <td>241370</td>\n",
              "      <td>40.829163</td>\n",
              "      <td>-73.937267</td>\n",
              "      <td>POINT (-73.93726683 40.82916325)</td>\n",
              "    </tr>\n",
              "  </tbody>\n",
              "</table>\n",
              "</div>\n",
              "      <button class=\"colab-df-convert\" onclick=\"convertToInteractive('df-2f9a9099-3d33-4c83-a780-0f707b69c72b')\"\n",
              "              title=\"Convert this dataframe to an interactive table.\"\n",
              "              style=\"display:none;\">\n",
              "        \n",
              "  <svg xmlns=\"http://www.w3.org/2000/svg\" height=\"24px\"viewBox=\"0 0 24 24\"\n",
              "       width=\"24px\">\n",
              "    <path d=\"M0 0h24v24H0V0z\" fill=\"none\"/>\n",
              "    <path d=\"M18.56 5.44l.94 2.06.94-2.06 2.06-.94-2.06-.94-.94-2.06-.94 2.06-2.06.94zm-11 1L8.5 8.5l.94-2.06 2.06-.94-2.06-.94L8.5 2.5l-.94 2.06-2.06.94zm10 10l.94 2.06.94-2.06 2.06-.94-2.06-.94-.94-2.06-.94 2.06-2.06.94z\"/><path d=\"M17.41 7.96l-1.37-1.37c-.4-.4-.92-.59-1.43-.59-.52 0-1.04.2-1.43.59L10.3 9.45l-7.72 7.72c-.78.78-.78 2.05 0 2.83L4 21.41c.39.39.9.59 1.41.59.51 0 1.02-.2 1.41-.59l7.78-7.78 2.81-2.81c.8-.78.8-2.07 0-2.86zM5.41 20L4 18.59l7.72-7.72 1.47 1.35L5.41 20z\"/>\n",
              "  </svg>\n",
              "      </button>\n",
              "      \n",
              "  <style>\n",
              "    .colab-df-container {\n",
              "      display:flex;\n",
              "      flex-wrap:wrap;\n",
              "      gap: 12px;\n",
              "    }\n",
              "\n",
              "    .colab-df-convert {\n",
              "      background-color: #E8F0FE;\n",
              "      border: none;\n",
              "      border-radius: 50%;\n",
              "      cursor: pointer;\n",
              "      display: none;\n",
              "      fill: #1967D2;\n",
              "      height: 32px;\n",
              "      padding: 0 0 0 0;\n",
              "      width: 32px;\n",
              "    }\n",
              "\n",
              "    .colab-df-convert:hover {\n",
              "      background-color: #E2EBFA;\n",
              "      box-shadow: 0px 1px 2px rgba(60, 64, 67, 0.3), 0px 1px 3px 1px rgba(60, 64, 67, 0.15);\n",
              "      fill: #174EA6;\n",
              "    }\n",
              "\n",
              "    [theme=dark] .colab-df-convert {\n",
              "      background-color: #3B4455;\n",
              "      fill: #D2E3FC;\n",
              "    }\n",
              "\n",
              "    [theme=dark] .colab-df-convert:hover {\n",
              "      background-color: #434B5C;\n",
              "      box-shadow: 0px 1px 3px 1px rgba(0, 0, 0, 0.15);\n",
              "      filter: drop-shadow(0px 1px 2px rgba(0, 0, 0, 0.3));\n",
              "      fill: #FFFFFF;\n",
              "    }\n",
              "  </style>\n",
              "\n",
              "      <script>\n",
              "        const buttonEl =\n",
              "          document.querySelector('#df-2f9a9099-3d33-4c83-a780-0f707b69c72b button.colab-df-convert');\n",
              "        buttonEl.style.display =\n",
              "          google.colab.kernel.accessAllowed ? 'block' : 'none';\n",
              "\n",
              "        async function convertToInteractive(key) {\n",
              "          const element = document.querySelector('#df-2f9a9099-3d33-4c83-a780-0f707b69c72b');\n",
              "          const dataTable =\n",
              "            await google.colab.kernel.invokeFunction('convertToInteractive',\n",
              "                                                     [key], {});\n",
              "          if (!dataTable) return;\n",
              "\n",
              "          const docLinkHtml = 'Like what you see? Visit the ' +\n",
              "            '<a target=\"_blank\" href=https://colab.research.google.com/notebooks/data_table.ipynb>data table notebook</a>'\n",
              "            + ' to learn more about interactive tables.';\n",
              "          element.innerHTML = '';\n",
              "          dataTable['output_type'] = 'display_data';\n",
              "          await google.colab.output.renderOutput(dataTable, element);\n",
              "          const docLink = document.createElement('div');\n",
              "          docLink.innerHTML = docLinkHtml;\n",
              "          element.appendChild(docLink);\n",
              "        }\n",
              "      </script>\n",
              "    </div>\n",
              "  </div>\n",
              "  "
            ]
          },
          "metadata": {},
          "execution_count": 24
        }
      ]
    },
    {
      "cell_type": "code",
      "source": [
        "list(nypd_a_y2d.OFNS_DESC.value_counts(ascending=False))\n",
        "#or \n",
        "#list(nypd_a_y2d['OFNS_DESC'].value_counts(ascending=False))  \n",
        "#They are the same"
      ],
      "metadata": {
        "id": "hI_Hxj1I3jtW",
        "colab": {
          "base_uri": "https://localhost:8080/"
        },
        "outputId": "1d062b6f-098a-471c-e709-b8ade2d562c7"
      },
      "execution_count": 30,
      "outputs": [
        {
          "output_type": "execute_result",
          "data": {
            "text/plain": [
              "[23188,\n",
              " 15288,\n",
              " 14190,\n",
              " 9327,\n",
              " 7717,\n",
              " 7686,\n",
              " 7310,\n",
              " 6432,\n",
              " 6011,\n",
              " 4731,\n",
              " 4668,\n",
              " 4203,\n",
              " 3627,\n",
              " 3192,\n",
              " 2938,\n",
              " 2795,\n",
              " 1869,\n",
              " 1813,\n",
              " 1804,\n",
              " 1362,\n",
              " 1242,\n",
              " 1238,\n",
              " 1177,\n",
              " 992,\n",
              " 755,\n",
              " 569,\n",
              " 515,\n",
              " 446,\n",
              " 379,\n",
              " 360,\n",
              " 340,\n",
              " 332,\n",
              " 270,\n",
              " 269,\n",
              " 219,\n",
              " 146,\n",
              " 135,\n",
              " 128,\n",
              " 116,\n",
              " 104,\n",
              " 96,\n",
              " 89,\n",
              " 78,\n",
              " 57,\n",
              " 55,\n",
              " 54,\n",
              " 37,\n",
              " 35,\n",
              " 33,\n",
              " 27,\n",
              " 25,\n",
              " 23,\n",
              " 17,\n",
              " 9,\n",
              " 8,\n",
              " 8,\n",
              " 8,\n",
              " 6,\n",
              " 5,\n",
              " 4,\n",
              " 2,\n",
              " 2,\n",
              " 1,\n",
              " 1,\n",
              " 1]"
            ]
          },
          "metadata": {},
          "execution_count": 30
        }
      ]
    },
    {
      "cell_type": "code",
      "source": [
        "nypd_a_y2d.PD_DESC.count()"
      ],
      "metadata": {
        "colab": {
          "base_uri": "https://localhost:8080/"
        },
        "id": "DZpvIzgEu6TC",
        "outputId": "8cdefa3a-9fbe-469d-825e-05ee48da6de8"
      },
      "execution_count": 20,
      "outputs": [
        {
          "output_type": "execute_result",
          "data": {
            "text/plain": [
              "140564"
            ]
          },
          "metadata": {},
          "execution_count": 20
        }
      ]
    },
    {
      "cell_type": "markdown",
      "source": [
        "##Cleaning"
      ],
      "metadata": {
        "id": "jqWRisB8wG3L"
      }
    },
    {
      "cell_type": "code",
      "source": [
        "# # Converting the date column to its specified data type\n",
        "# nypd_a_y2d['ARREST_DATE'] = pd.to_datetime(nypd_a_y2d.ARREST_DATE)"
      ],
      "metadata": {
        "id": "oLewsjQpxsHk"
      },
      "execution_count": 21,
      "outputs": []
    },
    {
      "cell_type": "code",
      "source": [
        "# # Creating three new columns for easy querying\n",
        "# nypd_a_y2d['YEAR'] = nypd_a_y2d.ARREST_DATE.dt.year\n",
        "# nypd_a_y2d['MONTH'] = nypd_a_y2d.ARREST_DATE.dt.month\n",
        "# nypd_a_y2d['DAY'] = nypd_a_y2d.ARREST_DATE.dt.day"
      ],
      "metadata": {
        "id": "jRJzHRWpxyYD"
      },
      "execution_count": 22,
      "outputs": []
    },
    {
      "cell_type": "code",
      "source": [
        "# # Considering columns beneficial for visualizing \n",
        "# nypd_a_y2d = nypd_a_y2d[['ARREST_DATE','AGE_GROUP', 'PERP_SEX', 'PERP_RACE', 'PD_DESC', 'OFNS_DESC', 'X_COORD_CD','Y_COORD_CD', 'Latitude', 'Longitude']]"
      ],
      "metadata": {
        "id": "ZHEwhrQ1xzZw"
      },
      "execution_count": 23,
      "outputs": []
    }
  ]
}