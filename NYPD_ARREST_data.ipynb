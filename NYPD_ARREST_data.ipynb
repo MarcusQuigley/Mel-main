{
  "nbformat": 4,
  "nbformat_minor": 0,
  "metadata": {
    "colab": {
      "provenance": [],
      "mount_file_id": "1HF3AAZqLa48y3x6RHEN4geNTpyHMuVbO",
      "authorship_tag": "ABX9TyMVDYdNxH+2hNbdyZtIou8a"
    },
    "kernelspec": {
      "name": "python3",
      "display_name": "Python 3"
    },
    "language_info": {
      "name": "python"
    }
  },
  "cells": [
    {
      "cell_type": "markdown",
      "source": [
        "option 1\n",
        "\n",
        "getting the data. analyze diabetes data ..diff states, dif ages, pick a feature( a column to compair) two states , two zip code,... any two group descriptive statistics cleaning one or more visualization brief conclusion statement. health care industry is very codified. The coding then comes into play with this data set....need a data dictionary. renaming some columns that actual humans understand.\n",
        "\n",
        "**option 2\n",
        "\n",
        "he didnt give the data... you have to get it yourself. figure out a way to import it... easiest is to download to your desktop. use read_csv..use the web link.... drive... who knows\n",
        "\n",
        "make sure you look at your bias and the datas bias and dictate it in your summary. check out plotly can create interactive visualizations and cufflinks\n",
        "\n",
        "will use seaborn can export visualizations just using code geopandas..location data... uber lyft... all use the geopandas library. SEABORN lecture 7"
      ],
      "metadata": {
        "id": "PJUx2-qAzPEu"
      }
    },
    {
      "cell_type": "markdown",
      "source": [
        "##**Questions:**\n",
        "> ### *Are the crimes equally distributed throughout the precents?*\n",
        "\n",
        ">> Does one precinct suffer from one type of felony vs onother?\n",
        "\n",
        ">> Do more misdemeaors happen in one area than onother?  \n",
        "\n",
        "> ### *Can the crimes be predicted by age,sex and place? ommiting the race card?*\n",
        ">>Further reading and research working with racial bias in data:\n",
        ">>>"
      ],
      "metadata": {
        "id": "LgYXyw1F8YxD"
      }
    },
    {
      "cell_type": "markdown",
      "source": [
        "Dataset Dictionary\n",
        "\n",
        "\n",
        "| Column Name | Description\tType | Data Type |\n",
        "|-------------|------------------|-----------|\n",
        "|ARREST_KEY|Randomly generated persistent ID for each arrest|plain Text|\n",
        "|ARREST_DATE|Exact date of arrest for the reported event|Date & Time|\n",
        "|PD_CD | Three digit internal classification code (more granular than Key Code)|Number|\n",
        "|PD_DESC|Description of internal classification corresponding with PD code (more granular than Offense Description)|Plain Text|\n",
        "|KY_CD|Three digit internal classification code (more general category than PD code)|Number|\n",
        "|OFNS_DESC|Description of internal classification corresponding with KY code (more general category than PD description)|Plain Text|\n",
        "|LAW_CODE|Law code charges corresponding to the NYS Penal Law, VTL and other various local laws|Plain Text|\n",
        "|LAW_CAT_CD|Level of offense: felony, misdemeanor, violation|Plain Text|\n",
        "|ARREST_BORO|Borough of arrest. B(Bronx), S(Staten Island), K(Brooklyn), M(Manhattan), Q(Queens)|Plain Text|\n",
        "|ARREST_PRECINCT|Precinct where the arrest occurred|Number|\n",
        "|JURISDICTION_CODE|Jurisdiction responsible for arrest.0(Patrol), 1(Transit) and 2(Housing) represent NYPD. Codes 3 and more represent non NYPD jurisdictions|Number|\n",
        "|AGE_GROUP\t|Perpetrator’s age within a category|Plain Text|\n",
        "|PERP_SEX|Perpetrator’s sex description|Plain Text|\n",
        "|PERP_RACE\t|Perpetrator’s race description|Plain Text|\n",
        "|X_COORD_CD|Midblock X-coordinate for New York State Plane Coordinate System, Long Island Zone, NAD 83, units feet (FIPS 3104)|Number|\n",
        "|Y_COORD_CD\t|Midblock Y-coordinate for New York State Plane Coordinate System, Long Island Zone, NAD 83, units feet (FIPS 3104)|Number|\n",
        "|Latitude|Latitude coordinate for Global Coordinate System, WGS 1984, decimal degrees (EPSG 4326)|Number|\n",
        "|Longitude\t|Longitude coordinate for Global Coordinate System, WGS 1984, decimal degrees (EPSG 4326)|Number|New Georeferenced Column Point|\n"
      ],
      "metadata": {
        "id": "8zxX-FkcsqTK"
      }
    },
    {
      "cell_type": "code",
      "source": [
        "# coding: utf-8"
      ],
      "metadata": {
        "id": "7taBqXj6xn7q"
      },
      "execution_count": null,
      "outputs": []
    },
    {
      "cell_type": "code",
      "source": [
        "import os\n",
        "import pandas as pd\n",
        "import matplotlib.pyplot as plt"
      ],
      "metadata": {
        "id": "fOoWCp4PxaiS"
      },
      "execution_count": null,
      "outputs": []
    },
    {
      "cell_type": "code",
      "source": [
        "#https://data.cityofnewyork.us/api/odata/v4/h9gi-nx95"
      ],
      "metadata": {
        "id": "IKq-QhyZyiS2"
      },
      "execution_count": null,
      "outputs": []
    },
    {
      "cell_type": "code",
      "source": [
        "# # Function to load the complete dataset and perform the data manipulations in-house\n",
        "# def load_data_complete():\n",
        "#     cur_dir = os.path.dirname()"
      ],
      "metadata": {
        "id": "Scf2cfDNxmNO"
      },
      "execution_count": null,
      "outputs": []
    },
    {
      "cell_type": "code",
      "source": [
        "# Read the csv\n",
        "nypd_a_y2d = pd.read_csv('/content/drive/MyDrive/PredictiveAnalytics/101/data/NYPD_Arrest_Data__Year_to_Date_.csv')\n"
      ],
      "metadata": {
        "id": "iwpuucdHxqUa"
      },
      "execution_count": null,
      "outputs": []
    },
    {
      "cell_type": "code",
      "source": [
        "nypd_a_y2d.shape"
      ],
      "metadata": {
        "colab": {
          "base_uri": "https://localhost:8080/"
        },
        "id": "jzTQoOqs1jnJ",
        "outputId": "c248b1c6-e040-437d-c509-ba075a21f225"
      },
      "execution_count": null,
      "outputs": [
        {
          "output_type": "execute_result",
          "data": {
            "text/plain": [
              "(140564, 19)"
            ]
          },
          "metadata": {},
          "execution_count": 28
        }
      ]
    },
    {
      "cell_type": "code",
      "source": [
        "nypd_a_y2d.info()"
      ],
      "metadata": {
        "colab": {
          "base_uri": "https://localhost:8080/"
        },
        "id": "gdpC5bDS1p4B",
        "outputId": "9a353eda-d836-4f09-9dbb-2cb5feb6bcfc"
      },
      "execution_count": null,
      "outputs": [
        {
          "output_type": "stream",
          "name": "stdout",
          "text": [
            "<class 'pandas.core.frame.DataFrame'>\n",
            "RangeIndex: 140564 entries, 0 to 140563\n",
            "Data columns (total 19 columns):\n",
            " #   Column                    Non-Null Count   Dtype  \n",
            "---  ------                    --------------   -----  \n",
            " 0   ARREST_KEY                140564 non-null  int64  \n",
            " 1   ARREST_DATE               140564 non-null  object \n",
            " 2   PD_CD                     140188 non-null  float64\n",
            " 3   PD_DESC                   140564 non-null  object \n",
            " 4   KY_CD                     140185 non-null  float64\n",
            " 5   OFNS_DESC                 140564 non-null  object \n",
            " 6   LAW_CODE                  140564 non-null  object \n",
            " 7   LAW_CAT_CD                139202 non-null  object \n",
            " 8   ARREST_BORO               140564 non-null  object \n",
            " 9   ARREST_PRECINCT           140564 non-null  int64  \n",
            " 10  JURISDICTION_CODE         140564 non-null  int64  \n",
            " 11  AGE_GROUP                 140564 non-null  object \n",
            " 12  PERP_SEX                  140564 non-null  object \n",
            " 13  PERP_RACE                 140564 non-null  object \n",
            " 14  X_COORD_CD                140564 non-null  int64  \n",
            " 15  Y_COORD_CD                140564 non-null  int64  \n",
            " 16  Latitude                  140564 non-null  float64\n",
            " 17  Longitude                 140564 non-null  float64\n",
            " 18  New Georeferenced Column  140564 non-null  object \n",
            "dtypes: float64(4), int64(5), object(10)\n",
            "memory usage: 20.4+ MB\n"
          ]
        }
      ]
    },
    {
      "cell_type": "code",
      "source": [
        "nypd_a_y2d.head()"
      ],
      "metadata": {
        "colab": {
          "base_uri": "https://localhost:8080/",
          "height": 461
        },
        "id": "faMjApUh16Hl",
        "outputId": "c1c0c77c-07ef-4d00-b693-1bcc1044fad1"
      },
      "execution_count": null,
      "outputs": [
        {
          "output_type": "execute_result",
          "data": {
            "text/plain": [
              "   ARREST_KEY ARREST_DATE  PD_CD PD_DESC  KY_CD OFNS_DESC    LAW_CODE  \\\n",
              "0   238859078  01/09/2022    NaN  (null)    NaN    (null)  PL 2650022   \n",
              "1   239923883  01/31/2022    NaN  (null)    NaN    (null)  CPL5700600   \n",
              "2   239651234  01/25/2022  153.0  RAPE 3  104.0      RAPE  PL 1302503   \n",
              "3   241524225  03/03/2022  157.0  RAPE 1  104.0      RAPE  PL 1303501   \n",
              "4   241038267  02/22/2022  157.0  RAPE 1  104.0      RAPE  PL 1303501   \n",
              "\n",
              "  LAW_CAT_CD ARREST_BORO  ARREST_PRECINCT  JURISDICTION_CODE AGE_GROUP  \\\n",
              "0          M           B               49                  0     25-44   \n",
              "1          9           Q              113                  3     25-44   \n",
              "2          F           K               71                  0     25-44   \n",
              "3          F           K               84                  0     18-24   \n",
              "4          F           B               41                  0     45-64   \n",
              "\n",
              "  PERP_SEX       PERP_RACE  X_COORD_CD  Y_COORD_CD   Latitude  Longitude  \\\n",
              "0        M  BLACK HISPANIC     1021536      251417  40.856680 -73.865212   \n",
              "1        M           BLACK     1046367      186986  40.679701 -73.776047   \n",
              "2        M           BLACK      998742      181235  40.664121 -73.947765   \n",
              "3        M           BLACK      988902      192641  40.695439 -73.983225   \n",
              "4        M           BLACK     1013037      236657  40.816206 -73.896001   \n",
              "\n",
              "                     New Georeferenced Column  \n",
              "0                 POINT (-73.865212 40.85668)  \n",
              "1            POINT (-73.77604735 40.67970059)  \n",
              "2   POINT (-73.9477648403751 40.664121282631)  \n",
              "3  POINT (-73.9832253756043 40.6954388081238)  \n",
              "4  POINT (-73.8960011932583 40.8162058439227)  "
            ],
            "text/html": [
              "\n",
              "  <div id=\"df-1efd6b56-0072-4b0d-b0ba-1db531dc676e\">\n",
              "    <div class=\"colab-df-container\">\n",
              "      <div>\n",
              "<style scoped>\n",
              "    .dataframe tbody tr th:only-of-type {\n",
              "        vertical-align: middle;\n",
              "    }\n",
              "\n",
              "    .dataframe tbody tr th {\n",
              "        vertical-align: top;\n",
              "    }\n",
              "\n",
              "    .dataframe thead th {\n",
              "        text-align: right;\n",
              "    }\n",
              "</style>\n",
              "<table border=\"1\" class=\"dataframe\">\n",
              "  <thead>\n",
              "    <tr style=\"text-align: right;\">\n",
              "      <th></th>\n",
              "      <th>ARREST_KEY</th>\n",
              "      <th>ARREST_DATE</th>\n",
              "      <th>PD_CD</th>\n",
              "      <th>PD_DESC</th>\n",
              "      <th>KY_CD</th>\n",
              "      <th>OFNS_DESC</th>\n",
              "      <th>LAW_CODE</th>\n",
              "      <th>LAW_CAT_CD</th>\n",
              "      <th>ARREST_BORO</th>\n",
              "      <th>ARREST_PRECINCT</th>\n",
              "      <th>JURISDICTION_CODE</th>\n",
              "      <th>AGE_GROUP</th>\n",
              "      <th>PERP_SEX</th>\n",
              "      <th>PERP_RACE</th>\n",
              "      <th>X_COORD_CD</th>\n",
              "      <th>Y_COORD_CD</th>\n",
              "      <th>Latitude</th>\n",
              "      <th>Longitude</th>\n",
              "      <th>New Georeferenced Column</th>\n",
              "    </tr>\n",
              "  </thead>\n",
              "  <tbody>\n",
              "    <tr>\n",
              "      <th>0</th>\n",
              "      <td>238859078</td>\n",
              "      <td>01/09/2022</td>\n",
              "      <td>NaN</td>\n",
              "      <td>(null)</td>\n",
              "      <td>NaN</td>\n",
              "      <td>(null)</td>\n",
              "      <td>PL 2650022</td>\n",
              "      <td>M</td>\n",
              "      <td>B</td>\n",
              "      <td>49</td>\n",
              "      <td>0</td>\n",
              "      <td>25-44</td>\n",
              "      <td>M</td>\n",
              "      <td>BLACK HISPANIC</td>\n",
              "      <td>1021536</td>\n",
              "      <td>251417</td>\n",
              "      <td>40.856680</td>\n",
              "      <td>-73.865212</td>\n",
              "      <td>POINT (-73.865212 40.85668)</td>\n",
              "    </tr>\n",
              "    <tr>\n",
              "      <th>1</th>\n",
              "      <td>239923883</td>\n",
              "      <td>01/31/2022</td>\n",
              "      <td>NaN</td>\n",
              "      <td>(null)</td>\n",
              "      <td>NaN</td>\n",
              "      <td>(null)</td>\n",
              "      <td>CPL5700600</td>\n",
              "      <td>9</td>\n",
              "      <td>Q</td>\n",
              "      <td>113</td>\n",
              "      <td>3</td>\n",
              "      <td>25-44</td>\n",
              "      <td>M</td>\n",
              "      <td>BLACK</td>\n",
              "      <td>1046367</td>\n",
              "      <td>186986</td>\n",
              "      <td>40.679701</td>\n",
              "      <td>-73.776047</td>\n",
              "      <td>POINT (-73.77604735 40.67970059)</td>\n",
              "    </tr>\n",
              "    <tr>\n",
              "      <th>2</th>\n",
              "      <td>239651234</td>\n",
              "      <td>01/25/2022</td>\n",
              "      <td>153.0</td>\n",
              "      <td>RAPE 3</td>\n",
              "      <td>104.0</td>\n",
              "      <td>RAPE</td>\n",
              "      <td>PL 1302503</td>\n",
              "      <td>F</td>\n",
              "      <td>K</td>\n",
              "      <td>71</td>\n",
              "      <td>0</td>\n",
              "      <td>25-44</td>\n",
              "      <td>M</td>\n",
              "      <td>BLACK</td>\n",
              "      <td>998742</td>\n",
              "      <td>181235</td>\n",
              "      <td>40.664121</td>\n",
              "      <td>-73.947765</td>\n",
              "      <td>POINT (-73.9477648403751 40.664121282631)</td>\n",
              "    </tr>\n",
              "    <tr>\n",
              "      <th>3</th>\n",
              "      <td>241524225</td>\n",
              "      <td>03/03/2022</td>\n",
              "      <td>157.0</td>\n",
              "      <td>RAPE 1</td>\n",
              "      <td>104.0</td>\n",
              "      <td>RAPE</td>\n",
              "      <td>PL 1303501</td>\n",
              "      <td>F</td>\n",
              "      <td>K</td>\n",
              "      <td>84</td>\n",
              "      <td>0</td>\n",
              "      <td>18-24</td>\n",
              "      <td>M</td>\n",
              "      <td>BLACK</td>\n",
              "      <td>988902</td>\n",
              "      <td>192641</td>\n",
              "      <td>40.695439</td>\n",
              "      <td>-73.983225</td>\n",
              "      <td>POINT (-73.9832253756043 40.6954388081238)</td>\n",
              "    </tr>\n",
              "    <tr>\n",
              "      <th>4</th>\n",
              "      <td>241038267</td>\n",
              "      <td>02/22/2022</td>\n",
              "      <td>157.0</td>\n",
              "      <td>RAPE 1</td>\n",
              "      <td>104.0</td>\n",
              "      <td>RAPE</td>\n",
              "      <td>PL 1303501</td>\n",
              "      <td>F</td>\n",
              "      <td>B</td>\n",
              "      <td>41</td>\n",
              "      <td>0</td>\n",
              "      <td>45-64</td>\n",
              "      <td>M</td>\n",
              "      <td>BLACK</td>\n",
              "      <td>1013037</td>\n",
              "      <td>236657</td>\n",
              "      <td>40.816206</td>\n",
              "      <td>-73.896001</td>\n",
              "      <td>POINT (-73.8960011932583 40.8162058439227)</td>\n",
              "    </tr>\n",
              "  </tbody>\n",
              "</table>\n",
              "</div>\n",
              "      <button class=\"colab-df-convert\" onclick=\"convertToInteractive('df-1efd6b56-0072-4b0d-b0ba-1db531dc676e')\"\n",
              "              title=\"Convert this dataframe to an interactive table.\"\n",
              "              style=\"display:none;\">\n",
              "        \n",
              "  <svg xmlns=\"http://www.w3.org/2000/svg\" height=\"24px\"viewBox=\"0 0 24 24\"\n",
              "       width=\"24px\">\n",
              "    <path d=\"M0 0h24v24H0V0z\" fill=\"none\"/>\n",
              "    <path d=\"M18.56 5.44l.94 2.06.94-2.06 2.06-.94-2.06-.94-.94-2.06-.94 2.06-2.06.94zm-11 1L8.5 8.5l.94-2.06 2.06-.94-2.06-.94L8.5 2.5l-.94 2.06-2.06.94zm10 10l.94 2.06.94-2.06 2.06-.94-2.06-.94-.94-2.06-.94 2.06-2.06.94z\"/><path d=\"M17.41 7.96l-1.37-1.37c-.4-.4-.92-.59-1.43-.59-.52 0-1.04.2-1.43.59L10.3 9.45l-7.72 7.72c-.78.78-.78 2.05 0 2.83L4 21.41c.39.39.9.59 1.41.59.51 0 1.02-.2 1.41-.59l7.78-7.78 2.81-2.81c.8-.78.8-2.07 0-2.86zM5.41 20L4 18.59l7.72-7.72 1.47 1.35L5.41 20z\"/>\n",
              "  </svg>\n",
              "      </button>\n",
              "      \n",
              "  <style>\n",
              "    .colab-df-container {\n",
              "      display:flex;\n",
              "      flex-wrap:wrap;\n",
              "      gap: 12px;\n",
              "    }\n",
              "\n",
              "    .colab-df-convert {\n",
              "      background-color: #E8F0FE;\n",
              "      border: none;\n",
              "      border-radius: 50%;\n",
              "      cursor: pointer;\n",
              "      display: none;\n",
              "      fill: #1967D2;\n",
              "      height: 32px;\n",
              "      padding: 0 0 0 0;\n",
              "      width: 32px;\n",
              "    }\n",
              "\n",
              "    .colab-df-convert:hover {\n",
              "      background-color: #E2EBFA;\n",
              "      box-shadow: 0px 1px 2px rgba(60, 64, 67, 0.3), 0px 1px 3px 1px rgba(60, 64, 67, 0.15);\n",
              "      fill: #174EA6;\n",
              "    }\n",
              "\n",
              "    [theme=dark] .colab-df-convert {\n",
              "      background-color: #3B4455;\n",
              "      fill: #D2E3FC;\n",
              "    }\n",
              "\n",
              "    [theme=dark] .colab-df-convert:hover {\n",
              "      background-color: #434B5C;\n",
              "      box-shadow: 0px 1px 3px 1px rgba(0, 0, 0, 0.15);\n",
              "      filter: drop-shadow(0px 1px 2px rgba(0, 0, 0, 0.3));\n",
              "      fill: #FFFFFF;\n",
              "    }\n",
              "  </style>\n",
              "\n",
              "      <script>\n",
              "        const buttonEl =\n",
              "          document.querySelector('#df-1efd6b56-0072-4b0d-b0ba-1db531dc676e button.colab-df-convert');\n",
              "        buttonEl.style.display =\n",
              "          google.colab.kernel.accessAllowed ? 'block' : 'none';\n",
              "\n",
              "        async function convertToInteractive(key) {\n",
              "          const element = document.querySelector('#df-1efd6b56-0072-4b0d-b0ba-1db531dc676e');\n",
              "          const dataTable =\n",
              "            await google.colab.kernel.invokeFunction('convertToInteractive',\n",
              "                                                     [key], {});\n",
              "          if (!dataTable) return;\n",
              "\n",
              "          const docLinkHtml = 'Like what you see? Visit the ' +\n",
              "            '<a target=\"_blank\" href=https://colab.research.google.com/notebooks/data_table.ipynb>data table notebook</a>'\n",
              "            + ' to learn more about interactive tables.';\n",
              "          element.innerHTML = '';\n",
              "          dataTable['output_type'] = 'display_data';\n",
              "          await google.colab.output.renderOutput(dataTable, element);\n",
              "          const docLink = document.createElement('div');\n",
              "          docLink.innerHTML = docLinkHtml;\n",
              "          element.appendChild(docLink);\n",
              "        }\n",
              "      </script>\n",
              "    </div>\n",
              "  </div>\n",
              "  "
            ]
          },
          "metadata": {},
          "execution_count": 14
        }
      ]
    },
    {
      "cell_type": "code",
      "source": [
        "nypd_a_y2d.isnull().sum()"
      ],
      "metadata": {
        "colab": {
          "base_uri": "https://localhost:8080/"
        },
        "id": "qEhkQCcUpw-n",
        "outputId": "996b7b9e-ac09-49f5-a18a-190ded7c8b0d"
      },
      "execution_count": null,
      "outputs": [
        {
          "output_type": "execute_result",
          "data": {
            "text/plain": [
              "ARREST_KEY                     0\n",
              "ARREST_DATE                    0\n",
              "PD_CD                        376\n",
              "PD_DESC                        0\n",
              "KY_CD                        379\n",
              "OFNS_DESC                      0\n",
              "LAW_CODE                       0\n",
              "LAW_CAT_CD                  1362\n",
              "ARREST_BORO                    0\n",
              "ARREST_PRECINCT                0\n",
              "JURISDICTION_CODE              0\n",
              "AGE_GROUP                      0\n",
              "PERP_SEX                       0\n",
              "PERP_RACE                      0\n",
              "X_COORD_CD                     0\n",
              "Y_COORD_CD                     0\n",
              "Latitude                       0\n",
              "Longitude                      0\n",
              "New Georeferenced Column       0\n",
              "dtype: int64"
            ]
          },
          "metadata": {},
          "execution_count": 15
        }
      ]
    },
    {
      "cell_type": "code",
      "source": [
        "nypd_a_y2d.columns"
      ],
      "metadata": {
        "colab": {
          "base_uri": "https://localhost:8080/"
        },
        "id": "092qSL1Dr4WI",
        "outputId": "9169ae98-4ffd-4c83-8c82-3248918dfcaf"
      },
      "execution_count": null,
      "outputs": [
        {
          "output_type": "execute_result",
          "data": {
            "text/plain": [
              "Index(['ARREST_KEY', 'ARREST_DATE', 'PD_CD', 'PD_DESC', 'KY_CD', 'OFNS_DESC',\n",
              "       'LAW_CODE', 'LAW_CAT_CD', 'ARREST_BORO', 'ARREST_PRECINCT',\n",
              "       'JURISDICTION_CODE', 'AGE_GROUP', 'PERP_SEX', 'PERP_RACE', 'X_COORD_CD',\n",
              "       'Y_COORD_CD', 'Latitude', 'Longitude', 'New Georeferenced Column'],\n",
              "      dtype='object')"
            ]
          },
          "metadata": {},
          "execution_count": 16
        }
      ]
    },
    {
      "cell_type": "code",
      "source": [
        "borough= {'B':'Bronx','K': 'Brooklyn', 'M': 'Manhattan','Q':\"Queens\", 'S':'Staten Island'}\n",
        "gender = {'M': 'Male', 'F':'Female'}\n"
      ],
      "metadata": {
        "id": "USCiyMsv0his"
      },
      "execution_count": null,
      "outputs": []
    },
    {
      "cell_type": "code",
      "source": [
        "#Look at the unique values for each column with less than 20 unique values\n",
        "for column in data.columns:\n",
        "    if len(data[column].unique()) <20:\n",
        "        print(column,':',data[column].unique())"
      ],
      "metadata": {
        "id": "Z3vuOilmSW4N"
      },
      "execution_count": null,
      "outputs": []
    },
    {
      "cell_type": "markdown",
      "source": [],
      "metadata": {
        "id": "pQOtJ0FFSSjs"
      }
    },
    {
      "cell_type": "code",
      "source": [
        "# Converting the date column to its specified data type\n",
        "nypd_a_y2d['ARREST_DATE'] = pd.to_datetime(nypd_a_y2d.ARREST_DATE)"
      ],
      "metadata": {
        "id": "oLewsjQpxsHk"
      },
      "execution_count": null,
      "outputs": []
    },
    {
      "cell_type": "code",
      "source": [
        "# Creating three new columns for easy querying\n",
        "nypd_a_y2d['YEAR'] = nypd_a_y2d.ARREST_DATE.dt.year\n",
        "nypd_a_y2d['MONTH'] = nypd_a_y2d.ARREST_DATE.dt.month\n",
        "nypd_a_y2d['DAY'] = nypd_a_y2d.ARREST_DATE.dt.day"
      ],
      "metadata": {
        "id": "jRJzHRWpxyYD"
      },
      "execution_count": null,
      "outputs": []
    },
    {
      "cell_type": "code",
      "source": [
        "# Considering columns beneficial for visualizing \n",
        "nypd_a_y2d = nypd_a_y2d[['ARREST_DATE','AGE_GROUP', 'PERP_SEX', 'PERP_RACE', 'PD_DESC', 'OFNS_DESC', 'X_COORD_CD','Y_COORD_CD', 'Latitude', 'Longitude']]"
      ],
      "metadata": {
        "id": "ZHEwhrQ1xzZw"
      },
      "execution_count": null,
      "outputs": []
    },
    {
      "cell_type": "code",
      "source": [
        "nypd_a_y2d.tail(45)"
      ],
      "metadata": {
        "colab": {
          "base_uri": "https://localhost:8080/",
          "height": 644
        },
        "id": "rmzRLjghsFq_",
        "outputId": "58c1296f-f3d1-49bd-ca11-6c5e0e7fd2c9"
      },
      "execution_count": null,
      "outputs": [
        {
          "output_type": "execute_result",
          "data": {
            "text/plain": [
              "       ARREST_DATE AGE_GROUP PERP_SEX       PERP_RACE  \\\n",
              "0       01/09/2022     25-44        M  BLACK HISPANIC   \n",
              "2       01/25/2022     25-44        M           BLACK   \n",
              "3       03/03/2022     18-24        M           BLACK   \n",
              "4       02/22/2022     45-64        M           BLACK   \n",
              "5       02/17/2022       <18        M           BLACK   \n",
              "...            ...       ...      ...             ...   \n",
              "140559  09/21/2022     25-44        M  WHITE HISPANIC   \n",
              "140560  08/15/2022     25-44        M           BLACK   \n",
              "140561  07/06/2022     45-64        M           BLACK   \n",
              "140562  09/13/2022     25-44        F           BLACK   \n",
              "140563  07/16/2022     45-64        M  WHITE HISPANIC   \n",
              "\n",
              "                               PD_DESC                     OFNS_DESC  \\\n",
              "0                               (null)                        (null)   \n",
              "2                               RAPE 3                          RAPE   \n",
              "3                               RAPE 1                          RAPE   \n",
              "4                               RAPE 1                          RAPE   \n",
              "5                     SEXUAL ABUSE 3,2                    SEX CRIMES   \n",
              "...                                ...                           ...   \n",
              "140559             OBSTR BREATH/CIRCUL  ASSAULT 3 & RELATED OFFENSES   \n",
              "140560               STRANGULATION 1ST                FELONY ASSAULT   \n",
              "140561  LARCENY,PETIT FROM OPEN AREAS,                 PETIT LARCENY   \n",
              "140562  DRUG PARAPHERNALIA,   POSSESSE               DANGEROUS DRUGS   \n",
              "140563  NY STATE LAWS,UNCLASSIFIED FEL  NYS LAWS-UNCLASSIFIED FELONY   \n",
              "\n",
              "        X_COORD_CD  Y_COORD_CD   Latitude  Longitude  \n",
              "0          1021536      251417  40.856680 -73.865212  \n",
              "2           998742      181235  40.664121 -73.947765  \n",
              "3           988902      192641  40.695439 -73.983225  \n",
              "4          1013037      236657  40.816206 -73.896001  \n",
              "5           998742      181235  40.664121 -73.947765  \n",
              "...            ...         ...        ...        ...  \n",
              "140559     1013096      236605  40.816057 -73.895785  \n",
              "140560      991549      169019  40.630600 -73.973705  \n",
              "140561      990420      188642  40.684454 -73.977750  \n",
              "140562     1019464      241704  40.830027 -73.872754  \n",
              "140563     1001611      241370  40.829163 -73.937267  \n",
              "\n",
              "[47008 rows x 10 columns]"
            ],
            "text/html": [
              "\n",
              "  <div id=\"df-9221268c-f22c-48fd-82c6-cf85194f12cd\">\n",
              "    <div class=\"colab-df-container\">\n",
              "      <div>\n",
              "<style scoped>\n",
              "    .dataframe tbody tr th:only-of-type {\n",
              "        vertical-align: middle;\n",
              "    }\n",
              "\n",
              "    .dataframe tbody tr th {\n",
              "        vertical-align: top;\n",
              "    }\n",
              "\n",
              "    .dataframe thead th {\n",
              "        text-align: right;\n",
              "    }\n",
              "</style>\n",
              "<table border=\"1\" class=\"dataframe\">\n",
              "  <thead>\n",
              "    <tr style=\"text-align: right;\">\n",
              "      <th></th>\n",
              "      <th>ARREST_DATE</th>\n",
              "      <th>AGE_GROUP</th>\n",
              "      <th>PERP_SEX</th>\n",
              "      <th>PERP_RACE</th>\n",
              "      <th>PD_DESC</th>\n",
              "      <th>OFNS_DESC</th>\n",
              "      <th>X_COORD_CD</th>\n",
              "      <th>Y_COORD_CD</th>\n",
              "      <th>Latitude</th>\n",
              "      <th>Longitude</th>\n",
              "    </tr>\n",
              "  </thead>\n",
              "  <tbody>\n",
              "    <tr>\n",
              "      <th>0</th>\n",
              "      <td>01/09/2022</td>\n",
              "      <td>25-44</td>\n",
              "      <td>M</td>\n",
              "      <td>BLACK HISPANIC</td>\n",
              "      <td>(null)</td>\n",
              "      <td>(null)</td>\n",
              "      <td>1021536</td>\n",
              "      <td>251417</td>\n",
              "      <td>40.856680</td>\n",
              "      <td>-73.865212</td>\n",
              "    </tr>\n",
              "    <tr>\n",
              "      <th>2</th>\n",
              "      <td>01/25/2022</td>\n",
              "      <td>25-44</td>\n",
              "      <td>M</td>\n",
              "      <td>BLACK</td>\n",
              "      <td>RAPE 3</td>\n",
              "      <td>RAPE</td>\n",
              "      <td>998742</td>\n",
              "      <td>181235</td>\n",
              "      <td>40.664121</td>\n",
              "      <td>-73.947765</td>\n",
              "    </tr>\n",
              "    <tr>\n",
              "      <th>3</th>\n",
              "      <td>03/03/2022</td>\n",
              "      <td>18-24</td>\n",
              "      <td>M</td>\n",
              "      <td>BLACK</td>\n",
              "      <td>RAPE 1</td>\n",
              "      <td>RAPE</td>\n",
              "      <td>988902</td>\n",
              "      <td>192641</td>\n",
              "      <td>40.695439</td>\n",
              "      <td>-73.983225</td>\n",
              "    </tr>\n",
              "    <tr>\n",
              "      <th>4</th>\n",
              "      <td>02/22/2022</td>\n",
              "      <td>45-64</td>\n",
              "      <td>M</td>\n",
              "      <td>BLACK</td>\n",
              "      <td>RAPE 1</td>\n",
              "      <td>RAPE</td>\n",
              "      <td>1013037</td>\n",
              "      <td>236657</td>\n",
              "      <td>40.816206</td>\n",
              "      <td>-73.896001</td>\n",
              "    </tr>\n",
              "    <tr>\n",
              "      <th>5</th>\n",
              "      <td>02/17/2022</td>\n",
              "      <td>&lt;18</td>\n",
              "      <td>M</td>\n",
              "      <td>BLACK</td>\n",
              "      <td>SEXUAL ABUSE 3,2</td>\n",
              "      <td>SEX CRIMES</td>\n",
              "      <td>998742</td>\n",
              "      <td>181235</td>\n",
              "      <td>40.664121</td>\n",
              "      <td>-73.947765</td>\n",
              "    </tr>\n",
              "    <tr>\n",
              "      <th>...</th>\n",
              "      <td>...</td>\n",
              "      <td>...</td>\n",
              "      <td>...</td>\n",
              "      <td>...</td>\n",
              "      <td>...</td>\n",
              "      <td>...</td>\n",
              "      <td>...</td>\n",
              "      <td>...</td>\n",
              "      <td>...</td>\n",
              "      <td>...</td>\n",
              "    </tr>\n",
              "    <tr>\n",
              "      <th>140559</th>\n",
              "      <td>09/21/2022</td>\n",
              "      <td>25-44</td>\n",
              "      <td>M</td>\n",
              "      <td>WHITE HISPANIC</td>\n",
              "      <td>OBSTR BREATH/CIRCUL</td>\n",
              "      <td>ASSAULT 3 &amp; RELATED OFFENSES</td>\n",
              "      <td>1013096</td>\n",
              "      <td>236605</td>\n",
              "      <td>40.816057</td>\n",
              "      <td>-73.895785</td>\n",
              "    </tr>\n",
              "    <tr>\n",
              "      <th>140560</th>\n",
              "      <td>08/15/2022</td>\n",
              "      <td>25-44</td>\n",
              "      <td>M</td>\n",
              "      <td>BLACK</td>\n",
              "      <td>STRANGULATION 1ST</td>\n",
              "      <td>FELONY ASSAULT</td>\n",
              "      <td>991549</td>\n",
              "      <td>169019</td>\n",
              "      <td>40.630600</td>\n",
              "      <td>-73.973705</td>\n",
              "    </tr>\n",
              "    <tr>\n",
              "      <th>140561</th>\n",
              "      <td>07/06/2022</td>\n",
              "      <td>45-64</td>\n",
              "      <td>M</td>\n",
              "      <td>BLACK</td>\n",
              "      <td>LARCENY,PETIT FROM OPEN AREAS,</td>\n",
              "      <td>PETIT LARCENY</td>\n",
              "      <td>990420</td>\n",
              "      <td>188642</td>\n",
              "      <td>40.684454</td>\n",
              "      <td>-73.977750</td>\n",
              "    </tr>\n",
              "    <tr>\n",
              "      <th>140562</th>\n",
              "      <td>09/13/2022</td>\n",
              "      <td>25-44</td>\n",
              "      <td>F</td>\n",
              "      <td>BLACK</td>\n",
              "      <td>DRUG PARAPHERNALIA,   POSSESSE</td>\n",
              "      <td>DANGEROUS DRUGS</td>\n",
              "      <td>1019464</td>\n",
              "      <td>241704</td>\n",
              "      <td>40.830027</td>\n",
              "      <td>-73.872754</td>\n",
              "    </tr>\n",
              "    <tr>\n",
              "      <th>140563</th>\n",
              "      <td>07/16/2022</td>\n",
              "      <td>45-64</td>\n",
              "      <td>M</td>\n",
              "      <td>WHITE HISPANIC</td>\n",
              "      <td>NY STATE LAWS,UNCLASSIFIED FEL</td>\n",
              "      <td>NYS LAWS-UNCLASSIFIED FELONY</td>\n",
              "      <td>1001611</td>\n",
              "      <td>241370</td>\n",
              "      <td>40.829163</td>\n",
              "      <td>-73.937267</td>\n",
              "    </tr>\n",
              "  </tbody>\n",
              "</table>\n",
              "<p>47008 rows × 10 columns</p>\n",
              "</div>\n",
              "      <button class=\"colab-df-convert\" onclick=\"convertToInteractive('df-9221268c-f22c-48fd-82c6-cf85194f12cd')\"\n",
              "              title=\"Convert this dataframe to an interactive table.\"\n",
              "              style=\"display:none;\">\n",
              "        \n",
              "  <svg xmlns=\"http://www.w3.org/2000/svg\" height=\"24px\"viewBox=\"0 0 24 24\"\n",
              "       width=\"24px\">\n",
              "    <path d=\"M0 0h24v24H0V0z\" fill=\"none\"/>\n",
              "    <path d=\"M18.56 5.44l.94 2.06.94-2.06 2.06-.94-2.06-.94-.94-2.06-.94 2.06-2.06.94zm-11 1L8.5 8.5l.94-2.06 2.06-.94-2.06-.94L8.5 2.5l-.94 2.06-2.06.94zm10 10l.94 2.06.94-2.06 2.06-.94-2.06-.94-.94-2.06-.94 2.06-2.06.94z\"/><path d=\"M17.41 7.96l-1.37-1.37c-.4-.4-.92-.59-1.43-.59-.52 0-1.04.2-1.43.59L10.3 9.45l-7.72 7.72c-.78.78-.78 2.05 0 2.83L4 21.41c.39.39.9.59 1.41.59.51 0 1.02-.2 1.41-.59l7.78-7.78 2.81-2.81c.8-.78.8-2.07 0-2.86zM5.41 20L4 18.59l7.72-7.72 1.47 1.35L5.41 20z\"/>\n",
              "  </svg>\n",
              "      </button>\n",
              "      \n",
              "  <style>\n",
              "    .colab-df-container {\n",
              "      display:flex;\n",
              "      flex-wrap:wrap;\n",
              "      gap: 12px;\n",
              "    }\n",
              "\n",
              "    .colab-df-convert {\n",
              "      background-color: #E8F0FE;\n",
              "      border: none;\n",
              "      border-radius: 50%;\n",
              "      cursor: pointer;\n",
              "      display: none;\n",
              "      fill: #1967D2;\n",
              "      height: 32px;\n",
              "      padding: 0 0 0 0;\n",
              "      width: 32px;\n",
              "    }\n",
              "\n",
              "    .colab-df-convert:hover {\n",
              "      background-color: #E2EBFA;\n",
              "      box-shadow: 0px 1px 2px rgba(60, 64, 67, 0.3), 0px 1px 3px 1px rgba(60, 64, 67, 0.15);\n",
              "      fill: #174EA6;\n",
              "    }\n",
              "\n",
              "    [theme=dark] .colab-df-convert {\n",
              "      background-color: #3B4455;\n",
              "      fill: #D2E3FC;\n",
              "    }\n",
              "\n",
              "    [theme=dark] .colab-df-convert:hover {\n",
              "      background-color: #434B5C;\n",
              "      box-shadow: 0px 1px 3px 1px rgba(0, 0, 0, 0.15);\n",
              "      filter: drop-shadow(0px 1px 2px rgba(0, 0, 0, 0.3));\n",
              "      fill: #FFFFFF;\n",
              "    }\n",
              "  </style>\n",
              "\n",
              "      <script>\n",
              "        const buttonEl =\n",
              "          document.querySelector('#df-9221268c-f22c-48fd-82c6-cf85194f12cd button.colab-df-convert');\n",
              "        buttonEl.style.display =\n",
              "          google.colab.kernel.accessAllowed ? 'block' : 'none';\n",
              "\n",
              "        async function convertToInteractive(key) {\n",
              "          const element = document.querySelector('#df-9221268c-f22c-48fd-82c6-cf85194f12cd');\n",
              "          const dataTable =\n",
              "            await google.colab.kernel.invokeFunction('convertToInteractive',\n",
              "                                                     [key], {});\n",
              "          if (!dataTable) return;\n",
              "\n",
              "          const docLinkHtml = 'Like what you see? Visit the ' +\n",
              "            '<a target=\"_blank\" href=https://colab.research.google.com/notebooks/data_table.ipynb>data table notebook</a>'\n",
              "            + ' to learn more about interactive tables.';\n",
              "          element.innerHTML = '';\n",
              "          dataTable['output_type'] = 'display_data';\n",
              "          await google.colab.output.renderOutput(dataTable, element);\n",
              "          const docLink = document.createElement('div');\n",
              "          docLink.innerHTML = docLinkHtml;\n",
              "          element.appendChild(docLink);\n",
              "        }\n",
              "      </script>\n",
              "    </div>\n",
              "  </div>\n",
              "  "
            ]
          },
          "metadata": {},
          "execution_count": 32
        }
      ]
    },
    {
      "cell_type": "code",
      "source": [
        "list(nypd_a_y2d.OFNS_DESC.value_counts(ascending=False))"
      ],
      "metadata": {
        "id": "hI_Hxj1I3jtW"
      },
      "execution_count": null,
      "outputs": []
    },
    {
      "cell_type": "code",
      "source": [
        "nypd_a_y2d.PD_DESC.count()"
      ],
      "metadata": {
        "colab": {
          "base_uri": "https://localhost:8080/"
        },
        "id": "DZpvIzgEu6TC",
        "outputId": "b23acf73-165f-44e1-a719-f669fb4d4554"
      },
      "execution_count": null,
      "outputs": [
        {
          "output_type": "execute_result",
          "data": {
            "text/plain": [
              "AGE_GROUP  PERP_SEX  PERP_RACE                       PD_DESC                    \n",
              "18-24      F         AMERICAN INDIAN/ALASKAN NATIVE  ASSAULT 2,1,UNCLASSIFIED        2\n",
              "                                                     ASSAULT 3                       2\n",
              "                                                     CONTEMPT,CRIMINAL               1\n",
              "                                                     INTOXICATED DRIVING,ALCOHOL     1\n",
              "                                                     STRANGULATION 1ST               1\n",
              "                                                                                    ..\n",
              "<18        M         WHITE HISPANIC                  TRESPASS 3, CRIMINAL            2\n",
              "                                                     UNAUTHORIZED USE VEHICLE 2      2\n",
              "                                                     UNAUTHORIZED USE VEHICLE 3      6\n",
              "                                                     WEAPONS POSSESSION 3            1\n",
              "                                                     WEAPONS, POSSESSION, ETC       19\n",
              "Name: PD_DESC, Length: 4156, dtype: int64"
            ]
          },
          "metadata": {},
          "execution_count": 44
        }
      ]
    }
  ]
}