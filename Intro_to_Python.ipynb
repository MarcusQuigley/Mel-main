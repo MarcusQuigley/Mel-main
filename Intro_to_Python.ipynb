{
  "nbformat": 4,
  "nbformat_minor": 0,
  "metadata": {
    "colab": {
      "provenance": [],
      "toc_visible": true
    },
    "kernelspec": {
      "name": "python3",
      "display_name": "Python 3"
    },
    "language_info": {
      "name": "python"
    }
  },
  "cells": [
    {
      "cell_type": "markdown",
      "metadata": {
        "id": "YmucwbUwIfLA"
      },
      "source": [
        "#Python simple basics"
      ]
    },
    {
      "cell_type": "markdown",
      "source": [
        "##The way? Repetition, over and over and over and over and over and over...\n",
        "\n",
        "\n"
      ],
      "metadata": {
        "id": "MAYGv6vT9owK"
      }
    },
    {
      "cell_type": "code",
      "source": [
        "print('Hello Beautiful!')"
      ],
      "metadata": {
        "colab": {
          "base_uri": "https://localhost:8080/"
        },
        "id": "3p57FxNFYT8A",
        "outputId": "637c1f20-d610-4b1e-d863-5f4720a6b33c"
      },
      "execution_count": 65,
      "outputs": [
        {
          "output_type": "stream",
          "name": "stdout",
          "text": [
            "Hello Beautiful!\n"
          ]
        }
      ]
    },
    {
      "cell_type": "code",
      "source": [
        "Mel = ' Learning with redundancy!'"
      ],
      "metadata": {
        "id": "a6jVxHiSLdvw"
      },
      "execution_count": 41,
      "outputs": []
    },
    {
      "cell_type": "code",
      "source": [
        "print(Mel)"
      ],
      "metadata": {
        "colab": {
          "base_uri": "https://localhost:8080/"
        },
        "id": "FyK0dEG8Yb3o",
        "outputId": "6a9d1246-a672-4f5a-8863-21106a6f7e3c"
      },
      "execution_count": 42,
      "outputs": [
        {
          "output_type": "stream",
          "name": "stdout",
          "text": [
            " Learning with redundancy!\n"
          ]
        }
      ]
    },
    {
      "cell_type": "code",
      "metadata": {
        "colab": {
          "base_uri": "https://localhost:8080/"
        },
        "id": "B8ygXdFKRh90",
        "outputId": "0f17c62f-e3e0-4c16-d03d-a7798071d222"
      },
      "source": [
        "# use '= ' to assign value; use '==' to compare values\n",
        "\n",
        "var2 = 'I do not love NYC'\n",
        "print(var2)\n",
        "\n",
        "'I do not love NYC' == 'I love NYC'"
      ],
      "execution_count": 66,
      "outputs": [
        {
          "output_type": "stream",
          "name": "stdout",
          "text": [
            "I do not love NYC\n"
          ]
        },
        {
          "output_type": "execute_result",
          "data": {
            "text/plain": [
              "False"
            ]
          },
          "metadata": {},
          "execution_count": 66
        }
      ]
    },
    {
      "cell_type": "code",
      "source": [
        "x = 4\n",
        "y = 1 \n",
        "x + y "
      ],
      "metadata": {
        "colab": {
          "base_uri": "https://localhost:8080/"
        },
        "id": "WsxGVRWAKtGp",
        "outputId": "30737280-f59c-4e38-a901-d9503a5491d5"
      },
      "execution_count": 67,
      "outputs": [
        {
          "output_type": "execute_result",
          "data": {
            "text/plain": [
              "5"
            ]
          },
          "metadata": {},
          "execution_count": 67
        }
      ]
    },
    {
      "cell_type": "code",
      "source": [
        "y = 2 "
      ],
      "metadata": {
        "id": "sflJ4RnTKsm0"
      },
      "execution_count": 68,
      "outputs": []
    },
    {
      "cell_type": "markdown",
      "source": [
        "##Code is read top to bottom so if you change a variable after it is defined the latest change is the variable. "
      ],
      "metadata": {
        "id": "2ntcbKUDZCru"
      }
    },
    {
      "cell_type": "code",
      "source": [
        "x + y "
      ],
      "metadata": {
        "colab": {
          "base_uri": "https://localhost:8080/"
        },
        "id": "hUVzRK8VK3zR",
        "outputId": "7d762270-f8bf-4639-cfed-10183e24a5ea"
      },
      "execution_count": 46,
      "outputs": [
        {
          "output_type": "execute_result",
          "data": {
            "text/plain": [
              "6"
            ]
          },
          "metadata": {},
          "execution_count": 46
        }
      ]
    },
    {
      "cell_type": "markdown",
      "source": [
        "##maths........   for computing and stuff"
      ],
      "metadata": {
        "id": "l1MEbN_qU8ia"
      }
    },
    {
      "cell_type": "markdown",
      "metadata": {
        "id": "ZDl7pPTJJmZx"
      },
      "source": [
        "\n",
        "> Most frequently used for computation:\n",
        ">\n",
        "> **operators**:\n",
        ">\n",
        "| Operator | Usage           | Example | Answer |\n",
        "|----------|------------------|---------|--------|\n",
        "| +        | addition         | 1 + 2   | 3      |\n",
        "| -        | subtraction      | 9 - 3   | 6      |\n",
        "| /        | division         | 7/2     | 3.5    |\n",
        "| //       | integer division | 7/2     | 3      |\n",
        "| %        | modulus          | 7%3     | 1      |\n",
        "| **       | exponentiation   | 3**2    | 9      |\n",
        ">\n",
        ">\n",
        "> **data types**:\n",
        ">\n",
        "| Type    | Example     | \n",
        "|---------|-------------|\n",
        "| integer | 5           |\n",
        "| float   | 5.0         | \n",
        "| strings | '5'         | \n",
        "| boolean | True/False  |\n"
      ]
    },
    {
      "cell_type": "code",
      "metadata": {
        "colab": {
          "base_uri": "https://localhost:8080/"
        },
        "id": "AV2gjfICROHp",
        "outputId": "27c86b00-b426-4add-d7e4-5cb99572a15e"
      },
      "source": [
        "57.7 * 6"
      ],
      "execution_count": 47,
      "outputs": [
        {
          "output_type": "execute_result",
          "data": {
            "text/plain": [
              "346.20000000000005"
            ]
          },
          "metadata": {},
          "execution_count": 47
        }
      ]
    },
    {
      "cell_type": "markdown",
      "source": [
        "##Variable assignment & Calculations"
      ],
      "metadata": {
        "id": "0KiQC7zhjapg"
      }
    },
    {
      "cell_type": "code",
      "metadata": {
        "colab": {
          "base_uri": "https://localhost:8080/"
        },
        "id": "36nGhXcORU88",
        "outputId": "46bedcd9-b9b6-441a-9df5-3ec214224504"
      },
      "source": [
        "scaler = 5\n",
        "result = 0.999 * scaler / 10\n",
        "result "
      ],
      "execution_count": 48,
      "outputs": [
        {
          "output_type": "execute_result",
          "data": {
            "text/plain": [
              "0.4995"
            ]
          },
          "metadata": {},
          "execution_count": 48
        }
      ]
    },
    {
      "cell_type": "markdown",
      "source": [
        "##Multible Variable assignments at once"
      ],
      "metadata": {
        "id": "b2JcoMn_jqvy"
      }
    },
    {
      "cell_type": "code",
      "metadata": {
        "id": "ASKIW9rJRXYL"
      },
      "source": [
        "x,y = 10,-20"
      ],
      "execution_count": 72,
      "outputs": []
    },
    {
      "cell_type": "code",
      "metadata": {
        "colab": {
          "base_uri": "https://localhost:8080/"
        },
        "id": "BI6eVaCzRarF",
        "outputId": "0782d5fb-467e-4b3e-8007-9d8a0e353506"
      },
      "source": [
        "x **2 - y**2"
      ],
      "execution_count": 73,
      "outputs": [
        {
          "output_type": "execute_result",
          "data": {
            "text/plain": [
              "-300"
            ]
          },
          "metadata": {},
          "execution_count": 73
        }
      ]
    },
    {
      "cell_type": "code",
      "metadata": {
        "colab": {
          "base_uri": "https://localhost:8080/"
        },
        "id": "tcr7usaNRbM4",
        "outputId": "bc2d621c-aa99-486a-8430-9fd180fb0293"
      },
      "source": [
        "# compare values to get a boolean result\n",
        "x == y "
      ],
      "execution_count": 74,
      "outputs": [
        {
          "output_type": "execute_result",
          "data": {
            "text/plain": [
              "False"
            ]
          },
          "metadata": {},
          "execution_count": 74
        }
      ]
    },
    {
      "cell_type": "markdown",
      "source": [
        "##Printing using Fstring"
      ],
      "metadata": {
        "id": "_mV8--tJa96Y"
      }
    },
    {
      "cell_type": "code",
      "metadata": {
        "colab": {
          "base_uri": "https://localhost:8080/"
        },
        "id": "4WW2ed9Z372E",
        "outputId": "32adbc9b-7063-4848-f347-7dee97217158"
      },
      "source": [
        "check = 'NYC' == 'SF'\n",
        "print(f'Is NYC same as SF? {check}')"
      ],
      "execution_count": 75,
      "outputs": [
        {
          "output_type": "stream",
          "name": "stdout",
          "text": [
            "Is NYC same as SF? False\n"
          ]
        }
      ]
    },
    {
      "cell_type": "markdown",
      "source": [
        "##FINDING THE VARIABLE!!!\n",
        "\n",
        " Wheres Waldo? Wheres Nemo? Flo where did you go?\n",
        "????\n",
        "\n",
        "using ***FOR*** to check if a value is in a list"
      ],
      "metadata": {
        "id": "4eUCpcj-kDle"
      }
    },
    {
      "cell_type": "code",
      "metadata": {
        "colab": {
          "base_uri": "https://localhost:8080/"
        },
        "id": "yEoa8iQsRddZ",
        "outputId": "1a8ee512-ff7e-45e6-a8bc-d03fa2038546"
      },
      "source": [
        "lis = [1, 3, 5, 7, 9]\n",
        "\n",
        "target = 10\n",
        "\n",
        "for i in lis: \n",
        "  print(i == target)"
      ],
      "execution_count": 55,
      "outputs": [
        {
          "output_type": "stream",
          "name": "stdout",
          "text": [
            "False\n",
            "False\n",
            "False\n",
            "False\n",
            "False\n"
          ]
        }
      ]
    },
    {
      "cell_type": "code",
      "source": [
        "target = 9\n",
        "\n",
        "for i in lis: \n",
        "  print(i == target)"
      ],
      "metadata": {
        "colab": {
          "base_uri": "https://localhost:8080/"
        },
        "id": "_g-noTk3kvyl",
        "outputId": "5e2c3e5a-c25e-4684-ffcf-f53c3ba7b523"
      },
      "execution_count": 77,
      "outputs": [
        {
          "output_type": "stream",
          "name": "stdout",
          "text": [
            "False\n",
            "False\n",
            "False\n",
            "False\n",
            "True\n"
          ]
        }
      ]
    },
    {
      "cell_type": "markdown",
      "source": [
        "## understanding Dtypes"
      ],
      "metadata": {
        "id": "oknOTRU2VzPQ"
      }
    },
    {
      "cell_type": "markdown",
      "source": [
        "##data value and data type are not the same != no matter the looks. "
      ],
      "metadata": {
        "id": "ZpgK0N16V_Ly"
      }
    },
    {
      "cell_type": "markdown",
      "metadata": {
        "id": "nHZ3thyZp-GK"
      },
      "source": [
        "\n",
        "\n",
        "> ***operators*** for comparison\n",
        "\n",
        "| Operator | Usage            | \n",
        "|----------|------------------|\n",
        "| ==        | equal           | \n",
        "| !=        | not equal       | \n",
        "| >        | greater than     |\n",
        "| <       | less than | 7/2   |\n",
        "| >=        | greater than or equal than|\n",
        "| <=       | less than or equal to |\n",
        "\n",
        "\n",
        "\n",
        "\n"
      ]
    },
    {
      "cell_type": "markdown",
      "source": [
        "a string will never equal an interger or float"
      ],
      "metadata": {
        "id": "o6z5CYFnWgjp"
      }
    },
    {
      "cell_type": "code",
      "metadata": {
        "colab": {
          "base_uri": "https://localhost:8080/"
        },
        "id": "TSnPKVHq5MRe",
        "outputId": "2ac79572-1ccf-4c37-f1f8-33d3bcdabe2c"
      },
      "source": [
        "100 == '100'"
      ],
      "execution_count": 56,
      "outputs": [
        {
          "output_type": "execute_result",
          "data": {
            "text/plain": [
              "False"
            ]
          },
          "metadata": {},
          "execution_count": 56
        }
      ]
    },
    {
      "cell_type": "markdown",
      "source": [
        "but an integer and float of the same value are equal ==\n",
        "\n"
      ],
      "metadata": {
        "id": "uNuFA_9bWbav"
      }
    },
    {
      "cell_type": "code",
      "metadata": {
        "colab": {
          "base_uri": "https://localhost:8080/"
        },
        "id": "KQyrqmHF5h5d",
        "outputId": "269cb190-177b-4111-ce76-a19c20077c14"
      },
      "source": [
        "100 == 100.0"
      ],
      "execution_count": 57,
      "outputs": [
        {
          "output_type": "execute_result",
          "data": {
            "text/plain": [
              "True"
            ]
          },
          "metadata": {},
          "execution_count": 57
        }
      ]
    },
    {
      "cell_type": "markdown",
      "source": [
        "its simple to find out the data type\n",
        "for the whole set or a single varible"
      ],
      "metadata": {
        "id": "8Dt-Hor_Wy85"
      }
    },
    {
      "cell_type": "code",
      "metadata": {
        "colab": {
          "base_uri": "https://localhost:8080/"
        },
        "id": "ypyvwcbn5aEc",
        "outputId": "adf9f974-eaa0-40ab-d49f-da2cf83211ee"
      },
      "source": [
        "type(100)\n"
      ],
      "execution_count": 58,
      "outputs": [
        {
          "output_type": "execute_result",
          "data": {
            "text/plain": [
              "int"
            ]
          },
          "metadata": {},
          "execution_count": 58
        }
      ]
    },
    {
      "cell_type": "code",
      "metadata": {
        "colab": {
          "base_uri": "https://localhost:8080/"
        },
        "id": "IjX-cjpA5fD7",
        "outputId": "b84c1a31-4f75-479d-e411-24b5cfb78b50"
      },
      "source": [
        "type('100')"
      ],
      "execution_count": 59,
      "outputs": [
        {
          "output_type": "execute_result",
          "data": {
            "text/plain": [
              "str"
            ]
          },
          "metadata": {},
          "execution_count": 59
        }
      ]
    },
    {
      "cell_type": "code",
      "metadata": {
        "colab": {
          "base_uri": "https://localhost:8080/"
        },
        "id": "q8ZHjBOe5sfq",
        "outputId": "748ba2ca-892c-492c-c011-dd748d7cd869"
      },
      "source": [
        "type(100.0)"
      ],
      "execution_count": 60,
      "outputs": [
        {
          "output_type": "execute_result",
          "data": {
            "text/plain": [
              "float"
            ]
          },
          "metadata": {},
          "execution_count": 60
        }
      ]
    },
    {
      "cell_type": "markdown",
      "source": [
        "Its also fairly simple to change the data type from a string to a float or integer"
      ],
      "metadata": {
        "id": "iOM-F-6xXD-Q"
      }
    },
    {
      "cell_type": "code",
      "metadata": {
        "colab": {
          "base_uri": "https://localhost:8080/"
        },
        "id": "CSFyryb86h_4",
        "outputId": "a0f53772-c0fd-4814-a9f7-6ceaff9c42b1"
      },
      "source": [
        "float('100.0') == 100.0"
      ],
      "execution_count": 61,
      "outputs": [
        {
          "output_type": "execute_result",
          "data": {
            "text/plain": [
              "True"
            ]
          },
          "metadata": {},
          "execution_count": 61
        }
      ]
    },
    {
      "cell_type": "markdown",
      "source": [
        "putting different types of data together requires certain procedures for it to print or output"
      ],
      "metadata": {
        "id": "sHBe9U1DXYqj"
      }
    },
    {
      "cell_type": "code",
      "metadata": {
        "colab": {
          "base_uri": "https://localhost:8080/",
          "height": 168
        },
        "id": "D-3qvRDmCkpM",
        "outputId": "6bb6f8e0-20bc-46f5-eb6f-5ecfc94288f8"
      },
      "source": [
        "print('I have ' + 3 + ' types of data to work with right now.')"
      ],
      "execution_count": 4,
      "outputs": [
        {
          "output_type": "error",
          "ename": "TypeError",
          "evalue": "ignored",
          "traceback": [
            "\u001b[0;31m---------------------------------------------------------------------------\u001b[0m",
            "\u001b[0;31mTypeError\u001b[0m                                 Traceback (most recent call last)",
            "\u001b[0;32m<ipython-input-4-6ef1b367c0cc>\u001b[0m in \u001b[0;36m<module>\u001b[0;34m\u001b[0m\n\u001b[0;32m----> 1\u001b[0;31m \u001b[0mprint\u001b[0m\u001b[0;34m(\u001b[0m\u001b[0;34m'I have '\u001b[0m \u001b[0;34m+\u001b[0m \u001b[0;36m3\u001b[0m \u001b[0;34m+\u001b[0m \u001b[0;34m' types of data to work with right now.'\u001b[0m\u001b[0;34m)\u001b[0m\u001b[0;34m\u001b[0m\u001b[0;34m\u001b[0m\u001b[0m\n\u001b[0m",
            "\u001b[0;31mTypeError\u001b[0m: can only concatenate str (not \"int\") to str"
          ]
        }
      ]
    },
    {
      "cell_type": "markdown",
      "source": [
        "You can change the data type by casting \n",
        "\n",
        "casting - a way to change the variables/ values of a datatype into the data type required for an operation to be carried through by a code snippit.  Functions such as int(), str(), float(), etc. are used."
      ],
      "metadata": {
        "id": "wXKF_KrrbhDQ"
      }
    },
    {
      "cell_type": "code",
      "metadata": {
        "colab": {
          "base_uri": "https://localhost:8080/"
        },
        "id": "eKJ7K8pYDh45",
        "outputId": "a63743ee-4ec7-44ff-c49e-fc1bb8a1e6f5"
      },
      "source": [
        "print('I have ' + str(3) + ' types of data to work with right now.')"
      ],
      "execution_count": 3,
      "outputs": [
        {
          "output_type": "stream",
          "name": "stdout",
          "text": [
            "I have 3 types of data to work with right now.\n"
          ]
        }
      ]
    },
    {
      "cell_type": "markdown",
      "source": [
        "##BE CAREFUL!!!! variables ARE caSe SsSensitive... and check your spelling!!!"
      ],
      "metadata": {
        "id": "NZ2VTTfJw1YM"
      }
    },
    {
      "cell_type": "code",
      "metadata": {
        "colab": {
          "base_uri": "https://localhost:8080/",
          "height": 186
        },
        "id": "M3KkCqMSmEjA",
        "outputId": "3006daab-fe80-480f-d0b7-41bfce31e081"
      },
      "source": [
        "fruit1= 'apple'\n",
        "print(Fruit1) "
      ],
      "execution_count": 5,
      "outputs": [
        {
          "output_type": "error",
          "ename": "NameError",
          "evalue": "ignored",
          "traceback": [
            "\u001b[0;31m---------------------------------------------------------------------------\u001b[0m",
            "\u001b[0;31mNameError\u001b[0m                                 Traceback (most recent call last)",
            "\u001b[0;32m<ipython-input-5-827e58b5e484>\u001b[0m in \u001b[0;36m<module>\u001b[0;34m\u001b[0m\n\u001b[1;32m      1\u001b[0m \u001b[0mfruit1\u001b[0m\u001b[0;34m=\u001b[0m \u001b[0;34m'apple'\u001b[0m\u001b[0;34m\u001b[0m\u001b[0;34m\u001b[0m\u001b[0m\n\u001b[0;32m----> 2\u001b[0;31m \u001b[0mprint\u001b[0m\u001b[0;34m(\u001b[0m\u001b[0mFruit1\u001b[0m\u001b[0;34m)\u001b[0m\u001b[0;34m\u001b[0m\u001b[0;34m\u001b[0m\u001b[0m\n\u001b[0m",
            "\u001b[0;31mNameError\u001b[0m: name 'Fruit1' is not defined"
          ]
        }
      ]
    },
    {
      "cell_type": "markdown",
      "source": [
        "because it wont print people! it just wont no matter how hard you try!"
      ],
      "metadata": {
        "id": "3DjBmJy0YtW_"
      }
    },
    {
      "cell_type": "markdown",
      "source": [
        "## Single vs. double quotes... "
      ],
      "metadata": {
        "id": "ersQrzcYxPvG"
      }
    },
    {
      "cell_type": "code",
      "metadata": {
        "colab": {
          "base_uri": "https://localhost:8080/"
        },
        "id": "qCEp0uZwmiMV",
        "outputId": "9a58fcf3-4d62-4140-e977-cb94898a63be"
      },
      "source": [
        "school_1 = 'SINGLE'\n",
        "school_2 = \"DOUBLE\"\n",
        "\n",
        "print(school_1)\n",
        "print(school_2)"
      ],
      "execution_count": 7,
      "outputs": [
        {
          "output_type": "stream",
          "name": "stdout",
          "text": [
            "SINGLE\n",
            "DOUBLE\n"
          ]
        }
      ]
    },
    {
      "cell_type": "markdown",
      "source": [
        "when it just wont work for the singles...\n",
        "\n",
        "single & double quotes are typically interchangeble UNLESS you add that apostrophe "
      ],
      "metadata": {
        "id": "qVXg5INqZW8H"
      }
    },
    {
      "cell_type": "code",
      "metadata": {
        "colab": {
          "base_uri": "https://localhost:8080/",
          "height": 133
        },
        "id": "4ba_z6KanECV",
        "outputId": "0b9c89f7-a98f-4862-9a7e-f30d6e12ede0"
      },
      "source": [
        "print('If you use single quotes in a string with an apostrophe, it won't print')"
      ],
      "execution_count": 8,
      "outputs": [
        {
          "output_type": "error",
          "ename": "SyntaxError",
          "evalue": "ignored",
          "traceback": [
            "\u001b[0;36m  File \u001b[0;32m\"<ipython-input-8-cae9517d0963>\"\u001b[0;36m, line \u001b[0;32m1\u001b[0m\n\u001b[0;31m    print('If you use single quotes in a string with an apostrophe, it won't print')\u001b[0m\n\u001b[0m                                                                           ^\u001b[0m\n\u001b[0;31mSyntaxError\u001b[0m\u001b[0;31m:\u001b[0m invalid syntax\n"
          ]
        }
      ]
    },
    {
      "cell_type": "markdown",
      "source": [
        "the fix..."
      ],
      "metadata": {
        "id": "jEtGkLwTZsg1"
      }
    },
    {
      "cell_type": "code",
      "metadata": {
        "colab": {
          "base_uri": "https://localhost:8080/"
        },
        "id": "wTgzl8p6n6xU",
        "outputId": "2e8ce939-f9a9-4a5f-f9a8-51d7cc4930af"
      },
      "source": [
        "print(\"If you use double quotes in a string with an apostrophe, it won't give you a problem\")"
      ],
      "execution_count": 9,
      "outputs": [
        {
          "output_type": "stream",
          "name": "stdout",
          "text": [
            "If you use double quotes in a string with an apostrophe, it won't give you a problem\n"
          ]
        }
      ]
    },
    {
      "cell_type": "markdown",
      "metadata": {
        "id": "HSW2J-Wf61WZ"
      },
      "source": [
        "#practicing"
      ]
    },
    {
      "cell_type": "markdown",
      "source": [
        "PRINTing n math FUNCTIONS"
      ],
      "metadata": {
        "id": "Y5xLHhtont-t"
      }
    },
    {
      "cell_type": "markdown",
      "source": [
        "INPUT and a FUNCTION"
      ],
      "metadata": {
        "id": "DtFrV3rYney_"
      }
    },
    {
      "cell_type": "code",
      "metadata": {
        "id": "iFECTdS-60ze",
        "colab": {
          "base_uri": "https://localhost:8080/"
        },
        "outputId": "d925aecc-9825-4881-9741-58b33a2b32b7"
      },
      "source": [
        "# Q. calculate the area for a circle with a radius of 5.5 \n",
        "\n",
        "pi = 3.14159\n",
        "r = float(input ('What is the radius of the circle? : '))\n",
        "print ('The area of the circle with a radius of ' + str(r) + ' is: ' + str(pi * r**2))\n"
      ],
      "execution_count": 10,
      "outputs": [
        {
          "output_type": "stream",
          "name": "stdout",
          "text": [
            "What is the radius of the circle? : 5.55\n",
            "The area of the circle with a radius of 5.55 is: 96.76882597499998\n"
          ]
        }
      ]
    },
    {
      "cell_type": "markdown",
      "source": [
        "at the restraunt"
      ],
      "metadata": {
        "id": "-iC3aSAKxhso"
      }
    },
    {
      "cell_type": "markdown",
      "source": [
        "dividing the pizza.... you have 12 slices and there are 5 people...how many are there left to fight over???"
      ],
      "metadata": {
        "id": "WsRMB15Ex0dt"
      }
    },
    {
      "cell_type": "code",
      "metadata": {
        "id": "-23vzBGxRjx_",
        "colab": {
          "base_uri": "https://localhost:8080/"
        },
        "outputId": "c8af4da5-519e-4f14-c595-46af9da94787"
      },
      "source": [
        "sl = 12-(5 * 2)\n",
        "print ('There are ' + str (sl) + ' slices remaining.' )"
      ],
      "execution_count": 1,
      "outputs": [
        {
          "output_type": "stream",
          "name": "stdout",
          "text": [
            "There are 2 slices remaining.\n"
          ]
        }
      ]
    },
    {
      "cell_type": "code",
      "source": [
        "sentence = 'For dinner, we spent a total of $' \n",
        "c = (120 * .2) + 120\n",
        "print(str(sentence) + str(c))"
      ],
      "metadata": {
        "id": "MfrZOq1tyMYM"
      },
      "execution_count": null,
      "outputs": []
    },
    {
      "cell_type": "markdown",
      "source": [
        "calculate the total cost for the dinner bill including tip and print out the complete sentence"
      ],
      "metadata": {
        "id": "nlc9Uy2PxFoW"
      }
    },
    {
      "cell_type": "code",
      "metadata": {
        "id": "2O4GoCfrDufS",
        "colab": {
          "base_uri": "https://localhost:8080/",
          "height": 150
        },
        "outputId": "9fa0a272-62ca-4987-89c0-6718ad25f1ad"
      },
      "source": [
        "cost = float(input ('What is the cost of the bill? : '))\n",
        "tip_percentage = float(input('What percentage do you wish to tip? : '))\n",
        "dutch = float(input('How many ways should this be split? : '))\n",
        "print ('The cost of your share of the meal split equally  tip is: ' str(cost) + str(cost) * str(tip_percentage) / str(dutch))\n",
        "\n",
        "\n"
      ],
      "execution_count": 30,
      "outputs": [
        {
          "output_type": "error",
          "ename": "SyntaxError",
          "evalue": "ignored",
          "traceback": [
            "\u001b[0;36m  File \u001b[0;32m\"<ipython-input-30-84207a0c8bb4>\"\u001b[0;36m, line \u001b[0;32m4\u001b[0m\n\u001b[0;31m    print ('The cost of your share of the meal split equally  tip is: ' str(cost) + str(cost) * str(tip_percentage) / str(dutch))\u001b[0m\n\u001b[0m                                                                        ^\u001b[0m\n\u001b[0;31mSyntaxError\u001b[0m\u001b[0;31m:\u001b[0m invalid syntax\n"
          ]
        }
      ]
    },
    {
      "cell_type": "markdown",
      "source": [
        "using an input\n"
      ],
      "metadata": {
        "id": "BMN509MAxXZJ"
      }
    },
    {
      "cell_type": "code",
      "metadata": {
        "id": "UEpmnihKqvUl",
        "colab": {
          "base_uri": "https://localhost:8080/"
        },
        "outputId": "a15eb112-c7fc-4bc8-ccd2-e41b1997e90f"
      },
      "source": [
        "print(1==1)\n",
        "print('apples' != 'oranges')\n",
        "print(100.1 >= 100.0)\n",
        "print(1 < 2)\n",
        "print (3.14 ** 2 >= 3.14 ** 2) \n",
        "print(0.001 <= 0.1)"
      ],
      "execution_count": 22,
      "outputs": [
        {
          "output_type": "stream",
          "name": "stdout",
          "text": [
            "True\n",
            "True\n",
            "True\n",
            "True\n",
            "True\n",
            "True\n"
          ]
        }
      ]
    },
    {
      "cell_type": "markdown",
      "source": [
        "Fstring fix???"
      ],
      "metadata": {
        "id": "9zHqiLL7rQ0z"
      }
    },
    {
      "cell_type": "markdown",
      "source": [
        "##Commenting out...tricks, ticks & trade to\n",
        "\n",
        "annotate code or prevent a line of code from executing"
      ],
      "metadata": {
        "id": "mqH5LxSYoAth"
      }
    },
    {
      "cell_type": "markdown",
      "source": [
        "#\n"
      ],
      "metadata": {
        "id": "msVnVW9XoLqI"
      }
    },
    {
      "cell_type": "code",
      "metadata": {
        "id": "8mt5znGYk5jE"
      },
      "source": [
        "\n",
        "print('this will run')\n",
        "\n",
        "#print('this will not run')"
      ],
      "execution_count": null,
      "outputs": []
    },
    {
      "cell_type": "markdown",
      "source": [
        "you can select multiple lines in pandas and press ctrl+?"
      ],
      "metadata": {
        "id": "k6BCOeiOoYyf"
      }
    },
    {
      "cell_type": "code",
      "source": [
        "# print('this will run')\n",
        "\n",
        "# #print('this will not run')"
      ],
      "metadata": {
        "id": "BjON57JaooX9"
      },
      "execution_count": 15,
      "outputs": []
    },
    {
      "cell_type": "markdown",
      "source": [
        "for some reason this one doesnt work on pandas but typically triple quotes single or double will comment out a block of code. "
      ],
      "metadata": {
        "id": "GwGKXciEqZ1N"
      }
    },
    {
      "cell_type": "code",
      "source": [
        "\"\"\"\n",
        "another way of commenting out\n",
        "multiple line\n",
        "of text\n",
        "\"\"\""
      ],
      "metadata": {
        "colab": {
          "base_uri": "https://localhost:8080/",
          "height": 35
        },
        "id": "rTu98Vr_o7mr",
        "outputId": "7aeca7fb-bf10-4a16-acbe-bff471a58777"
      },
      "execution_count": 19,
      "outputs": [
        {
          "output_type": "execute_result",
          "data": {
            "text/plain": [
              "'\\nanother way of commenting out\\nmultiple line\\nof text\\n'"
            ],
            "application/vnd.google.colaboratory.intrinsic+json": {
              "type": "string"
            }
          },
          "metadata": {},
          "execution_count": 19
        }
      ]
    },
    {
      "cell_type": "markdown",
      "source": [
        "</---"
      ],
      "metadata": {
        "id": "nO173jJXqlCe"
      }
    },
    {
      "cell_type": "markdown",
      "source": [
        "## lists"
      ],
      "metadata": {
        "id": "ZvzkGpUfsPCw"
      }
    },
    {
      "cell_type": "code",
      "metadata": {
        "id": "Gj3Ny9imsBC4"
      },
      "source": [
        "mylist = [\"apple\", \"banana\", \"cherry\"]\n",
        "mylist"
      ],
      "execution_count": null,
      "outputs": []
    },
    {
      "cell_type": "markdown",
      "source": [
        "adding a value/ item"
      ],
      "metadata": {
        "id": "Lmw2tE1k-m5N"
      }
    },
    {
      "cell_type": "code",
      "metadata": {
        "id": "TR7CNG6tslmQ"
      },
      "source": [
        "mylist.append('orange')\n",
        "mylist"
      ],
      "execution_count": null,
      "outputs": []
    },
    {
      "cell_type": "markdown",
      "source": [
        "removing a value/ item"
      ],
      "metadata": {
        "id": "xPc01vap-wWN"
      }
    },
    {
      "cell_type": "code",
      "metadata": {
        "id": "_IJGR8Xms13P"
      },
      "source": [
        "mylist.remove('apple')\n",
        "mylist"
      ],
      "execution_count": null,
      "outputs": []
    },
    {
      "cell_type": "markdown",
      "source": [
        "using Loops:\n",
        "\n",
        "*for*\n",
        "\n",
        "*if*\n",
        "\n",
        "*else*\n",
        "\n",
        "*while*"
      ],
      "metadata": {
        "id": "D9FXCuMESleL"
      }
    },
    {
      "cell_type": "code",
      "metadata": {
        "id": "ff7V2pYltUOK"
      },
      "source": [
        "for fruit in mylist:\n",
        "  print(fruit)"
      ],
      "execution_count": null,
      "outputs": []
    },
    {
      "cell_type": "markdown",
      "source": [
        "using a loop to find out how many of a value are in the list"
      ],
      "metadata": {
        "id": "9lX184k6-93E"
      }
    },
    {
      "cell_type": "code",
      "metadata": {
        "id": "zM9ThMMgteG9",
        "colab": {
          "base_uri": "https://localhost:8080/"
        },
        "outputId": "2da5e50c-d6eb-425e-eec1-4f00ab8562b7"
      },
      "source": [
        "mylist = [\"apple\", \"banana\", \"cherry\"]*2\n",
        "\n",
        "\n",
        "\n",
        "for fruit in mylist:\n",
        "  if fruit == 'cherry':\n",
        "    print('bingo!')\n",
        "  else:\n",
        "    print('not cherry')"
      ],
      "execution_count": 31,
      "outputs": [
        {
          "output_type": "stream",
          "name": "stdout",
          "text": [
            "not cherry\n",
            "not cherry\n",
            "bingo!\n",
            "not cherry\n",
            "not cherry\n",
            "bingo!\n"
          ]
        }
      ]
    },
    {
      "cell_type": "markdown",
      "source": [
        "to select and compute a long list of numbers\n"
      ],
      "metadata": {
        "id": "7sxaZ6BJ_QOR"
      }
    },
    {
      "cell_type": "markdown",
      "source": [
        "adding all the evens"
      ],
      "metadata": {
        "id": "QQC679uE_d-u"
      }
    },
    {
      "cell_type": "code",
      "metadata": {
        "id": "lqqrLBSh0SHg",
        "colab": {
          "base_uri": "https://localhost:8080/"
        },
        "outputId": "94136306-5135-4667-ed37-28e4d61fbc40"
      },
      "source": [
        "total = 0 \n",
        "for num in range(1000001):\n",
        "  if num % 2 == 0:\n",
        "    total = total + num\n",
        "\n",
        "total "
      ],
      "execution_count": 32,
      "outputs": [
        {
          "output_type": "execute_result",
          "data": {
            "text/plain": [
              "250000500000"
            ]
          },
          "metadata": {},
          "execution_count": 32
        }
      ]
    },
    {
      "cell_type": "markdown",
      "source": [
        " execute a set of statements as long as a condition is true"
      ],
      "metadata": {
        "id": "1z3PErXi_pG5"
      }
    },
    {
      "cell_type": "markdown",
      "source": [
        "adds numbers up as long as the running numbers are less than 100 but bigger than 0\n"
      ],
      "metadata": {
        "id": "wN5LlUwJ_uEN"
      }
    },
    {
      "cell_type": "code",
      "metadata": {
        "id": "m3ZYos82o8K1"
      },
      "source": [
        "current_num = 0\n",
        "total = 0\n",
        "\n",
        "while current_num <= 100:\n",
        "  total = total + current_num\n",
        "  current_num = current_num + 1\n",
        "\n",
        "total"
      ],
      "execution_count": null,
      "outputs": []
    },
    {
      "cell_type": "markdown",
      "source": [
        "add numbers up as long as the running numbers are less than 100 but bigger than 0\n"
      ],
      "metadata": {
        "id": "dJVG-eYHAfXd"
      }
    },
    {
      "cell_type": "markdown",
      "source": [
        "##Functions"
      ],
      "metadata": {
        "id": "7XUYe2xLAusX"
      }
    },
    {
      "cell_type": "markdown",
      "source": [
        "without an argument\n",
        "\n"
      ],
      "metadata": {
        "id": "EU-yqrNyAnVf"
      }
    },
    {
      "cell_type": "code",
      "metadata": {
        "id": "lHQq0HEk1XxV",
        "colab": {
          "base_uri": "https://localhost:8080/",
          "height": 133
        },
        "outputId": "497ca1d3-788a-40d1-9d2e-c1ff0999653c"
      },
      "source": [
        "def function1(): # no any argument in the parenthesis\n",
        "  #print('I love data')\n",
        "\n",
        "function1() # call the function to execute"
      ],
      "execution_count": 35,
      "outputs": [
        {
          "output_type": "error",
          "ename": "IndentationError",
          "evalue": "ignored",
          "traceback": [
            "\u001b[0;36m  File \u001b[0;32m\"<ipython-input-35-e8be41392613>\"\u001b[0;36m, line \u001b[0;32m4\u001b[0m\n\u001b[0;31m    function1() # call the function to execute\u001b[0m\n\u001b[0m    ^\u001b[0m\n\u001b[0;31mIndentationError\u001b[0m\u001b[0;31m:\u001b[0m expected an indented block\n"
          ]
        }
      ]
    },
    {
      "cell_type": "markdown",
      "source": [
        "with an argument"
      ],
      "metadata": {
        "id": "GJVRt7zaA5AX"
      }
    },
    {
      "cell_type": "code",
      "metadata": {
        "id": "mDzle9_fnu5J",
        "colab": {
          "base_uri": "https://localhost:8080/"
        },
        "outputId": "d6a7f6e5-7784-40d9-ea83-30d48e2887e7"
      },
      "source": [
        "def function2(value): # one argument called value\n",
        "  print('I love', str(value))\n",
        "\n",
        "function2('NYC') # call the function to execute"
      ],
      "execution_count": 34,
      "outputs": [
        {
          "output_type": "stream",
          "name": "stdout",
          "text": [
            "I love NYC\n"
          ]
        }
      ]
    },
    {
      "cell_type": "markdown",
      "source": [
        "with multiple values"
      ],
      "metadata": {
        "id": "HyEdJuzkBZV-"
      }
    },
    {
      "cell_type": "code",
      "metadata": {
        "id": "jx24bbIEoGiH",
        "colab": {
          "base_uri": "https://localhost:8080/"
        },
        "outputId": "bf45b934-7844-4dce-a8e8-cb4fa5d4c02b"
      },
      "source": [
        "def function3(num, n_power): # on eargument called value\n",
        "  result = num ** n_power\n",
        "  return result             # use 'return' to yield the outcome after running the process\n",
        "\n",
        "\n",
        "# call the function\n",
        "\n",
        "function3(10, 3)"
      ],
      "execution_count": 36,
      "outputs": [
        {
          "output_type": "execute_result",
          "data": {
            "text/plain": [
              "1000"
            ]
          },
          "metadata": {},
          "execution_count": 36
        }
      ]
    },
    {
      "cell_type": "markdown",
      "source": [
        "### To be continued..."
      ],
      "metadata": {
        "id": "noWVEF8P08vt"
      }
    },
    {
      "cell_type": "markdown",
      "metadata": {
        "id": "N0Mdpy-fp0Mu"
      },
      "source": [
        "using define to change change celsius to fahrenheit\n",
        "\n",
        "and then the for if else loop to print the values using new style formatting\n",
        "\n"
      ]
    },
    {
      "cell_type": "markdown",
      "source": [
        "WORKING ON THIS ONE"
      ],
      "metadata": {
        "id": "vtyNjO_cDZOF"
      }
    },
    {
      "cell_type": "code",
      "metadata": {
        "id": "b1QMdxNBlrmJ"
      },
      "source": [
        "def temp_c_to_f(c):\n",
        "  c = float(input ('What is the temperature in Celcius? : '))\n",
        "  result = c * 9 / 5 + 32\n",
        "\n",
        "# for x in range(0,101,.5):\n",
        "\n",
        "#     e = Celsius2Fahrenheit(x)\n",
        "#     if (e > 0):\n",
        "#         print(\" {:3.1f} (C) | {:6.2f} (F) \".format(x,e))\n",
        "#     else:\n",
        "#         print(\" {:3.1f} (C) | {:6.2f} (F) \".format(x,e))\n"
      ],
      "execution_count": 40,
      "outputs": []
    },
    {
      "cell_type": "markdown",
      "source": [
        " create a python list and store all the odd numbers from 1 to 1000 in it"
      ],
      "metadata": {
        "id": "OTvJf-8UpoLL"
      }
    },
    {
      "cell_type": "markdown",
      "source": [
        " write a function or just use some if-else statement to figure how many prime numbers are there between 100 and 200"
      ],
      "metadata": {
        "id": "ge6Wx1r_qEMk"
      }
    }
  ]
}