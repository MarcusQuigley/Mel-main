{
  "nbformat": 4,
  "nbformat_minor": 0,
  "metadata": {
    "colab": {
      "provenance": [],
      "toc_visible": true,
      "include_colab_link": true
    },
    "kernelspec": {
      "name": "python3",
      "display_name": "Python 3"
    },
    "language_info": {
      "name": "python"
    }
  },
  "cells": [
    {
      "cell_type": "markdown",
      "metadata": {
        "id": "view-in-github",
        "colab_type": "text"
      },
      "source": [
        "<a href=\"https://colab.research.google.com/github/MelAGndy/main/blob/Python/Intro_to_Python.ipynb\" target=\"_parent\"><img src=\"https://colab.research.google.com/assets/colab-badge.svg\" alt=\"Open In Colab\"/></a>"
      ]
    },
    {
      "cell_type": "markdown",
      "metadata": {
        "id": "YmucwbUwIfLA"
      },
      "source": [
        "#Python simple basics"
      ]
    },
    {
      "cell_type": "markdown",
      "source": [
        "##The way? Repetition, over and over and over and over and over and over...\n",
        "\n",
        "\n"
      ],
      "metadata": {
        "id": "MAYGv6vT9owK"
      }
    },
    {
      "cell_type": "code",
      "source": [
        "print('Hello Beautiful!')"
      ],
      "metadata": {
        "colab": {
          "base_uri": "https://localhost:8080/"
        },
        "id": "3p57FxNFYT8A",
        "outputId": "60ed0cec-45b6-4cd0-af41-b060cdd5d135"
      },
      "execution_count": null,
      "outputs": [
        {
          "output_type": "stream",
          "name": "stdout",
          "text": [
            "Hello Beautiful!\n"
          ]
        }
      ]
    },
    {
      "cell_type": "code",
      "source": [
        "Mel = ' Learning with redundancy!'"
      ],
      "metadata": {
        "id": "a6jVxHiSLdvw"
      },
      "execution_count": null,
      "outputs": []
    },
    {
      "cell_type": "code",
      "source": [
        "print(Mel)"
      ],
      "metadata": {
        "colab": {
          "base_uri": "https://localhost:8080/"
        },
        "id": "FyK0dEG8Yb3o",
        "outputId": "7d4ed489-4127-4573-a8df-ae37f9dda3a8"
      },
      "execution_count": null,
      "outputs": [
        {
          "output_type": "stream",
          "name": "stdout",
          "text": [
            " Learning with redundancy!\n"
          ]
        }
      ]
    },
    {
      "cell_type": "code",
      "metadata": {
        "colab": {
          "base_uri": "https://localhost:8080/"
        },
        "id": "B8ygXdFKRh90",
        "outputId": "8757cfda-db16-4173-9854-ee3bc94abca2"
      },
      "source": [
        "# use '= ' to assign value; use '==' to compare values\n",
        "\n",
        "var2 = 'I do not love NYC'\n",
        "print(var2)\n",
        "\n",
        "'I do not love NYC' == 'I love NYC'"
      ],
      "execution_count": null,
      "outputs": [
        {
          "output_type": "stream",
          "name": "stdout",
          "text": [
            "I do not love NYC\n"
          ]
        },
        {
          "output_type": "execute_result",
          "data": {
            "text/plain": [
              "False"
            ]
          },
          "metadata": {},
          "execution_count": 4
        }
      ]
    },
    {
      "cell_type": "code",
      "source": [
        "x = 4\n",
        "y = 1 \n",
        "x + y "
      ],
      "metadata": {
        "colab": {
          "base_uri": "https://localhost:8080/"
        },
        "id": "WsxGVRWAKtGp",
        "outputId": "e760497e-3f09-421a-f392-b9eed95a6e9f"
      },
      "execution_count": null,
      "outputs": [
        {
          "output_type": "execute_result",
          "data": {
            "text/plain": [
              "5"
            ]
          },
          "metadata": {},
          "execution_count": 5
        }
      ]
    },
    {
      "cell_type": "code",
      "source": [
        "y = 2 "
      ],
      "metadata": {
        "id": "sflJ4RnTKsm0"
      },
      "execution_count": null,
      "outputs": []
    },
    {
      "cell_type": "markdown",
      "source": [
        "##Code is read top to bottom so if you change a variable after it is defined the latest change is the variable. "
      ],
      "metadata": {
        "id": "2ntcbKUDZCru"
      }
    },
    {
      "cell_type": "code",
      "source": [
        "x + y "
      ],
      "metadata": {
        "colab": {
          "base_uri": "https://localhost:8080/"
        },
        "id": "hUVzRK8VK3zR",
        "outputId": "c6f85052-0cf8-4663-a2f9-ca3f2c48dce7"
      },
      "execution_count": null,
      "outputs": [
        {
          "output_type": "execute_result",
          "data": {
            "text/plain": [
              "6"
            ]
          },
          "metadata": {},
          "execution_count": 7
        }
      ]
    },
    {
      "cell_type": "markdown",
      "source": [
        "##maths........   for computing and stuff"
      ],
      "metadata": {
        "id": "l1MEbN_qU8ia"
      }
    },
    {
      "cell_type": "markdown",
      "metadata": {
        "id": "ZDl7pPTJJmZx"
      },
      "source": [
        "\n",
        "> Most frequently used for computation:\n",
        ">\n",
        "> **operators**:\n",
        ">\n",
        "| Operator | Usage           | Example | Answer |\n",
        "|----------|------------------|---------|--------|\n",
        "| +        | addition         | 1 + 2   | 3      |\n",
        "| -        | subtraction      | 9 - 3   | 6      |\n",
        "| /        | division         | 7/2     | 3.5    |\n",
        "| //       | integer division | 7/2     | 3      |\n",
        "| %        | modulus          | 7%3     | 1      |\n",
        "| **       | exponentiation   | 3**2    | 9      |\n",
        ">\n",
        ">\n",
        "> **data types**:\n",
        ">\n",
        "| Type    | Example     | \n",
        "|---------|-------------|\n",
        "| integer | 5           |\n",
        "| float   | 5.0         | \n",
        "| strings | '5'         | \n",
        "| boolean | True/False  |\n"
      ]
    },
    {
      "cell_type": "code",
      "metadata": {
        "colab": {
          "base_uri": "https://localhost:8080/"
        },
        "id": "AV2gjfICROHp",
        "outputId": "5e9e95b4-095b-484c-faae-b5f36e4ef6c7"
      },
      "source": [
        "57.7 * 6"
      ],
      "execution_count": null,
      "outputs": [
        {
          "output_type": "execute_result",
          "data": {
            "text/plain": [
              "346.20000000000005"
            ]
          },
          "metadata": {},
          "execution_count": 8
        }
      ]
    },
    {
      "cell_type": "markdown",
      "source": [
        "##Variable assignment & Calculations"
      ],
      "metadata": {
        "id": "0KiQC7zhjapg"
      }
    },
    {
      "cell_type": "code",
      "metadata": {
        "colab": {
          "base_uri": "https://localhost:8080/"
        },
        "id": "36nGhXcORU88",
        "outputId": "2abfa67b-cff0-4a95-e37b-564d21231fca"
      },
      "source": [
        "scaler = 5\n",
        "result = 0.999 * scaler / 10\n",
        "result "
      ],
      "execution_count": null,
      "outputs": [
        {
          "output_type": "execute_result",
          "data": {
            "text/plain": [
              "0.4995"
            ]
          },
          "metadata": {},
          "execution_count": 9
        }
      ]
    },
    {
      "cell_type": "markdown",
      "source": [
        "##Multible Variable assignments at once"
      ],
      "metadata": {
        "id": "b2JcoMn_jqvy"
      }
    },
    {
      "cell_type": "code",
      "metadata": {
        "id": "ASKIW9rJRXYL"
      },
      "source": [
        "x,y = 10,-20"
      ],
      "execution_count": null,
      "outputs": []
    },
    {
      "cell_type": "code",
      "metadata": {
        "colab": {
          "base_uri": "https://localhost:8080/"
        },
        "id": "BI6eVaCzRarF",
        "outputId": "2c57d952-7f08-4d94-a1ea-308867142d3c"
      },
      "source": [
        "x **2 - y**2"
      ],
      "execution_count": null,
      "outputs": [
        {
          "output_type": "execute_result",
          "data": {
            "text/plain": [
              "-300"
            ]
          },
          "metadata": {},
          "execution_count": 11
        }
      ]
    },
    {
      "cell_type": "code",
      "metadata": {
        "colab": {
          "base_uri": "https://localhost:8080/"
        },
        "id": "tcr7usaNRbM4",
        "outputId": "be5efd9a-31e5-4bb0-d6a4-b632120f71b0"
      },
      "source": [
        "# compare values to get a boolean result\n",
        "x == y "
      ],
      "execution_count": null,
      "outputs": [
        {
          "output_type": "execute_result",
          "data": {
            "text/plain": [
              "False"
            ]
          },
          "metadata": {},
          "execution_count": 12
        }
      ]
    },
    {
      "cell_type": "markdown",
      "source": [
        "##Printing using Fstring"
      ],
      "metadata": {
        "id": "_mV8--tJa96Y"
      }
    },
    {
      "cell_type": "code",
      "metadata": {
        "colab": {
          "base_uri": "https://localhost:8080/"
        },
        "id": "4WW2ed9Z372E",
        "outputId": "17909154-0eef-4856-830f-4d9c10ab48c0"
      },
      "source": [
        "check = 'NYC' == 'SF'\n",
        "print(f'Is NYC same as SF? {check}')"
      ],
      "execution_count": null,
      "outputs": [
        {
          "output_type": "stream",
          "name": "stdout",
          "text": [
            "Is NYC same as SF? False\n"
          ]
        }
      ]
    },
    {
      "cell_type": "markdown",
      "source": [
        "##FINDING THE VARIABLE!!!\n",
        "\n",
        " Wheres Waldo? Wheres Nemo? Flo where did you go?\n",
        "????\n",
        "\n",
        "using ***FOR*** to check if a value is in a list"
      ],
      "metadata": {
        "id": "4eUCpcj-kDle"
      }
    },
    {
      "cell_type": "code",
      "metadata": {
        "colab": {
          "base_uri": "https://localhost:8080/"
        },
        "id": "yEoa8iQsRddZ",
        "outputId": "d62a904d-9e32-4e42-e916-939b4e1e492f"
      },
      "source": [
        "lis = [1, 3, 5, 7, 9]\n",
        "\n",
        "target = 10\n",
        "\n",
        "for i in lis: \n",
        "  print(i == target)"
      ],
      "execution_count": null,
      "outputs": [
        {
          "output_type": "stream",
          "name": "stdout",
          "text": [
            "False\n",
            "False\n",
            "False\n",
            "False\n",
            "False\n"
          ]
        }
      ]
    },
    {
      "cell_type": "code",
      "source": [
        "target = 9\n",
        "\n",
        "for i in lis: \n",
        "  print(i == target)"
      ],
      "metadata": {
        "colab": {
          "base_uri": "https://localhost:8080/"
        },
        "id": "_g-noTk3kvyl",
        "outputId": "b518b014-c2f6-460e-b673-b0249b0f9612"
      },
      "execution_count": null,
      "outputs": [
        {
          "output_type": "stream",
          "name": "stdout",
          "text": [
            "False\n",
            "False\n",
            "False\n",
            "False\n",
            "True\n"
          ]
        }
      ]
    },
    {
      "cell_type": "markdown",
      "source": [
        "## understanding Dtypes"
      ],
      "metadata": {
        "id": "oknOTRU2VzPQ"
      }
    },
    {
      "cell_type": "markdown",
      "source": [
        "##data value and data type are not the same != no matter the looks. "
      ],
      "metadata": {
        "id": "ZpgK0N16V_Ly"
      }
    },
    {
      "cell_type": "markdown",
      "metadata": {
        "id": "nHZ3thyZp-GK"
      },
      "source": [
        "\n",
        "\n",
        "> ***operators*** for comparison\n",
        "\n",
        "| Operator | Usage            | \n",
        "|----------|------------------|\n",
        "| ==        | equal           | \n",
        "| !=        | not equal       | \n",
        "| >        | greater than     |\n",
        "| <       | less than | 7/2   |\n",
        "| >=        | greater than or equal than|\n",
        "| <=       | less than or equal to |\n",
        "\n",
        "\n",
        "\n",
        "\n"
      ]
    },
    {
      "cell_type": "markdown",
      "source": [
        "a string will never equal an interger or float"
      ],
      "metadata": {
        "id": "o6z5CYFnWgjp"
      }
    },
    {
      "cell_type": "code",
      "metadata": {
        "colab": {
          "base_uri": "https://localhost:8080/"
        },
        "id": "TSnPKVHq5MRe",
        "outputId": "b2a0a2be-4e47-478b-c560-aca28c279378"
      },
      "source": [
        "100 == '100'"
      ],
      "execution_count": null,
      "outputs": [
        {
          "output_type": "execute_result",
          "data": {
            "text/plain": [
              "False"
            ]
          },
          "metadata": {},
          "execution_count": 16
        }
      ]
    },
    {
      "cell_type": "markdown",
      "source": [
        "but an integer and float of the same value are equal ==\n",
        "\n"
      ],
      "metadata": {
        "id": "uNuFA_9bWbav"
      }
    },
    {
      "cell_type": "code",
      "metadata": {
        "colab": {
          "base_uri": "https://localhost:8080/"
        },
        "id": "KQyrqmHF5h5d",
        "outputId": "51987a21-b105-4b71-8d3b-d85dc2439da8"
      },
      "source": [
        "100 == 100.0"
      ],
      "execution_count": null,
      "outputs": [
        {
          "output_type": "execute_result",
          "data": {
            "text/plain": [
              "True"
            ]
          },
          "metadata": {},
          "execution_count": 17
        }
      ]
    },
    {
      "cell_type": "code",
      "metadata": {
        "id": "UEpmnihKqvUl",
        "colab": {
          "base_uri": "https://localhost:8080/"
        },
        "outputId": "bd505aa4-7975-4379-bbea-b86a1553003e"
      },
      "source": [
        "print(1==1)\n",
        "print('apples' != 'oranges')\n",
        "print(100.1 >= 100.0)\n",
        "print(1 < 2)\n",
        "print (3.14 ** 2 >= 3.14 ** 2) \n",
        "print(0.001 <= 0.1)"
      ],
      "execution_count": null,
      "outputs": [
        {
          "output_type": "stream",
          "name": "stdout",
          "text": [
            "True\n",
            "True\n",
            "True\n",
            "True\n",
            "True\n",
            "True\n"
          ]
        }
      ]
    },
    {
      "cell_type": "markdown",
      "source": [
        "its simple to find out the data type\n",
        "for the whole set or a single varible"
      ],
      "metadata": {
        "id": "8Dt-Hor_Wy85"
      }
    },
    {
      "cell_type": "code",
      "metadata": {
        "colab": {
          "base_uri": "https://localhost:8080/"
        },
        "id": "ypyvwcbn5aEc",
        "outputId": "852c3a58-e42c-4b30-9720-6e367237d9bf"
      },
      "source": [
        "type(100)"
      ],
      "execution_count": null,
      "outputs": [
        {
          "output_type": "execute_result",
          "data": {
            "text/plain": [
              "int"
            ]
          },
          "metadata": {},
          "execution_count": 19
        }
      ]
    },
    {
      "cell_type": "code",
      "metadata": {
        "colab": {
          "base_uri": "https://localhost:8080/"
        },
        "id": "IjX-cjpA5fD7",
        "outputId": "69670026-a1cc-4b97-b875-03170090eca4"
      },
      "source": [
        "type('100')"
      ],
      "execution_count": null,
      "outputs": [
        {
          "output_type": "execute_result",
          "data": {
            "text/plain": [
              "str"
            ]
          },
          "metadata": {},
          "execution_count": 20
        }
      ]
    },
    {
      "cell_type": "code",
      "metadata": {
        "colab": {
          "base_uri": "https://localhost:8080/"
        },
        "id": "q8ZHjBOe5sfq",
        "outputId": "f33bc39e-f566-41d1-b239-dd9408f89f6c"
      },
      "source": [
        "type(100.0)"
      ],
      "execution_count": null,
      "outputs": [
        {
          "output_type": "execute_result",
          "data": {
            "text/plain": [
              "float"
            ]
          },
          "metadata": {},
          "execution_count": 21
        }
      ]
    },
    {
      "cell_type": "markdown",
      "source": [
        "Its also fairly simple to change the data type from a string to a float or integer"
      ],
      "metadata": {
        "id": "iOM-F-6xXD-Q"
      }
    },
    {
      "cell_type": "code",
      "metadata": {
        "colab": {
          "base_uri": "https://localhost:8080/"
        },
        "id": "CSFyryb86h_4",
        "outputId": "e909e691-0ce7-4fc9-8da9-a92cc65a1a6b"
      },
      "source": [
        "float('100.0') == 100.0"
      ],
      "execution_count": null,
      "outputs": [
        {
          "output_type": "execute_result",
          "data": {
            "text/plain": [
              "True"
            ]
          },
          "metadata": {},
          "execution_count": 22
        }
      ]
    },
    {
      "cell_type": "markdown",
      "source": [
        "putting different types of data together requires certain procedures for it to print or output"
      ],
      "metadata": {
        "id": "sHBe9U1DXYqj"
      }
    },
    {
      "cell_type": "code",
      "metadata": {
        "colab": {
          "base_uri": "https://localhost:8080/",
          "height": 171
        },
        "id": "D-3qvRDmCkpM",
        "outputId": "53df8708-3278-4b0a-bcba-f60d60ad7f42"
      },
      "source": [
        "print('I have ' + 3 + ' types of data to work with right now.')"
      ],
      "execution_count": null,
      "outputs": [
        {
          "output_type": "error",
          "ename": "TypeError",
          "evalue": "ignored",
          "traceback": [
            "\u001b[0;31m---------------------------------------------------------------------------\u001b[0m",
            "\u001b[0;31mTypeError\u001b[0m                                 Traceback (most recent call last)",
            "\u001b[0;32m<ipython-input-23-6ef1b367c0cc>\u001b[0m in \u001b[0;36m<cell line: 1>\u001b[0;34m()\u001b[0m\n\u001b[0;32m----> 1\u001b[0;31m \u001b[0mprint\u001b[0m\u001b[0;34m(\u001b[0m\u001b[0;34m'I have '\u001b[0m \u001b[0;34m+\u001b[0m \u001b[0;36m3\u001b[0m \u001b[0;34m+\u001b[0m \u001b[0;34m' types of data to work with right now.'\u001b[0m\u001b[0;34m)\u001b[0m\u001b[0;34m\u001b[0m\u001b[0;34m\u001b[0m\u001b[0m\n\u001b[0m",
            "\u001b[0;31mTypeError\u001b[0m: can only concatenate str (not \"int\") to str"
          ]
        }
      ]
    },
    {
      "cell_type": "markdown",
      "source": [
        "You can change the data type by casting \n",
        "\n",
        "casting - a way to change the variables/ values of a datatype into the data type required for an operation to be carried through by a code snippit.  Functions such as int(), str(), float(), etc. are used."
      ],
      "metadata": {
        "id": "wXKF_KrrbhDQ"
      }
    },
    {
      "cell_type": "code",
      "metadata": {
        "colab": {
          "base_uri": "https://localhost:8080/"
        },
        "id": "eKJ7K8pYDh45",
        "outputId": "f1afd386-3bec-42b5-edf8-6a5d0f013c35"
      },
      "source": [
        "print('I have ' + str(3) + ' types of data to work with right now.')"
      ],
      "execution_count": null,
      "outputs": [
        {
          "output_type": "stream",
          "name": "stdout",
          "text": [
            "I have 3 types of data to work with right now.\n"
          ]
        }
      ]
    },
    {
      "cell_type": "markdown",
      "source": [
        "##BE CAREFUL!!!! variables ARE caSe SsSensitive... and check your spelling!!!"
      ],
      "metadata": {
        "id": "NZ2VTTfJw1YM"
      }
    },
    {
      "cell_type": "code",
      "metadata": {
        "colab": {
          "base_uri": "https://localhost:8080/",
          "height": 189
        },
        "id": "M3KkCqMSmEjA",
        "outputId": "a7c52f34-e37a-4c43-cfe3-886ce33eddc6"
      },
      "source": [
        "fruit1= 'apple'\n",
        "print(Fruit1) "
      ],
      "execution_count": null,
      "outputs": [
        {
          "output_type": "error",
          "ename": "NameError",
          "evalue": "ignored",
          "traceback": [
            "\u001b[0;31m---------------------------------------------------------------------------\u001b[0m",
            "\u001b[0;31mNameError\u001b[0m                                 Traceback (most recent call last)",
            "\u001b[0;32m<ipython-input-25-827e58b5e484>\u001b[0m in \u001b[0;36m<cell line: 2>\u001b[0;34m()\u001b[0m\n\u001b[1;32m      1\u001b[0m \u001b[0mfruit1\u001b[0m\u001b[0;34m=\u001b[0m \u001b[0;34m'apple'\u001b[0m\u001b[0;34m\u001b[0m\u001b[0;34m\u001b[0m\u001b[0m\n\u001b[0;32m----> 2\u001b[0;31m \u001b[0mprint\u001b[0m\u001b[0;34m(\u001b[0m\u001b[0mFruit1\u001b[0m\u001b[0;34m)\u001b[0m\u001b[0;34m\u001b[0m\u001b[0;34m\u001b[0m\u001b[0m\n\u001b[0m",
            "\u001b[0;31mNameError\u001b[0m: name 'Fruit1' is not defined"
          ]
        }
      ]
    },
    {
      "cell_type": "markdown",
      "source": [
        "because it wont print people! it just wont no matter how hard you try!"
      ],
      "metadata": {
        "id": "3DjBmJy0YtW_"
      }
    },
    {
      "cell_type": "markdown",
      "source": [
        "## Single vs. double quotes... "
      ],
      "metadata": {
        "id": "ersQrzcYxPvG"
      }
    },
    {
      "cell_type": "code",
      "metadata": {
        "colab": {
          "base_uri": "https://localhost:8080/"
        },
        "id": "qCEp0uZwmiMV",
        "outputId": "9cac274f-a194-4980-d6aa-919d320bad54"
      },
      "source": [
        "school_1 = 'SINGLE'\n",
        "school_2 = \"DOUBLE\"\n",
        "\n",
        "print(school_1)\n",
        "print(school_2)"
      ],
      "execution_count": null,
      "outputs": [
        {
          "output_type": "stream",
          "name": "stdout",
          "text": [
            "SINGLE\n",
            "DOUBLE\n"
          ]
        }
      ]
    },
    {
      "cell_type": "markdown",
      "source": [
        "when it just wont work for the singles...\n",
        "\n",
        "single & double quotes are typically interchangeble UNLESS you add that apostrophe "
      ],
      "metadata": {
        "id": "qVXg5INqZW8H"
      }
    },
    {
      "cell_type": "code",
      "metadata": {
        "colab": {
          "base_uri": "https://localhost:8080/",
          "height": 153
        },
        "id": "4ba_z6KanECV",
        "outputId": "c8ca7a38-343a-4a12-d1f6-ccd7b026f82f"
      },
      "source": [
        "print('If you use single quotes in a string with an apostrophe, it won't print')"
      ],
      "execution_count": null,
      "outputs": [
        {
          "output_type": "error",
          "ename": "SyntaxError",
          "evalue": "ignored",
          "traceback": [
            "\u001b[0;36m  File \u001b[0;32m\"<ipython-input-27-cae9517d0963>\"\u001b[0;36m, line \u001b[0;32m1\u001b[0m\n\u001b[0;31m    print('If you use single quotes in a string with an apostrophe, it won't print')\u001b[0m\n\u001b[0m                                                                           ^\u001b[0m\n\u001b[0;31mSyntaxError\u001b[0m\u001b[0;31m:\u001b[0m invalid syntax\n"
          ]
        }
      ]
    },
    {
      "cell_type": "markdown",
      "source": [
        "the fix..."
      ],
      "metadata": {
        "id": "jEtGkLwTZsg1"
      }
    },
    {
      "cell_type": "code",
      "metadata": {
        "colab": {
          "base_uri": "https://localhost:8080/"
        },
        "id": "wTgzl8p6n6xU",
        "outputId": "d102eff3-f98b-42d2-819a-c4e4d02ef0a4"
      },
      "source": [
        "print(\"If you use double quotes in a string with an apostrophe, it won't give you a problem\")"
      ],
      "execution_count": null,
      "outputs": [
        {
          "output_type": "stream",
          "name": "stdout",
          "text": [
            "If you use double quotes in a string with an apostrophe, it won't give you a problem\n"
          ]
        }
      ]
    },
    {
      "cell_type": "markdown",
      "metadata": {
        "id": "HSW2J-Wf61WZ"
      },
      "source": [
        "#practicing"
      ]
    },
    {
      "cell_type": "markdown",
      "source": [
        "PRINTing n math FUNCTIONS"
      ],
      "metadata": {
        "id": "Y5xLHhtont-t"
      }
    },
    {
      "cell_type": "markdown",
      "source": [
        "INPUT and a FUNCTION"
      ],
      "metadata": {
        "id": "DtFrV3rYney_"
      }
    },
    {
      "cell_type": "markdown",
      "source": [
        ">calculate the area for a circle with a radius of 5.5 \n"
      ],
      "metadata": {
        "id": "TYa6Q48Hxc1o"
      }
    },
    {
      "cell_type": "code",
      "metadata": {
        "id": "iFECTdS-60ze",
        "colab": {
          "base_uri": "https://localhost:8080/"
        },
        "outputId": "c41170f0-1dd1-424c-c915-0c8df7ce88a7"
      },
      "source": [
        "pi = 3.14159\n",
        "r = float(input ('What is the radius of the circle? : '))\n",
        "print ('The area of the circle with a radius of ' + str(r) + ' is: ' + str(pi * r**2))\n"
      ],
      "execution_count": null,
      "outputs": [
        {
          "output_type": "stream",
          "name": "stdout",
          "text": [
            "What is the radius of the circle? : 3\n",
            "The area of the circle with a radius of 3.0 is: 28.27431\n"
          ]
        }
      ]
    },
    {
      "cell_type": "markdown",
      "source": [
        ">at the restraunt"
      ],
      "metadata": {
        "id": "-iC3aSAKxhso"
      }
    },
    {
      "cell_type": "markdown",
      "source": [
        ">>dividing the pizza.... you have 12 slices and there are 5 people...how many are there left to fight over???"
      ],
      "metadata": {
        "id": "WsRMB15Ex0dt"
      }
    },
    {
      "cell_type": "code",
      "metadata": {
        "id": "-23vzBGxRjx_",
        "colab": {
          "base_uri": "https://localhost:8080/"
        },
        "outputId": "4c9e6e3f-598c-4b91-e2af-a717421cd54e"
      },
      "source": [
        "sl = 12-(5 * 2)\n",
        "print ('There are ' + str (sl) + ' slices remaining.' )"
      ],
      "execution_count": null,
      "outputs": [
        {
          "output_type": "stream",
          "name": "stdout",
          "text": [
            "There are 2 slices remaining.\n"
          ]
        }
      ]
    },
    {
      "cell_type": "code",
      "source": [
        "sentence = 'For dinner, we spent a total of $' \n",
        "c = (120 * .2) + 120\n",
        "print(str(sentence) + str(c))"
      ],
      "metadata": {
        "id": "MfrZOq1tyMYM",
        "colab": {
          "base_uri": "https://localhost:8080/"
        },
        "outputId": "68dd7beb-4d8a-4211-fae2-de4cb5d991a3"
      },
      "execution_count": null,
      "outputs": [
        {
          "output_type": "stream",
          "name": "stdout",
          "text": [
            "For dinner, we spent a total of $144.0\n"
          ]
        }
      ]
    },
    {
      "cell_type": "markdown",
      "source": [
        "##Restraunt bill calculator"
      ],
      "metadata": {
        "id": "-z8vle9dqZI8"
      }
    },
    {
      "cell_type": "code",
      "source": [
        "charge = float(input ('What is the cost of the bill? : '))\n",
        "tip_percentage = float(input ('How much of a tip?\\n   ex:10%=.10 ex:20%=.20\\n '))\n",
        "sentence = 'for dinner, we have spent a total of $' \n",
        "\n",
        "# Q. please calculate the total cost for the dinner bill and print out the complete sentence\n",
        "c = (charge * tip_percentage) + charge\n",
        "print('For dinner, we have spent a total of $' +str(c))"
      ],
      "metadata": {
        "colab": {
          "base_uri": "https://localhost:8080/"
        },
        "id": "06rx2kgvehuz",
        "outputId": "e97c0783-0aa2-465f-f66c-362360408fbf"
      },
      "execution_count": null,
      "outputs": [
        {
          "output_type": "stream",
          "name": "stdout",
          "text": [
            "What is the cost of the bill? : 25\n",
            "How much of a tip?\n",
            "   ex:10%=.10 ex:20%=.20\n",
            " .10\n",
            "For dinner, we have spent a total of $27.5\n"
          ]
        }
      ]
    },
    {
      "cell_type": "markdown",
      "source": [
        ">>calculate the total cost for the dinner bill including tip and print out the complete sentence"
      ],
      "metadata": {
        "id": "nlc9Uy2PxFoW"
      }
    },
    {
      "cell_type": "code",
      "metadata": {
        "id": "2O4GoCfrDufS",
        "colab": {
          "base_uri": "https://localhost:8080/"
        },
        "outputId": "d7915efb-140c-4e13-e5e9-d758ed8329f5"
      },
      "source": [
        "charge = float(input ('What is the cost of the bill? : '))\n",
        "tip_percentage = float(input ('How much of a tip?\\n   ex:10%=.10 ex:20%=.20\\n '))\n",
        "sentence = 'for dinner, we have spent a total of $' \n",
        "party = float(input('How many ways should this be split? : '))\n",
        "d = 0.999 * party\n",
        "c = (charge * tip_percentage) + charge\n",
        "e = c/d\n",
        "print('For dinner, we have spent a total of $' +str(e))"
      ],
      "execution_count": null,
      "outputs": [
        {
          "output_type": "stream",
          "name": "stdout",
          "text": [
            "What is the cost of the bill? : 25\n",
            "How much of a tip?\n",
            "   ex:10%=.10 ex:20%=.20\n",
            " .10\n",
            "How many ways should this be split? : 6\n",
            "For dinner, we have spent a total of $4.587921254587921\n"
          ]
        }
      ]
    },
    {
      "cell_type": "markdown",
      "source": [
        "Fstring fix???"
      ],
      "metadata": {
        "id": "9zHqiLL7rQ0z"
      }
    },
    {
      "cell_type": "markdown",
      "source": [
        "##Commenting out...tricks, ticks & trade to\n",
        "\n",
        "annotate code or prevent a line of code from executing"
      ],
      "metadata": {
        "id": "mqH5LxSYoAth"
      }
    },
    {
      "cell_type": "markdown",
      "source": [
        "#\n"
      ],
      "metadata": {
        "id": "msVnVW9XoLqI"
      }
    },
    {
      "cell_type": "code",
      "metadata": {
        "id": "8mt5znGYk5jE",
        "colab": {
          "base_uri": "https://localhost:8080/"
        },
        "outputId": "8485f821-6a54-4c0d-e913-69bc0c302cf0"
      },
      "source": [
        "print('this will run')\n",
        "#print('this will not run')"
      ],
      "execution_count": null,
      "outputs": [
        {
          "output_type": "stream",
          "name": "stdout",
          "text": [
            "this will run\n"
          ]
        }
      ]
    },
    {
      "cell_type": "markdown",
      "source": [
        "you can select multiple lines in pandas and press ctrl+?"
      ],
      "metadata": {
        "id": "k6BCOeiOoYyf"
      }
    },
    {
      "cell_type": "code",
      "source": [
        "# print('this will run')\n",
        "# #print('this will not run')"
      ],
      "metadata": {
        "id": "BjON57JaooX9"
      },
      "execution_count": null,
      "outputs": []
    },
    {
      "cell_type": "markdown",
      "source": [
        "for some reason this one doesnt work on pandas but typically triple quotes single or double will comment out a block of code. "
      ],
      "metadata": {
        "id": "GwGKXciEqZ1N"
      }
    },
    {
      "cell_type": "code",
      "source": [
        "\"\"\"\n",
        "another way of commenting out\n",
        "multiple line\n",
        "of text\n",
        "\"\"\""
      ],
      "metadata": {
        "colab": {
          "base_uri": "https://localhost:8080/",
          "height": 36
        },
        "id": "rTu98Vr_o7mr",
        "outputId": "552c446a-a7cc-4aae-e7bd-fdc5c20a6c0b"
      },
      "execution_count": null,
      "outputs": [
        {
          "output_type": "execute_result",
          "data": {
            "text/plain": [
              "'\\nanother way of commenting out\\nmultiple line\\nof text\\n'"
            ],
            "application/vnd.google.colaboratory.intrinsic+json": {
              "type": "string"
            }
          },
          "metadata": {},
          "execution_count": 37
        }
      ]
    },
    {
      "cell_type": "markdown",
      "source": [
        "# <--  -->"
      ],
      "metadata": {
        "id": "nO173jJXqlCe"
      }
    },
    {
      "cell_type": "markdown",
      "source": [
        "## lists"
      ],
      "metadata": {
        "id": "ZvzkGpUfsPCw"
      }
    },
    {
      "cell_type": "code",
      "metadata": {
        "id": "Gj3Ny9imsBC4",
        "colab": {
          "base_uri": "https://localhost:8080/"
        },
        "outputId": "a9ecbc95-8adb-43be-8096-0f7a8ea43e1a"
      },
      "source": [
        "mylist = [\"apple\", \"banana\", \"cherry\"]\n",
        "mylist"
      ],
      "execution_count": null,
      "outputs": [
        {
          "output_type": "execute_result",
          "data": {
            "text/plain": [
              "['apple', 'banana', 'cherry']"
            ]
          },
          "metadata": {},
          "execution_count": 38
        }
      ]
    },
    {
      "cell_type": "markdown",
      "source": [
        "adding a value/ item"
      ],
      "metadata": {
        "id": "Lmw2tE1k-m5N"
      }
    },
    {
      "cell_type": "code",
      "metadata": {
        "id": "TR7CNG6tslmQ",
        "colab": {
          "base_uri": "https://localhost:8080/"
        },
        "outputId": "6a065e6e-a035-4ea9-874e-59f9001efe1f"
      },
      "source": [
        "mylist.append('orange')\n",
        "mylist"
      ],
      "execution_count": null,
      "outputs": [
        {
          "output_type": "execute_result",
          "data": {
            "text/plain": [
              "['apple', 'banana', 'cherry', 'orange']"
            ]
          },
          "metadata": {},
          "execution_count": 39
        }
      ]
    },
    {
      "cell_type": "markdown",
      "source": [
        "removing a value/ item"
      ],
      "metadata": {
        "id": "xPc01vap-wWN"
      }
    },
    {
      "cell_type": "code",
      "metadata": {
        "id": "_IJGR8Xms13P",
        "colab": {
          "base_uri": "https://localhost:8080/"
        },
        "outputId": "1c0ae874-66d3-42b8-ab6a-610ad5034d60"
      },
      "source": [
        "mylist.remove('apple')\n",
        "mylist"
      ],
      "execution_count": null,
      "outputs": [
        {
          "output_type": "execute_result",
          "data": {
            "text/plain": [
              "['banana', 'cherry', 'orange']"
            ]
          },
          "metadata": {},
          "execution_count": 40
        }
      ]
    },
    {
      "cell_type": "markdown",
      "source": [
        "using Loops:\n",
        "\n",
        "*for*\n",
        "\n",
        "*if*\n",
        "\n",
        "*else*\n",
        "\n",
        "*while*"
      ],
      "metadata": {
        "id": "D9FXCuMESleL"
      }
    },
    {
      "cell_type": "code",
      "metadata": {
        "id": "ff7V2pYltUOK",
        "colab": {
          "base_uri": "https://localhost:8080/"
        },
        "outputId": "d2e58d7a-7794-42c8-cae7-8819ba69d1fc"
      },
      "source": [
        "for fruit in mylist:\n",
        "  print(fruit)"
      ],
      "execution_count": null,
      "outputs": [
        {
          "output_type": "stream",
          "name": "stdout",
          "text": [
            "banana\n",
            "cherry\n",
            "orange\n"
          ]
        }
      ]
    },
    {
      "cell_type": "markdown",
      "source": [
        "using a loop to find out how many of a value are in the list"
      ],
      "metadata": {
        "id": "9lX184k6-93E"
      }
    },
    {
      "cell_type": "code",
      "metadata": {
        "id": "zM9ThMMgteG9",
        "colab": {
          "base_uri": "https://localhost:8080/"
        },
        "outputId": "d398c82e-1ca9-43bf-c6d5-db2a4f3733f6"
      },
      "source": [
        "mylist = [\"apple\", \"banana\", \"cherry\"]*2\n",
        "\n",
        "for fruit in mylist:\n",
        "  if fruit == 'cherry':\n",
        "    print('bingo!')\n",
        "  else:\n",
        "    print('not cherry')"
      ],
      "execution_count": null,
      "outputs": [
        {
          "output_type": "stream",
          "name": "stdout",
          "text": [
            "not cherry\n",
            "not cherry\n",
            "bingo!\n",
            "not cherry\n",
            "not cherry\n",
            "bingo!\n"
          ]
        }
      ]
    },
    {
      "cell_type": "markdown",
      "source": [
        "to select and compute a long list of numbers\n"
      ],
      "metadata": {
        "id": "7sxaZ6BJ_QOR"
      }
    },
    {
      "cell_type": "markdown",
      "source": [
        "adding all the evens"
      ],
      "metadata": {
        "id": "QQC679uE_d-u"
      }
    },
    {
      "cell_type": "code",
      "metadata": {
        "id": "lqqrLBSh0SHg",
        "colab": {
          "base_uri": "https://localhost:8080/"
        },
        "outputId": "bb6c2940-67ac-48f7-ef2c-2aa6e6775714"
      },
      "source": [
        "total = 0 \n",
        "for num in range(1000001):\n",
        "  if num % 2 == 0:\n",
        "    total = total + num\n",
        "\n",
        "total "
      ],
      "execution_count": null,
      "outputs": [
        {
          "output_type": "execute_result",
          "data": {
            "text/plain": [
              "250000500000"
            ]
          },
          "metadata": {},
          "execution_count": 43
        }
      ]
    },
    {
      "cell_type": "markdown",
      "source": [
        " execute a set of statements as long as a condition is true"
      ],
      "metadata": {
        "id": "1z3PErXi_pG5"
      }
    },
    {
      "cell_type": "markdown",
      "source": [
        "adds numbers up as long as the running numbers are less than 100 but bigger than 0\n"
      ],
      "metadata": {
        "id": "wN5LlUwJ_uEN"
      }
    },
    {
      "cell_type": "code",
      "metadata": {
        "id": "m3ZYos82o8K1",
        "colab": {
          "base_uri": "https://localhost:8080/"
        },
        "outputId": "5d2539b7-4319-42ad-8a7a-e22522880350"
      },
      "source": [
        "current_num = 0\n",
        "total = 0\n",
        "\n",
        "while current_num <= 100:\n",
        "  total = total + current_num\n",
        "  current_num = current_num + 1\n",
        "\n",
        "total"
      ],
      "execution_count": null,
      "outputs": [
        {
          "output_type": "execute_result",
          "data": {
            "text/plain": [
              "5050"
            ]
          },
          "metadata": {},
          "execution_count": 44
        }
      ]
    },
    {
      "cell_type": "markdown",
      "source": [
        "add numbers up as long as the running numbers are less than 100 but bigger than 0\n"
      ],
      "metadata": {
        "id": "dJVG-eYHAfXd"
      }
    },
    {
      "cell_type": "markdown",
      "source": [
        "##Functions"
      ],
      "metadata": {
        "id": "7XUYe2xLAusX"
      }
    },
    {
      "cell_type": "markdown",
      "source": [
        "without an argument\n",
        "\n"
      ],
      "metadata": {
        "id": "EU-yqrNyAnVf"
      }
    },
    {
      "cell_type": "code",
      "metadata": {
        "id": "lHQq0HEk1XxV",
        "colab": {
          "base_uri": "https://localhost:8080/",
          "height": 134
        },
        "outputId": "b279d731-7ea2-4e3c-96c2-c474d76e3cbf"
      },
      "source": [
        "def function1(): # no argument in the parenthesis\n",
        "\n",
        "function1() # call the function to execute"
      ],
      "execution_count": null,
      "outputs": [
        {
          "output_type": "error",
          "ename": "IndentationError",
          "evalue": "ignored",
          "traceback": [
            "\u001b[0;36m  File \u001b[0;32m\"<ipython-input-45-f1f4977b120b>\"\u001b[0;36m, line \u001b[0;32m3\u001b[0m\n\u001b[0;31m    function1() # call the function to execute\u001b[0m\n\u001b[0m    ^\u001b[0m\n\u001b[0;31mIndentationError\u001b[0m\u001b[0;31m:\u001b[0m expected an indented block\n"
          ]
        }
      ]
    },
    {
      "cell_type": "markdown",
      "source": [
        ">functions need to be defined with a value. \n",
        ">>There can be zero, one, or more. Commas separated parameters with their optional default values. These are passed to the function."
      ],
      "metadata": {
        "id": "l6aEotx-rL07"
      }
    },
    {
      "cell_type": "markdown",
      "source": [
        "with an argument"
      ],
      "metadata": {
        "id": "GJVRt7zaA5AX"
      }
    },
    {
      "cell_type": "code",
      "metadata": {
        "id": "mDzle9_fnu5J",
        "colab": {
          "base_uri": "https://localhost:8080/"
        },
        "outputId": "a261bb67-aa54-4f07-fb36-1f649af105db"
      },
      "source": [
        "def function2(value): # one argument called value\n",
        "  print('I love', str(value))\n",
        "\n",
        "function2('NYC') # call the function to execute"
      ],
      "execution_count": null,
      "outputs": [
        {
          "output_type": "stream",
          "name": "stdout",
          "text": [
            "I love NYC\n"
          ]
        }
      ]
    },
    {
      "cell_type": "markdown",
      "source": [
        "with multiple values"
      ],
      "metadata": {
        "id": "HyEdJuzkBZV-"
      }
    },
    {
      "cell_type": "code",
      "metadata": {
        "id": "jx24bbIEoGiH"
      },
      "source": [
        "def function3(num, n_power): # on eargument called value\n",
        "  result = num ** n_power\n",
        "  return result "
      ],
      "execution_count": null,
      "outputs": []
    },
    {
      "cell_type": "markdown",
      "source": [
        "return yields the result variable  after running the operation assigned.\n",
        "\n",
        "needs to be nested within the function\n"
      ],
      "metadata": {
        "id": "4tBxtvpAse1y"
      }
    },
    {
      "cell_type": "markdown",
      "source": [
        "call the function\n"
      ],
      "metadata": {
        "id": "7JKLpkQesU2w"
      }
    },
    {
      "cell_type": "code",
      "source": [
        "function3(10, 2.2)"
      ],
      "metadata": {
        "id": "iMgLrCxCsbOs",
        "colab": {
          "base_uri": "https://localhost:8080/"
        },
        "outputId": "d708bd8b-e3ce-4f13-8f73-a26401d5c25f"
      },
      "execution_count": null,
      "outputs": [
        {
          "output_type": "execute_result",
          "data": {
            "text/plain": [
              "158.48931924611142"
            ]
          },
          "metadata": {},
          "execution_count": 48
        }
      ]
    },
    {
      "cell_type": "markdown",
      "metadata": {
        "id": "N0Mdpy-fp0Mu"
      },
      "source": [
        "using define to change change celsius to fahrenheit\n",
        "\n",
        "and then the for if else loop to print the values using new style formatting\n",
        "\n"
      ]
    },
    {
      "cell_type": "markdown",
      "source": [
        "WORKING ON THIS ONE"
      ],
      "metadata": {
        "id": "vtyNjO_cDZOF"
      }
    },
    {
      "cell_type": "code",
      "metadata": {
        "id": "b1QMdxNBlrmJ",
        "colab": {
          "base_uri": "https://localhost:8080/"
        },
        "outputId": "1b666e9b-6a70-46ea-e36a-c313f832ff6a"
      },
      "source": [
        "def temp_c_to_f(c):\n",
        "  c = float(input ('What is the temperature in Fahrenheit if it is this in Celsius? : '))\n",
        "  fahrenheit = c * 9 / 5 + 32\n",
        "  return fahrenheit\n",
        "temp_c_to_f(c)"
      ],
      "execution_count": null,
      "outputs": [
        {
          "name": "stdout",
          "output_type": "stream",
          "text": [
            "What is the temperature in Fahrenheit if it is this in Celsius? : 32\n"
          ]
        },
        {
          "output_type": "execute_result",
          "data": {
            "text/plain": [
              "89.6"
            ]
          },
          "metadata": {},
          "execution_count": 85
        }
      ]
    },
    {
      "cell_type": "code",
      "source": [
        "#def temp_f_to_c(Fa):\n",
        "  #celsius = (Fa - 32) / 1.8\n",
        "  #return celsius\n",
        "#temp_f_to_c(Fa)"
      ],
      "metadata": {
        "id": "CxIAsMLCIZDW",
        "colab": {
          "base_uri": "https://localhost:8080/",
          "height": 207
        },
        "outputId": "d60d8a8e-866f-40e6-d2ea-c5512a7fd72a"
      },
      "execution_count": null,
      "outputs": [
        {
          "output_type": "error",
          "ename": "NameError",
          "evalue": "ignored",
          "traceback": [
            "\u001b[0;31m---------------------------------------------------------------------------\u001b[0m",
            "\u001b[0;31mNameError\u001b[0m                                 Traceback (most recent call last)",
            "\u001b[0;32m<ipython-input-92-bec928c0a69b>\u001b[0m in \u001b[0;36m<cell line: 5>\u001b[0;34m()\u001b[0m\n\u001b[1;32m      3\u001b[0m   \u001b[0mcelsius\u001b[0m \u001b[0;34m=\u001b[0m \u001b[0;34m(\u001b[0m\u001b[0mFa\u001b[0m \u001b[0;34m-\u001b[0m \u001b[0;36m32\u001b[0m\u001b[0;34m)\u001b[0m \u001b[0;34m/\u001b[0m \u001b[0;36m1.8\u001b[0m\u001b[0;34m\u001b[0m\u001b[0;34m\u001b[0m\u001b[0m\n\u001b[1;32m      4\u001b[0m   \u001b[0;32mreturn\u001b[0m \u001b[0mcelsius\u001b[0m\u001b[0;34m\u001b[0m\u001b[0;34m\u001b[0m\u001b[0m\n\u001b[0;32m----> 5\u001b[0;31m \u001b[0mtemp_f_to_c\u001b[0m\u001b[0;34m(\u001b[0m\u001b[0mFa\u001b[0m\u001b[0;34m)\u001b[0m\u001b[0;34m\u001b[0m\u001b[0;34m\u001b[0m\u001b[0m\n\u001b[0m",
            "\u001b[0;31mNameError\u001b[0m: name 'Fa' is not defined"
          ]
        }
      ]
    },
    {
      "cell_type": "code",
      "source": [
        "H = float(input('How tall are you?\\n(using meters)\\n'))\n",
        "W = float(input('How much do you weigh?\\n(using kilos)\\n'))\n",
        "\n",
        "def BMI(H,W):\n",
        "  bmi = W/(H**2)\n",
        "  return bmi\n",
        "\n",
        "print('Your Calculated BMI is:', BMI(H,W))\n"
      ],
      "metadata": {
        "colab": {
          "base_uri": "https://localhost:8080/"
        },
        "id": "nyKRijFCtkhM",
        "outputId": "d9fea079-ce39-4213-81fa-849529c719eb"
      },
      "execution_count": null,
      "outputs": [
        {
          "output_type": "stream",
          "name": "stdout",
          "text": [
            "How tall are you?\n",
            "(using meters)\n",
            "1.79\n",
            "How much do you weigh?\n",
            "(using kilos)\n",
            "79\n",
            "Your Calculated BMI is: 24.65590961580475\n"
          ]
        }
      ]
    },
    {
      "cell_type": "markdown",
      "source": [
        " create a python list and store all the odd numbers from 1 to 1000 in it"
      ],
      "metadata": {
        "id": "OTvJf-8UpoLL"
      }
    },
    {
      "cell_type": "markdown",
      "source": [
        "#For if else statements. "
      ],
      "metadata": {
        "id": "DPzOVimy1dGs"
      }
    },
    {
      "cell_type": "code",
      "source": [
        "number_list = []\n",
        "\n",
        "for number in range(1, 1001):\n",
        "  number_list.append(number)"
      ],
      "metadata": {
        "id": "DQoHGwqFW_x7"
      },
      "execution_count": null,
      "outputs": []
    },
    {
      "cell_type": "code",
      "source": [
        "number_list = [i for i in range(1,1001)]\n",
        "final_list = []\n",
        "for k in number_list:\n",
        "  if k % 2 == 1:\n",
        "    final_list.append(k)\n",
        "\n",
        "final_list"
      ],
      "metadata": {
        "id": "BiI1VUPJXKl0"
      },
      "execution_count": null,
      "outputs": []
    },
    {
      "cell_type": "code",
      "source": [
        "len(number_list)"
      ],
      "metadata": {
        "colab": {
          "base_uri": "https://localhost:8080/"
        },
        "id": "66WwVWXzXLyZ",
        "outputId": "7f74b349-88b0-4add-a9ba-7c0bf89cb6b9"
      },
      "execution_count": null,
      "outputs": [
        {
          "output_type": "execute_result",
          "data": {
            "text/plain": [
              "1000"
            ]
          },
          "metadata": {},
          "execution_count": 95
        }
      ]
    },
    {
      "cell_type": "markdown",
      "source": [
        "another way"
      ],
      "metadata": {
        "id": "XsnOKJYwXbme"
      }
    },
    {
      "cell_type": "code",
      "source": [
        "for num in range(1000):\n",
        "  if num % 2 != 0:\n",
        "    print(num)"
      ],
      "metadata": {
        "id": "DcrPaP1fMUuG"
      },
      "execution_count": null,
      "outputs": []
    },
    {
      "cell_type": "code",
      "source": [
        "GPA = float(input('Check to see if your GPA fits the minimal requirements!\\n Enter your GPA here\\n'))\n",
        "if GPA >3.8 and GPA <= 4.0:\n",
        "    print ('Welcome to the Rice!')\n",
        "elif GPA <= 3.8: \n",
        "    print ('Sorry')\n",
        "else:\n",
        "    print ('Ooops, type a GPA in range Please')"
      ],
      "metadata": {
        "colab": {
          "base_uri": "https://localhost:8080/"
        },
        "id": "evVw5-7zqC6r",
        "outputId": "ba6bcde5-d55b-40f3-cb5b-07f9a73997c6"
      },
      "execution_count": null,
      "outputs": [
        {
          "output_type": "stream",
          "name": "stdout",
          "text": [
            "Check to see if your GPA fits the minimal requirements!\n",
            " Enter your GPA here\n",
            "2.5\n",
            "Sorry\n"
          ]
        }
      ]
    },
    {
      "cell_type": "markdown",
      "source": [
        "### To be continued..."
      ],
      "metadata": {
        "id": "noWVEF8P08vt"
      }
    },
    {
      "cell_type": "markdown",
      "source": [
        " write a function or just use some if-else statement to figure how many prime numbers are there between 100 and 200"
      ],
      "metadata": {
        "id": "ge6Wx1r_qEMk"
      }
    },
    {
      "cell_type": "code",
      "source": [],
      "metadata": {
        "id": "8WcnhTSqOBeM"
      },
      "execution_count": null,
      "outputs": []
    }
  ]
}