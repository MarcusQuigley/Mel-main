{
  "cells": [
    {
      "cell_type": "markdown",
      "source": [
        "# **Introduction**"
      ],
      "metadata": {
        "id": "UwlRo1_HUCzO"
      }
    },
    {
      "cell_type": "markdown",
      "source": [
        "\n",
        "Vision Zero is a strategy to eliminate all traffic fatalities and severe injuries, while increasing safe, healthy, equitable mobility for all. First implemented in Sweden in the 1990s, Vision Zero has proved successful across Europe — and now it's gaining momentum in major American cities."
      ],
      "metadata": {
        "id": "pZaz34iPT6UN"
      }
    },
    {
      "cell_type": "markdown",
      "source": [
        "Vision Zeros impact on accidents and fatalities. \n",
        "\n",
        "Date range:  2012-07-01 00:00:00  -  2023-03-04 00:00:00\n",
        "\n",
        "– Data source – \n",
        "\n",
        "https://data.cityofnewyork.us/Public-Safety/Motor-Vehicle-Collisions-Person/f55k-p6yu\n",
        "\n",
        "Initial import file: Rows, Columns: (1914445, 29)\n",
        "\n",
        "After cleaning: Rows, Columns: (1299585, 29)\n",
        "\n",
        "\n",
        "– Methodologies – \n",
        "\n",
        "Python libraries, types of visualizations, data cleaning, transformations, etc.\n",
        "\n",
        "\n",
        "– Findings and conclusions – \n",
        "\n",
        "what did you learn from the data? Was it what\n",
        "you expected?   stations that are longer than 60 seconds in duration"
      ],
      "metadata": {
        "id": "IQw3zubVTzSn"
      }
    },
    {
      "cell_type": "code",
      "source": [
        "#1. Has NYC Vision zero made an impact on the safety of NYC?\n",
        "#2.  What kind of recommendations can be presented to NYC to improve the program?\n",
        "#3.  What seems to be working or not working?"
      ],
      "metadata": {
        "id": "jAJSINhohhVb"
      },
      "execution_count": 1,
      "outputs": []
    },
    {
      "cell_type": "markdown",
      "source": [
        "# Imports"
      ],
      "metadata": {
        "id": "iLG9KWu4h1Md"
      }
    },
    {
      "cell_type": "code",
      "execution_count": 2,
      "metadata": {
        "id": "e_AIvcbzddPN"
      },
      "outputs": [],
      "source": [
        "import pandas as pd # primary data structure library\n",
        "import numpy as np # useful for many scientific computing in Python\n",
        "import seaborn as sns # useful for plotting and graphing, built upon the matplotlib library.\n",
        "import matplotlib.pyplot as plt\n",
        "import geopy #ploting by location longitude and latitude \n",
        "from geopy.geocoders import Nominatim as nm\n",
        "from sklearn.linear_model import LinearRegression\n",
        "from sklearn.model_selection import train_test_split\n",
        "%matplotlib inline\n",
        "sns.set()"
      ]
    },
    {
      "cell_type": "code",
      "source": [
        "#from google.colab import drive\n",
        "#drive.mount('/content/drive')"
      ],
      "metadata": {
        "id": "LBh5AhGxr7CT"
      },
      "execution_count": 3,
      "outputs": []
    },
    {
      "cell_type": "code",
      "execution_count": 6,
      "metadata": {
        "id": "nFRNw3tJWiYa",
        "colab": {
          "base_uri": "https://localhost:8080/"
        },
        "outputId": "d75e6f82-41b1-479f-c9df-84d7752c854c"
      },
      "outputs": [
        {
          "output_type": "stream",
          "name": "stderr",
          "text": [
            "<ipython-input-6-bc918fb17abe>:4: FutureWarning: The error_bad_lines argument has been deprecated and will be removed in a future version. Use on_bad_lines in the future.\n",
            "\n",
            "\n",
            "  vzmvcc = pd.read_csv('/content/sample_data/Motor_Vehicle_Collisions_-_Person.csv', error_bad_lines = False)\n"
          ]
        }
      ],
      "source": [
        "#Further consideration ['COLLISION_ID']join on\n",
        "#vzmvcpc = pd.read_csv('/content/Motor_Vehicle_Collisions_-_Crashes.csv')\n",
        "\n",
        "vzmvcc = pd.read_csv('/content/sample_data/Motor_Vehicle_Collisions_-_Person.csv', error_bad_lines = False)"
      ]
    },
    {
      "cell_type": "markdown",
      "source": [
        "## **Exploring the data**"
      ],
      "metadata": {
        "id": "RuV1CjqpcbFm"
      }
    },
    {
      "cell_type": "code",
      "execution_count": 7,
      "metadata": {
        "id": "NyG-Duahd-Cc",
        "colab": {
          "base_uri": "https://localhost:8080/"
        },
        "outputId": "7846ee30-c0dc-4631-c861-ee1d5f295f53"
      },
      "outputs": [
        {
          "output_type": "stream",
          "name": "stdout",
          "text": [
            "Rows, Columns: (890959, 21)\n"
          ]
        }
      ],
      "source": [
        "print('Rows, Columns:', vzmvcc.shape)"
      ]
    },
    {
      "cell_type": "code",
      "execution_count": 8,
      "metadata": {
        "id": "_9vpriVRhAwM",
        "colab": {
          "base_uri": "https://localhost:8080/"
        },
        "outputId": "0266636f-1552-475a-d9e4-ab853620d975"
      },
      "outputs": [
        {
          "output_type": "stream",
          "name": "stdout",
          "text": [
            "<class 'pandas.core.frame.DataFrame'>\n",
            "RangeIndex: 890959 entries, 0 to 890958\n",
            "Data columns (total 21 columns):\n",
            " #   Column                 Non-Null Count   Dtype  \n",
            "---  ------                 --------------   -----  \n",
            " 0   UNIQUE_ID              890959 non-null  int64  \n",
            " 1   COLLISION_ID           890959 non-null  int64  \n",
            " 2   CRASH_DATE             890959 non-null  object \n",
            " 3   CRASH_TIME             890959 non-null  object \n",
            " 4   PERSON_ID              890957 non-null  object \n",
            " 5   PERSON_TYPE            890959 non-null  object \n",
            " 6   PERSON_INJURY          890959 non-null  object \n",
            " 7   VEHICLE_ID             834437 non-null  float64\n",
            " 8   PERSON_AGE             815943 non-null  float64\n",
            " 9   EJECTION               444088 non-null  object \n",
            " 10  EMOTIONAL_STATUS       460648 non-null  object \n",
            " 11  BODILY_INJURY          460678 non-null  object \n",
            " 12  POSITION_IN_VEHICLE    444203 non-null  object \n",
            " 13  SAFETY_EQUIPMENT       444168 non-null  object \n",
            " 14  PED_LOCATION           18587 non-null   object \n",
            " 15  PED_ACTION             18540 non-null   object \n",
            " 16  COMPLAINT              460682 non-null  object \n",
            " 17  PED_ROLE               845305 non-null  object \n",
            " 18  CONTRIBUTING_FACTOR_1  17323 non-null   object \n",
            " 19  CONTRIBUTING_FACTOR_2  17296 non-null   object \n",
            " 20  PERSON_SEX             771237 non-null  object \n",
            "dtypes: float64(2), int64(2), object(17)\n",
            "memory usage: 142.7+ MB\n"
          ]
        }
      ],
      "source": [
        "vzmvcc.info()"
      ]
    },
    {
      "cell_type": "code",
      "source": [
        "# display counts of missing values with a summary list\n",
        "vzmvcc.isnull().sum()"
      ],
      "metadata": {
        "id": "OYQiDGxw7FwJ",
        "colab": {
          "base_uri": "https://localhost:8080/"
        },
        "outputId": "73d36ed3-d14d-427c-a7bd-fcc7bb2c1177"
      },
      "execution_count": 9,
      "outputs": [
        {
          "output_type": "execute_result",
          "data": {
            "text/plain": [
              "UNIQUE_ID                     0\n",
              "COLLISION_ID                  0\n",
              "CRASH_DATE                    0\n",
              "CRASH_TIME                    0\n",
              "PERSON_ID                     2\n",
              "PERSON_TYPE                   0\n",
              "PERSON_INJURY                 0\n",
              "VEHICLE_ID                56522\n",
              "PERSON_AGE                75016\n",
              "EJECTION                 446871\n",
              "EMOTIONAL_STATUS         430311\n",
              "BODILY_INJURY            430281\n",
              "POSITION_IN_VEHICLE      446756\n",
              "SAFETY_EQUIPMENT         446791\n",
              "PED_LOCATION             872372\n",
              "PED_ACTION               872419\n",
              "COMPLAINT                430277\n",
              "PED_ROLE                  45654\n",
              "CONTRIBUTING_FACTOR_1    873636\n",
              "CONTRIBUTING_FACTOR_2    873663\n",
              "PERSON_SEX               119722\n",
              "dtype: int64"
            ]
          },
          "metadata": {},
          "execution_count": 9
        }
      ]
    },
    {
      "cell_type": "code",
      "source": [
        "vzmvcc.head()"
      ],
      "metadata": {
        "id": "D0bVSAQ-BOeT",
        "colab": {
          "base_uri": "https://localhost:8080/",
          "height": 525
        },
        "outputId": "d615b25b-d224-4620-fd16-fedff38009bb"
      },
      "execution_count": 10,
      "outputs": [
        {
          "output_type": "execute_result",
          "data": {
            "text/plain": [
              "   UNIQUE_ID  COLLISION_ID  CRASH_DATE CRASH_TIME  \\\n",
              "0   10249006       4229554  10/26/2019       9:43   \n",
              "1   10255054       4230587  10/25/2019      15:15   \n",
              "2   10253177       4230550  10/26/2019      17:55   \n",
              "3    6650180       3565527  11/21/2016      13:05   \n",
              "4   10255516       4231168  10/25/2019      11:16   \n",
              "\n",
              "                              PERSON_ID PERSON_TYPE PERSON_INJURY  VEHICLE_ID  \\\n",
              "0  31aa2bc0-f545-444f-8cdb-f1cb5cf00b89    Occupant   Unspecified  19141108.0   \n",
              "1  4629e500-a73e-48dc-b8fb-53124d124b80    Occupant   Unspecified  19144075.0   \n",
              "2  ae48c136-1383-45db-83f4-2a5eecfb7cff    Occupant   Unspecified  19143133.0   \n",
              "3                               2782525    Occupant   Unspecified         NaN   \n",
              "4  e038e18f-40fb-4471-99cf-345eae36e064    Occupant   Unspecified  19144329.0   \n",
              "\n",
              "   PERSON_AGE     EJECTION  ...   BODILY_INJURY  \\\n",
              "0         NaN          NaN  ...             NaN   \n",
              "1        33.0  Not Ejected  ...  Does Not Apply   \n",
              "2        55.0          NaN  ...             NaN   \n",
              "3         NaN          NaN  ...             NaN   \n",
              "4         7.0  Not Ejected  ...  Does Not Apply   \n",
              "\n",
              "                                 POSITION_IN_VEHICLE    SAFETY_EQUIPMENT  \\\n",
              "0                                                NaN                 NaN   \n",
              "1  Front passenger, if two or more persons, inclu...  Lap Belt & Harness   \n",
              "2                                                NaN                 NaN   \n",
              "3                                                NaN                 NaN   \n",
              "4  Right rear passenger or motorcycle sidecar pas...            Lap Belt   \n",
              "\n",
              "  PED_LOCATION PED_ACTION       COMPLAINT         PED_ROLE  \\\n",
              "0          NaN        NaN             NaN       Registrant   \n",
              "1          NaN        NaN  Does Not Apply        Passenger   \n",
              "2          NaN        NaN             NaN       Registrant   \n",
              "3          NaN        NaN             NaN  Notified Person   \n",
              "4          NaN        NaN  Does Not Apply        Passenger   \n",
              "\n",
              "  CONTRIBUTING_FACTOR_1 CONTRIBUTING_FACTOR_2 PERSON_SEX  \n",
              "0                   NaN                   NaN          U  \n",
              "1                   NaN                   NaN          F  \n",
              "2                   NaN                   NaN          M  \n",
              "3                   NaN                   NaN        NaN  \n",
              "4                   NaN                   NaN          F  \n",
              "\n",
              "[5 rows x 21 columns]"
            ],
            "text/html": [
              "\n",
              "  <div id=\"df-6d876002-8e15-4fe7-935a-7901471660df\">\n",
              "    <div class=\"colab-df-container\">\n",
              "      <div>\n",
              "<style scoped>\n",
              "    .dataframe tbody tr th:only-of-type {\n",
              "        vertical-align: middle;\n",
              "    }\n",
              "\n",
              "    .dataframe tbody tr th {\n",
              "        vertical-align: top;\n",
              "    }\n",
              "\n",
              "    .dataframe thead th {\n",
              "        text-align: right;\n",
              "    }\n",
              "</style>\n",
              "<table border=\"1\" class=\"dataframe\">\n",
              "  <thead>\n",
              "    <tr style=\"text-align: right;\">\n",
              "      <th></th>\n",
              "      <th>UNIQUE_ID</th>\n",
              "      <th>COLLISION_ID</th>\n",
              "      <th>CRASH_DATE</th>\n",
              "      <th>CRASH_TIME</th>\n",
              "      <th>PERSON_ID</th>\n",
              "      <th>PERSON_TYPE</th>\n",
              "      <th>PERSON_INJURY</th>\n",
              "      <th>VEHICLE_ID</th>\n",
              "      <th>PERSON_AGE</th>\n",
              "      <th>EJECTION</th>\n",
              "      <th>...</th>\n",
              "      <th>BODILY_INJURY</th>\n",
              "      <th>POSITION_IN_VEHICLE</th>\n",
              "      <th>SAFETY_EQUIPMENT</th>\n",
              "      <th>PED_LOCATION</th>\n",
              "      <th>PED_ACTION</th>\n",
              "      <th>COMPLAINT</th>\n",
              "      <th>PED_ROLE</th>\n",
              "      <th>CONTRIBUTING_FACTOR_1</th>\n",
              "      <th>CONTRIBUTING_FACTOR_2</th>\n",
              "      <th>PERSON_SEX</th>\n",
              "    </tr>\n",
              "  </thead>\n",
              "  <tbody>\n",
              "    <tr>\n",
              "      <th>0</th>\n",
              "      <td>10249006</td>\n",
              "      <td>4229554</td>\n",
              "      <td>10/26/2019</td>\n",
              "      <td>9:43</td>\n",
              "      <td>31aa2bc0-f545-444f-8cdb-f1cb5cf00b89</td>\n",
              "      <td>Occupant</td>\n",
              "      <td>Unspecified</td>\n",
              "      <td>19141108.0</td>\n",
              "      <td>NaN</td>\n",
              "      <td>NaN</td>\n",
              "      <td>...</td>\n",
              "      <td>NaN</td>\n",
              "      <td>NaN</td>\n",
              "      <td>NaN</td>\n",
              "      <td>NaN</td>\n",
              "      <td>NaN</td>\n",
              "      <td>NaN</td>\n",
              "      <td>Registrant</td>\n",
              "      <td>NaN</td>\n",
              "      <td>NaN</td>\n",
              "      <td>U</td>\n",
              "    </tr>\n",
              "    <tr>\n",
              "      <th>1</th>\n",
              "      <td>10255054</td>\n",
              "      <td>4230587</td>\n",
              "      <td>10/25/2019</td>\n",
              "      <td>15:15</td>\n",
              "      <td>4629e500-a73e-48dc-b8fb-53124d124b80</td>\n",
              "      <td>Occupant</td>\n",
              "      <td>Unspecified</td>\n",
              "      <td>19144075.0</td>\n",
              "      <td>33.0</td>\n",
              "      <td>Not Ejected</td>\n",
              "      <td>...</td>\n",
              "      <td>Does Not Apply</td>\n",
              "      <td>Front passenger, if two or more persons, inclu...</td>\n",
              "      <td>Lap Belt &amp; Harness</td>\n",
              "      <td>NaN</td>\n",
              "      <td>NaN</td>\n",
              "      <td>Does Not Apply</td>\n",
              "      <td>Passenger</td>\n",
              "      <td>NaN</td>\n",
              "      <td>NaN</td>\n",
              "      <td>F</td>\n",
              "    </tr>\n",
              "    <tr>\n",
              "      <th>2</th>\n",
              "      <td>10253177</td>\n",
              "      <td>4230550</td>\n",
              "      <td>10/26/2019</td>\n",
              "      <td>17:55</td>\n",
              "      <td>ae48c136-1383-45db-83f4-2a5eecfb7cff</td>\n",
              "      <td>Occupant</td>\n",
              "      <td>Unspecified</td>\n",
              "      <td>19143133.0</td>\n",
              "      <td>55.0</td>\n",
              "      <td>NaN</td>\n",
              "      <td>...</td>\n",
              "      <td>NaN</td>\n",
              "      <td>NaN</td>\n",
              "      <td>NaN</td>\n",
              "      <td>NaN</td>\n",
              "      <td>NaN</td>\n",
              "      <td>NaN</td>\n",
              "      <td>Registrant</td>\n",
              "      <td>NaN</td>\n",
              "      <td>NaN</td>\n",
              "      <td>M</td>\n",
              "    </tr>\n",
              "    <tr>\n",
              "      <th>3</th>\n",
              "      <td>6650180</td>\n",
              "      <td>3565527</td>\n",
              "      <td>11/21/2016</td>\n",
              "      <td>13:05</td>\n",
              "      <td>2782525</td>\n",
              "      <td>Occupant</td>\n",
              "      <td>Unspecified</td>\n",
              "      <td>NaN</td>\n",
              "      <td>NaN</td>\n",
              "      <td>NaN</td>\n",
              "      <td>...</td>\n",
              "      <td>NaN</td>\n",
              "      <td>NaN</td>\n",
              "      <td>NaN</td>\n",
              "      <td>NaN</td>\n",
              "      <td>NaN</td>\n",
              "      <td>NaN</td>\n",
              "      <td>Notified Person</td>\n",
              "      <td>NaN</td>\n",
              "      <td>NaN</td>\n",
              "      <td>NaN</td>\n",
              "    </tr>\n",
              "    <tr>\n",
              "      <th>4</th>\n",
              "      <td>10255516</td>\n",
              "      <td>4231168</td>\n",
              "      <td>10/25/2019</td>\n",
              "      <td>11:16</td>\n",
              "      <td>e038e18f-40fb-4471-99cf-345eae36e064</td>\n",
              "      <td>Occupant</td>\n",
              "      <td>Unspecified</td>\n",
              "      <td>19144329.0</td>\n",
              "      <td>7.0</td>\n",
              "      <td>Not Ejected</td>\n",
              "      <td>...</td>\n",
              "      <td>Does Not Apply</td>\n",
              "      <td>Right rear passenger or motorcycle sidecar pas...</td>\n",
              "      <td>Lap Belt</td>\n",
              "      <td>NaN</td>\n",
              "      <td>NaN</td>\n",
              "      <td>Does Not Apply</td>\n",
              "      <td>Passenger</td>\n",
              "      <td>NaN</td>\n",
              "      <td>NaN</td>\n",
              "      <td>F</td>\n",
              "    </tr>\n",
              "  </tbody>\n",
              "</table>\n",
              "<p>5 rows × 21 columns</p>\n",
              "</div>\n",
              "      <button class=\"colab-df-convert\" onclick=\"convertToInteractive('df-6d876002-8e15-4fe7-935a-7901471660df')\"\n",
              "              title=\"Convert this dataframe to an interactive table.\"\n",
              "              style=\"display:none;\">\n",
              "        \n",
              "  <svg xmlns=\"http://www.w3.org/2000/svg\" height=\"24px\"viewBox=\"0 0 24 24\"\n",
              "       width=\"24px\">\n",
              "    <path d=\"M0 0h24v24H0V0z\" fill=\"none\"/>\n",
              "    <path d=\"M18.56 5.44l.94 2.06.94-2.06 2.06-.94-2.06-.94-.94-2.06-.94 2.06-2.06.94zm-11 1L8.5 8.5l.94-2.06 2.06-.94-2.06-.94L8.5 2.5l-.94 2.06-2.06.94zm10 10l.94 2.06.94-2.06 2.06-.94-2.06-.94-.94-2.06-.94 2.06-2.06.94z\"/><path d=\"M17.41 7.96l-1.37-1.37c-.4-.4-.92-.59-1.43-.59-.52 0-1.04.2-1.43.59L10.3 9.45l-7.72 7.72c-.78.78-.78 2.05 0 2.83L4 21.41c.39.39.9.59 1.41.59.51 0 1.02-.2 1.41-.59l7.78-7.78 2.81-2.81c.8-.78.8-2.07 0-2.86zM5.41 20L4 18.59l7.72-7.72 1.47 1.35L5.41 20z\"/>\n",
              "  </svg>\n",
              "      </button>\n",
              "      \n",
              "  <style>\n",
              "    .colab-df-container {\n",
              "      display:flex;\n",
              "      flex-wrap:wrap;\n",
              "      gap: 12px;\n",
              "    }\n",
              "\n",
              "    .colab-df-convert {\n",
              "      background-color: #E8F0FE;\n",
              "      border: none;\n",
              "      border-radius: 50%;\n",
              "      cursor: pointer;\n",
              "      display: none;\n",
              "      fill: #1967D2;\n",
              "      height: 32px;\n",
              "      padding: 0 0 0 0;\n",
              "      width: 32px;\n",
              "    }\n",
              "\n",
              "    .colab-df-convert:hover {\n",
              "      background-color: #E2EBFA;\n",
              "      box-shadow: 0px 1px 2px rgba(60, 64, 67, 0.3), 0px 1px 3px 1px rgba(60, 64, 67, 0.15);\n",
              "      fill: #174EA6;\n",
              "    }\n",
              "\n",
              "    [theme=dark] .colab-df-convert {\n",
              "      background-color: #3B4455;\n",
              "      fill: #D2E3FC;\n",
              "    }\n",
              "\n",
              "    [theme=dark] .colab-df-convert:hover {\n",
              "      background-color: #434B5C;\n",
              "      box-shadow: 0px 1px 3px 1px rgba(0, 0, 0, 0.15);\n",
              "      filter: drop-shadow(0px 1px 2px rgba(0, 0, 0, 0.3));\n",
              "      fill: #FFFFFF;\n",
              "    }\n",
              "  </style>\n",
              "\n",
              "      <script>\n",
              "        const buttonEl =\n",
              "          document.querySelector('#df-6d876002-8e15-4fe7-935a-7901471660df button.colab-df-convert');\n",
              "        buttonEl.style.display =\n",
              "          google.colab.kernel.accessAllowed ? 'block' : 'none';\n",
              "\n",
              "        async function convertToInteractive(key) {\n",
              "          const element = document.querySelector('#df-6d876002-8e15-4fe7-935a-7901471660df');\n",
              "          const dataTable =\n",
              "            await google.colab.kernel.invokeFunction('convertToInteractive',\n",
              "                                                     [key], {});\n",
              "          if (!dataTable) return;\n",
              "\n",
              "          const docLinkHtml = 'Like what you see? Visit the ' +\n",
              "            '<a target=\"_blank\" href=https://colab.research.google.com/notebooks/data_table.ipynb>data table notebook</a>'\n",
              "            + ' to learn more about interactive tables.';\n",
              "          element.innerHTML = '';\n",
              "          dataTable['output_type'] = 'display_data';\n",
              "          await google.colab.output.renderOutput(dataTable, element);\n",
              "          const docLink = document.createElement('div');\n",
              "          docLink.innerHTML = docLinkHtml;\n",
              "          element.appendChild(docLink);\n",
              "        }\n",
              "      </script>\n",
              "    </div>\n",
              "  </div>\n",
              "  "
            ]
          },
          "metadata": {},
          "execution_count": 10
        }
      ]
    },
    {
      "cell_type": "code",
      "execution_count": 11,
      "metadata": {
        "id": "rALpe1rShIeZ",
        "colab": {
          "base_uri": "https://localhost:8080/",
          "height": 525
        },
        "outputId": "95ea9cff-172b-41f6-d4dc-611a19de7fc4"
      },
      "outputs": [
        {
          "output_type": "execute_result",
          "data": {
            "text/plain": [
              "   UNIQUE_ID  COLLISION_ID  CRASH_DATE CRASH_TIME  \\\n",
              "0   10249006       4229554  10/26/2019       9:43   \n",
              "1   10255054       4230587  10/25/2019      15:15   \n",
              "2   10253177       4230550  10/26/2019      17:55   \n",
              "3    6650180       3565527  11/21/2016      13:05   \n",
              "4   10255516       4231168  10/25/2019      11:16   \n",
              "\n",
              "                              PERSON_ID PERSON_TYPE PERSON_INJURY  VEHICLE_ID  \\\n",
              "0  31aa2bc0-f545-444f-8cdb-f1cb5cf00b89    Occupant   Unspecified  19141108.0   \n",
              "1  4629e500-a73e-48dc-b8fb-53124d124b80    Occupant   Unspecified  19144075.0   \n",
              "2  ae48c136-1383-45db-83f4-2a5eecfb7cff    Occupant   Unspecified  19143133.0   \n",
              "3                               2782525    Occupant   Unspecified         NaN   \n",
              "4  e038e18f-40fb-4471-99cf-345eae36e064    Occupant   Unspecified  19144329.0   \n",
              "\n",
              "   PERSON_AGE     EJECTION  ...   BODILY_INJURY  \\\n",
              "0         NaN          NaN  ...             NaN   \n",
              "1        33.0  Not Ejected  ...  Does Not Apply   \n",
              "2        55.0          NaN  ...             NaN   \n",
              "3         NaN          NaN  ...             NaN   \n",
              "4         7.0  Not Ejected  ...  Does Not Apply   \n",
              "\n",
              "                                 POSITION_IN_VEHICLE    SAFETY_EQUIPMENT  \\\n",
              "0                                                NaN                 NaN   \n",
              "1  Front passenger, if two or more persons, inclu...  Lap Belt & Harness   \n",
              "2                                                NaN                 NaN   \n",
              "3                                                NaN                 NaN   \n",
              "4  Right rear passenger or motorcycle sidecar pas...            Lap Belt   \n",
              "\n",
              "  PED_LOCATION PED_ACTION       COMPLAINT         PED_ROLE  \\\n",
              "0          NaN        NaN             NaN       Registrant   \n",
              "1          NaN        NaN  Does Not Apply        Passenger   \n",
              "2          NaN        NaN             NaN       Registrant   \n",
              "3          NaN        NaN             NaN  Notified Person   \n",
              "4          NaN        NaN  Does Not Apply        Passenger   \n",
              "\n",
              "  CONTRIBUTING_FACTOR_1 CONTRIBUTING_FACTOR_2 PERSON_SEX  \n",
              "0                   NaN                   NaN          U  \n",
              "1                   NaN                   NaN          F  \n",
              "2                   NaN                   NaN          M  \n",
              "3                   NaN                   NaN        NaN  \n",
              "4                   NaN                   NaN          F  \n",
              "\n",
              "[5 rows x 21 columns]"
            ],
            "text/html": [
              "\n",
              "  <div id=\"df-e6d059fc-85b3-47fe-9573-d40ebc3288a9\">\n",
              "    <div class=\"colab-df-container\">\n",
              "      <div>\n",
              "<style scoped>\n",
              "    .dataframe tbody tr th:only-of-type {\n",
              "        vertical-align: middle;\n",
              "    }\n",
              "\n",
              "    .dataframe tbody tr th {\n",
              "        vertical-align: top;\n",
              "    }\n",
              "\n",
              "    .dataframe thead th {\n",
              "        text-align: right;\n",
              "    }\n",
              "</style>\n",
              "<table border=\"1\" class=\"dataframe\">\n",
              "  <thead>\n",
              "    <tr style=\"text-align: right;\">\n",
              "      <th></th>\n",
              "      <th>UNIQUE_ID</th>\n",
              "      <th>COLLISION_ID</th>\n",
              "      <th>CRASH_DATE</th>\n",
              "      <th>CRASH_TIME</th>\n",
              "      <th>PERSON_ID</th>\n",
              "      <th>PERSON_TYPE</th>\n",
              "      <th>PERSON_INJURY</th>\n",
              "      <th>VEHICLE_ID</th>\n",
              "      <th>PERSON_AGE</th>\n",
              "      <th>EJECTION</th>\n",
              "      <th>...</th>\n",
              "      <th>BODILY_INJURY</th>\n",
              "      <th>POSITION_IN_VEHICLE</th>\n",
              "      <th>SAFETY_EQUIPMENT</th>\n",
              "      <th>PED_LOCATION</th>\n",
              "      <th>PED_ACTION</th>\n",
              "      <th>COMPLAINT</th>\n",
              "      <th>PED_ROLE</th>\n",
              "      <th>CONTRIBUTING_FACTOR_1</th>\n",
              "      <th>CONTRIBUTING_FACTOR_2</th>\n",
              "      <th>PERSON_SEX</th>\n",
              "    </tr>\n",
              "  </thead>\n",
              "  <tbody>\n",
              "    <tr>\n",
              "      <th>0</th>\n",
              "      <td>10249006</td>\n",
              "      <td>4229554</td>\n",
              "      <td>10/26/2019</td>\n",
              "      <td>9:43</td>\n",
              "      <td>31aa2bc0-f545-444f-8cdb-f1cb5cf00b89</td>\n",
              "      <td>Occupant</td>\n",
              "      <td>Unspecified</td>\n",
              "      <td>19141108.0</td>\n",
              "      <td>NaN</td>\n",
              "      <td>NaN</td>\n",
              "      <td>...</td>\n",
              "      <td>NaN</td>\n",
              "      <td>NaN</td>\n",
              "      <td>NaN</td>\n",
              "      <td>NaN</td>\n",
              "      <td>NaN</td>\n",
              "      <td>NaN</td>\n",
              "      <td>Registrant</td>\n",
              "      <td>NaN</td>\n",
              "      <td>NaN</td>\n",
              "      <td>U</td>\n",
              "    </tr>\n",
              "    <tr>\n",
              "      <th>1</th>\n",
              "      <td>10255054</td>\n",
              "      <td>4230587</td>\n",
              "      <td>10/25/2019</td>\n",
              "      <td>15:15</td>\n",
              "      <td>4629e500-a73e-48dc-b8fb-53124d124b80</td>\n",
              "      <td>Occupant</td>\n",
              "      <td>Unspecified</td>\n",
              "      <td>19144075.0</td>\n",
              "      <td>33.0</td>\n",
              "      <td>Not Ejected</td>\n",
              "      <td>...</td>\n",
              "      <td>Does Not Apply</td>\n",
              "      <td>Front passenger, if two or more persons, inclu...</td>\n",
              "      <td>Lap Belt &amp; Harness</td>\n",
              "      <td>NaN</td>\n",
              "      <td>NaN</td>\n",
              "      <td>Does Not Apply</td>\n",
              "      <td>Passenger</td>\n",
              "      <td>NaN</td>\n",
              "      <td>NaN</td>\n",
              "      <td>F</td>\n",
              "    </tr>\n",
              "    <tr>\n",
              "      <th>2</th>\n",
              "      <td>10253177</td>\n",
              "      <td>4230550</td>\n",
              "      <td>10/26/2019</td>\n",
              "      <td>17:55</td>\n",
              "      <td>ae48c136-1383-45db-83f4-2a5eecfb7cff</td>\n",
              "      <td>Occupant</td>\n",
              "      <td>Unspecified</td>\n",
              "      <td>19143133.0</td>\n",
              "      <td>55.0</td>\n",
              "      <td>NaN</td>\n",
              "      <td>...</td>\n",
              "      <td>NaN</td>\n",
              "      <td>NaN</td>\n",
              "      <td>NaN</td>\n",
              "      <td>NaN</td>\n",
              "      <td>NaN</td>\n",
              "      <td>NaN</td>\n",
              "      <td>Registrant</td>\n",
              "      <td>NaN</td>\n",
              "      <td>NaN</td>\n",
              "      <td>M</td>\n",
              "    </tr>\n",
              "    <tr>\n",
              "      <th>3</th>\n",
              "      <td>6650180</td>\n",
              "      <td>3565527</td>\n",
              "      <td>11/21/2016</td>\n",
              "      <td>13:05</td>\n",
              "      <td>2782525</td>\n",
              "      <td>Occupant</td>\n",
              "      <td>Unspecified</td>\n",
              "      <td>NaN</td>\n",
              "      <td>NaN</td>\n",
              "      <td>NaN</td>\n",
              "      <td>...</td>\n",
              "      <td>NaN</td>\n",
              "      <td>NaN</td>\n",
              "      <td>NaN</td>\n",
              "      <td>NaN</td>\n",
              "      <td>NaN</td>\n",
              "      <td>NaN</td>\n",
              "      <td>Notified Person</td>\n",
              "      <td>NaN</td>\n",
              "      <td>NaN</td>\n",
              "      <td>NaN</td>\n",
              "    </tr>\n",
              "    <tr>\n",
              "      <th>4</th>\n",
              "      <td>10255516</td>\n",
              "      <td>4231168</td>\n",
              "      <td>10/25/2019</td>\n",
              "      <td>11:16</td>\n",
              "      <td>e038e18f-40fb-4471-99cf-345eae36e064</td>\n",
              "      <td>Occupant</td>\n",
              "      <td>Unspecified</td>\n",
              "      <td>19144329.0</td>\n",
              "      <td>7.0</td>\n",
              "      <td>Not Ejected</td>\n",
              "      <td>...</td>\n",
              "      <td>Does Not Apply</td>\n",
              "      <td>Right rear passenger or motorcycle sidecar pas...</td>\n",
              "      <td>Lap Belt</td>\n",
              "      <td>NaN</td>\n",
              "      <td>NaN</td>\n",
              "      <td>Does Not Apply</td>\n",
              "      <td>Passenger</td>\n",
              "      <td>NaN</td>\n",
              "      <td>NaN</td>\n",
              "      <td>F</td>\n",
              "    </tr>\n",
              "  </tbody>\n",
              "</table>\n",
              "<p>5 rows × 21 columns</p>\n",
              "</div>\n",
              "      <button class=\"colab-df-convert\" onclick=\"convertToInteractive('df-e6d059fc-85b3-47fe-9573-d40ebc3288a9')\"\n",
              "              title=\"Convert this dataframe to an interactive table.\"\n",
              "              style=\"display:none;\">\n",
              "        \n",
              "  <svg xmlns=\"http://www.w3.org/2000/svg\" height=\"24px\"viewBox=\"0 0 24 24\"\n",
              "       width=\"24px\">\n",
              "    <path d=\"M0 0h24v24H0V0z\" fill=\"none\"/>\n",
              "    <path d=\"M18.56 5.44l.94 2.06.94-2.06 2.06-.94-2.06-.94-.94-2.06-.94 2.06-2.06.94zm-11 1L8.5 8.5l.94-2.06 2.06-.94-2.06-.94L8.5 2.5l-.94 2.06-2.06.94zm10 10l.94 2.06.94-2.06 2.06-.94-2.06-.94-.94-2.06-.94 2.06-2.06.94z\"/><path d=\"M17.41 7.96l-1.37-1.37c-.4-.4-.92-.59-1.43-.59-.52 0-1.04.2-1.43.59L10.3 9.45l-7.72 7.72c-.78.78-.78 2.05 0 2.83L4 21.41c.39.39.9.59 1.41.59.51 0 1.02-.2 1.41-.59l7.78-7.78 2.81-2.81c.8-.78.8-2.07 0-2.86zM5.41 20L4 18.59l7.72-7.72 1.47 1.35L5.41 20z\"/>\n",
              "  </svg>\n",
              "      </button>\n",
              "      \n",
              "  <style>\n",
              "    .colab-df-container {\n",
              "      display:flex;\n",
              "      flex-wrap:wrap;\n",
              "      gap: 12px;\n",
              "    }\n",
              "\n",
              "    .colab-df-convert {\n",
              "      background-color: #E8F0FE;\n",
              "      border: none;\n",
              "      border-radius: 50%;\n",
              "      cursor: pointer;\n",
              "      display: none;\n",
              "      fill: #1967D2;\n",
              "      height: 32px;\n",
              "      padding: 0 0 0 0;\n",
              "      width: 32px;\n",
              "    }\n",
              "\n",
              "    .colab-df-convert:hover {\n",
              "      background-color: #E2EBFA;\n",
              "      box-shadow: 0px 1px 2px rgba(60, 64, 67, 0.3), 0px 1px 3px 1px rgba(60, 64, 67, 0.15);\n",
              "      fill: #174EA6;\n",
              "    }\n",
              "\n",
              "    [theme=dark] .colab-df-convert {\n",
              "      background-color: #3B4455;\n",
              "      fill: #D2E3FC;\n",
              "    }\n",
              "\n",
              "    [theme=dark] .colab-df-convert:hover {\n",
              "      background-color: #434B5C;\n",
              "      box-shadow: 0px 1px 3px 1px rgba(0, 0, 0, 0.15);\n",
              "      filter: drop-shadow(0px 1px 2px rgba(0, 0, 0, 0.3));\n",
              "      fill: #FFFFFF;\n",
              "    }\n",
              "  </style>\n",
              "\n",
              "      <script>\n",
              "        const buttonEl =\n",
              "          document.querySelector('#df-e6d059fc-85b3-47fe-9573-d40ebc3288a9 button.colab-df-convert');\n",
              "        buttonEl.style.display =\n",
              "          google.colab.kernel.accessAllowed ? 'block' : 'none';\n",
              "\n",
              "        async function convertToInteractive(key) {\n",
              "          const element = document.querySelector('#df-e6d059fc-85b3-47fe-9573-d40ebc3288a9');\n",
              "          const dataTable =\n",
              "            await google.colab.kernel.invokeFunction('convertToInteractive',\n",
              "                                                     [key], {});\n",
              "          if (!dataTable) return;\n",
              "\n",
              "          const docLinkHtml = 'Like what you see? Visit the ' +\n",
              "            '<a target=\"_blank\" href=https://colab.research.google.com/notebooks/data_table.ipynb>data table notebook</a>'\n",
              "            + ' to learn more about interactive tables.';\n",
              "          element.innerHTML = '';\n",
              "          dataTable['output_type'] = 'display_data';\n",
              "          await google.colab.output.renderOutput(dataTable, element);\n",
              "          const docLink = document.createElement('div');\n",
              "          docLink.innerHTML = docLinkHtml;\n",
              "          element.appendChild(docLink);\n",
              "        }\n",
              "      </script>\n",
              "    </div>\n",
              "  </div>\n",
              "  "
            ]
          },
          "metadata": {},
          "execution_count": 11
        }
      ],
      "source": [
        "vzmvcc.head()"
      ]
    },
    {
      "cell_type": "code",
      "source": [
        "vzmvcc.columns"
      ],
      "metadata": {
        "id": "illqsBoDPmvn",
        "colab": {
          "base_uri": "https://localhost:8080/"
        },
        "outputId": "b5dc7841-026f-414a-a1c2-0f4a84429c5b"
      },
      "execution_count": 12,
      "outputs": [
        {
          "output_type": "execute_result",
          "data": {
            "text/plain": [
              "Index(['UNIQUE_ID', 'COLLISION_ID', 'CRASH_DATE', 'CRASH_TIME', 'PERSON_ID',\n",
              "       'PERSON_TYPE', 'PERSON_INJURY', 'VEHICLE_ID', 'PERSON_AGE', 'EJECTION',\n",
              "       'EMOTIONAL_STATUS', 'BODILY_INJURY', 'POSITION_IN_VEHICLE',\n",
              "       'SAFETY_EQUIPMENT', 'PED_LOCATION', 'PED_ACTION', 'COMPLAINT',\n",
              "       'PED_ROLE', 'CONTRIBUTING_FACTOR_1', 'CONTRIBUTING_FACTOR_2',\n",
              "       'PERSON_SEX'],\n",
              "      dtype='object')"
            ]
          },
          "metadata": {},
          "execution_count": 12
        }
      ]
    },
    {
      "cell_type": "markdown",
      "source": [
        "# Cleaning, Sorting, Wrangling"
      ],
      "metadata": {
        "id": "WdaqCrKqBg5c"
      }
    },
    {
      "cell_type": "code",
      "source": [
        "# drop duplicate data \n",
        "vzvcc = vzmvcc.drop_duplicates()\n",
        "vzvcc.shape == vzmvcc.shape  \n",
        "# vzmvcc Rows, Columns: (4757334, 21), no duplicate rows"
      ],
      "metadata": {
        "id": "rWE8hszF6Mt2",
        "colab": {
          "base_uri": "https://localhost:8080/"
        },
        "outputId": "6ce82624-a187-4fa6-89ba-9344c0c5f330"
      },
      "execution_count": 13,
      "outputs": [
        {
          "output_type": "execute_result",
          "data": {
            "text/plain": [
              "True"
            ]
          },
          "metadata": {},
          "execution_count": 13
        }
      ]
    },
    {
      "cell_type": "code",
      "source": [
        "print('Rows, Columns:', vzvcc.shape)"
      ],
      "metadata": {
        "id": "kJCUITNqPoBt",
        "colab": {
          "base_uri": "https://localhost:8080/"
        },
        "outputId": "5c088137-7de6-4de4-9eb4-78fa0ed2fba6"
      },
      "execution_count": 14,
      "outputs": [
        {
          "output_type": "stream",
          "name": "stdout",
          "text": [
            "Rows, Columns: (890959, 21)\n"
          ]
        }
      ]
    },
    {
      "cell_type": "code",
      "source": [
        "# check missing values in different columns via heatmap\n",
        "sns.heatmap(vzvcc.isnull(), cbar=False) \n",
        "#the column of ['LOCATION', 'PED_ACTION', 'CONTRIBUTING_FACTOR_1', 'CONTRIBUTING_FACTOR_2'] have many missing values"
      ],
      "metadata": {
        "id": "i3D61A4i6Nuf",
        "colab": {
          "base_uri": "https://localhost:8080/",
          "height": 647
        },
        "outputId": "3d86aa7b-d1c8-43ae-8ff6-306d6d19b91f"
      },
      "execution_count": 15,
      "outputs": [
        {
          "output_type": "execute_result",
          "data": {
            "text/plain": [
              "<Axes: >"
            ]
          },
          "metadata": {},
          "execution_count": 15
        },
        {
          "output_type": "display_data",
          "data": {
            "text/plain": [
              "<Figure size 640x480 with 1 Axes>"
            ],
            "image/png": "[encoded data removed]"
          },
          "metadata": {}
        }
      ]
    },
    {
      "cell_type": "markdown",
      "source": [
        "## Dropping columns"
      ],
      "metadata": {
        "id": "HZN8gjhNlFbv"
      }
    },
    {
      "cell_type": "code",
      "source": [
        "drop_cols = ['PED_LOCATION', 'PED_ACTION', 'CONTRIBUTING_FACTOR_1', 'CONTRIBUTING_FACTOR_2']\n",
        "vzvcc.drop(drop_cols, inplace = True, axis=1)"
      ],
      "metadata": {
        "id": "DBe3MiSNn-d9"
      },
      "execution_count": 16,
      "outputs": []
    },
    {
      "cell_type": "code",
      "source": [
        "vzvcc.shape"
      ],
      "metadata": {
        "id": "SJ7M0FUFmWix",
        "colab": {
          "base_uri": "https://localhost:8080/"
        },
        "outputId": "52dc7249-393b-4722-e860-6564c3c24a9d"
      },
      "execution_count": 17,
      "outputs": [
        {
          "output_type": "execute_result",
          "data": {
            "text/plain": [
              "(890959, 17)"
            ]
          },
          "metadata": {},
          "execution_count": 17
        }
      ]
    },
    {
      "cell_type": "markdown",
      "source": [
        "##Dropping rows with missing values\n"
      ],
      "metadata": {
        "id": "aRQm4XQ00D6W"
      }
    },
    {
      "cell_type": "code",
      "source": [
        "# another way to do it: df3 = df3.dropna()\n",
        "# Vision Zero Vehicle Crash/Colission Report\n",
        "#vzvcc = vzvcc.dropna(inplace = True)"
      ],
      "metadata": {
        "id": "BTrpdFyrjtP5"
      },
      "execution_count": 18,
      "outputs": []
    },
    {
      "cell_type": "code",
      "source": [
        "vzvcr = vzvcc"
      ],
      "metadata": {
        "id": "DGQGt7Q1JpX-"
      },
      "execution_count": 19,
      "outputs": []
    },
    {
      "cell_type": "markdown",
      "source": [
        "##Decriptives/Exploring"
      ],
      "metadata": {
        "id": "ZkPi9s7lzybR"
      }
    },
    {
      "cell_type": "code",
      "source": [
        "print(vzvcr['PERSON_AGE'].value_counts())"
      ],
      "metadata": {
        "id": "gFtINN5vYqSa",
        "colab": {
          "base_uri": "https://localhost:8080/"
        },
        "outputId": "58829d89-be4a-48a1-d228-12ff5da20270"
      },
      "execution_count": 20,
      "outputs": [
        {
          "output_type": "stream",
          "name": "stdout",
          "text": [
            " 0.0       126162\n",
            " 27.0       17687\n",
            " 28.0       17478\n",
            " 29.0       17458\n",
            " 30.0       17336\n",
            "            ...  \n",
            "-922.0          1\n",
            " 820.0          1\n",
            " 1111.0         1\n",
            " 944.0          1\n",
            "-924.0          1\n",
            "Name: PERSON_AGE, Length: 470, dtype: int64\n"
          ]
        }
      ]
    },
    {
      "cell_type": "code",
      "source": [
        "vzvcr.PERSON_AGE = vzvcr.PERSON_AGE.map(lambda x: np.nan if x <0 or x >100 else x)"
      ],
      "metadata": {
        "id": "vyZ4k_M2Wc30"
      },
      "execution_count": 21,
      "outputs": []
    },
    {
      "cell_type": "code",
      "source": [
        "print(vzvcr['PERSON_AGE'].value_counts())"
      ],
      "metadata": {
        "id": "3iw11jwnQtyz",
        "colab": {
          "base_uri": "https://localhost:8080/"
        },
        "outputId": "54b98f13-daae-4958-de39-a457345736b6"
      },
      "execution_count": 22,
      "outputs": [
        {
          "output_type": "stream",
          "name": "stdout",
          "text": [
            "0.0      126162\n",
            "27.0      17687\n",
            "28.0      17478\n",
            "29.0      17458\n",
            "30.0      17336\n",
            "          ...  \n",
            "95.0         52\n",
            "96.0         38\n",
            "100.0        25\n",
            "97.0         19\n",
            "98.0         19\n",
            "Name: PERSON_AGE, Length: 101, dtype: int64\n"
          ]
        }
      ]
    },
    {
      "cell_type": "code",
      "source": [
        "vzvcr.groupby(['PERSON_SEX','PERSON_INJURY'])['PERSON_AGE'].mean().sort_values(ascending=True)"
      ],
      "metadata": {
        "id": "wlMYRRMsO8uL",
        "colab": {
          "base_uri": "https://localhost:8080/"
        },
        "outputId": "ceab0835-3b10-4ed9-85ea-0da628eb6744"
      },
      "execution_count": 23,
      "outputs": [
        {
          "output_type": "execute_result",
          "data": {
            "text/plain": [
              "PERSON_SEX  PERSON_INJURY\n",
              "U           Unspecified       1.626453\n",
              "            Injured          30.277311\n",
              "M           Injured          36.454406\n",
              "F           Unspecified      36.862150\n",
              "            Injured          37.761240\n",
              "M           Unspecified      39.183330\n",
              "            Killed           47.896907\n",
              "F           Killed           60.942529\n",
              "Name: PERSON_AGE, dtype: float64"
            ]
          },
          "metadata": {},
          "execution_count": 23
        }
      ]
    },
    {
      "cell_type": "code",
      "source": [
        "vzvcr.groupby(['PERSON_SEX','PERSON_INJURY'])['PERSON_AGE'].median().sort_values(ascending=True)"
      ],
      "metadata": {
        "id": "IGQs9zu4ugyb",
        "colab": {
          "base_uri": "https://localhost:8080/"
        },
        "outputId": "4f7eb4f0-4e58-46b5-aa4c-3f2669d8c890"
      },
      "execution_count": 24,
      "outputs": [
        {
          "output_type": "execute_result",
          "data": {
            "text/plain": [
              "PERSON_SEX  PERSON_INJURY\n",
              "U           Unspecified       0.0\n",
              "            Injured          30.0\n",
              "M           Injured          34.0\n",
              "F           Injured          35.0\n",
              "            Unspecified      36.0\n",
              "M           Unspecified      39.0\n",
              "            Killed           48.0\n",
              "F           Killed           67.0\n",
              "Name: PERSON_AGE, dtype: float64"
            ]
          },
          "metadata": {},
          "execution_count": 24
        }
      ]
    },
    {
      "cell_type": "code",
      "source": [
        "print('Personal Injury: \\n',vzvcr['PERSON_INJURY'].value_counts())"
      ],
      "metadata": {
        "id": "EiuokyJ0ux3o",
        "colab": {
          "base_uri": "https://localhost:8080/"
        },
        "outputId": "26741ec3-f86b-4f7e-c876-b52452bcead5"
      },
      "execution_count": 25,
      "outputs": [
        {
          "output_type": "stream",
          "name": "stdout",
          "text": [
            "Personal Injury: \n",
            " Unspecified    783222\n",
            "Injured        107241\n",
            "Killed            496\n",
            "Name: PERSON_INJURY, dtype: int64\n"
          ]
        }
      ]
    },
    {
      "cell_type": "code",
      "source": [
        "vzvcr.COLLISION_ID.is_unique"
      ],
      "metadata": {
        "id": "wsWsuLY5IAt3",
        "colab": {
          "base_uri": "https://localhost:8080/"
        },
        "outputId": "f7fe5b3c-1b96-45c9-f722-1ca24155fa01"
      },
      "execution_count": 26,
      "outputs": [
        {
          "output_type": "execute_result",
          "data": {
            "text/plain": [
              "False"
            ]
          },
          "metadata": {},
          "execution_count": 26
        }
      ]
    },
    {
      "cell_type": "code",
      "source": [
        "#INDEX\n",
        "vzvcr.UNIQUE_ID.is_unique"
      ],
      "metadata": {
        "id": "JLHeP4diEy--",
        "colab": {
          "base_uri": "https://localhost:8080/"
        },
        "outputId": "c575f4cd-c637-4ee6-9ac2-3b38a28106aa"
      },
      "execution_count": 27,
      "outputs": [
        {
          "output_type": "execute_result",
          "data": {
            "text/plain": [
              "True"
            ]
          },
          "metadata": {},
          "execution_count": 27
        }
      ]
    },
    {
      "cell_type": "code",
      "source": [
        "print(vzvcr['EMOTIONAL_STATUS'].unique())"
      ],
      "metadata": {
        "id": "a8hj2WfIzIuw",
        "colab": {
          "base_uri": "https://localhost:8080/"
        },
        "outputId": "27e5f576-d2a7-4391-ada0-7d02df7558c7"
      },
      "execution_count": 28,
      "outputs": [
        {
          "output_type": "stream",
          "name": "stdout",
          "text": [
            "[nan 'Does Not Apply' 'Conscious' 'Unknown' 'Shock' 'Incoherent'\n",
            " 'Semiconscious' 'Apparent Death' 'Unconscious']\n"
          ]
        }
      ]
    },
    {
      "cell_type": "code",
      "source": [
        "vzvcr.groupby(['PERSON_SEX','EMOTIONAL_STATUS'])['PERSON_AGE'].mean().sort_values(ascending=True)"
      ],
      "metadata": {
        "id": "lngiPAW2Y-8d",
        "colab": {
          "base_uri": "https://localhost:8080/"
        },
        "outputId": "c6cd731d-a1d6-46d7-ae4a-669d3938f7b2"
      },
      "execution_count": 29,
      "outputs": [
        {
          "output_type": "execute_result",
          "data": {
            "text/plain": [
              "PERSON_SEX  EMOTIONAL_STATUS\n",
              "U           Unknown             11.178571\n",
              "            Does Not Apply      19.651456\n",
              "            Conscious           32.495575\n",
              "M           Unknown             33.835648\n",
              "F           Unknown             34.588643\n",
              "M           Shock               36.439768\n",
              "F           Does Not Apply      36.889586\n",
              "M           Conscious           36.994722\n",
              "F           Conscious           37.810213\n",
              "            Shock               38.078105\n",
              "M           Semiconscious       38.771523\n",
              "            Does Not Apply      39.405927\n",
              "U           Unconscious         40.000000\n",
              "M           Incoherent          40.440860\n",
              "            Apparent Death      40.956284\n",
              "            Unconscious         41.537037\n",
              "F           Semiconscious       44.647059\n",
              "            Unconscious         44.750000\n",
              "            Incoherent          44.850746\n",
              "            Apparent Death      50.757576\n",
              "U           Shock               52.000000\n",
              "            Apparent Death            NaN\n",
              "            Semiconscious             NaN\n",
              "Name: PERSON_AGE, dtype: float64"
            ]
          },
          "metadata": {},
          "execution_count": 29
        }
      ]
    },
    {
      "cell_type": "code",
      "source": [
        "vzvcr.groupby(['PERSON_SEX','EMOTIONAL_STATUS'])['PERSON_AGE'].median().sort_values(ascending=True)"
      ],
      "metadata": {
        "id": "uYq71JRPfx1b",
        "colab": {
          "base_uri": "https://localhost:8080/"
        },
        "outputId": "76a4c03d-cd39-4799-a240-15299fa156ec"
      },
      "execution_count": 30,
      "outputs": [
        {
          "output_type": "execute_result",
          "data": {
            "text/plain": [
              "PERSON_SEX  EMOTIONAL_STATUS\n",
              "U           Unknown              0.0\n",
              "            Does Not Apply      11.0\n",
              "M           Unknown             31.0\n",
              "F           Unknown             32.0\n",
              "U           Conscious           34.0\n",
              "M           Shock               34.0\n",
              "F           Conscious           35.0\n",
              "            Does Not Apply      35.0\n",
              "M           Conscious           35.0\n",
              "            Semiconscious       35.0\n",
              "F           Shock               36.0\n",
              "M           Incoherent          37.5\n",
              "            Unconscious         38.0\n",
              "            Does Not Apply      38.0\n",
              "            Apparent Death      39.0\n",
              "U           Unconscious         40.0\n",
              "F           Incoherent          41.0\n",
              "            Unconscious         43.5\n",
              "            Semiconscious       45.0\n",
              "U           Shock               52.0\n",
              "F           Apparent Death      52.0\n",
              "U           Apparent Death       NaN\n",
              "            Semiconscious        NaN\n",
              "Name: PERSON_AGE, dtype: float64"
            ]
          },
          "metadata": {},
          "execution_count": 30
        }
      ]
    },
    {
      "cell_type": "code",
      "source": [
        "print(vzvcr['PERSON_SEX'].unique())"
      ],
      "metadata": {
        "id": "s1V0yfxJygW0",
        "colab": {
          "base_uri": "https://localhost:8080/"
        },
        "outputId": "75b6ac4f-7d50-471a-9ae9-612749e991a3"
      },
      "execution_count": 31,
      "outputs": [
        {
          "output_type": "stream",
          "name": "stdout",
          "text": [
            "['U' 'F' 'M' nan]\n"
          ]
        }
      ]
    },
    {
      "cell_type": "code",
      "source": [
        "print(vzvcr['PERSON_TYPE'].unique())"
      ],
      "metadata": {
        "id": "9jMtCzcPlHfJ",
        "colab": {
          "base_uri": "https://localhost:8080/"
        },
        "outputId": "0582320e-f557-41d2-dd41-a2ad8981efb9"
      },
      "execution_count": 32,
      "outputs": [
        {
          "output_type": "stream",
          "name": "stdout",
          "text": [
            "['Occupant' 'Pedestrian' 'Bicyclist' 'Other Motorized']\n"
          ]
        }
      ]
    },
    {
      "cell_type": "code",
      "source": [
        "vzvcr.columns"
      ],
      "metadata": {
        "id": "1xfq583RHVUK",
        "colab": {
          "base_uri": "https://localhost:8080/"
        },
        "outputId": "27d7304e-1aeb-4e01-a7c7-f0ab6a3c405e"
      },
      "execution_count": 33,
      "outputs": [
        {
          "output_type": "execute_result",
          "data": {
            "text/plain": [
              "Index(['UNIQUE_ID', 'COLLISION_ID', 'CRASH_DATE', 'CRASH_TIME', 'PERSON_ID',\n",
              "       'PERSON_TYPE', 'PERSON_INJURY', 'VEHICLE_ID', 'PERSON_AGE', 'EJECTION',\n",
              "       'EMOTIONAL_STATUS', 'BODILY_INJURY', 'POSITION_IN_VEHICLE',\n",
              "       'SAFETY_EQUIPMENT', 'COMPLAINT', 'PED_ROLE', 'PERSON_SEX'],\n",
              "      dtype='object')"
            ]
          },
          "metadata": {},
          "execution_count": 33
        }
      ]
    },
    {
      "cell_type": "markdown",
      "source": [
        "## **Renaming columns**"
      ],
      "metadata": {
        "id": "M4hX2NMtTsjj"
      }
    },
    {
      "cell_type": "code",
      "source": [
        "vzbcr = vzvcr.rename(columns= {'CRASH_DATE': 'DATE', 'CRASH_TIME': 'TIME', 'PERSON_AGE': 'AGE', 'PERSON_SEX': 'GENDER'})"
      ],
      "metadata": {
        "id": "28NhUksFFPNc"
      },
      "execution_count": 34,
      "outputs": []
    },
    {
      "cell_type": "code",
      "source": [
        "vzbcr.columns"
      ],
      "metadata": {
        "id": "C1q03Or2JrOn",
        "colab": {
          "base_uri": "https://localhost:8080/"
        },
        "outputId": "1c1d3758-823b-4f07-8ce6-1b44c17240d7"
      },
      "execution_count": 35,
      "outputs": [
        {
          "output_type": "execute_result",
          "data": {
            "text/plain": [
              "Index(['UNIQUE_ID', 'COLLISION_ID', 'DATE', 'TIME', 'PERSON_ID', 'PERSON_TYPE',\n",
              "       'PERSON_INJURY', 'VEHICLE_ID', 'AGE', 'EJECTION', 'EMOTIONAL_STATUS',\n",
              "       'BODILY_INJURY', 'POSITION_IN_VEHICLE', 'SAFETY_EQUIPMENT', 'COMPLAINT',\n",
              "       'PED_ROLE', 'GENDER'],\n",
              "      dtype='object')"
            ]
          },
          "metadata": {},
          "execution_count": 35
        }
      ]
    },
    {
      "cell_type": "markdown",
      "source": [
        "## Converting the date and time columns to to their specified data types"
      ],
      "metadata": {
        "id": "BJlzrzJxxn6Q"
      }
    },
    {
      "cell_type": "code",
      "source": [
        "# Converting the date column to its specified data type\n",
        "vzvcr['DATE'] = pd.to_datetime(vzbcr['DATE'])"
      ],
      "metadata": {
        "id": "KDrdO9POhQ1p"
      },
      "execution_count": 45,
      "outputs": []
    },
    {
      "cell_type": "code",
      "source": [
        "#check min max crash dates\n",
        "min_date = min(vzvcr['DATE'])\n",
        "max_date = max(vzvcr['DATE'])\n",
        "print('Date range: ', min_date, ' - ', max_date)"
      ],
      "metadata": {
        "id": "j5OebHX3fBQL",
        "colab": {
          "base_uri": "https://localhost:8080/"
        },
        "outputId": "1068a612-eed2-4e2b-f0f1-f7f43b12bf42"
      },
      "execution_count": 46,
      "outputs": [
        {
          "output_type": "stream",
          "name": "stdout",
          "text": [
            "Date range:  2012-07-01 00:00:00  -  2023-03-04 00:00:00\n"
          ]
        }
      ]
    },
    {
      "cell_type": "code",
      "source": [
        "# Creating three new columns for easy querying\n",
        "vzvcr['YEAR'] = vzvcr.DATE.dt.year\n",
        "vzvcr['MONTH'] = vzvcr.DATE.dt.month\n",
        "vzvcr['DAY'] = vzvcr.DATE.dt.day"
      ],
      "metadata": {
        "id": "5ooCE9wv8dsf"
      },
      "execution_count": 48,
      "outputs": []
    },
    {
      "cell_type": "markdown",
      "source": [
        "## **Narrowing the PERSON_TYPE to Bicycling Looking for the affects by year of Vision zero ecspecially in relation to the areas that citibike is expanding into. (need to cross compare analysis to city bike expansion data.**"
      ],
      "metadata": {
        "id": "xxlmCxRG1mw0"
      }
    },
    {
      "cell_type": "markdown",
      "source": [
        "#Visualizations"
      ],
      "metadata": {
        "id": "psw3GqyZ9XUU"
      }
    },
    {
      "cell_type": "markdown",
      "source": [
        "##2019 Bicycle realted incidencts \n"
      ],
      "metadata": {
        "id": "0vZ8GWWVydDH"
      }
    },
    {
      "cell_type": "code",
      "source": [
        "vzbr2019 = vzvcr"
      ],
      "metadata": {
        "id": "3Z-7iSN91S78"
      },
      "execution_count": 53,
      "outputs": []
    },
    {
      "cell_type": "code",
      "source": [
        "vzbr2019.tail()"
      ],
      "metadata": {
        "colab": {
          "base_uri": "https://localhost:8080/",
          "height": 560
        },
        "id": "FhlcZAhErED6",
        "outputId": "35f5518a-acfa-487a-b1e1-b8b7df1758c8"
      },
      "execution_count": 57,
      "outputs": [
        {
          "output_type": "execute_result",
          "data": {
            "text/plain": [
              "        UNIQUE_ID  COLLISION_ID  CRASH_DATE CRASH_TIME  \\\n",
              "890954    7124648       3729950  08/09/2017       0:00   \n",
              "890955    9708063       3964958  08/17/2018      15:57   \n",
              "890956    7006916       3677251  05/20/2017      20:55   \n",
              "890957    9069864       4093081  03/07/2019      11:45   \n",
              "890958    6040840       3599715  01/13/2017      16:33   \n",
              "\n",
              "                                   PERSON_ID PERSON_TYPE PERSON_INJURY  \\\n",
              "890954  09fbbc72-adcc-48d4-a0f9-32359d9f430c    Occupant   Unspecified   \n",
              "890955  482390bb-7af7-4e13-bbf3-814bf7ac1e26    Occupant       Injured   \n",
              "890956  86db74ae-1972-4920-ba9b-1e1b8a352938    Occupant   Unspecified   \n",
              "890957  9b3781c6-3a2f-4d57-be73-528b6aa4f1b4    Occupant   Unspecified   \n",
              "890958  517d407b-1d69-42aa-990f-eaddbf0d93d6    Occupant   Unspecified   \n",
              "\n",
              "        VEHICLE_ID  PERSON_AGE     EJECTION  ...   BODILY_INJURY  \\\n",
              "890954  17600786.0         0.0          NaN  ...             NaN   \n",
              "890955  18871760.0        58.0  Not Ejected  ...           Chest   \n",
              "890956  17544572.0        37.0  Not Ejected  ...  Does Not Apply   \n",
              "890957  18557113.0        12.0  Not Ejected  ...  Does Not Apply   \n",
              "890958  17083749.0         0.0          NaN  ...             NaN   \n",
              "\n",
              "                                      POSITION_IN_VEHICLE    SAFETY_EQUIPMENT  \\\n",
              "890954                                                NaN                 NaN   \n",
              "890955                                             Driver  Lap Belt & Harness   \n",
              "890956                                             Driver  Lap Belt & Harness   \n",
              "890957  Any person in the rear of a station wagon, pic...            Lap Belt   \n",
              "890958                                                NaN                 NaN   \n",
              "\n",
              "                          COMPLAINT    PED_ROLE PERSON_SEX       DATE  YEAR  \\\n",
              "890954                          NaN  Registrant          M 2017-08-09  2017   \n",
              "890955  Complaint of Pain or Nausea      Driver          F 2018-08-17  2018   \n",
              "890956               Does Not Apply      Driver          M 2017-05-20  2017   \n",
              "890957               Does Not Apply   Passenger          F 2019-03-07  2019   \n",
              "890958                          NaN         NaN        NaN 2017-01-13  2017   \n",
              "\n",
              "        MONTH  DAY  \n",
              "890954      8    9  \n",
              "890955      8   17  \n",
              "890956      5   20  \n",
              "890957      3    7  \n",
              "890958      1   13  \n",
              "\n",
              "[5 rows x 21 columns]"
            ],
            "text/html": [
              "\n",
              "  <div id=\"df-ff8ce32a-c11e-40d7-acf2-d0518a2b3a5b\">\n",
              "    <div class=\"colab-df-container\">\n",
              "      <div>\n",
              "<style scoped>\n",
              "    .dataframe tbody tr th:only-of-type {\n",
              "        vertical-align: middle;\n",
              "    }\n",
              "\n",
              "    .dataframe tbody tr th {\n",
              "        vertical-align: top;\n",
              "    }\n",
              "\n",
              "    .dataframe thead th {\n",
              "        text-align: right;\n",
              "    }\n",
              "</style>\n",
              "<table border=\"1\" class=\"dataframe\">\n",
              "  <thead>\n",
              "    <tr style=\"text-align: right;\">\n",
              "      <th></th>\n",
              "      <th>UNIQUE_ID</th>\n",
              "      <th>COLLISION_ID</th>\n",
              "      <th>CRASH_DATE</th>\n",
              "      <th>CRASH_TIME</th>\n",
              "      <th>PERSON_ID</th>\n",
              "      <th>PERSON_TYPE</th>\n",
              "      <th>PERSON_INJURY</th>\n",
              "      <th>VEHICLE_ID</th>\n",
              "      <th>PERSON_AGE</th>\n",
              "      <th>EJECTION</th>\n",
              "      <th>...</th>\n",
              "      <th>BODILY_INJURY</th>\n",
              "      <th>POSITION_IN_VEHICLE</th>\n",
              "      <th>SAFETY_EQUIPMENT</th>\n",
              "      <th>COMPLAINT</th>\n",
              "      <th>PED_ROLE</th>\n",
              "      <th>PERSON_SEX</th>\n",
              "      <th>DATE</th>\n",
              "      <th>YEAR</th>\n",
              "      <th>MONTH</th>\n",
              "      <th>DAY</th>\n",
              "    </tr>\n",
              "  </thead>\n",
              "  <tbody>\n",
              "    <tr>\n",
              "      <th>890954</th>\n",
              "      <td>7124648</td>\n",
              "      <td>3729950</td>\n",
              "      <td>08/09/2017</td>\n",
              "      <td>0:00</td>\n",
              "      <td>09fbbc72-adcc-48d4-a0f9-32359d9f430c</td>\n",
              "      <td>Occupant</td>\n",
              "      <td>Unspecified</td>\n",
              "      <td>17600786.0</td>\n",
              "      <td>0.0</td>\n",
              "      <td>NaN</td>\n",
              "      <td>...</td>\n",
              "      <td>NaN</td>\n",
              "      <td>NaN</td>\n",
              "      <td>NaN</td>\n",
              "      <td>NaN</td>\n",
              "      <td>Registrant</td>\n",
              "      <td>M</td>\n",
              "      <td>2017-08-09</td>\n",
              "      <td>2017</td>\n",
              "      <td>8</td>\n",
              "      <td>9</td>\n",
              "    </tr>\n",
              "    <tr>\n",
              "      <th>890955</th>\n",
              "      <td>9708063</td>\n",
              "      <td>3964958</td>\n",
              "      <td>08/17/2018</td>\n",
              "      <td>15:57</td>\n",
              "      <td>482390bb-7af7-4e13-bbf3-814bf7ac1e26</td>\n",
              "      <td>Occupant</td>\n",
              "      <td>Injured</td>\n",
              "      <td>18871760.0</td>\n",
              "      <td>58.0</td>\n",
              "      <td>Not Ejected</td>\n",
              "      <td>...</td>\n",
              "      <td>Chest</td>\n",
              "      <td>Driver</td>\n",
              "      <td>Lap Belt &amp; Harness</td>\n",
              "      <td>Complaint of Pain or Nausea</td>\n",
              "      <td>Driver</td>\n",
              "      <td>F</td>\n",
              "      <td>2018-08-17</td>\n",
              "      <td>2018</td>\n",
              "      <td>8</td>\n",
              "      <td>17</td>\n",
              "    </tr>\n",
              "    <tr>\n",
              "      <th>890956</th>\n",
              "      <td>7006916</td>\n",
              "      <td>3677251</td>\n",
              "      <td>05/20/2017</td>\n",
              "      <td>20:55</td>\n",
              "      <td>86db74ae-1972-4920-ba9b-1e1b8a352938</td>\n",
              "      <td>Occupant</td>\n",
              "      <td>Unspecified</td>\n",
              "      <td>17544572.0</td>\n",
              "      <td>37.0</td>\n",
              "      <td>Not Ejected</td>\n",
              "      <td>...</td>\n",
              "      <td>Does Not Apply</td>\n",
              "      <td>Driver</td>\n",
              "      <td>Lap Belt &amp; Harness</td>\n",
              "      <td>Does Not Apply</td>\n",
              "      <td>Driver</td>\n",
              "      <td>M</td>\n",
              "      <td>2017-05-20</td>\n",
              "      <td>2017</td>\n",
              "      <td>5</td>\n",
              "      <td>20</td>\n",
              "    </tr>\n",
              "    <tr>\n",
              "      <th>890957</th>\n",
              "      <td>9069864</td>\n",
              "      <td>4093081</td>\n",
              "      <td>03/07/2019</td>\n",
              "      <td>11:45</td>\n",
              "      <td>9b3781c6-3a2f-4d57-be73-528b6aa4f1b4</td>\n",
              "      <td>Occupant</td>\n",
              "      <td>Unspecified</td>\n",
              "      <td>18557113.0</td>\n",
              "      <td>12.0</td>\n",
              "      <td>Not Ejected</td>\n",
              "      <td>...</td>\n",
              "      <td>Does Not Apply</td>\n",
              "      <td>Any person in the rear of a station wagon, pic...</td>\n",
              "      <td>Lap Belt</td>\n",
              "      <td>Does Not Apply</td>\n",
              "      <td>Passenger</td>\n",
              "      <td>F</td>\n",
              "      <td>2019-03-07</td>\n",
              "      <td>2019</td>\n",
              "      <td>3</td>\n",
              "      <td>7</td>\n",
              "    </tr>\n",
              "    <tr>\n",
              "      <th>890958</th>\n",
              "      <td>6040840</td>\n",
              "      <td>3599715</td>\n",
              "      <td>01/13/2017</td>\n",
              "      <td>16:33</td>\n",
              "      <td>517d407b-1d69-42aa-990f-eaddbf0d93d6</td>\n",
              "      <td>Occupant</td>\n",
              "      <td>Unspecified</td>\n",
              "      <td>17083749.0</td>\n",
              "      <td>0.0</td>\n",
              "      <td>NaN</td>\n",
              "      <td>...</td>\n",
              "      <td>NaN</td>\n",
              "      <td>NaN</td>\n",
              "      <td>NaN</td>\n",
              "      <td>NaN</td>\n",
              "      <td>NaN</td>\n",
              "      <td>NaN</td>\n",
              "      <td>2017-01-13</td>\n",
              "      <td>2017</td>\n",
              "      <td>1</td>\n",
              "      <td>13</td>\n",
              "    </tr>\n",
              "  </tbody>\n",
              "</table>\n",
              "<p>5 rows × 21 columns</p>\n",
              "</div>\n",
              "      <button class=\"colab-df-convert\" onclick=\"convertToInteractive('df-ff8ce32a-c11e-40d7-acf2-d0518a2b3a5b')\"\n",
              "              title=\"Convert this dataframe to an interactive table.\"\n",
              "              style=\"display:none;\">\n",
              "        \n",
              "  <svg xmlns=\"http://www.w3.org/2000/svg\" height=\"24px\"viewBox=\"0 0 24 24\"\n",
              "       width=\"24px\">\n",
              "    <path d=\"M0 0h24v24H0V0z\" fill=\"none\"/>\n",
              "    <path d=\"M18.56 5.44l.94 2.06.94-2.06 2.06-.94-2.06-.94-.94-2.06-.94 2.06-2.06.94zm-11 1L8.5 8.5l.94-2.06 2.06-.94-2.06-.94L8.5 2.5l-.94 2.06-2.06.94zm10 10l.94 2.06.94-2.06 2.06-.94-2.06-.94-.94-2.06-.94 2.06-2.06.94z\"/><path d=\"M17.41 7.96l-1.37-1.37c-.4-.4-.92-.59-1.43-.59-.52 0-1.04.2-1.43.59L10.3 9.45l-7.72 7.72c-.78.78-.78 2.05 0 2.83L4 21.41c.39.39.9.59 1.41.59.51 0 1.02-.2 1.41-.59l7.78-7.78 2.81-2.81c.8-.78.8-2.07 0-2.86zM5.41 20L4 18.59l7.72-7.72 1.47 1.35L5.41 20z\"/>\n",
              "  </svg>\n",
              "      </button>\n",
              "      \n",
              "  <style>\n",
              "    .colab-df-container {\n",
              "      display:flex;\n",
              "      flex-wrap:wrap;\n",
              "      gap: 12px;\n",
              "    }\n",
              "\n",
              "    .colab-df-convert {\n",
              "      background-color: #E8F0FE;\n",
              "      border: none;\n",
              "      border-radius: 50%;\n",
              "      cursor: pointer;\n",
              "      display: none;\n",
              "      fill: #1967D2;\n",
              "      height: 32px;\n",
              "      padding: 0 0 0 0;\n",
              "      width: 32px;\n",
              "    }\n",
              "\n",
              "    .colab-df-convert:hover {\n",
              "      background-color: #E2EBFA;\n",
              "      box-shadow: 0px 1px 2px rgba(60, 64, 67, 0.3), 0px 1px 3px 1px rgba(60, 64, 67, 0.15);\n",
              "      fill: #174EA6;\n",
              "    }\n",
              "\n",
              "    [theme=dark] .colab-df-convert {\n",
              "      background-color: #3B4455;\n",
              "      fill: #D2E3FC;\n",
              "    }\n",
              "\n",
              "    [theme=dark] .colab-df-convert:hover {\n",
              "      background-color: #434B5C;\n",
              "      box-shadow: 0px 1px 3px 1px rgba(0, 0, 0, 0.15);\n",
              "      filter: drop-shadow(0px 1px 2px rgba(0, 0, 0, 0.3));\n",
              "      fill: #FFFFFF;\n",
              "    }\n",
              "  </style>\n",
              "\n",
              "      <script>\n",
              "        const buttonEl =\n",
              "          document.querySelector('#df-ff8ce32a-c11e-40d7-acf2-d0518a2b3a5b button.colab-df-convert');\n",
              "        buttonEl.style.display =\n",
              "          google.colab.kernel.accessAllowed ? 'block' : 'none';\n",
              "\n",
              "        async function convertToInteractive(key) {\n",
              "          const element = document.querySelector('#df-ff8ce32a-c11e-40d7-acf2-d0518a2b3a5b');\n",
              "          const dataTable =\n",
              "            await google.colab.kernel.invokeFunction('convertToInteractive',\n",
              "                                                     [key], {});\n",
              "          if (!dataTable) return;\n",
              "\n",
              "          const docLinkHtml = 'Like what you see? Visit the ' +\n",
              "            '<a target=\"_blank\" href=https://colab.research.google.com/notebooks/data_table.ipynb>data table notebook</a>'\n",
              "            + ' to learn more about interactive tables.';\n",
              "          element.innerHTML = '';\n",
              "          dataTable['output_type'] = 'display_data';\n",
              "          await google.colab.output.renderOutput(dataTable, element);\n",
              "          const docLink = document.createElement('div');\n",
              "          docLink.innerHTML = docLinkHtml;\n",
              "          element.appendChild(docLink);\n",
              "        }\n",
              "      </script>\n",
              "    </div>\n",
              "  </div>\n",
              "  "
            ]
          },
          "metadata": {},
          "execution_count": 57
        }
      ]
    },
    {
      "cell_type": "code",
      "source": [
        "after2019 = vzbr2019[(vzbr2019['DATE'] <= '2019-01-01') | (vzbr2019['DATE'] >= '2019-12-31') | (vzbr2019['PERSON_TYPE'] == 'Occupant') | (vzbr2019['PERSON_TYPE'] == 'Pedestrian') | (vzbr2019['PERSON_TYPE'] == 'Other Motorized')].index\n",
        "vzbr2019.drop(after2019, inplace=True)\n",
        "#| (vzbr2020['PERSON_INJURY'] == 'Unspecified') "
      ],
      "metadata": {
        "id": "M9ve7Vfm04-I"
      },
      "execution_count": 60,
      "outputs": []
    },
    {
      "cell_type": "code",
      "source": [
        "sns.heatmap(vzbr2019.isnull(), cbar=False) "
      ],
      "metadata": {
        "id": "TObcYbAOEyyu",
        "colab": {
          "base_uri": "https://localhost:8080/",
          "height": 613
        },
        "outputId": "79fca9e3-9306-4064-93a9-73186052a04c"
      },
      "execution_count": 61,
      "outputs": [
        {
          "output_type": "execute_result",
          "data": {
            "text/plain": [
              "<Axes: >"
            ]
          },
          "metadata": {},
          "execution_count": 61
        },
        {
          "output_type": "display_data",
          "data": {
            "text/plain": [
              "<Figure size 640x480 with 1 Axes>"
            ],
            "image/png": "[encoded data removed]"
          },
          "metadata": {}
        }
      ]
    },
    {
      "cell_type": "code",
      "source": [
        "vzbr2019.head()"
      ],
      "metadata": {
        "id": "ZPawqqzKEa81",
        "colab": {
          "base_uri": "https://localhost:8080/",
          "height": 542
        },
        "outputId": "c0b5d765-82aa-4747-c15a-b3c8fe705b11"
      },
      "execution_count": 62,
      "outputs": [
        {
          "output_type": "execute_result",
          "data": {
            "text/plain": [
              "     UNIQUE_ID  COLLISION_ID  CRASH_DATE CRASH_TIME  \\\n",
              "18    10254556       4230715  10/26/2019       8:50   \n",
              "31    10250834       4230376  10/26/2019      19:40   \n",
              "69    10251056       4230439  10/26/2019       0:05   \n",
              "181   10249843       4230242  10/26/2019       6:54   \n",
              "499   10254980       4230579  10/25/2019      22:24   \n",
              "\n",
              "                                PERSON_ID PERSON_TYPE PERSON_INJURY  \\\n",
              "18   1a085543-ae9d-4a69-8cd0-fb7b33380a8b   Bicyclist       Injured   \n",
              "31   f58fc41f-497e-4f30-bf49-a9a80adec8b2   Bicyclist       Injured   \n",
              "69   4cd0f087-b091-4f0c-9ac3-b1a639444f1b   Bicyclist       Injured   \n",
              "181  2799c10b-ee13-4be0-9449-1d617b8ddf63   Bicyclist       Injured   \n",
              "499  c2282d79-91c6-4886-80f1-c968f92b9073   Bicyclist       Injured   \n",
              "\n",
              "     VEHICLE_ID  PERSON_AGE     EJECTION  ...         BODILY_INJURY  \\\n",
              "18   19143832.0        42.0  Not Ejected  ...   Knee-Lower Leg Foot   \n",
              "31   19141949.0        36.0  Not Ejected  ...                  Back   \n",
              "69   19142063.0        35.0      Ejected  ...  Elbow-Lower-Arm-Hand   \n",
              "181  19141508.0        47.0  Not Ejected  ...                  Back   \n",
              "499  19144039.0        34.0      Ejected  ...                  Back   \n",
              "\n",
              "    POSITION_IN_VEHICLE                        SAFETY_EQUIPMENT  \\\n",
              "18               Driver                                 Unknown   \n",
              "31               Driver                                    None   \n",
              "69               Driver                                    None   \n",
              "181              Driver  Helmet Only (In-Line Skater/Bicyclist)   \n",
              "499              Driver  Helmet Only (In-Line Skater/Bicyclist)   \n",
              "\n",
              "                       COMPLAINT PED_ROLE PERSON_SEX       DATE  YEAR  MONTH  \\\n",
              "18                  None Visible   Driver          M 2019-10-26  2019     10   \n",
              "31                      Internal   Driver          M 2019-10-26  2019     10   \n",
              "69                Minor Bleeding   Driver          M 2019-10-26  2019     10   \n",
              "181                 None Visible   Driver          M 2019-10-26  2019     10   \n",
              "499  Complaint of Pain or Nausea   Driver          M 2019-10-25  2019     10   \n",
              "\n",
              "     DAY  \n",
              "18    26  \n",
              "31    26  \n",
              "69    26  \n",
              "181   26  \n",
              "499   25  \n",
              "\n",
              "[5 rows x 21 columns]"
            ],
            "text/html": [
              "\n",
              "  <div id=\"df-f046b99e-564d-4afd-8538-6790dae3773f\">\n",
              "    <div class=\"colab-df-container\">\n",
              "      <div>\n",
              "<style scoped>\n",
              "    .dataframe tbody tr th:only-of-type {\n",
              "        vertical-align: middle;\n",
              "    }\n",
              "\n",
              "    .dataframe tbody tr th {\n",
              "        vertical-align: top;\n",
              "    }\n",
              "\n",
              "    .dataframe thead th {\n",
              "        text-align: right;\n",
              "    }\n",
              "</style>\n",
              "<table border=\"1\" class=\"dataframe\">\n",
              "  <thead>\n",
              "    <tr style=\"text-align: right;\">\n",
              "      <th></th>\n",
              "      <th>UNIQUE_ID</th>\n",
              "      <th>COLLISION_ID</th>\n",
              "      <th>CRASH_DATE</th>\n",
              "      <th>CRASH_TIME</th>\n",
              "      <th>PERSON_ID</th>\n",
              "      <th>PERSON_TYPE</th>\n",
              "      <th>PERSON_INJURY</th>\n",
              "      <th>VEHICLE_ID</th>\n",
              "      <th>PERSON_AGE</th>\n",
              "      <th>EJECTION</th>\n",
              "      <th>...</th>\n",
              "      <th>BODILY_INJURY</th>\n",
              "      <th>POSITION_IN_VEHICLE</th>\n",
              "      <th>SAFETY_EQUIPMENT</th>\n",
              "      <th>COMPLAINT</th>\n",
              "      <th>PED_ROLE</th>\n",
              "      <th>PERSON_SEX</th>\n",
              "      <th>DATE</th>\n",
              "      <th>YEAR</th>\n",
              "      <th>MONTH</th>\n",
              "      <th>DAY</th>\n",
              "    </tr>\n",
              "  </thead>\n",
              "  <tbody>\n",
              "    <tr>\n",
              "      <th>18</th>\n",
              "      <td>10254556</td>\n",
              "      <td>4230715</td>\n",
              "      <td>10/26/2019</td>\n",
              "      <td>8:50</td>\n",
              "      <td>1a085543-ae9d-4a69-8cd0-fb7b33380a8b</td>\n",
              "      <td>Bicyclist</td>\n",
              "      <td>Injured</td>\n",
              "      <td>19143832.0</td>\n",
              "      <td>42.0</td>\n",
              "      <td>Not Ejected</td>\n",
              "      <td>...</td>\n",
              "      <td>Knee-Lower Leg Foot</td>\n",
              "      <td>Driver</td>\n",
              "      <td>Unknown</td>\n",
              "      <td>None Visible</td>\n",
              "      <td>Driver</td>\n",
              "      <td>M</td>\n",
              "      <td>2019-10-26</td>\n",
              "      <td>2019</td>\n",
              "      <td>10</td>\n",
              "      <td>26</td>\n",
              "    </tr>\n",
              "    <tr>\n",
              "      <th>31</th>\n",
              "      <td>10250834</td>\n",
              "      <td>4230376</td>\n",
              "      <td>10/26/2019</td>\n",
              "      <td>19:40</td>\n",
              "      <td>f58fc41f-497e-4f30-bf49-a9a80adec8b2</td>\n",
              "      <td>Bicyclist</td>\n",
              "      <td>Injured</td>\n",
              "      <td>19141949.0</td>\n",
              "      <td>36.0</td>\n",
              "      <td>Not Ejected</td>\n",
              "      <td>...</td>\n",
              "      <td>Back</td>\n",
              "      <td>Driver</td>\n",
              "      <td>None</td>\n",
              "      <td>Internal</td>\n",
              "      <td>Driver</td>\n",
              "      <td>M</td>\n",
              "      <td>2019-10-26</td>\n",
              "      <td>2019</td>\n",
              "      <td>10</td>\n",
              "      <td>26</td>\n",
              "    </tr>\n",
              "    <tr>\n",
              "      <th>69</th>\n",
              "      <td>10251056</td>\n",
              "      <td>4230439</td>\n",
              "      <td>10/26/2019</td>\n",
              "      <td>0:05</td>\n",
              "      <td>4cd0f087-b091-4f0c-9ac3-b1a639444f1b</td>\n",
              "      <td>Bicyclist</td>\n",
              "      <td>Injured</td>\n",
              "      <td>19142063.0</td>\n",
              "      <td>35.0</td>\n",
              "      <td>Ejected</td>\n",
              "      <td>...</td>\n",
              "      <td>Elbow-Lower-Arm-Hand</td>\n",
              "      <td>Driver</td>\n",
              "      <td>None</td>\n",
              "      <td>Minor Bleeding</td>\n",
              "      <td>Driver</td>\n",
              "      <td>M</td>\n",
              "      <td>2019-10-26</td>\n",
              "      <td>2019</td>\n",
              "      <td>10</td>\n",
              "      <td>26</td>\n",
              "    </tr>\n",
              "    <tr>\n",
              "      <th>181</th>\n",
              "      <td>10249843</td>\n",
              "      <td>4230242</td>\n",
              "      <td>10/26/2019</td>\n",
              "      <td>6:54</td>\n",
              "      <td>2799c10b-ee13-4be0-9449-1d617b8ddf63</td>\n",
              "      <td>Bicyclist</td>\n",
              "      <td>Injured</td>\n",
              "      <td>19141508.0</td>\n",
              "      <td>47.0</td>\n",
              "      <td>Not Ejected</td>\n",
              "      <td>...</td>\n",
              "      <td>Back</td>\n",
              "      <td>Driver</td>\n",
              "      <td>Helmet Only (In-Line Skater/Bicyclist)</td>\n",
              "      <td>None Visible</td>\n",
              "      <td>Driver</td>\n",
              "      <td>M</td>\n",
              "      <td>2019-10-26</td>\n",
              "      <td>2019</td>\n",
              "      <td>10</td>\n",
              "      <td>26</td>\n",
              "    </tr>\n",
              "    <tr>\n",
              "      <th>499</th>\n",
              "      <td>10254980</td>\n",
              "      <td>4230579</td>\n",
              "      <td>10/25/2019</td>\n",
              "      <td>22:24</td>\n",
              "      <td>c2282d79-91c6-4886-80f1-c968f92b9073</td>\n",
              "      <td>Bicyclist</td>\n",
              "      <td>Injured</td>\n",
              "      <td>19144039.0</td>\n",
              "      <td>34.0</td>\n",
              "      <td>Ejected</td>\n",
              "      <td>...</td>\n",
              "      <td>Back</td>\n",
              "      <td>Driver</td>\n",
              "      <td>Helmet Only (In-Line Skater/Bicyclist)</td>\n",
              "      <td>Complaint of Pain or Nausea</td>\n",
              "      <td>Driver</td>\n",
              "      <td>M</td>\n",
              "      <td>2019-10-25</td>\n",
              "      <td>2019</td>\n",
              "      <td>10</td>\n",
              "      <td>25</td>\n",
              "    </tr>\n",
              "  </tbody>\n",
              "</table>\n",
              "<p>5 rows × 21 columns</p>\n",
              "</div>\n",
              "      <button class=\"colab-df-convert\" onclick=\"convertToInteractive('df-f046b99e-564d-4afd-8538-6790dae3773f')\"\n",
              "              title=\"Convert this dataframe to an interactive table.\"\n",
              "              style=\"display:none;\">\n",
              "        \n",
              "  <svg xmlns=\"http://www.w3.org/2000/svg\" height=\"24px\"viewBox=\"0 0 24 24\"\n",
              "       width=\"24px\">\n",
              "    <path d=\"M0 0h24v24H0V0z\" fill=\"none\"/>\n",
              "    <path d=\"M18.56 5.44l.94 2.06.94-2.06 2.06-.94-2.06-.94-.94-2.06-.94 2.06-2.06.94zm-11 1L8.5 8.5l.94-2.06 2.06-.94-2.06-.94L8.5 2.5l-.94 2.06-2.06.94zm10 10l.94 2.06.94-2.06 2.06-.94-2.06-.94-.94-2.06-.94 2.06-2.06.94z\"/><path d=\"M17.41 7.96l-1.37-1.37c-.4-.4-.92-.59-1.43-.59-.52 0-1.04.2-1.43.59L10.3 9.45l-7.72 7.72c-.78.78-.78 2.05 0 2.83L4 21.41c.39.39.9.59 1.41.59.51 0 1.02-.2 1.41-.59l7.78-7.78 2.81-2.81c.8-.78.8-2.07 0-2.86zM5.41 20L4 18.59l7.72-7.72 1.47 1.35L5.41 20z\"/>\n",
              "  </svg>\n",
              "      </button>\n",
              "      \n",
              "  <style>\n",
              "    .colab-df-container {\n",
              "      display:flex;\n",
              "      flex-wrap:wrap;\n",
              "      gap: 12px;\n",
              "    }\n",
              "\n",
              "    .colab-df-convert {\n",
              "      background-color: #E8F0FE;\n",
              "      border: none;\n",
              "      border-radius: 50%;\n",
              "      cursor: pointer;\n",
              "      display: none;\n",
              "      fill: #1967D2;\n",
              "      height: 32px;\n",
              "      padding: 0 0 0 0;\n",
              "      width: 32px;\n",
              "    }\n",
              "\n",
              "    .colab-df-convert:hover {\n",
              "      background-color: #E2EBFA;\n",
              "      box-shadow: 0px 1px 2px rgba(60, 64, 67, 0.3), 0px 1px 3px 1px rgba(60, 64, 67, 0.15);\n",
              "      fill: #174EA6;\n",
              "    }\n",
              "\n",
              "    [theme=dark] .colab-df-convert {\n",
              "      background-color: #3B4455;\n",
              "      fill: #D2E3FC;\n",
              "    }\n",
              "\n",
              "    [theme=dark] .colab-df-convert:hover {\n",
              "      background-color: #434B5C;\n",
              "      box-shadow: 0px 1px 3px 1px rgba(0, 0, 0, 0.15);\n",
              "      filter: drop-shadow(0px 1px 2px rgba(0, 0, 0, 0.3));\n",
              "      fill: #FFFFFF;\n",
              "    }\n",
              "  </style>\n",
              "\n",
              "      <script>\n",
              "        const buttonEl =\n",
              "          document.querySelector('#df-f046b99e-564d-4afd-8538-6790dae3773f button.colab-df-convert');\n",
              "        buttonEl.style.display =\n",
              "          google.colab.kernel.accessAllowed ? 'block' : 'none';\n",
              "\n",
              "        async function convertToInteractive(key) {\n",
              "          const element = document.querySelector('#df-f046b99e-564d-4afd-8538-6790dae3773f');\n",
              "          const dataTable =\n",
              "            await google.colab.kernel.invokeFunction('convertToInteractive',\n",
              "                                                     [key], {});\n",
              "          if (!dataTable) return;\n",
              "\n",
              "          const docLinkHtml = 'Like what you see? Visit the ' +\n",
              "            '<a target=\"_blank\" href=https://colab.research.google.com/notebooks/data_table.ipynb>data table notebook</a>'\n",
              "            + ' to learn more about interactive tables.';\n",
              "          element.innerHTML = '';\n",
              "          dataTable['output_type'] = 'display_data';\n",
              "          await google.colab.output.renderOutput(dataTable, element);\n",
              "          const docLink = document.createElement('div');\n",
              "          docLink.innerHTML = docLinkHtml;\n",
              "          element.appendChild(docLink);\n",
              "        }\n",
              "      </script>\n",
              "    </div>\n",
              "  </div>\n",
              "  "
            ]
          },
          "metadata": {},
          "execution_count": 62
        }
      ]
    },
    {
      "cell_type": "code",
      "source": [
        "vzbr2019.shape"
      ],
      "metadata": {
        "id": "ZHPSAZWj3W9r",
        "colab": {
          "base_uri": "https://localhost:8080/"
        },
        "outputId": "29d18b35-11ed-4780-eeb5-5031958f2291"
      },
      "execution_count": 63,
      "outputs": [
        {
          "output_type": "execute_result",
          "data": {
            "text/plain": [
              "(1309, 21)"
            ]
          },
          "metadata": {},
          "execution_count": 63
        }
      ]
    },
    {
      "cell_type": "markdown",
      "source": [
        "##2019 Crashes and Colissions involving Bicycles "
      ],
      "metadata": {
        "id": "B8hjBzpgP5EM"
      }
    },
    {
      "cell_type": "markdown",
      "source": [
        "Dropping Columns that have a majority of null value after narrowing the dataframe to PERSON_TYPE == 'Bicyclist'"
      ],
      "metadata": {
        "id": "2QLTOndxrvHp"
      }
    },
    {
      "cell_type": "markdown",
      "source": [
        "['Unique ID', 'Collision ID', 'Crash Date', 'Crash Time', 'Person ID', 'Person Type', 'Person Injury', 'VEHICLE_ID', 'Age', 'EJECTION', 'Emotional Status', 'Bodily Injury', 'POSITION_IN_VEHICLE','Safety Equipment', 'COMPLAINT', 'Person Role', 'Gender']"
      ],
      "metadata": {
        "id": "JksTWQNaK9yj"
      }
    },
    {
      "cell_type": "code",
      "source": [
        "vzbcmc = vzbr2019['DATE'].dt.month.sort_index()"
      ],
      "metadata": {
        "id": "78dcch3EiQmt"
      },
      "execution_count": 65,
      "outputs": []
    },
    {
      "cell_type": "code",
      "source": [
        "vzbcmc = vzbr2019['Crash Date'].dt.month.value_counts().sort_index()\n",
        "plt.bar(vzbcmc.index,vzbcmc.values)\n",
        "plt.xticks(range(1,13))\n",
        "plt.xlabel('Month')\n",
        "plt.ylabel('Count')\n",
        "plt.title('Crashes or Collisions Involving a Bike in NYC for Months of 2019')\n",
        "plt.show()\n",
        "#2020 april...why? rain or covid"
      ],
      "metadata": {
        "id": "CAuds4pyKchW"
      },
      "execution_count": null,
      "outputs": []
    },
    {
      "cell_type": "code",
      "source": [
        "vzbctc = vzbr2019['Crash Time'].str.split(':').str[0].astype('int').value_counts().sort_index()"
      ],
      "metadata": {
        "id": "JsWrj_a-T7eG"
      },
      "execution_count": null,
      "outputs": []
    },
    {
      "cell_type": "code",
      "source": [
        "plt.bar(vzbctc.index,vzbctc.values)\n",
        "plt.xticks(range(0,24,4),[str(x)+\":00\" for x in range(0,24,4)])\n",
        "plt.xlabel('Hourly')\n",
        "plt.ylabel('Count')\n",
        "plt.title('Crashes or Collisions Involving a Bike in NYC 2019 Hourly Counts')\n",
        "plt.show()"
      ],
      "metadata": {
        "id": "jr9xjNTQZlZo"
      },
      "execution_count": null,
      "outputs": []
    },
    {
      "cell_type": "code",
      "source": [
        "# create a representation of the month with strfmt\n",
        "vzbr2019['Month Year'] = vzbr2019['Crash Date'].map(lambda dt: dt.strftime('%Y-%m'))\n",
        "grouped_vzbr2019 = vzbr2019.groupby('Month Year').size().to_frame(\"count\").reset_index()\n",
        "grouped_vzbr2019.plot(kind='bar', x='Month Year', y='count')\n",
        "#sns.lmplot(data=vzbr2019, x='Collision ID', y='Crash Time', col='Person Injury', hue='Gender')"
      ],
      "metadata": {
        "id": "k34CJ1LMruEB"
      },
      "execution_count": null,
      "outputs": []
    },
    {
      "cell_type": "code",
      "source": [
        "print(vzbr2019['Bodily Injury'].unique())"
      ],
      "metadata": {
        "id": "KgYhPI22yMzX"
      },
      "execution_count": null,
      "outputs": []
    },
    {
      "cell_type": "code",
      "source": [
        "print('Bodily Injury: \\n', vzbr2019['Bodily Injury'].value_counts())"
      ],
      "metadata": {
        "id": "xHUnaTbybhD1"
      },
      "execution_count": null,
      "outputs": []
    },
    {
      "cell_type": "code",
      "source": [
        "print(vzbr2019['Gender'].value_counts())"
      ],
      "metadata": {
        "id": "9sKkrv26Lz1n"
      },
      "execution_count": null,
      "outputs": []
    },
    {
      "cell_type": "code",
      "source": [
        "vzbr2019['Bodily Injury'].value_counts().plot.pie(figsize=(14,10), title='2019 Bicyclist Bodily Injuries due to Collision or Crash')"
      ],
      "metadata": {
        "id": "mAa7X2RSEgiT"
      },
      "execution_count": null,
      "outputs": []
    },
    {
      "cell_type": "code",
      "source": [
        "plt.figure(figsize=(20, 5))\n",
        "sns.barplot(data=vzbr2019, x='Bodily Injury', y='Age', hue='Gender', order = ['Unknown', 'Head', 'Neck', 'Shoulder-Upper Arm', 'Face', 'Eye', 'Elbow-Lower Arm-Hand', 'Chest', 'Abdomen-Pelvis', 'Entire Body', 'Knee-Lower Leg Foot', 'Back', 'Hip-Upper Leg', 'Does Not Apply'], palette = \"muted\" )\n",
        "plt.title(\"2019 Bodily Injuries of Bicyclist in a crash or colission\")\n",
        "plt.show()"
      ],
      "metadata": {
        "id": "ZGHXnHhhx4JA"
      },
      "execution_count": null,
      "outputs": []
    },
    {
      "cell_type": "code",
      "source": [
        "print('Emotional Status: \\n', vzbr2019['Emotional Status'].value_counts())"
      ],
      "metadata": {
        "id": "7rf-_arnq3af"
      },
      "execution_count": null,
      "outputs": []
    },
    {
      "cell_type": "code",
      "source": [
        "vzbr2019['Emotional Status'].value_counts().plot.pie(figsize=(20,20), title='2019 Bicyclist Emotional Status at Time of Collision or Crash')"
      ],
      "metadata": {
        "id": "p3WUiJ0XB9V1"
      },
      "execution_count": null,
      "outputs": []
    },
    {
      "cell_type": "code",
      "source": [
        "plt.figure(figsize=(14, 5))\n",
        "sns.barplot(data=vzbr2019, x='Emotional Status', y='Age', hue='Gender', order = ['Unknown','Conscious', 'Semiconscious', 'Unconscious', 'Shock', 'Incoherent', 'Apparent Death', 'Does Not Apply'], palette = \"muted\" )\n",
        "plt.title(\"2019 Emotional Status of Bicyclist in a crash or colission\")\n",
        "plt.show()\n",
        "#Unknown seem to be soley conciou"
      ],
      "metadata": {
        "id": "4Uh6c6mC-zMM"
      },
      "execution_count": null,
      "outputs": []
    },
    {
      "cell_type": "code",
      "source": [
        "sns.pairplot(data=vzbr2019, hue='Emotional Status',  palette='Spectral_r') "
      ],
      "metadata": {
        "id": "vmJVonv3UErf"
      },
      "execution_count": null,
      "outputs": []
    },
    {
      "cell_type": "code",
      "source": [
        "print('Person Injury: \\n', vzbr2019['Person Injury'].value_counts())"
      ],
      "metadata": {
        "id": "MkiIpoxScFVM"
      },
      "execution_count": null,
      "outputs": []
    },
    {
      "cell_type": "code",
      "source": [
        "vzbr2019['Person Injury'].value_counts().sum()"
      ],
      "metadata": {
        "id": "X2kJEmXQ2J3d"
      },
      "execution_count": null,
      "outputs": []
    },
    {
      "cell_type": "code",
      "source": [
        "vzbr2019['Person Injury'].value_counts().plot.pie(figsize=(14,10), title='2019 Bicyclist Status due to Collision or Crash')"
      ],
      "metadata": {
        "id": "J1qGgstqq_45"
      },
      "execution_count": null,
      "outputs": []
    },
    {
      "cell_type": "code",
      "source": [
        "plt.figure(figsize=(14, 5))\n",
        "sns.barplot(data=vzbr2019, x='Person Injury', y='Age', hue='Gender', order = ['Killed', 'Injured', 'Unspecified'], palette = \"muted\" )\n",
        "plt.title(\"2019 Injury Status of Bicyclist because of a crash or colission\")\n",
        "plt.show()\n",
        "#U"
      ],
      "metadata": {
        "id": "LuUfsPmW4lXI"
      },
      "execution_count": null,
      "outputs": []
    },
    {
      "cell_type": "markdown",
      "metadata": {
        "id": "UwgKfXZW55_Y"
      },
      "source": [
        "column compaired to self histogram when its not it is in indescrete form.//// cant use descrete values need to have continuouse data types...\n",
        "a good way to see if data is workable also. "
      ]
    },
    {
      "cell_type": "code",
      "source": [
        "sns.pairplot(data=vzbr2019, hue='Gender',  palette='icefire') "
      ],
      "metadata": {
        "id": "77YbV-cAKf4U"
      },
      "execution_count": null,
      "outputs": []
    },
    {
      "cell_type": "code",
      "source": [
        "vzbr2019.groupby(['Gender','Person Injury'])['Age'].mean().sort_values(ascending=True)"
      ],
      "metadata": {
        "id": "H27yUJgxRA1D"
      },
      "execution_count": null,
      "outputs": []
    },
    {
      "cell_type": "code",
      "source": [
        "sns.pairplot(data=vzbr2019, hue='Person Injury',  palette='PuOr') "
      ],
      "metadata": {
        "id": "pZxCNmuDJjjS"
      },
      "execution_count": null,
      "outputs": []
    },
    {
      "cell_type": "code",
      "source": [
        "sns.pairplot(data=vzbr2019, hue='Bodily Injury',  palette='Spectral') "
      ],
      "metadata": {
        "id": "deyWQWGYHr7Q"
      },
      "execution_count": null,
      "outputs": []
    },
    {
      "cell_type": "code",
      "source": [
        "sns.pairplot(data=vzbr2019, hue='Person Role',  palette='Spectral') "
      ],
      "metadata": {
        "id": "yQzBb_ZoKZI8"
      },
      "execution_count": null,
      "outputs": []
    },
    {
      "cell_type": "code",
      "source": [
        "sns.pairplot(data=vzbr2019, hue='Emotional Status',  palette='Spectral_r') "
      ],
      "metadata": {
        "id": "fD9nP6geHXWa"
      },
      "execution_count": null,
      "outputs": []
    },
    {
      "cell_type": "markdown",
      "source": [
        "#Summary\n"
      ],
      "metadata": {
        "id": "wTscwKIl8icH"
      }
    },
    {
      "cell_type": "markdown",
      "source": [
        "## **FOR FUTURE CONSIDERATION**"
      ],
      "metadata": {
        "id": "W4IPyzS4BhL5"
      }
    },
    {
      "cell_type": "markdown",
      "source": [
        "# New Section"
      ],
      "metadata": {
        "id": "kHtTrmxzRo4_"
      }
    },
    {
      "cell_type": "code",
      "source": [
        "#print('Rows, Columns:', vzvcr.shape)"
      ],
      "metadata": {
        "id": "HbDajGv1qfOA"
      },
      "execution_count": null,
      "outputs": []
    },
    {
      "cell_type": "code",
      "source": [
        "#print(vzvcr.info())"
      ],
      "metadata": {
        "id": "iHNM4_DSxCi1"
      },
      "execution_count": null,
      "outputs": []
    },
    {
      "cell_type": "markdown",
      "source": [
        "TROUBLE WITH IT NOT RECOGINIZINTG SECOND/THIRD DATAFRAME SET"
      ],
      "metadata": {
        "id": "EY6sTA-ALAJH"
      }
    },
    {
      "cell_type": "code",
      "source": [
        "#for col in df:\n",
        "  #print(df[col].unique())\n"
      ],
      "metadata": {
        "id": "_VwNwZTuiyhz"
      },
      "execution_count": null,
      "outputs": []
    },
    {
      "cell_type": "code",
      "source": [
        "#df3.set_index('encounter_id')"
      ],
      "metadata": {
        "id": "zrheaqonUA6p"
      },
      "execution_count": null,
      "outputs": []
    },
    {
      "cell_type": "markdown",
      "source": [
        "## 1.   Bicycling Injuries\n",
        "\n",
        "\n",
        "\n"
      ],
      "metadata": {
        "id": "78AdRvFkSzBP"
      }
    },
    {
      "cell_type": "code",
      "source": [
        "#vzbi = vzvcr"
      ],
      "metadata": {
        "id": "O4Z648fsutAC"
      },
      "execution_count": null,
      "outputs": []
    },
    {
      "cell_type": "code",
      "source": [
        "bicycling_injuries = vzbi [(vzbi['PERSON_INJURY'] == 'Killed') | (vzbi['PERSON_INJURY'] == 'Unspecified')].index\n",
        "vzbi.drop(bicycling_injuries , inplace=True)"
      ],
      "metadata": {
        "id": "jStjdouYeUNS"
      },
      "execution_count": null,
      "outputs": []
    },
    {
      "cell_type": "code",
      "source": [
        "print('Rows, Columns:', vzbi.shape)"
      ],
      "metadata": {
        "id": "8pna50_xuB1A"
      },
      "execution_count": null,
      "outputs": []
    },
    {
      "cell_type": "code",
      "source": [
        "print(vzbi.shape)"
      ],
      "metadata": {
        "id": "W6xhd86IxaN2"
      },
      "execution_count": null,
      "outputs": []
    },
    {
      "cell_type": "code",
      "source": [
        "sns.pairplot(data=vzbi, hue='EMOTIONAL_STATUS',  palette='Spectral_r') "
      ],
      "metadata": {
        "id": "tp1OZ0e4aqG3"
      },
      "execution_count": null,
      "outputs": []
    },
    {
      "cell_type": "markdown",
      "source": [
        "##2. Bicycling Deaths"
      ],
      "metadata": {
        "id": "yerfUGmqPEnD"
      }
    },
    {
      "cell_type": "code",
      "source": [
        "vzvcr.shape"
      ],
      "metadata": {
        "id": "gYGe2yPLE5Ca"
      },
      "execution_count": null,
      "outputs": []
    },
    {
      "cell_type": "code",
      "source": [
        "#vzbd = vzvcr"
      ],
      "metadata": {
        "id": "tjrioA9-u3ho"
      },
      "execution_count": null,
      "outputs": []
    },
    {
      "cell_type": "code",
      "source": [
        "bicycling_injuries = vzbd [(vzbd['PERSON_INJURY'] == 'Injured') | (vzbd['PERSON_INJURY'] == 'Unspecified')].index\n",
        "vzbd.drop(bicycling_injuries , inplace=True)"
      ],
      "metadata": {
        "id": "Rq_QGpVLPD0M"
      },
      "execution_count": null,
      "outputs": []
    },
    {
      "cell_type": "code",
      "source": [
        "print('Rows, Columns:', vzbd.shape)"
      ],
      "metadata": {
        "id": "K0bPrhfavfri"
      },
      "execution_count": null,
      "outputs": []
    },
    {
      "cell_type": "code",
      "source": [
        "sns.pairplot(data=vzbd, hue='EMOTIONAL_STATUS',  palette='Spectral_r') "
      ],
      "metadata": {
        "id": "frZz-B-gbkFn"
      },
      "execution_count": null,
      "outputs": []
    },
    {
      "cell_type": "markdown",
      "source": [
        "##3. Bicycling Unspecified"
      ],
      "metadata": {
        "id": "gjhH-mn6cGdq"
      }
    },
    {
      "cell_type": "code",
      "source": [
        "#vzbu = vzvcr"
      ],
      "metadata": {
        "id": "YfKewLPnclne"
      },
      "execution_count": null,
      "outputs": []
    },
    {
      "cell_type": "code",
      "source": [
        "bicycling_injuries = vzbu [(vzbu['PERSON_INJURY'] == 'Killed') | (vzbu['PERSON_INJURY'] == 'Injured')].index\n",
        "vzbu.drop(bicycling_injuries , inplace=True)"
      ],
      "metadata": {
        "id": "5fKzzxRHcpzj"
      },
      "execution_count": null,
      "outputs": []
    },
    {
      "cell_type": "code",
      "source": [
        "print('Rows, Columns:', vzbu.shape)"
      ],
      "metadata": {
        "id": "2OIrbZmuc-WQ"
      },
      "execution_count": null,
      "outputs": []
    },
    {
      "cell_type": "markdown",
      "source": [
        "# **@**"
      ],
      "metadata": {
        "id": "tJVmxjlCvYxR"
      }
    },
    {
      "cell_type": "code",
      "execution_count": null,
      "metadata": {
        "id": "WZuVLYWrZvGt"
      },
      "outputs": [],
      "source": [
        "df2 = ddf.sort_values([ 'patient_nbr', 'Race', 'Gender', 'Age','Medical Specialty'], ascending=True).groupby(['Medical Specialty', 'patient_nbr', 'Gender', 'Age', 'Race']).head()"
      ]
    },
    {
      "cell_type": "markdown",
      "source": [
        "# to look over"
      ],
      "metadata": {
        "id": "v28D7IRWB8HB"
      }
    },
    {
      "cell_type": "code",
      "source": [
        "df3 = df2.sort_values(['encounter_id', 'Medical Specialty'], ascending=True).groupby(['Medical Specialty', 'patient_nbr', 'Gender', 'Age', 'Race']).head()"
      ],
      "metadata": {
        "id": "QlmX2Q1qbPc2"
      },
      "execution_count": null,
      "outputs": []
    },
    {
      "cell_type": "markdown",
      "source": [
        "## **Setting the index**"
      ],
      "metadata": {
        "id": "aSw4tAzNcG70"
      }
    },
    {
      "cell_type": "markdown",
      "source": [
        "## **Visualizations**"
      ],
      "metadata": {
        "id": "svGyqNAkhjzf"
      }
    },
    {
      "cell_type": "markdown",
      "source": [
        "# New Section"
      ],
      "metadata": {
        "id": "p_swnvBKyT-A"
      }
    },
    {
      "cell_type": "code",
      "execution_count": null,
      "metadata": {
        "id": "M6rGZZC8QaUt"
      },
      "outputs": [],
      "source": [
        "sns.scatterplot(x='num_lab_procedures', y='num_medications', data=df3, hue='diabetesMed', palette='GnBu_r', marker='d', alpha=.25)"
      ]
    },
    {
      "cell_type": "code",
      "source": [
        "sns.pointplot(x='num_medications', y='num_procedures', data=df3, hue='Race', dodge=.3 - .3 / 3, join=False, palette='Spectral', markers='d', alpha=.75, scale=.75, ci=None)"
      ],
      "metadata": {
        "id": "Or2byXUKY_ni"
      },
      "execution_count": null,
      "outputs": []
    },
    {
      "cell_type": "code",
      "source": [
        "sns.jointplot(x='num_lab_procedures', y='num_medications', data=df3, kind='hex')"
      ],
      "metadata": {
        "id": "fghqYMezJdQD"
      },
      "execution_count": null,
      "outputs": []
    },
    {
      "cell_type": "code",
      "execution_count": null,
      "metadata": {
        "id": "A158MUKmhgbV"
      },
      "outputs": [],
      "source": [
        "sns.distplot(df3['num_medications'], bins=50)"
      ]
    },
    {
      "cell_type": "code",
      "source": [
        "prosxmedsxr = sns.FacetGrid(ddfadult, col='Medical Specialty', hue='Race', height=6, aspect=1, palette='Spectral', col_wrap=10)\n",
        "prosxmedsxr.map(sns.barplot, 'Race', 'num_procedures', order=['AfricanAmerican', 'Asian', 'Caucasian', 'Hispanic'])"
      ],
      "metadata": {
        "id": "ZnArRqG-CV62",
        "collapsed": true
      },
      "execution_count": null,
      "outputs": []
    },
    {
      "cell_type": "code",
      "source": [
        "#@title\n",
        "sns.lmplot(x='num_lab_procedures', y='num_medications', data=ddfadult, hue='Race', height=8, palette='Spectral', markers='d')"
      ],
      "metadata": {
        "id": "rYmNJJYg76Fh",
        "collapsed": true
      },
      "execution_count": null,
      "outputs": []
    }
  ],
  "metadata": {
    "colab": {
      "provenance": [],
      "mount_file_id": "1uvlqDsob2JWkrlRpWK-eWNus0UjYEwXZ",
      "authorship_tag": "ABX9TyM0hCMPPq8wxEo3A7vfaGQ7"
    },
    "kernelspec": {
      "display_name": "Python 3",
      "name": "python3"
    },
    "language_info": {
      "name": "python"
    }
  },
  "nbformat": 4,
  "nbformat_minor": 0
}