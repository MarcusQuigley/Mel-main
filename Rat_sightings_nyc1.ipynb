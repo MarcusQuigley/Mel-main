{
  "cells": [
    {
      "cell_type": "markdown",
      "metadata": {
        "id": "LgYXyw1F8YxD"
      },
      "source": [
        "# ***An Exploratory Analysis of Rat Sightings In NYCs 5 Boroughs:***\n",
        "\n",
        " Creation of sets for further EDA\n",
        "Preliminary: *Are the reports of rats equally distributed throughout the boroughs?*\n",
        "\n",
        ">> Does one borough have more reports of rats per population than the other?\n",
        "where are the most reports by year, month....\n",
        "\n",
        ">>\n",
        "\n",
        "Is there a correlation between the frequency of DSNY collection and the affect on the number of sightings?\n",
        "\n",
        "Types of collections and the reported sightings.\n",
        "\n",
        "sightings to frequency\n",
        "sightings to population\n",
        "\n",
        "\n",
        "\n",
        "Possible Further exploration into:\n",
        "\n",
        ">Sightings to vendor\n",
        "\n",
        "Litter baskets.\n",
        "\n",
        ">Refuge stats compared to US\n",
        "\n",
        ">Employment stats and truck violations.\n"
      ]
    },
    {
      "cell_type": "markdown",
      "metadata": {
        "id": "FRjow12GDyFI"
      },
      "source": [
        "#Reported Sightings\n",
        "---Original data sourced from:\n",
        "\n",
        " https://data.cityofnewyork.us/Social-Services/Rat-Sightings/3q43-55fe\n",
        "\n",
        "\n",
        "> *additional sources added upon completion of ReadMe.txt master repository creation*\n",
        "\n",
        "\n",
        "###Initial files joined/cleaned with Tableau Prep\n",
        "\n",
        "==> step1_ratsightings = (Modified_Zip_Code_Tabulation_Areas__MODZCTA_.csv\n",
        "Rat_Sightings.csv)\n",
        "\n",
        "\n",
        "==> dsny_frequency = (DSNY_Districts, DSNY_Frequencies, NYC_Community_Board_dist,Modified_Zip_Code_Tabulation_Areas__MODZCTA_.csv)\n",
        "\n",
        "\n",
        "\n",
        "\n"
      ]
    },
    {
      "cell_type": "markdown",
      "metadata": {
        "id": "75PrdzzmeYfG"
      },
      "source": [
        "Neighborhoods to zips"
      ]
    },
    {
      "cell_type": "markdown",
      "metadata": {
        "id": "pFJ9SELregJD"
      },
      "source": [
        "* Bronx Central Bronx 10453, 10457, 10460\n",
        "* Bronx Park and Fordham 10458, 10467, 10468\n",
        "* High Bridge and Morrisania 10451, 10452, 10456\n",
        "* Hunts Point and Mott Haven 10454, 10455, 10459, 10474\n",
        "* Kingsbridge and Riverdale 10463, 10471\n",
        "* Northeast Bronx 10466, 10469, 10470, 10475\n",
        "* Brooklyn Central Brooklyn 11212, 11213, 11216, 11233, 11238\n",
        "* Southwest Brooklyn 11209, 11214, 11228\n",
        "* Borough Park 11204, 11218, 11219, 11230\n",
        "* Canarsie and Flatlands 11234, 11236, 11239\n",
        "* Southern Brooklyn 11223, 11224, 11229, 11235\n",
        "* Northwest Brooklyn 11201, 11205, 11215, 11217, 11231\n",
        "* Flatbush 11203, 11210, 11225, 11226\n",
        "* East New York and New Lots 11207, 11208\n",
        "* Greenpoint 11211, 11222\n",
        "* Sunset Park 11220, 11232\n",
        "* Bushwick and Williamsburg 11206, 11221, 11237\n",
        "* Manhattan Central Harlem 10026, 10027, 10030, 10037, 10039\n",
        "* Chelsea and Clinton 10001, 10011, 10018, 10019, 10020, 10036\n",
        "* East Harlem 10029, 10035\n",
        "* Gramercy Park and Murray Hill 10010, 10016, 10017, 10022\n",
        "* Greenwich Village and Soho 10012, 10013, 10014\n",
        "* Lower Manhattan 10004, 10005, 10006, 10007, 10038, 10280\n",
        "* Lower East Side 10002, 10003, 10009\n",
        "* Upper East Side 10021, 10028, 10044, 10065, 10075, 10128\n",
        "* Upper West Side 10023, 10024, 10025\n",
        "* Inwood and Washington Heights 10031, 10032, 10033, 10034, 10040\n",
        "* Queens Northeast Queens 11361, 11362, 11363, 11364\n",
        "* North Queens 11354, 11355, 11356, 11357, 11358, 11359, 11360\n",
        "* Central Queens 11365, 11366, 11367\n",
        "* Jamaica 11412, 11423, 11432, 11433, 11434, 11435, 11436\n",
        "* Northwest Queens 11101, 11102, 11103, 11104, 11105, 11106\n",
        "* West Central Queens 11374, 11375, 11379, 11385\n",
        "* Rockaways 11691, 11692, 11693, 11694, 11695, 11697\n",
        "* Southeast Queens 11004, 11005, 11411, 11413, 11422, 11426, 11427, 11428, 11429\n",
        "* Southwest Queens 11414, 11415, 11416, 11417, 11418, 11419, 11420, 11421\n",
        "* West Queens 11368, 11369, 11370, 11372, 11373, 11377, 11378\n",
        "* Staten Island Port Richmond 10302, 10303, 10310\n",
        "* South Shore 10306, 10307, 10308, 10309, 10312\n",
        "* Stapleton and St. George 10301, 10304, 10305\n",
        "* Mid-Island 10314"
      ]
    },
    {
      "cell_type": "markdown",
      "metadata": {
        "id": "C8YT7yhvwO5s"
      },
      "source": [
        "#Import"
      ]
    },
    {
      "cell_type": "code",
      "execution_count": 1,
      "metadata": {
        "colab": {
          "base_uri": "https://localhost:8080/"
        },
        "id": "fOoWCp4PxaiS",
        "outputId": "94f09f70-4bc9-4bae-e530-1baee49dd117"
      },
      "outputs": [
        {
          "output_type": "stream",
          "name": "stdout",
          "text": [
            "Requirement already satisfied: geopandas in /usr/local/lib/python3.10/dist-packages (0.13.2)\n",
            "Requirement already satisfied: fiona>=1.8.19 in /usr/local/lib/python3.10/dist-packages (from geopandas) (1.9.4.post1)\n",
            "Requirement already satisfied: packaging in /usr/local/lib/python3.10/dist-packages (from geopandas) (23.1)\n",
            "Requirement already satisfied: pandas>=1.1.0 in /usr/local/lib/python3.10/dist-packages (from geopandas) (1.5.3)\n",
            "Requirement already satisfied: pyproj>=3.0.1 in /usr/local/lib/python3.10/dist-packages (from geopandas) (3.6.0)\n",
            "Requirement already satisfied: shapely>=1.7.1 in /usr/local/lib/python3.10/dist-packages (from geopandas) (2.0.1)\n",
            "Requirement already satisfied: attrs>=19.2.0 in /usr/local/lib/python3.10/dist-packages (from fiona>=1.8.19->geopandas) (23.1.0)\n",
            "Requirement already satisfied: certifi in /usr/local/lib/python3.10/dist-packages (from fiona>=1.8.19->geopandas) (2023.5.7)\n",
            "Requirement already satisfied: click~=8.0 in /usr/local/lib/python3.10/dist-packages (from fiona>=1.8.19->geopandas) (8.1.4)\n",
            "Requirement already satisfied: click-plugins>=1.0 in /usr/local/lib/python3.10/dist-packages (from fiona>=1.8.19->geopandas) (1.1.1)\n",
            "Requirement already satisfied: cligj>=0.5 in /usr/local/lib/python3.10/dist-packages (from fiona>=1.8.19->geopandas) (0.7.2)\n",
            "Requirement already satisfied: six in /usr/local/lib/python3.10/dist-packages (from fiona>=1.8.19->geopandas) (1.16.0)\n",
            "Requirement already satisfied: python-dateutil>=2.8.1 in /usr/local/lib/python3.10/dist-packages (from pandas>=1.1.0->geopandas) (2.8.2)\n",
            "Requirement already satisfied: pytz>=2020.1 in /usr/local/lib/python3.10/dist-packages (from pandas>=1.1.0->geopandas) (2022.7.1)\n",
            "Requirement already satisfied: numpy>=1.21.0 in /usr/local/lib/python3.10/dist-packages (from pandas>=1.1.0->geopandas) (1.22.4)\n"
          ]
        }
      ],
      "source": [
        "import os\n",
        "import requests\n",
        "import glob\n",
        "import pandas as pd\n",
        "!pip install geopandas\n",
        "import geopandas as gpd\n",
        "import numpy as np\n",
        "import re # flexable way to search for matching text in strings Regular Expressions\n",
        "import seaborn as sns # plotting and graphing, built upon the matplotlib library.\n",
        "import matplotlib.pyplot as plt\n",
        "# example of a normalization\n",
        "from numpy import asarray\n",
        "from sklearn.preprocessing import MinMaxScaler\n",
        "from sklearn.preprocessing import StandardScaler\n",
        "#import geopy #ploting by location longitude and latitude\n",
        "from math import pi\n",
        "#from geopy.geocoders import Nominatim as nm\n",
        "#from sklearn.linear_model import LinearRegression\n",
        "#from sklearn.model_selection import train_test_split\n",
        "%matplotlib inline\n",
        "sns.set()\n",
        "#these populated on their own\n",
        "from zmq.constants import THREAD_NAME_PREFIX\n",
        "from pandas.core.groupby import groupby\n",
        "\n",
        "#additional imports from notbook reference\n",
        "import plotly as ply\n",
        "import plotly.express as px\n",
        "import plotly.io as pio\n",
        "import scipy as sc\n",
        "import sympy as sy\n",
        "import matplotlib as matplot\n",
        "import statistics as stat\n",
        "### some imports are yet to be used...cleaning up and still exploring past analysis usage."
      ]
    },
    {
      "cell_type": "code",
      "execution_count": 2,
      "metadata": {
        "colab": {
          "base_uri": "https://localhost:8080/"
        },
        "id": "sxojoVAFlrvn",
        "outputId": "3e5552a2-0d36-42d4-ad8c-45c801b0b000"
      },
      "outputs": [
        {
          "output_type": "stream",
          "name": "stdout",
          "text": [
            "Mounted at /content/drive\n"
          ]
        }
      ],
      "source": [
        "from google.colab import drive\n",
        "drive.mount('/content/drive')"
      ]
    },
    {
      "cell_type": "code",
      "execution_count": 91,
      "metadata": {
        "id": "iwpuucdHxqUa"
      },
      "outputs": [],
      "source": [
        "# Read the csv(s)\n",
        "\n",
        "missing_values=['nan','-', '']\n",
        "rats = pd.read_csv('/content/drive/MyDrive/Projects/rats_analysis_application/Datasources/step1_ratsightings.csv', na_values = missing_values)\n",
        "dsny = pd.read_csv('/content/drive/MyDrive/Projects/rats_analysis_application/Datasources/dsny_frequency.csv', na_values = missing_values)\n",
        "#Unique Key as Index (after import check for duplicates then index unique key after sort of key and created date.)\n",
        "#drop false leaves the index columns in when reindexing"
      ]
    },
    {
      "cell_type": "markdown",
      "metadata": {
        "id": "mpGP4MZKwSJm"
      },
      "source": [
        "#EDA DSNY"
      ]
    },
    {
      "cell_type": "code",
      "execution_count": 92,
      "metadata": {
        "colab": {
          "base_uri": "https://localhost:8080/"
        },
        "id": "6TIJQVCv_Cvk",
        "outputId": "0bc2898f-715c-45ba-f6c8-2d748c95bc74"
      },
      "outputs": [
        {
          "output_type": "stream",
          "name": "stdout",
          "text": [
            "<class 'pandas.core.frame.DataFrame'>\n",
            "RangeIndex: 606 entries, 0 to 605\n",
            "Data columns (total 34 columns):\n",
            " #   Column               Non-Null Count  Dtype  \n",
            "---  ------               --------------  -----  \n",
            " 0   post_code            606 non-null    int64  \n",
            " 1   modzcta              606 non-null    int64  \n",
            " 2   label                606 non-null    object \n",
            " 3   zcta                 606 non-null    object \n",
            " 4   district             606 non-null    object \n",
            " 5   districtcode         606 non-null    int64  \n",
            " 6   section              606 non-null    object \n",
            " 7   community_board      606 non-null    object \n",
            " 8   council_district     606 non-null    int64  \n",
            " 9   schedulecode         606 non-null    object \n",
            " 10  neighborhoods        606 non-null    object \n",
            " 11  nta                  606 non-null    object \n",
            " 12  cb_office_address    606 non-null    object \n",
            " 13  pop_est              606 non-null    int64  \n",
            " 14  frequency            606 non-null    object \n",
            " 15  bulk_day1            606 non-null    object \n",
            " 16  bulk_day2            606 non-null    object \n",
            " 17  bulk_day3            606 non-null    object \n",
            " 18  refuse_day1          606 non-null    object \n",
            " 19  refuse_day2          606 non-null    object \n",
            " 20  refuse_day3          606 non-null    object \n",
            " 21  refuse_frequency     606 non-null    object \n",
            " 22  recycling_frequency  606 non-null    object \n",
            " 23  organic_frequency    606 non-null    object \n",
            " 24  bulk_frequency       606 non-null    object \n",
            " 25  ObjectID             606 non-null    int64  \n",
            " 26  SHAPE_Area-1         606 non-null    float64\n",
            " 27  SHAPE_Length-1       606 non-null    float64\n",
            " 28  Latitude             606 non-null    float64\n",
            " 29  Longitude            606 non-null    float64\n",
            " 30  Location Point       606 non-null    object \n",
            " 31  multipolygon-1       606 non-null    object \n",
            " 32  census_tract         606 non-null    int64  \n",
            " 33  GlobalID             606 non-null    object \n",
            "dtypes: float64(4), int64(7), object(23)\n",
            "memory usage: 161.1+ KB\n",
            "Info: None\n",
            "top 5 rows:    post_code  modzcta  label          zcta district  districtcode section  \\\n",
            "0      11385    11385  11385         11385     QW05           405   QW051   \n",
            "1      11232    11232  11232         11232    BKS07           307  BKS073   \n",
            "2      11209    11209  11209  11209, 11425    BKS10           310  BKS102   \n",
            "3      11357    11357  11357  11351, 11357     QE07           407   QE072   \n",
            "4      11219    11219  11219         11219    BKS12           312  BKS122   \n",
            "\n",
            "      community_board  council_district schedulecode  ... bulk_frequency  \\\n",
            "0   Community Board 5                30        4051E  ...            Wed   \n",
            "1   Community Board 7                38        3073D  ...       Tue, Fri   \n",
            "2  Community Board 10                43        3102E  ...            Wed   \n",
            "3   Community Board 7                19        4072C  ...            Thu   \n",
            "4  Community Board 12                44        3122D  ...       Tue, Fri   \n",
            "\n",
            "  ObjectID SHAPE_Area-1  SHAPE_Length-1   Latitude  Longitude  \\\n",
            "0      412     0.002083        0.223740  40.700875 -73.893734   \n",
            "1      227     0.001030        0.287433  40.650316 -74.008166   \n",
            "2      249     0.001101        0.140901  40.624842 -74.024525   \n",
            "3      434     0.003254        0.442474  40.770483 -73.835639   \n",
            "4      278     0.000984        0.165920  40.629302 -73.998083   \n",
            "\n",
            "                 Location Point  \\\n",
            "0  POINT (-73.893734 40.700875)   \n",
            "1  POINT (-74.008166 40.650316)   \n",
            "2  POINT (-74.024525 40.624842)   \n",
            "3  POINT (-73.835639 40.770483)   \n",
            "4  POINT (-73.998083 40.629302)   \n",
            "\n",
            "                                      multipolygon-1 census_tract  \\\n",
            "0  MULTIPOLYGON (((-73.88770340399998 40.73429958...          577   \n",
            "1  MULTIPOLYGON (((-73.98017304799998 40.66116290...           82   \n",
            "2  MULTIPOLYGON (((-74.03231229499994 40.64404745...          138   \n",
            "3  MULTIPOLYGON (((-73.83972970299999 40.76515397...          907   \n",
            "4  MULTIPOLYGON (((-73.97139775099998 40.64826603...          192   \n",
            "\n",
            "                                 GlobalID  \n",
            "0  {498F4BE7-A870-4D7D-AAA4-22F88AC15FE6}  \n",
            "1  {AB947263-8808-4F66-942F-985F5BF265E9}  \n",
            "2  {6CBE9191-CF75-4470-A89E-DEAE0936AB58}  \n",
            "3  {600D03CD-21FC-40BB-8ED4-0AAC26E90B98}  \n",
            "4  {7D89729A-7373-401E-853A-5044EBEA8556}  \n",
            "\n",
            "[5 rows x 34 columns]\n"
          ]
        }
      ],
      "source": [
        "print('Info:', dsny.info())\n",
        "print('top 5 rows:', dsny.head())"
      ]
    },
    {
      "cell_type": "code",
      "execution_count": 93,
      "metadata": {
        "colab": {
          "base_uri": "https://localhost:8080/"
        },
        "id": "5gDPtK1vGcIB",
        "outputId": "bf2d7ae2-7f3b-491f-943e-fd10d60010af"
      },
      "outputs": [
        {
          "output_type": "stream",
          "name": "stdout",
          "text": [
            "Rows, Columns: (606, 34)\n"
          ]
        }
      ],
      "source": [
        "print('Rows, Columns:', dsny.shape)\n",
        "#610, 31"
      ]
    },
    {
      "cell_type": "markdown",
      "metadata": {
        "id": "mz65D50vs9wR"
      },
      "source": [
        "##Cleaning DSNY"
      ]
    },
    {
      "cell_type": "code",
      "execution_count": 94,
      "metadata": {
        "colab": {
          "base_uri": "https://localhost:8080/"
        },
        "id": "TYOgsYecrYYj",
        "outputId": "83fe4589-a64d-4e8c-dfbd-85ffd6b8f7f5"
      },
      "outputs": [
        {
          "output_type": "execute_result",
          "data": {
            "text/plain": [
              "True"
            ]
          },
          "metadata": {},
          "execution_count": 94
        }
      ],
      "source": [
        "dsny1 = dsny.drop_duplicates()\n",
        "dsny1.shape == dsny.shape #(80475, 24)  (80481, 24)"
      ]
    },
    {
      "cell_type": "code",
      "execution_count": 95,
      "metadata": {
        "colab": {
          "base_uri": "https://localhost:8080/",
          "height": 577
        },
        "id": "E3qk3pXctzqK",
        "outputId": "d5dd12ee-9fc7-44dc-c7f6-414907f3069b"
      },
      "outputs": [
        {
          "output_type": "execute_result",
          "data": {
            "text/plain": [
              "     post_code  modzcta  label                 zcta district  districtcode  \\\n",
              "390      10007    10007  10007  10007, 10278, 10279     MN01           101   \n",
              "392      10007    10007  10007  10007, 10278, 10279     MN01           101   \n",
              "284      10007    10007  10007  10007, 10278, 10279     MN01           101   \n",
              "227      10007    10007  10007  10007, 10278, 10279     MN01           101   \n",
              "560      10012    10012  10012                10012     MN02           102   \n",
              "\n",
              "    section    community_board  council_district schedulecode  ...  \\\n",
              "390   MN011  Community Board 1                 1        1011A  ...   \n",
              "392   MN011  Community Board 1                 1        1011B  ...   \n",
              "284   MN013  Community Board 1                 1        1013A  ...   \n",
              "227   MN013  Community Board 1                 1        1013B  ...   \n",
              "560   MN021  Community Board 2                 1        1021A  ...   \n",
              "\n",
              "    bulk_frequency ObjectID SHAPE_Area-1  SHAPE_Length-1   Latitude  \\\n",
              "390  Mon, Wed, Fri        1     0.000403        0.196156  40.713001   \n",
              "392  Tue, Thu, Sat        2     0.000403        0.196156  40.713001   \n",
              "284  Mon, Wed, Fri        3     0.000403        0.196156  40.713001   \n",
              "227  Tue, Thu, Sat        4     0.000403        0.196156  40.713001   \n",
              "560  Mon, Wed, Fri        5     0.000374        0.112141  40.727881   \n",
              "\n",
              "     Longitude                Location Point  \\\n",
              "390 -74.004181  POINT (-74.004181 40.713001)   \n",
              "392 -74.004181  POINT (-74.004181 40.713001)   \n",
              "284 -74.004181  POINT (-74.004181 40.713001)   \n",
              "227 -74.004181  POINT (-74.004181 40.713001)   \n",
              "560 -73.998557  POINT (-73.998557 40.727881)   \n",
              "\n",
              "                                        multipolygon-1 census_tract  \\\n",
              "390  MULTIPOLYGON (((-74.01114498399994 40.72582273...           29   \n",
              "392  MULTIPOLYGON (((-74.01114498399994 40.72582273...           29   \n",
              "284  MULTIPOLYGON (((-74.01114498399994 40.72582273...           29   \n",
              "227  MULTIPOLYGON (((-74.01114498399994 40.72582273...           29   \n",
              "560  MULTIPOLYGON (((-73.99684138499998 40.73736915...         5501   \n",
              "\n",
              "                                   GlobalID  \n",
              "390  {CAF6E118-57FF-4B3E-A256-99E521BCB12E}  \n",
              "392  {CAF6E118-57FF-4B3E-A256-99E521BCB12E}  \n",
              "284  {CAF6E118-57FF-4B3E-A256-99E521BCB12E}  \n",
              "227  {CAF6E118-57FF-4B3E-A256-99E521BCB12E}  \n",
              "560  {9A68C37A-9489-4BCE-8D8C-580117BF1A87}  \n",
              "\n",
              "[5 rows x 34 columns]"
            ],
            "text/html": [
              "\n",
              "\n",
              "  <div id=\"df-d192add9-0188-426d-841f-b56157305251\">\n",
              "    <div class=\"colab-df-container\">\n",
              "      <div>\n",
              "<style scoped>\n",
              "    .dataframe tbody tr th:only-of-type {\n",
              "        vertical-align: middle;\n",
              "    }\n",
              "\n",
              "    .dataframe tbody tr th {\n",
              "        vertical-align: top;\n",
              "    }\n",
              "\n",
              "    .dataframe thead th {\n",
              "        text-align: right;\n",
              "    }\n",
              "</style>\n",
              "<table border=\"1\" class=\"dataframe\">\n",
              "  <thead>\n",
              "    <tr style=\"text-align: right;\">\n",
              "      <th></th>\n",
              "      <th>post_code</th>\n",
              "      <th>modzcta</th>\n",
              "      <th>label</th>\n",
              "      <th>zcta</th>\n",
              "      <th>district</th>\n",
              "      <th>districtcode</th>\n",
              "      <th>section</th>\n",
              "      <th>community_board</th>\n",
              "      <th>council_district</th>\n",
              "      <th>schedulecode</th>\n",
              "      <th>...</th>\n",
              "      <th>bulk_frequency</th>\n",
              "      <th>ObjectID</th>\n",
              "      <th>SHAPE_Area-1</th>\n",
              "      <th>SHAPE_Length-1</th>\n",
              "      <th>Latitude</th>\n",
              "      <th>Longitude</th>\n",
              "      <th>Location Point</th>\n",
              "      <th>multipolygon-1</th>\n",
              "      <th>census_tract</th>\n",
              "      <th>GlobalID</th>\n",
              "    </tr>\n",
              "  </thead>\n",
              "  <tbody>\n",
              "    <tr>\n",
              "      <th>390</th>\n",
              "      <td>10007</td>\n",
              "      <td>10007</td>\n",
              "      <td>10007</td>\n",
              "      <td>10007, 10278, 10279</td>\n",
              "      <td>MN01</td>\n",
              "      <td>101</td>\n",
              "      <td>MN011</td>\n",
              "      <td>Community Board 1</td>\n",
              "      <td>1</td>\n",
              "      <td>1011A</td>\n",
              "      <td>...</td>\n",
              "      <td>Mon, Wed, Fri</td>\n",
              "      <td>1</td>\n",
              "      <td>0.000403</td>\n",
              "      <td>0.196156</td>\n",
              "      <td>40.713001</td>\n",
              "      <td>-74.004181</td>\n",
              "      <td>POINT (-74.004181 40.713001)</td>\n",
              "      <td>MULTIPOLYGON (((-74.01114498399994 40.72582273...</td>\n",
              "      <td>29</td>\n",
              "      <td>{CAF6E118-57FF-4B3E-A256-99E521BCB12E}</td>\n",
              "    </tr>\n",
              "    <tr>\n",
              "      <th>392</th>\n",
              "      <td>10007</td>\n",
              "      <td>10007</td>\n",
              "      <td>10007</td>\n",
              "      <td>10007, 10278, 10279</td>\n",
              "      <td>MN01</td>\n",
              "      <td>101</td>\n",
              "      <td>MN011</td>\n",
              "      <td>Community Board 1</td>\n",
              "      <td>1</td>\n",
              "      <td>1011B</td>\n",
              "      <td>...</td>\n",
              "      <td>Tue, Thu, Sat</td>\n",
              "      <td>2</td>\n",
              "      <td>0.000403</td>\n",
              "      <td>0.196156</td>\n",
              "      <td>40.713001</td>\n",
              "      <td>-74.004181</td>\n",
              "      <td>POINT (-74.004181 40.713001)</td>\n",
              "      <td>MULTIPOLYGON (((-74.01114498399994 40.72582273...</td>\n",
              "      <td>29</td>\n",
              "      <td>{CAF6E118-57FF-4B3E-A256-99E521BCB12E}</td>\n",
              "    </tr>\n",
              "    <tr>\n",
              "      <th>284</th>\n",
              "      <td>10007</td>\n",
              "      <td>10007</td>\n",
              "      <td>10007</td>\n",
              "      <td>10007, 10278, 10279</td>\n",
              "      <td>MN01</td>\n",
              "      <td>101</td>\n",
              "      <td>MN013</td>\n",
              "      <td>Community Board 1</td>\n",
              "      <td>1</td>\n",
              "      <td>1013A</td>\n",
              "      <td>...</td>\n",
              "      <td>Mon, Wed, Fri</td>\n",
              "      <td>3</td>\n",
              "      <td>0.000403</td>\n",
              "      <td>0.196156</td>\n",
              "      <td>40.713001</td>\n",
              "      <td>-74.004181</td>\n",
              "      <td>POINT (-74.004181 40.713001)</td>\n",
              "      <td>MULTIPOLYGON (((-74.01114498399994 40.72582273...</td>\n",
              "      <td>29</td>\n",
              "      <td>{CAF6E118-57FF-4B3E-A256-99E521BCB12E}</td>\n",
              "    </tr>\n",
              "    <tr>\n",
              "      <th>227</th>\n",
              "      <td>10007</td>\n",
              "      <td>10007</td>\n",
              "      <td>10007</td>\n",
              "      <td>10007, 10278, 10279</td>\n",
              "      <td>MN01</td>\n",
              "      <td>101</td>\n",
              "      <td>MN013</td>\n",
              "      <td>Community Board 1</td>\n",
              "      <td>1</td>\n",
              "      <td>1013B</td>\n",
              "      <td>...</td>\n",
              "      <td>Tue, Thu, Sat</td>\n",
              "      <td>4</td>\n",
              "      <td>0.000403</td>\n",
              "      <td>0.196156</td>\n",
              "      <td>40.713001</td>\n",
              "      <td>-74.004181</td>\n",
              "      <td>POINT (-74.004181 40.713001)</td>\n",
              "      <td>MULTIPOLYGON (((-74.01114498399994 40.72582273...</td>\n",
              "      <td>29</td>\n",
              "      <td>{CAF6E118-57FF-4B3E-A256-99E521BCB12E}</td>\n",
              "    </tr>\n",
              "    <tr>\n",
              "      <th>560</th>\n",
              "      <td>10012</td>\n",
              "      <td>10012</td>\n",
              "      <td>10012</td>\n",
              "      <td>10012</td>\n",
              "      <td>MN02</td>\n",
              "      <td>102</td>\n",
              "      <td>MN021</td>\n",
              "      <td>Community Board 2</td>\n",
              "      <td>1</td>\n",
              "      <td>1021A</td>\n",
              "      <td>...</td>\n",
              "      <td>Mon, Wed, Fri</td>\n",
              "      <td>5</td>\n",
              "      <td>0.000374</td>\n",
              "      <td>0.112141</td>\n",
              "      <td>40.727881</td>\n",
              "      <td>-73.998557</td>\n",
              "      <td>POINT (-73.998557 40.727881)</td>\n",
              "      <td>MULTIPOLYGON (((-73.99684138499998 40.73736915...</td>\n",
              "      <td>5501</td>\n",
              "      <td>{9A68C37A-9489-4BCE-8D8C-580117BF1A87}</td>\n",
              "    </tr>\n",
              "  </tbody>\n",
              "</table>\n",
              "<p>5 rows × 34 columns</p>\n",
              "</div>\n",
              "      <button class=\"colab-df-convert\" onclick=\"convertToInteractive('df-d192add9-0188-426d-841f-b56157305251')\"\n",
              "              title=\"Convert this dataframe to an interactive table.\"\n",
              "              style=\"display:none;\">\n",
              "\n",
              "  <svg xmlns=\"http://www.w3.org/2000/svg\" height=\"24px\"viewBox=\"0 0 24 24\"\n",
              "       width=\"24px\">\n",
              "    <path d=\"M0 0h24v24H0V0z\" fill=\"none\"/>\n",
              "    <path d=\"M18.56 5.44l.94 2.06.94-2.06 2.06-.94-2.06-.94-.94-2.06-.94 2.06-2.06.94zm-11 1L8.5 8.5l.94-2.06 2.06-.94-2.06-.94L8.5 2.5l-.94 2.06-2.06.94zm10 10l.94 2.06.94-2.06 2.06-.94-2.06-.94-.94-2.06-.94 2.06-2.06.94z\"/><path d=\"M17.41 7.96l-1.37-1.37c-.4-.4-.92-.59-1.43-.59-.52 0-1.04.2-1.43.59L10.3 9.45l-7.72 7.72c-.78.78-.78 2.05 0 2.83L4 21.41c.39.39.9.59 1.41.59.51 0 1.02-.2 1.41-.59l7.78-7.78 2.81-2.81c.8-.78.8-2.07 0-2.86zM5.41 20L4 18.59l7.72-7.72 1.47 1.35L5.41 20z\"/>\n",
              "  </svg>\n",
              "      </button>\n",
              "\n",
              "\n",
              "\n",
              "    <div id=\"df-5bf1c11e-06d5-4cbb-ac70-9944160c1be6\">\n",
              "      <button class=\"colab-df-quickchart\" onclick=\"quickchart('df-5bf1c11e-06d5-4cbb-ac70-9944160c1be6')\"\n",
              "              title=\"Suggest charts.\"\n",
              "              style=\"display:none;\">\n",
              "\n",
              "<svg xmlns=\"http://www.w3.org/2000/svg\" height=\"24px\"viewBox=\"0 0 24 24\"\n",
              "     width=\"24px\">\n",
              "    <g>\n",
              "        <path d=\"M19 3H5c-1.1 0-2 .9-2 2v14c0 1.1.9 2 2 2h14c1.1 0 2-.9 2-2V5c0-1.1-.9-2-2-2zM9 17H7v-7h2v7zm4 0h-2V7h2v10zm4 0h-2v-4h2v4z\"/>\n",
              "    </g>\n",
              "</svg>\n",
              "      </button>\n",
              "    </div>\n",
              "\n",
              "<style>\n",
              "  .colab-df-quickchart {\n",
              "    background-color: #E8F0FE;\n",
              "    border: none;\n",
              "    border-radius: 50%;\n",
              "    cursor: pointer;\n",
              "    display: none;\n",
              "    fill: #1967D2;\n",
              "    height: 32px;\n",
              "    padding: 0 0 0 0;\n",
              "    width: 32px;\n",
              "  }\n",
              "\n",
              "  .colab-df-quickchart:hover {\n",
              "    background-color: #E2EBFA;\n",
              "    box-shadow: 0px 1px 2px rgba(60, 64, 67, 0.3), 0px 1px 3px 1px rgba(60, 64, 67, 0.15);\n",
              "    fill: #174EA6;\n",
              "  }\n",
              "\n",
              "  [theme=dark] .colab-df-quickchart {\n",
              "    background-color: #3B4455;\n",
              "    fill: #D2E3FC;\n",
              "  }\n",
              "\n",
              "  [theme=dark] .colab-df-quickchart:hover {\n",
              "    background-color: #434B5C;\n",
              "    box-shadow: 0px 1px 3px 1px rgba(0, 0, 0, 0.15);\n",
              "    filter: drop-shadow(0px 1px 2px rgba(0, 0, 0, 0.3));\n",
              "    fill: #FFFFFF;\n",
              "  }\n",
              "</style>\n",
              "\n",
              "    <script>\n",
              "      async function quickchart(key) {\n",
              "        const containerElement = document.querySelector('#' + key);\n",
              "        const charts = await google.colab.kernel.invokeFunction(\n",
              "            'suggestCharts', [key], {});\n",
              "      }\n",
              "    </script>\n",
              "\n",
              "      <script>\n",
              "\n",
              "function displayQuickchartButton(domScope) {\n",
              "  let quickchartButtonEl =\n",
              "    domScope.querySelector('#df-5bf1c11e-06d5-4cbb-ac70-9944160c1be6 button.colab-df-quickchart');\n",
              "  quickchartButtonEl.style.display =\n",
              "    google.colab.kernel.accessAllowed ? 'block' : 'none';\n",
              "}\n",
              "\n",
              "        displayQuickchartButton(document);\n",
              "      </script>\n",
              "      <style>\n",
              "    .colab-df-container {\n",
              "      display:flex;\n",
              "      flex-wrap:wrap;\n",
              "      gap: 12px;\n",
              "    }\n",
              "\n",
              "    .colab-df-convert {\n",
              "      background-color: #E8F0FE;\n",
              "      border: none;\n",
              "      border-radius: 50%;\n",
              "      cursor: pointer;\n",
              "      display: none;\n",
              "      fill: #1967D2;\n",
              "      height: 32px;\n",
              "      padding: 0 0 0 0;\n",
              "      width: 32px;\n",
              "    }\n",
              "\n",
              "    .colab-df-convert:hover {\n",
              "      background-color: #E2EBFA;\n",
              "      box-shadow: 0px 1px 2px rgba(60, 64, 67, 0.3), 0px 1px 3px 1px rgba(60, 64, 67, 0.15);\n",
              "      fill: #174EA6;\n",
              "    }\n",
              "\n",
              "    [theme=dark] .colab-df-convert {\n",
              "      background-color: #3B4455;\n",
              "      fill: #D2E3FC;\n",
              "    }\n",
              "\n",
              "    [theme=dark] .colab-df-convert:hover {\n",
              "      background-color: #434B5C;\n",
              "      box-shadow: 0px 1px 3px 1px rgba(0, 0, 0, 0.15);\n",
              "      filter: drop-shadow(0px 1px 2px rgba(0, 0, 0, 0.3));\n",
              "      fill: #FFFFFF;\n",
              "    }\n",
              "  </style>\n",
              "\n",
              "      <script>\n",
              "        const buttonEl =\n",
              "          document.querySelector('#df-d192add9-0188-426d-841f-b56157305251 button.colab-df-convert');\n",
              "        buttonEl.style.display =\n",
              "          google.colab.kernel.accessAllowed ? 'block' : 'none';\n",
              "\n",
              "        async function convertToInteractive(key) {\n",
              "          const element = document.querySelector('#df-d192add9-0188-426d-841f-b56157305251');\n",
              "          const dataTable =\n",
              "            await google.colab.kernel.invokeFunction('convertToInteractive',\n",
              "                                                     [key], {});\n",
              "          if (!dataTable) return;\n",
              "\n",
              "          const docLinkHtml = 'Like what you see? Visit the ' +\n",
              "            '<a target=\"_blank\" href=https://colab.research.google.com/notebooks/data_table.ipynb>data table notebook</a>'\n",
              "            + ' to learn more about interactive tables.';\n",
              "          element.innerHTML = '';\n",
              "          dataTable['output_type'] = 'display_data';\n",
              "          await google.colab.output.renderOutput(dataTable, element);\n",
              "          const docLink = document.createElement('div');\n",
              "          docLink.innerHTML = docLinkHtml;\n",
              "          element.appendChild(docLink);\n",
              "        }\n",
              "      </script>\n",
              "    </div>\n",
              "  </div>\n"
            ]
          },
          "metadata": {},
          "execution_count": 95
        }
      ],
      "source": [
        "dsny1.sort_values(by=['schedulecode','modzcta', 'post_code']).head(5)"
      ]
    },
    {
      "cell_type": "code",
      "execution_count": 96,
      "metadata": {
        "id": "sQmZSovnvH68"
      },
      "outputs": [],
      "source": [
        "dsny1_sorted = pd.DataFrame(dsny1.sort_values(by=['schedulecode','modzcta', 'post_code'], ascending=True))"
      ]
    },
    {
      "cell_type": "code",
      "execution_count": 97,
      "metadata": {
        "colab": {
          "base_uri": "https://localhost:8080/",
          "height": 1000
        },
        "id": "XRqfWwQZwJur",
        "outputId": "39d0e27d-f97f-44d9-8a1f-69e110f8e518"
      },
      "outputs": [
        {
          "output_type": "execute_result",
          "data": {
            "text/plain": [
              "     post_code  modzcta  label                 zcta district  districtcode  \\\n",
              "0        10007    10007  10007  10007, 10278, 10279     MN01           101   \n",
              "1        10007    10007  10007  10007, 10278, 10279     MN01           101   \n",
              "2        10007    10007  10007  10007, 10278, 10279     MN01           101   \n",
              "3        10007    10007  10007  10007, 10278, 10279     MN01           101   \n",
              "4        10012    10012  10012                10012     MN02           102   \n",
              "..         ...      ...    ...                  ...      ...           ...   \n",
              "601      10309    10309  10309                10309     SI03           503   \n",
              "602      10309    10309  10309                10309     SI03           503   \n",
              "603      10309    10309  10309                10309     SI03           503   \n",
              "604      10309    10309  10309                10309     SI03           503   \n",
              "605      10309    10309  10309                10309     SI03           503   \n",
              "\n",
              "    section    community_board  council_district schedulecode  ...  \\\n",
              "0     MN011  Community Board 1                 1        1011A  ...   \n",
              "1     MN011  Community Board 1                 1        1011B  ...   \n",
              "2     MN013  Community Board 1                 1        1013A  ...   \n",
              "3     MN013  Community Board 1                 1        1013B  ...   \n",
              "4     MN021  Community Board 2                 1        1021A  ...   \n",
              "..      ...                ...               ...          ...  ...   \n",
              "601   SI037  Community Board 3                51        5037D  ...   \n",
              "602   SI037  Community Board 3                51        5037E  ...   \n",
              "603   SI038  Community Board 3                51        5038C  ...   \n",
              "604   SI038  Community Board 3                51        5038D  ...   \n",
              "605   SI038  Community Board 3                51        5038E  ...   \n",
              "\n",
              "    bulk_frequency ObjectID SHAPE_Area-1  SHAPE_Length-1   Latitude  \\\n",
              "0    Mon, Wed, Fri        1     0.000403        0.196156  40.713001   \n",
              "1    Tue, Thu, Sat        2     0.000403        0.196156  40.713001   \n",
              "2    Mon, Wed, Fri        3     0.000403        0.196156  40.713001   \n",
              "3    Tue, Thu, Sat        4     0.000403        0.196156  40.713001   \n",
              "4    Mon, Wed, Fri        5     0.000374        0.112141  40.727881   \n",
              "..             ...      ...          ...             ...        ...   \n",
              "601       Tue, Fri      606     0.005915        0.575665  40.541857   \n",
              "602       Wed, Sat      607     0.005915        0.575665  40.541857   \n",
              "603       Mon, Thu      608     0.005915        0.575665  40.541857   \n",
              "604       Tue, Fri      609     0.005915        0.575665  40.541857   \n",
              "605       Wed, Sat      610     0.005915        0.575665  40.541857   \n",
              "\n",
              "     Longitude                Location Point  \\\n",
              "0   -74.004181  POINT (-74.004181 40.713001)   \n",
              "1   -74.004181  POINT (-74.004181 40.713001)   \n",
              "2   -74.004181  POINT (-74.004181 40.713001)   \n",
              "3   -74.004181  POINT (-74.004181 40.713001)   \n",
              "4   -73.998557  POINT (-73.998557 40.727881)   \n",
              "..         ...                           ...   \n",
              "601 -74.206175  POINT (-74.206175 40.541857)   \n",
              "602 -74.206175  POINT (-74.206175 40.541857)   \n",
              "603 -74.206175  POINT (-74.206175 40.541857)   \n",
              "604 -74.206175  POINT (-74.206175 40.541857)   \n",
              "605 -74.206175  POINT (-74.206175 40.541857)   \n",
              "\n",
              "                                        multipolygon-1 census_tract  \\\n",
              "0    MULTIPOLYGON (((-74.01114498399994 40.72582273...           29   \n",
              "1    MULTIPOLYGON (((-74.01114498399994 40.72582273...           29   \n",
              "2    MULTIPOLYGON (((-74.01114498399994 40.72582273...           29   \n",
              "3    MULTIPOLYGON (((-74.01114498399994 40.72582273...           29   \n",
              "4    MULTIPOLYGON (((-73.99684138499998 40.73736915...         5501   \n",
              "..                                                 ...          ...   \n",
              "601  MULTIPOLYGON (((-74.20072777399997 40.57933312...        20801   \n",
              "602  MULTIPOLYGON (((-74.20072777399997 40.57933312...        20801   \n",
              "603  MULTIPOLYGON (((-74.20072777399997 40.57933312...        20801   \n",
              "604  MULTIPOLYGON (((-74.20072777399997 40.57933312...        20801   \n",
              "605  MULTIPOLYGON (((-74.20072777399997 40.57933312...        20801   \n",
              "\n",
              "                                   GlobalID  \n",
              "0    {CAF6E118-57FF-4B3E-A256-99E521BCB12E}  \n",
              "1    {CAF6E118-57FF-4B3E-A256-99E521BCB12E}  \n",
              "2    {CAF6E118-57FF-4B3E-A256-99E521BCB12E}  \n",
              "3    {CAF6E118-57FF-4B3E-A256-99E521BCB12E}  \n",
              "4    {9A68C37A-9489-4BCE-8D8C-580117BF1A87}  \n",
              "..                                      ...  \n",
              "601  {39F3B701-E1E4-4D24-9E7A-D12AF02CD8DF}  \n",
              "602  {39F3B701-E1E4-4D24-9E7A-D12AF02CD8DF}  \n",
              "603  {39F3B701-E1E4-4D24-9E7A-D12AF02CD8DF}  \n",
              "604  {39F3B701-E1E4-4D24-9E7A-D12AF02CD8DF}  \n",
              "605  {39F3B701-E1E4-4D24-9E7A-D12AF02CD8DF}  \n",
              "\n",
              "[606 rows x 34 columns]"
            ],
            "text/html": [
              "\n",
              "\n",
              "  <div id=\"df-aaf5686c-875d-4e9d-85bb-3828cb93801e\">\n",
              "    <div class=\"colab-df-container\">\n",
              "      <div>\n",
              "<style scoped>\n",
              "    .dataframe tbody tr th:only-of-type {\n",
              "        vertical-align: middle;\n",
              "    }\n",
              "\n",
              "    .dataframe tbody tr th {\n",
              "        vertical-align: top;\n",
              "    }\n",
              "\n",
              "    .dataframe thead th {\n",
              "        text-align: right;\n",
              "    }\n",
              "</style>\n",
              "<table border=\"1\" class=\"dataframe\">\n",
              "  <thead>\n",
              "    <tr style=\"text-align: right;\">\n",
              "      <th></th>\n",
              "      <th>post_code</th>\n",
              "      <th>modzcta</th>\n",
              "      <th>label</th>\n",
              "      <th>zcta</th>\n",
              "      <th>district</th>\n",
              "      <th>districtcode</th>\n",
              "      <th>section</th>\n",
              "      <th>community_board</th>\n",
              "      <th>council_district</th>\n",
              "      <th>schedulecode</th>\n",
              "      <th>...</th>\n",
              "      <th>bulk_frequency</th>\n",
              "      <th>ObjectID</th>\n",
              "      <th>SHAPE_Area-1</th>\n",
              "      <th>SHAPE_Length-1</th>\n",
              "      <th>Latitude</th>\n",
              "      <th>Longitude</th>\n",
              "      <th>Location Point</th>\n",
              "      <th>multipolygon-1</th>\n",
              "      <th>census_tract</th>\n",
              "      <th>GlobalID</th>\n",
              "    </tr>\n",
              "  </thead>\n",
              "  <tbody>\n",
              "    <tr>\n",
              "      <th>0</th>\n",
              "      <td>10007</td>\n",
              "      <td>10007</td>\n",
              "      <td>10007</td>\n",
              "      <td>10007, 10278, 10279</td>\n",
              "      <td>MN01</td>\n",
              "      <td>101</td>\n",
              "      <td>MN011</td>\n",
              "      <td>Community Board 1</td>\n",
              "      <td>1</td>\n",
              "      <td>1011A</td>\n",
              "      <td>...</td>\n",
              "      <td>Mon, Wed, Fri</td>\n",
              "      <td>1</td>\n",
              "      <td>0.000403</td>\n",
              "      <td>0.196156</td>\n",
              "      <td>40.713001</td>\n",
              "      <td>-74.004181</td>\n",
              "      <td>POINT (-74.004181 40.713001)</td>\n",
              "      <td>MULTIPOLYGON (((-74.01114498399994 40.72582273...</td>\n",
              "      <td>29</td>\n",
              "      <td>{CAF6E118-57FF-4B3E-A256-99E521BCB12E}</td>\n",
              "    </tr>\n",
              "    <tr>\n",
              "      <th>1</th>\n",
              "      <td>10007</td>\n",
              "      <td>10007</td>\n",
              "      <td>10007</td>\n",
              "      <td>10007, 10278, 10279</td>\n",
              "      <td>MN01</td>\n",
              "      <td>101</td>\n",
              "      <td>MN011</td>\n",
              "      <td>Community Board 1</td>\n",
              "      <td>1</td>\n",
              "      <td>1011B</td>\n",
              "      <td>...</td>\n",
              "      <td>Tue, Thu, Sat</td>\n",
              "      <td>2</td>\n",
              "      <td>0.000403</td>\n",
              "      <td>0.196156</td>\n",
              "      <td>40.713001</td>\n",
              "      <td>-74.004181</td>\n",
              "      <td>POINT (-74.004181 40.713001)</td>\n",
              "      <td>MULTIPOLYGON (((-74.01114498399994 40.72582273...</td>\n",
              "      <td>29</td>\n",
              "      <td>{CAF6E118-57FF-4B3E-A256-99E521BCB12E}</td>\n",
              "    </tr>\n",
              "    <tr>\n",
              "      <th>2</th>\n",
              "      <td>10007</td>\n",
              "      <td>10007</td>\n",
              "      <td>10007</td>\n",
              "      <td>10007, 10278, 10279</td>\n",
              "      <td>MN01</td>\n",
              "      <td>101</td>\n",
              "      <td>MN013</td>\n",
              "      <td>Community Board 1</td>\n",
              "      <td>1</td>\n",
              "      <td>1013A</td>\n",
              "      <td>...</td>\n",
              "      <td>Mon, Wed, Fri</td>\n",
              "      <td>3</td>\n",
              "      <td>0.000403</td>\n",
              "      <td>0.196156</td>\n",
              "      <td>40.713001</td>\n",
              "      <td>-74.004181</td>\n",
              "      <td>POINT (-74.004181 40.713001)</td>\n",
              "      <td>MULTIPOLYGON (((-74.01114498399994 40.72582273...</td>\n",
              "      <td>29</td>\n",
              "      <td>{CAF6E118-57FF-4B3E-A256-99E521BCB12E}</td>\n",
              "    </tr>\n",
              "    <tr>\n",
              "      <th>3</th>\n",
              "      <td>10007</td>\n",
              "      <td>10007</td>\n",
              "      <td>10007</td>\n",
              "      <td>10007, 10278, 10279</td>\n",
              "      <td>MN01</td>\n",
              "      <td>101</td>\n",
              "      <td>MN013</td>\n",
              "      <td>Community Board 1</td>\n",
              "      <td>1</td>\n",
              "      <td>1013B</td>\n",
              "      <td>...</td>\n",
              "      <td>Tue, Thu, Sat</td>\n",
              "      <td>4</td>\n",
              "      <td>0.000403</td>\n",
              "      <td>0.196156</td>\n",
              "      <td>40.713001</td>\n",
              "      <td>-74.004181</td>\n",
              "      <td>POINT (-74.004181 40.713001)</td>\n",
              "      <td>MULTIPOLYGON (((-74.01114498399994 40.72582273...</td>\n",
              "      <td>29</td>\n",
              "      <td>{CAF6E118-57FF-4B3E-A256-99E521BCB12E}</td>\n",
              "    </tr>\n",
              "    <tr>\n",
              "      <th>4</th>\n",
              "      <td>10012</td>\n",
              "      <td>10012</td>\n",
              "      <td>10012</td>\n",
              "      <td>10012</td>\n",
              "      <td>MN02</td>\n",
              "      <td>102</td>\n",
              "      <td>MN021</td>\n",
              "      <td>Community Board 2</td>\n",
              "      <td>1</td>\n",
              "      <td>1021A</td>\n",
              "      <td>...</td>\n",
              "      <td>Mon, Wed, Fri</td>\n",
              "      <td>5</td>\n",
              "      <td>0.000374</td>\n",
              "      <td>0.112141</td>\n",
              "      <td>40.727881</td>\n",
              "      <td>-73.998557</td>\n",
              "      <td>POINT (-73.998557 40.727881)</td>\n",
              "      <td>MULTIPOLYGON (((-73.99684138499998 40.73736915...</td>\n",
              "      <td>5501</td>\n",
              "      <td>{9A68C37A-9489-4BCE-8D8C-580117BF1A87}</td>\n",
              "    </tr>\n",
              "    <tr>\n",
              "      <th>...</th>\n",
              "      <td>...</td>\n",
              "      <td>...</td>\n",
              "      <td>...</td>\n",
              "      <td>...</td>\n",
              "      <td>...</td>\n",
              "      <td>...</td>\n",
              "      <td>...</td>\n",
              "      <td>...</td>\n",
              "      <td>...</td>\n",
              "      <td>...</td>\n",
              "      <td>...</td>\n",
              "      <td>...</td>\n",
              "      <td>...</td>\n",
              "      <td>...</td>\n",
              "      <td>...</td>\n",
              "      <td>...</td>\n",
              "      <td>...</td>\n",
              "      <td>...</td>\n",
              "      <td>...</td>\n",
              "      <td>...</td>\n",
              "      <td>...</td>\n",
              "    </tr>\n",
              "    <tr>\n",
              "      <th>601</th>\n",
              "      <td>10309</td>\n",
              "      <td>10309</td>\n",
              "      <td>10309</td>\n",
              "      <td>10309</td>\n",
              "      <td>SI03</td>\n",
              "      <td>503</td>\n",
              "      <td>SI037</td>\n",
              "      <td>Community Board 3</td>\n",
              "      <td>51</td>\n",
              "      <td>5037D</td>\n",
              "      <td>...</td>\n",
              "      <td>Tue, Fri</td>\n",
              "      <td>606</td>\n",
              "      <td>0.005915</td>\n",
              "      <td>0.575665</td>\n",
              "      <td>40.541857</td>\n",
              "      <td>-74.206175</td>\n",
              "      <td>POINT (-74.206175 40.541857)</td>\n",
              "      <td>MULTIPOLYGON (((-74.20072777399997 40.57933312...</td>\n",
              "      <td>20801</td>\n",
              "      <td>{39F3B701-E1E4-4D24-9E7A-D12AF02CD8DF}</td>\n",
              "    </tr>\n",
              "    <tr>\n",
              "      <th>602</th>\n",
              "      <td>10309</td>\n",
              "      <td>10309</td>\n",
              "      <td>10309</td>\n",
              "      <td>10309</td>\n",
              "      <td>SI03</td>\n",
              "      <td>503</td>\n",
              "      <td>SI037</td>\n",
              "      <td>Community Board 3</td>\n",
              "      <td>51</td>\n",
              "      <td>5037E</td>\n",
              "      <td>...</td>\n",
              "      <td>Wed, Sat</td>\n",
              "      <td>607</td>\n",
              "      <td>0.005915</td>\n",
              "      <td>0.575665</td>\n",
              "      <td>40.541857</td>\n",
              "      <td>-74.206175</td>\n",
              "      <td>POINT (-74.206175 40.541857)</td>\n",
              "      <td>MULTIPOLYGON (((-74.20072777399997 40.57933312...</td>\n",
              "      <td>20801</td>\n",
              "      <td>{39F3B701-E1E4-4D24-9E7A-D12AF02CD8DF}</td>\n",
              "    </tr>\n",
              "    <tr>\n",
              "      <th>603</th>\n",
              "      <td>10309</td>\n",
              "      <td>10309</td>\n",
              "      <td>10309</td>\n",
              "      <td>10309</td>\n",
              "      <td>SI03</td>\n",
              "      <td>503</td>\n",
              "      <td>SI038</td>\n",
              "      <td>Community Board 3</td>\n",
              "      <td>51</td>\n",
              "      <td>5038C</td>\n",
              "      <td>...</td>\n",
              "      <td>Mon, Thu</td>\n",
              "      <td>608</td>\n",
              "      <td>0.005915</td>\n",
              "      <td>0.575665</td>\n",
              "      <td>40.541857</td>\n",
              "      <td>-74.206175</td>\n",
              "      <td>POINT (-74.206175 40.541857)</td>\n",
              "      <td>MULTIPOLYGON (((-74.20072777399997 40.57933312...</td>\n",
              "      <td>20801</td>\n",
              "      <td>{39F3B701-E1E4-4D24-9E7A-D12AF02CD8DF}</td>\n",
              "    </tr>\n",
              "    <tr>\n",
              "      <th>604</th>\n",
              "      <td>10309</td>\n",
              "      <td>10309</td>\n",
              "      <td>10309</td>\n",
              "      <td>10309</td>\n",
              "      <td>SI03</td>\n",
              "      <td>503</td>\n",
              "      <td>SI038</td>\n",
              "      <td>Community Board 3</td>\n",
              "      <td>51</td>\n",
              "      <td>5038D</td>\n",
              "      <td>...</td>\n",
              "      <td>Tue, Fri</td>\n",
              "      <td>609</td>\n",
              "      <td>0.005915</td>\n",
              "      <td>0.575665</td>\n",
              "      <td>40.541857</td>\n",
              "      <td>-74.206175</td>\n",
              "      <td>POINT (-74.206175 40.541857)</td>\n",
              "      <td>MULTIPOLYGON (((-74.20072777399997 40.57933312...</td>\n",
              "      <td>20801</td>\n",
              "      <td>{39F3B701-E1E4-4D24-9E7A-D12AF02CD8DF}</td>\n",
              "    </tr>\n",
              "    <tr>\n",
              "      <th>605</th>\n",
              "      <td>10309</td>\n",
              "      <td>10309</td>\n",
              "      <td>10309</td>\n",
              "      <td>10309</td>\n",
              "      <td>SI03</td>\n",
              "      <td>503</td>\n",
              "      <td>SI038</td>\n",
              "      <td>Community Board 3</td>\n",
              "      <td>51</td>\n",
              "      <td>5038E</td>\n",
              "      <td>...</td>\n",
              "      <td>Wed, Sat</td>\n",
              "      <td>610</td>\n",
              "      <td>0.005915</td>\n",
              "      <td>0.575665</td>\n",
              "      <td>40.541857</td>\n",
              "      <td>-74.206175</td>\n",
              "      <td>POINT (-74.206175 40.541857)</td>\n",
              "      <td>MULTIPOLYGON (((-74.20072777399997 40.57933312...</td>\n",
              "      <td>20801</td>\n",
              "      <td>{39F3B701-E1E4-4D24-9E7A-D12AF02CD8DF}</td>\n",
              "    </tr>\n",
              "  </tbody>\n",
              "</table>\n",
              "<p>606 rows × 34 columns</p>\n",
              "</div>\n",
              "      <button class=\"colab-df-convert\" onclick=\"convertToInteractive('df-aaf5686c-875d-4e9d-85bb-3828cb93801e')\"\n",
              "              title=\"Convert this dataframe to an interactive table.\"\n",
              "              style=\"display:none;\">\n",
              "\n",
              "  <svg xmlns=\"http://www.w3.org/2000/svg\" height=\"24px\"viewBox=\"0 0 24 24\"\n",
              "       width=\"24px\">\n",
              "    <path d=\"M0 0h24v24H0V0z\" fill=\"none\"/>\n",
              "    <path d=\"M18.56 5.44l.94 2.06.94-2.06 2.06-.94-2.06-.94-.94-2.06-.94 2.06-2.06.94zm-11 1L8.5 8.5l.94-2.06 2.06-.94-2.06-.94L8.5 2.5l-.94 2.06-2.06.94zm10 10l.94 2.06.94-2.06 2.06-.94-2.06-.94-.94-2.06-.94 2.06-2.06.94z\"/><path d=\"M17.41 7.96l-1.37-1.37c-.4-.4-.92-.59-1.43-.59-.52 0-1.04.2-1.43.59L10.3 9.45l-7.72 7.72c-.78.78-.78 2.05 0 2.83L4 21.41c.39.39.9.59 1.41.59.51 0 1.02-.2 1.41-.59l7.78-7.78 2.81-2.81c.8-.78.8-2.07 0-2.86zM5.41 20L4 18.59l7.72-7.72 1.47 1.35L5.41 20z\"/>\n",
              "  </svg>\n",
              "      </button>\n",
              "\n",
              "\n",
              "\n",
              "    <div id=\"df-58796b1e-a20d-4b3f-9e53-366284420ae4\">\n",
              "      <button class=\"colab-df-quickchart\" onclick=\"quickchart('df-58796b1e-a20d-4b3f-9e53-366284420ae4')\"\n",
              "              title=\"Suggest charts.\"\n",
              "              style=\"display:none;\">\n",
              "\n",
              "<svg xmlns=\"http://www.w3.org/2000/svg\" height=\"24px\"viewBox=\"0 0 24 24\"\n",
              "     width=\"24px\">\n",
              "    <g>\n",
              "        <path d=\"M19 3H5c-1.1 0-2 .9-2 2v14c0 1.1.9 2 2 2h14c1.1 0 2-.9 2-2V5c0-1.1-.9-2-2-2zM9 17H7v-7h2v7zm4 0h-2V7h2v10zm4 0h-2v-4h2v4z\"/>\n",
              "    </g>\n",
              "</svg>\n",
              "      </button>\n",
              "    </div>\n",
              "\n",
              "<style>\n",
              "  .colab-df-quickchart {\n",
              "    background-color: #E8F0FE;\n",
              "    border: none;\n",
              "    border-radius: 50%;\n",
              "    cursor: pointer;\n",
              "    display: none;\n",
              "    fill: #1967D2;\n",
              "    height: 32px;\n",
              "    padding: 0 0 0 0;\n",
              "    width: 32px;\n",
              "  }\n",
              "\n",
              "  .colab-df-quickchart:hover {\n",
              "    background-color: #E2EBFA;\n",
              "    box-shadow: 0px 1px 2px rgba(60, 64, 67, 0.3), 0px 1px 3px 1px rgba(60, 64, 67, 0.15);\n",
              "    fill: #174EA6;\n",
              "  }\n",
              "\n",
              "  [theme=dark] .colab-df-quickchart {\n",
              "    background-color: #3B4455;\n",
              "    fill: #D2E3FC;\n",
              "  }\n",
              "\n",
              "  [theme=dark] .colab-df-quickchart:hover {\n",
              "    background-color: #434B5C;\n",
              "    box-shadow: 0px 1px 3px 1px rgba(0, 0, 0, 0.15);\n",
              "    filter: drop-shadow(0px 1px 2px rgba(0, 0, 0, 0.3));\n",
              "    fill: #FFFFFF;\n",
              "  }\n",
              "</style>\n",
              "\n",
              "    <script>\n",
              "      async function quickchart(key) {\n",
              "        const containerElement = document.querySelector('#' + key);\n",
              "        const charts = await google.colab.kernel.invokeFunction(\n",
              "            'suggestCharts', [key], {});\n",
              "      }\n",
              "    </script>\n",
              "\n",
              "      <script>\n",
              "\n",
              "function displayQuickchartButton(domScope) {\n",
              "  let quickchartButtonEl =\n",
              "    domScope.querySelector('#df-58796b1e-a20d-4b3f-9e53-366284420ae4 button.colab-df-quickchart');\n",
              "  quickchartButtonEl.style.display =\n",
              "    google.colab.kernel.accessAllowed ? 'block' : 'none';\n",
              "}\n",
              "\n",
              "        displayQuickchartButton(document);\n",
              "      </script>\n",
              "      <style>\n",
              "    .colab-df-container {\n",
              "      display:flex;\n",
              "      flex-wrap:wrap;\n",
              "      gap: 12px;\n",
              "    }\n",
              "\n",
              "    .colab-df-convert {\n",
              "      background-color: #E8F0FE;\n",
              "      border: none;\n",
              "      border-radius: 50%;\n",
              "      cursor: pointer;\n",
              "      display: none;\n",
              "      fill: #1967D2;\n",
              "      height: 32px;\n",
              "      padding: 0 0 0 0;\n",
              "      width: 32px;\n",
              "    }\n",
              "\n",
              "    .colab-df-convert:hover {\n",
              "      background-color: #E2EBFA;\n",
              "      box-shadow: 0px 1px 2px rgba(60, 64, 67, 0.3), 0px 1px 3px 1px rgba(60, 64, 67, 0.15);\n",
              "      fill: #174EA6;\n",
              "    }\n",
              "\n",
              "    [theme=dark] .colab-df-convert {\n",
              "      background-color: #3B4455;\n",
              "      fill: #D2E3FC;\n",
              "    }\n",
              "\n",
              "    [theme=dark] .colab-df-convert:hover {\n",
              "      background-color: #434B5C;\n",
              "      box-shadow: 0px 1px 3px 1px rgba(0, 0, 0, 0.15);\n",
              "      filter: drop-shadow(0px 1px 2px rgba(0, 0, 0, 0.3));\n",
              "      fill: #FFFFFF;\n",
              "    }\n",
              "  </style>\n",
              "\n",
              "      <script>\n",
              "        const buttonEl =\n",
              "          document.querySelector('#df-aaf5686c-875d-4e9d-85bb-3828cb93801e button.colab-df-convert');\n",
              "        buttonEl.style.display =\n",
              "          google.colab.kernel.accessAllowed ? 'block' : 'none';\n",
              "\n",
              "        async function convertToInteractive(key) {\n",
              "          const element = document.querySelector('#df-aaf5686c-875d-4e9d-85bb-3828cb93801e');\n",
              "          const dataTable =\n",
              "            await google.colab.kernel.invokeFunction('convertToInteractive',\n",
              "                                                     [key], {});\n",
              "          if (!dataTable) return;\n",
              "\n",
              "          const docLinkHtml = 'Like what you see? Visit the ' +\n",
              "            '<a target=\"_blank\" href=https://colab.research.google.com/notebooks/data_table.ipynb>data table notebook</a>'\n",
              "            + ' to learn more about interactive tables.';\n",
              "          element.innerHTML = '';\n",
              "          dataTable['output_type'] = 'display_data';\n",
              "          await google.colab.output.renderOutput(dataTable, element);\n",
              "          const docLink = document.createElement('div');\n",
              "          docLink.innerHTML = docLinkHtml;\n",
              "          element.appendChild(docLink);\n",
              "        }\n",
              "      </script>\n",
              "    </div>\n",
              "  </div>\n"
            ]
          },
          "metadata": {},
          "execution_count": 97
        }
      ],
      "source": [
        "dsny1_sorted.reset_index(drop=True)"
      ]
    },
    {
      "cell_type": "code",
      "execution_count": 98,
      "metadata": {
        "colab": {
          "base_uri": "https://localhost:8080/",
          "height": 597
        },
        "id": "PeKrWyQ8rxCP",
        "outputId": "7057cb8a-2663-48b1-e50b-f4255300ca4c"
      },
      "outputs": [
        {
          "output_type": "execute_result",
          "data": {
            "text/plain": [
              "<Axes: >"
            ]
          },
          "metadata": {},
          "execution_count": 98
        },
        {
          "output_type": "display_data",
          "data": {
            "text/plain": [
              "<Figure size 640x480 with 1 Axes>"
            ],
            "image/png": "[encoded data removed]"
          },
          "metadata": {}
        }
      ],
      "source": [
        "# check missing values in different columns via heatmap\n",
        "sns.heatmap(dsny1.isnull(), cbar=False)"
      ]
    },
    {
      "cell_type": "code",
      "execution_count": 99,
      "metadata": {
        "id": "w4tzsGK1rceI"
      },
      "outputs": [],
      "source": [
        "#dsny1.dropna()\n",
        "#dropping columns\n",
        "# dsny1 = dsny1.drop([ 'FID', 'FID-1', 'STATEPLANE_LABELX', 'STATEPLANE_LABELY', 'STATEPLANE_SNAPPEDX',\n",
        "#        'STATEPLANE_SNAPPEDY', 'GlobalID'], axis=1)\n"
      ]
    },
    {
      "cell_type": "code",
      "execution_count": 100,
      "metadata": {
        "colab": {
          "base_uri": "https://localhost:8080/"
        },
        "id": "WTQu-hkxVlPo",
        "outputId": "a095a93b-b541-4695-ca11-012b98645baf"
      },
      "outputs": [
        {
          "output_type": "execute_result",
          "data": {
            "text/plain": [
              "Index(['post_code', 'modzcta', 'label', 'zcta', 'district', 'districtcode',\n",
              "       'section', 'community_board', 'council_district', 'schedulecode',\n",
              "       'neighborhoods', 'nta', 'cb_office_address', 'pop_est', 'frequency',\n",
              "       'bulk_day1', 'bulk_day2', 'bulk_day3', 'refuse_day1', 'refuse_day2',\n",
              "       'refuse_day3', 'refuse_frequency', 'recycling_frequency',\n",
              "       'organic_frequency', 'bulk_frequency', 'ObjectID', 'SHAPE_Area-1',\n",
              "       'SHAPE_Length-1', 'Latitude', 'Longitude', 'Location Point',\n",
              "       'multipolygon-1', 'census_tract', 'GlobalID'],\n",
              "      dtype='object')"
            ]
          },
          "metadata": {},
          "execution_count": 100
        }
      ],
      "source": [
        "dsny1.columns"
      ]
    },
    {
      "cell_type": "code",
      "execution_count": 100,
      "metadata": {
        "id": "SOQIQgqjvHIK"
      },
      "outputs": [],
      "source": []
    },
    {
      "cell_type": "code",
      "execution_count": 101,
      "metadata": {
        "colab": {
          "base_uri": "https://localhost:8080/",
          "height": 577
        },
        "id": "J2-Akqp9UZSr",
        "outputId": "bd5271b0-034f-49a1-ac3f-305cc1cd4cf1"
      },
      "outputs": [
        {
          "output_type": "execute_result",
          "data": {
            "text/plain": [
              "   post_code  modzcta  label          zcta district  districtcode section  \\\n",
              "0      11385    11385  11385         11385     QW05           405   QW051   \n",
              "1      11232    11232  11232         11232    BKS07           307  BKS073   \n",
              "2      11209    11209  11209  11209, 11425    BKS10           310  BKS102   \n",
              "3      11357    11357  11357  11351, 11357     QE07           407   QE072   \n",
              "4      11219    11219  11219         11219    BKS12           312  BKS122   \n",
              "\n",
              "      community_board  council_district schedulecode  ... bulk_frequency  \\\n",
              "0   Community Board 5                30        4051E  ...            Wed   \n",
              "1   Community Board 7                38        3073D  ...       Tue, Fri   \n",
              "2  Community Board 10                43        3102E  ...            Wed   \n",
              "3   Community Board 7                19        4072C  ...            Thu   \n",
              "4  Community Board 12                44        3122D  ...       Tue, Fri   \n",
              "\n",
              "  ObjectID SHAPE_Area-1  SHAPE_Length-1   Latitude  Longitude  \\\n",
              "0      412     0.002083        0.223740  40.700875 -73.893734   \n",
              "1      227     0.001030        0.287433  40.650316 -74.008166   \n",
              "2      249     0.001101        0.140901  40.624842 -74.024525   \n",
              "3      434     0.003254        0.442474  40.770483 -73.835639   \n",
              "4      278     0.000984        0.165920  40.629302 -73.998083   \n",
              "\n",
              "                 Location Point  \\\n",
              "0  POINT (-73.893734 40.700875)   \n",
              "1  POINT (-74.008166 40.650316)   \n",
              "2  POINT (-74.024525 40.624842)   \n",
              "3  POINT (-73.835639 40.770483)   \n",
              "4  POINT (-73.998083 40.629302)   \n",
              "\n",
              "                                      multipolygon-1 census_tract  \\\n",
              "0  MULTIPOLYGON (((-73.88770340399998 40.73429958...          577   \n",
              "1  MULTIPOLYGON (((-73.98017304799998 40.66116290...           82   \n",
              "2  MULTIPOLYGON (((-74.03231229499994 40.64404745...          138   \n",
              "3  MULTIPOLYGON (((-73.83972970299999 40.76515397...          907   \n",
              "4  MULTIPOLYGON (((-73.97139775099998 40.64826603...          192   \n",
              "\n",
              "                                 GlobalID  \n",
              "0  {498F4BE7-A870-4D7D-AAA4-22F88AC15FE6}  \n",
              "1  {AB947263-8808-4F66-942F-985F5BF265E9}  \n",
              "2  {6CBE9191-CF75-4470-A89E-DEAE0936AB58}  \n",
              "3  {600D03CD-21FC-40BB-8ED4-0AAC26E90B98}  \n",
              "4  {7D89729A-7373-401E-853A-5044EBEA8556}  \n",
              "\n",
              "[5 rows x 34 columns]"
            ],
            "text/html": [
              "\n",
              "\n",
              "  <div id=\"df-eb5a2149-6b7e-417c-9852-be93dfd81d65\">\n",
              "    <div class=\"colab-df-container\">\n",
              "      <div>\n",
              "<style scoped>\n",
              "    .dataframe tbody tr th:only-of-type {\n",
              "        vertical-align: middle;\n",
              "    }\n",
              "\n",
              "    .dataframe tbody tr th {\n",
              "        vertical-align: top;\n",
              "    }\n",
              "\n",
              "    .dataframe thead th {\n",
              "        text-align: right;\n",
              "    }\n",
              "</style>\n",
              "<table border=\"1\" class=\"dataframe\">\n",
              "  <thead>\n",
              "    <tr style=\"text-align: right;\">\n",
              "      <th></th>\n",
              "      <th>post_code</th>\n",
              "      <th>modzcta</th>\n",
              "      <th>label</th>\n",
              "      <th>zcta</th>\n",
              "      <th>district</th>\n",
              "      <th>districtcode</th>\n",
              "      <th>section</th>\n",
              "      <th>community_board</th>\n",
              "      <th>council_district</th>\n",
              "      <th>schedulecode</th>\n",
              "      <th>...</th>\n",
              "      <th>bulk_frequency</th>\n",
              "      <th>ObjectID</th>\n",
              "      <th>SHAPE_Area-1</th>\n",
              "      <th>SHAPE_Length-1</th>\n",
              "      <th>Latitude</th>\n",
              "      <th>Longitude</th>\n",
              "      <th>Location Point</th>\n",
              "      <th>multipolygon-1</th>\n",
              "      <th>census_tract</th>\n",
              "      <th>GlobalID</th>\n",
              "    </tr>\n",
              "  </thead>\n",
              "  <tbody>\n",
              "    <tr>\n",
              "      <th>0</th>\n",
              "      <td>11385</td>\n",
              "      <td>11385</td>\n",
              "      <td>11385</td>\n",
              "      <td>11385</td>\n",
              "      <td>QW05</td>\n",
              "      <td>405</td>\n",
              "      <td>QW051</td>\n",
              "      <td>Community Board 5</td>\n",
              "      <td>30</td>\n",
              "      <td>4051E</td>\n",
              "      <td>...</td>\n",
              "      <td>Wed</td>\n",
              "      <td>412</td>\n",
              "      <td>0.002083</td>\n",
              "      <td>0.223740</td>\n",
              "      <td>40.700875</td>\n",
              "      <td>-73.893734</td>\n",
              "      <td>POINT (-73.893734 40.700875)</td>\n",
              "      <td>MULTIPOLYGON (((-73.88770340399998 40.73429958...</td>\n",
              "      <td>577</td>\n",
              "      <td>{498F4BE7-A870-4D7D-AAA4-22F88AC15FE6}</td>\n",
              "    </tr>\n",
              "    <tr>\n",
              "      <th>1</th>\n",
              "      <td>11232</td>\n",
              "      <td>11232</td>\n",
              "      <td>11232</td>\n",
              "      <td>11232</td>\n",
              "      <td>BKS07</td>\n",
              "      <td>307</td>\n",
              "      <td>BKS073</td>\n",
              "      <td>Community Board 7</td>\n",
              "      <td>38</td>\n",
              "      <td>3073D</td>\n",
              "      <td>...</td>\n",
              "      <td>Tue, Fri</td>\n",
              "      <td>227</td>\n",
              "      <td>0.001030</td>\n",
              "      <td>0.287433</td>\n",
              "      <td>40.650316</td>\n",
              "      <td>-74.008166</td>\n",
              "      <td>POINT (-74.008166 40.650316)</td>\n",
              "      <td>MULTIPOLYGON (((-73.98017304799998 40.66116290...</td>\n",
              "      <td>82</td>\n",
              "      <td>{AB947263-8808-4F66-942F-985F5BF265E9}</td>\n",
              "    </tr>\n",
              "    <tr>\n",
              "      <th>2</th>\n",
              "      <td>11209</td>\n",
              "      <td>11209</td>\n",
              "      <td>11209</td>\n",
              "      <td>11209, 11425</td>\n",
              "      <td>BKS10</td>\n",
              "      <td>310</td>\n",
              "      <td>BKS102</td>\n",
              "      <td>Community Board 10</td>\n",
              "      <td>43</td>\n",
              "      <td>3102E</td>\n",
              "      <td>...</td>\n",
              "      <td>Wed</td>\n",
              "      <td>249</td>\n",
              "      <td>0.001101</td>\n",
              "      <td>0.140901</td>\n",
              "      <td>40.624842</td>\n",
              "      <td>-74.024525</td>\n",
              "      <td>POINT (-74.024525 40.624842)</td>\n",
              "      <td>MULTIPOLYGON (((-74.03231229499994 40.64404745...</td>\n",
              "      <td>138</td>\n",
              "      <td>{6CBE9191-CF75-4470-A89E-DEAE0936AB58}</td>\n",
              "    </tr>\n",
              "    <tr>\n",
              "      <th>3</th>\n",
              "      <td>11357</td>\n",
              "      <td>11357</td>\n",
              "      <td>11357</td>\n",
              "      <td>11351, 11357</td>\n",
              "      <td>QE07</td>\n",
              "      <td>407</td>\n",
              "      <td>QE072</td>\n",
              "      <td>Community Board 7</td>\n",
              "      <td>19</td>\n",
              "      <td>4072C</td>\n",
              "      <td>...</td>\n",
              "      <td>Thu</td>\n",
              "      <td>434</td>\n",
              "      <td>0.003254</td>\n",
              "      <td>0.442474</td>\n",
              "      <td>40.770483</td>\n",
              "      <td>-73.835639</td>\n",
              "      <td>POINT (-73.835639 40.770483)</td>\n",
              "      <td>MULTIPOLYGON (((-73.83972970299999 40.76515397...</td>\n",
              "      <td>907</td>\n",
              "      <td>{600D03CD-21FC-40BB-8ED4-0AAC26E90B98}</td>\n",
              "    </tr>\n",
              "    <tr>\n",
              "      <th>4</th>\n",
              "      <td>11219</td>\n",
              "      <td>11219</td>\n",
              "      <td>11219</td>\n",
              "      <td>11219</td>\n",
              "      <td>BKS12</td>\n",
              "      <td>312</td>\n",
              "      <td>BKS122</td>\n",
              "      <td>Community Board 12</td>\n",
              "      <td>44</td>\n",
              "      <td>3122D</td>\n",
              "      <td>...</td>\n",
              "      <td>Tue, Fri</td>\n",
              "      <td>278</td>\n",
              "      <td>0.000984</td>\n",
              "      <td>0.165920</td>\n",
              "      <td>40.629302</td>\n",
              "      <td>-73.998083</td>\n",
              "      <td>POINT (-73.998083 40.629302)</td>\n",
              "      <td>MULTIPOLYGON (((-73.97139775099998 40.64826603...</td>\n",
              "      <td>192</td>\n",
              "      <td>{7D89729A-7373-401E-853A-5044EBEA8556}</td>\n",
              "    </tr>\n",
              "  </tbody>\n",
              "</table>\n",
              "<p>5 rows × 34 columns</p>\n",
              "</div>\n",
              "      <button class=\"colab-df-convert\" onclick=\"convertToInteractive('df-eb5a2149-6b7e-417c-9852-be93dfd81d65')\"\n",
              "              title=\"Convert this dataframe to an interactive table.\"\n",
              "              style=\"display:none;\">\n",
              "\n",
              "  <svg xmlns=\"http://www.w3.org/2000/svg\" height=\"24px\"viewBox=\"0 0 24 24\"\n",
              "       width=\"24px\">\n",
              "    <path d=\"M0 0h24v24H0V0z\" fill=\"none\"/>\n",
              "    <path d=\"M18.56 5.44l.94 2.06.94-2.06 2.06-.94-2.06-.94-.94-2.06-.94 2.06-2.06.94zm-11 1L8.5 8.5l.94-2.06 2.06-.94-2.06-.94L8.5 2.5l-.94 2.06-2.06.94zm10 10l.94 2.06.94-2.06 2.06-.94-2.06-.94-.94-2.06-.94 2.06-2.06.94z\"/><path d=\"M17.41 7.96l-1.37-1.37c-.4-.4-.92-.59-1.43-.59-.52 0-1.04.2-1.43.59L10.3 9.45l-7.72 7.72c-.78.78-.78 2.05 0 2.83L4 21.41c.39.39.9.59 1.41.59.51 0 1.02-.2 1.41-.59l7.78-7.78 2.81-2.81c.8-.78.8-2.07 0-2.86zM5.41 20L4 18.59l7.72-7.72 1.47 1.35L5.41 20z\"/>\n",
              "  </svg>\n",
              "      </button>\n",
              "\n",
              "\n",
              "\n",
              "    <div id=\"df-456009aa-7568-49e4-aca0-fd01a07787e8\">\n",
              "      <button class=\"colab-df-quickchart\" onclick=\"quickchart('df-456009aa-7568-49e4-aca0-fd01a07787e8')\"\n",
              "              title=\"Suggest charts.\"\n",
              "              style=\"display:none;\">\n",
              "\n",
              "<svg xmlns=\"http://www.w3.org/2000/svg\" height=\"24px\"viewBox=\"0 0 24 24\"\n",
              "     width=\"24px\">\n",
              "    <g>\n",
              "        <path d=\"M19 3H5c-1.1 0-2 .9-2 2v14c0 1.1.9 2 2 2h14c1.1 0 2-.9 2-2V5c0-1.1-.9-2-2-2zM9 17H7v-7h2v7zm4 0h-2V7h2v10zm4 0h-2v-4h2v4z\"/>\n",
              "    </g>\n",
              "</svg>\n",
              "      </button>\n",
              "    </div>\n",
              "\n",
              "<style>\n",
              "  .colab-df-quickchart {\n",
              "    background-color: #E8F0FE;\n",
              "    border: none;\n",
              "    border-radius: 50%;\n",
              "    cursor: pointer;\n",
              "    display: none;\n",
              "    fill: #1967D2;\n",
              "    height: 32px;\n",
              "    padding: 0 0 0 0;\n",
              "    width: 32px;\n",
              "  }\n",
              "\n",
              "  .colab-df-quickchart:hover {\n",
              "    background-color: #E2EBFA;\n",
              "    box-shadow: 0px 1px 2px rgba(60, 64, 67, 0.3), 0px 1px 3px 1px rgba(60, 64, 67, 0.15);\n",
              "    fill: #174EA6;\n",
              "  }\n",
              "\n",
              "  [theme=dark] .colab-df-quickchart {\n",
              "    background-color: #3B4455;\n",
              "    fill: #D2E3FC;\n",
              "  }\n",
              "\n",
              "  [theme=dark] .colab-df-quickchart:hover {\n",
              "    background-color: #434B5C;\n",
              "    box-shadow: 0px 1px 3px 1px rgba(0, 0, 0, 0.15);\n",
              "    filter: drop-shadow(0px 1px 2px rgba(0, 0, 0, 0.3));\n",
              "    fill: #FFFFFF;\n",
              "  }\n",
              "</style>\n",
              "\n",
              "    <script>\n",
              "      async function quickchart(key) {\n",
              "        const containerElement = document.querySelector('#' + key);\n",
              "        const charts = await google.colab.kernel.invokeFunction(\n",
              "            'suggestCharts', [key], {});\n",
              "      }\n",
              "    </script>\n",
              "\n",
              "      <script>\n",
              "\n",
              "function displayQuickchartButton(domScope) {\n",
              "  let quickchartButtonEl =\n",
              "    domScope.querySelector('#df-456009aa-7568-49e4-aca0-fd01a07787e8 button.colab-df-quickchart');\n",
              "  quickchartButtonEl.style.display =\n",
              "    google.colab.kernel.accessAllowed ? 'block' : 'none';\n",
              "}\n",
              "\n",
              "        displayQuickchartButton(document);\n",
              "      </script>\n",
              "      <style>\n",
              "    .colab-df-container {\n",
              "      display:flex;\n",
              "      flex-wrap:wrap;\n",
              "      gap: 12px;\n",
              "    }\n",
              "\n",
              "    .colab-df-convert {\n",
              "      background-color: #E8F0FE;\n",
              "      border: none;\n",
              "      border-radius: 50%;\n",
              "      cursor: pointer;\n",
              "      display: none;\n",
              "      fill: #1967D2;\n",
              "      height: 32px;\n",
              "      padding: 0 0 0 0;\n",
              "      width: 32px;\n",
              "    }\n",
              "\n",
              "    .colab-df-convert:hover {\n",
              "      background-color: #E2EBFA;\n",
              "      box-shadow: 0px 1px 2px rgba(60, 64, 67, 0.3), 0px 1px 3px 1px rgba(60, 64, 67, 0.15);\n",
              "      fill: #174EA6;\n",
              "    }\n",
              "\n",
              "    [theme=dark] .colab-df-convert {\n",
              "      background-color: #3B4455;\n",
              "      fill: #D2E3FC;\n",
              "    }\n",
              "\n",
              "    [theme=dark] .colab-df-convert:hover {\n",
              "      background-color: #434B5C;\n",
              "      box-shadow: 0px 1px 3px 1px rgba(0, 0, 0, 0.15);\n",
              "      filter: drop-shadow(0px 1px 2px rgba(0, 0, 0, 0.3));\n",
              "      fill: #FFFFFF;\n",
              "    }\n",
              "  </style>\n",
              "\n",
              "      <script>\n",
              "        const buttonEl =\n",
              "          document.querySelector('#df-eb5a2149-6b7e-417c-9852-be93dfd81d65 button.colab-df-convert');\n",
              "        buttonEl.style.display =\n",
              "          google.colab.kernel.accessAllowed ? 'block' : 'none';\n",
              "\n",
              "        async function convertToInteractive(key) {\n",
              "          const element = document.querySelector('#df-eb5a2149-6b7e-417c-9852-be93dfd81d65');\n",
              "          const dataTable =\n",
              "            await google.colab.kernel.invokeFunction('convertToInteractive',\n",
              "                                                     [key], {});\n",
              "          if (!dataTable) return;\n",
              "\n",
              "          const docLinkHtml = 'Like what you see? Visit the ' +\n",
              "            '<a target=\"_blank\" href=https://colab.research.google.com/notebooks/data_table.ipynb>data table notebook</a>'\n",
              "            + ' to learn more about interactive tables.';\n",
              "          element.innerHTML = '';\n",
              "          dataTable['output_type'] = 'display_data';\n",
              "          await google.colab.output.renderOutput(dataTable, element);\n",
              "          const docLink = document.createElement('div');\n",
              "          docLink.innerHTML = docLinkHtml;\n",
              "          element.appendChild(docLink);\n",
              "        }\n",
              "      </script>\n",
              "    </div>\n",
              "  </div>\n"
            ]
          },
          "metadata": {},
          "execution_count": 101
        }
      ],
      "source": [
        "dsny1.head()"
      ]
    },
    {
      "cell_type": "code",
      "execution_count": 102,
      "metadata": {
        "id": "0tg-NLvUSep3"
      },
      "outputs": [],
      "source": [
        "dsny1['Location Point'] = dsny1['Location Point'].str.replace('POINT', '')"
      ]
    },
    {
      "cell_type": "code",
      "execution_count": 103,
      "metadata": {
        "colab": {
          "base_uri": "https://localhost:8080/"
        },
        "id": "mjez_x_gDUcj",
        "outputId": "4110fea1-8b1a-4233-ed8b-68caf75fe7ef"
      },
      "outputs": [
        {
          "output_type": "execute_result",
          "data": {
            "text/plain": [
              "array(['Wed', 'Tue', 'Thu', 'Unspecified', 'Mon', 'Fri', 'Sat'],\n",
              "      dtype=object)"
            ]
          },
          "metadata": {},
          "execution_count": 103
        }
      ],
      "source": [
        "dsny.bulk_day1.unique()"
      ]
    },
    {
      "cell_type": "markdown",
      "metadata": {
        "id": "u9hTklBz_H5k"
      },
      "source": [
        "#EDA RATS"
      ]
    },
    {
      "cell_type": "code",
      "execution_count": 104,
      "metadata": {
        "colab": {
          "base_uri": "https://localhost:8080/"
        },
        "id": "EqOVrdFF-0L7",
        "outputId": "5fd0b9a8-0ef7-4516-92a0-4c890903c855"
      },
      "outputs": [
        {
          "output_type": "stream",
          "name": "stdout",
          "text": [
            "<class 'pandas.core.frame.DataFrame'>\n",
            "RangeIndex: 210120 entries, 0 to 210119\n",
            "Data columns (total 29 columns):\n",
            " #   Column                      Non-Null Count   Dtype  \n",
            "---  ------                      --------------   -----  \n",
            " 0   unique_key                  210120 non-null  int64  \n",
            " 1   created_date                210120 non-null  object \n",
            " 2   due_date                    121125 non-null  object \n",
            " 3   closed_date                 194098 non-null  object \n",
            " 4   location_type               210108 non-null  object \n",
            " 5   borough                     210118 non-null  object \n",
            " 6   incident_zip                210120 non-null  int64  \n",
            " 7   community_board             210118 non-null  object \n",
            " 8   city                        207123 non-null  object \n",
            " 9   incident_address            210120 non-null  object \n",
            " 10  street_name                 210119 non-null  object \n",
            " 11  cross_street _1             191530 non-null  object \n",
            " 12  cross_street_2              191533 non-null  object \n",
            " 13  intersection_street_1       92236 non-null   object \n",
            " 14  intersection_street_2       92272 non-null   object \n",
            " 15  address_Type                205676 non-null  object \n",
            " 16  landmark                    83133 non-null   object \n",
            " 17  status                      210120 non-null  object \n",
            " 18  X Coordinate (State Plane)  208583 non-null  float64\n",
            " 19  Y Coordinate (State Plane)  208583 non-null  float64\n",
            " 20  latitude                    208583 non-null  float64\n",
            " 21  longitude                   208583 non-null  float64\n",
            " 22  location                    208583 non-null  object \n",
            " 23  table_count                 210120 non-null  object \n",
            " 24  modztca                     209041 non-null  float64\n",
            " 25  label                       209041 non-null  object \n",
            " 26  zcta                        209041 non-null  object \n",
            " 27  pop_est                     209041 non-null  float64\n",
            " 28  the_geom                    209041 non-null  object \n",
            "dtypes: float64(6), int64(2), object(21)\n",
            "memory usage: 46.5+ MB\n",
            "Info: None\n",
            "top 5 rows:    unique_key           created_date                due_date  \\\n",
            "0    45747140    3/3/2020 6:15:50 AM                     NaN   \n",
            "1    56989476    3/8/2023 2:27:46 AM                     NaN   \n",
            "2    46533529   6/18/2020 8:17:38 PM                     NaN   \n",
            "3    50422420   4/29/2021 5:18:50 PM                     NaN   \n",
            "4    38983405  4/19/2018 12:00:00 AM  05/19/2018 04:59:18 PM   \n",
            "\n",
            "             closed_date            location_type    borough  incident_zip  \\\n",
            "0    3/3/2020 6:15:50 AM      Commercial Building   BROOKLYN         11207   \n",
            "1    3/8/2023 2:27:46 AM        Construction Site   BROOKLYN         11215   \n",
            "2                    NaN      1-2 Family Dwelling   BROOKLYN         11249   \n",
            "3    5/3/2021 6:30:22 AM    Other (Explain Below)  MANHATTAN         10003   \n",
            "4  4/19/2018 12:00:00 AM  3+ Family Apt. Building   BROOKLYN         11216   \n",
            "\n",
            "  community_board           city      incident_address  ...  \\\n",
            "0     16 BROOKLYN       BROOKLYN         1746 BROADWAY  ...   \n",
            "1     06 BROOKLYN       BROOKLYN         205 14 STREET  ...   \n",
            "2     01 BROOKLYN       BROOKLYN  20 SOUTH    4 STREET  ...   \n",
            "3    03 MANHATTAN  NEW YORK CITY  336 EAST    6 STREET  ...   \n",
            "4     03 BROOKLYN       BROOKLYN   462 NOSTRAND AVENUE  ...   \n",
            "\n",
            "  Y Coordinate (State Plane)   latitude  longitude  \\\n",
            "0                   188102.0  40.682939 -73.910522   \n",
            "1                   182243.0  40.666891 -73.990293   \n",
            "2                   199125.0  40.713224 -73.967175   \n",
            "3                   204137.0  40.726985 -73.987578   \n",
            "4                   188153.0  40.683102 -73.950132   \n",
            "\n",
            "                                   location table_count  modztca  label  \\\n",
            "0   (40.68293851538748, -73.91052156400578)   sightings  11207.0  11207   \n",
            "1  (40.666891259708756, -73.99029264560139)   sightings  11215.0  11215   \n",
            "2   (40.71322419170144, -73.96717477471884)   sightings      NaN    NaN   \n",
            "3   (40.72698493398125, -73.98757795763353)   sightings  10003.0  10003   \n",
            "4  (40.683102482748794, -73.95013179905419)   sightings  11216.0  11216   \n",
            "\n",
            "    zcta  pop_est                                           the_geom  \n",
            "0  11207  91972.0  MULTIPOLYGON (((-73.90347629824663 40.67550542...  \n",
            "1  11215  70156.0  MULTIPOLYGON (((-73.99822639169714 40.67120366...  \n",
            "2    NaN      NaN                                                NaN  \n",
            "3  10003  54682.0  MULTIPOLYGON (((-73.98863576728334 40.72293099...  \n",
            "4  11216  56308.0  MULTIPOLYGON (((-73.94773018706293 40.66971511...  \n",
            "\n",
            "[5 rows x 29 columns]\n"
          ]
        }
      ],
      "source": [
        "print('Info:', rats.info())\n",
        "print('top 5 rows:', rats.head())"
      ]
    },
    {
      "cell_type": "code",
      "execution_count": 105,
      "metadata": {
        "colab": {
          "base_uri": "https://localhost:8080/"
        },
        "id": "jzTQoOqs1jnJ",
        "outputId": "4f7ac411-737b-4fca-93cf-554c2f0e8802"
      },
      "outputs": [
        {
          "output_type": "stream",
          "name": "stdout",
          "text": [
            "Rows, Columns: (210120, 29)\n"
          ]
        }
      ],
      "source": [
        "print('Rows, Columns:', rats.shape)\n",
        "#80481, 25 without Unique Key as Index Rows, Columns: (208789, 28 ratsightings...no change in names or dropped collumns"
      ]
    },
    {
      "cell_type": "markdown",
      "metadata": {
        "id": "_a46onfw6CBh"
      },
      "source": [
        "Replacing the double checks(null)s"
      ]
    },
    {
      "cell_type": "code",
      "execution_count": 106,
      "metadata": {
        "colab": {
          "base_uri": "https://localhost:8080/"
        },
        "id": "lnHcQNoUZpRP",
        "outputId": "e97b92a4-c414-45c5-bc64-623745d19e25"
      },
      "outputs": [
        {
          "output_type": "execute_result",
          "data": {
            "text/plain": [
              "True"
            ]
          },
          "metadata": {},
          "execution_count": 106
        }
      ],
      "source": [
        "rats.index.is_unique"
      ]
    },
    {
      "cell_type": "code",
      "execution_count": 107,
      "metadata": {
        "colab": {
          "base_uri": "https://localhost:8080/"
        },
        "id": "qEhkQCcUpw-n",
        "outputId": "33a83f3b-0783-4d92-995b-a55e8d35e512"
      },
      "outputs": [
        {
          "output_type": "execute_result",
          "data": {
            "text/plain": [
              "unique_key                         0\n",
              "created_date                       0\n",
              "due_date                       88995\n",
              "closed_date                    16022\n",
              "location_type                     12\n",
              "borough                            2\n",
              "incident_zip                       0\n",
              "community_board                    2\n",
              "city                            2997\n",
              "incident_address                   0\n",
              "street_name                        1\n",
              "cross_street _1                18590\n",
              "cross_street_2                 18587\n",
              "intersection_street_1         117884\n",
              "intersection_street_2         117848\n",
              "address_Type                    4444\n",
              "landmark                      126987\n",
              "status                             0\n",
              "X Coordinate (State Plane)      1537\n",
              "Y Coordinate (State Plane)      1537\n",
              "latitude                        1537\n",
              "longitude                       1537\n",
              "location                        1537\n",
              "table_count                        0\n",
              "modztca                         1079\n",
              "label                           1079\n",
              "zcta                            1079\n",
              "pop_est                         1079\n",
              "the_geom                        1079\n",
              "dtype: int64"
            ]
          },
          "metadata": {},
          "execution_count": 107
        }
      ],
      "source": [
        "rats.isnull().sum()"
      ]
    },
    {
      "cell_type": "code",
      "execution_count": 108,
      "metadata": {
        "colab": {
          "base_uri": "https://localhost:8080/",
          "height": 508
        },
        "id": "ON3PCUMVi3g-",
        "outputId": "fab46861-8010-454d-a5e9-533ed28f730a"
      },
      "outputs": [
        {
          "output_type": "execute_result",
          "data": {
            "text/plain": [
              "   unique_key           created_date                due_date  \\\n",
              "0    45747140    3/3/2020 6:15:50 AM                     NaN   \n",
              "1    56989476    3/8/2023 2:27:46 AM                     NaN   \n",
              "2    46533529   6/18/2020 8:17:38 PM                     NaN   \n",
              "3    50422420   4/29/2021 5:18:50 PM                     NaN   \n",
              "4    38983405  4/19/2018 12:00:00 AM  05/19/2018 04:59:18 PM   \n",
              "\n",
              "             closed_date            location_type    borough  incident_zip  \\\n",
              "0    3/3/2020 6:15:50 AM      Commercial Building   BROOKLYN         11207   \n",
              "1    3/8/2023 2:27:46 AM        Construction Site   BROOKLYN         11215   \n",
              "2                    NaN      1-2 Family Dwelling   BROOKLYN         11249   \n",
              "3    5/3/2021 6:30:22 AM    Other (Explain Below)  MANHATTAN         10003   \n",
              "4  4/19/2018 12:00:00 AM  3+ Family Apt. Building   BROOKLYN         11216   \n",
              "\n",
              "  community_board           city      incident_address  ...  \\\n",
              "0     16 BROOKLYN       BROOKLYN         1746 BROADWAY  ...   \n",
              "1     06 BROOKLYN       BROOKLYN         205 14 STREET  ...   \n",
              "2     01 BROOKLYN       BROOKLYN  20 SOUTH    4 STREET  ...   \n",
              "3    03 MANHATTAN  NEW YORK CITY  336 EAST    6 STREET  ...   \n",
              "4     03 BROOKLYN       BROOKLYN   462 NOSTRAND AVENUE  ...   \n",
              "\n",
              "  Y Coordinate (State Plane)   latitude  longitude  \\\n",
              "0                   188102.0  40.682939 -73.910522   \n",
              "1                   182243.0  40.666891 -73.990293   \n",
              "2                   199125.0  40.713224 -73.967175   \n",
              "3                   204137.0  40.726985 -73.987578   \n",
              "4                   188153.0  40.683102 -73.950132   \n",
              "\n",
              "                                   location table_count  modztca  label  \\\n",
              "0   (40.68293851538748, -73.91052156400578)   sightings  11207.0  11207   \n",
              "1  (40.666891259708756, -73.99029264560139)   sightings  11215.0  11215   \n",
              "2   (40.71322419170144, -73.96717477471884)   sightings      NaN    NaN   \n",
              "3   (40.72698493398125, -73.98757795763353)   sightings  10003.0  10003   \n",
              "4  (40.683102482748794, -73.95013179905419)   sightings  11216.0  11216   \n",
              "\n",
              "    zcta  pop_est                                           the_geom  \n",
              "0  11207  91972.0  MULTIPOLYGON (((-73.90347629824663 40.67550542...  \n",
              "1  11215  70156.0  MULTIPOLYGON (((-73.99822639169714 40.67120366...  \n",
              "2    NaN      NaN                                                NaN  \n",
              "3  10003  54682.0  MULTIPOLYGON (((-73.98863576728334 40.72293099...  \n",
              "4  11216  56308.0  MULTIPOLYGON (((-73.94773018706293 40.66971511...  \n",
              "\n",
              "[5 rows x 29 columns]"
            ],
            "text/html": [
              "\n",
              "\n",
              "  <div id=\"df-9e90ea7b-6b2d-4c58-87ad-7897c5b2119b\">\n",
              "    <div class=\"colab-df-container\">\n",
              "      <div>\n",
              "<style scoped>\n",
              "    .dataframe tbody tr th:only-of-type {\n",
              "        vertical-align: middle;\n",
              "    }\n",
              "\n",
              "    .dataframe tbody tr th {\n",
              "        vertical-align: top;\n",
              "    }\n",
              "\n",
              "    .dataframe thead th {\n",
              "        text-align: right;\n",
              "    }\n",
              "</style>\n",
              "<table border=\"1\" class=\"dataframe\">\n",
              "  <thead>\n",
              "    <tr style=\"text-align: right;\">\n",
              "      <th></th>\n",
              "      <th>unique_key</th>\n",
              "      <th>created_date</th>\n",
              "      <th>due_date</th>\n",
              "      <th>closed_date</th>\n",
              "      <th>location_type</th>\n",
              "      <th>borough</th>\n",
              "      <th>incident_zip</th>\n",
              "      <th>community_board</th>\n",
              "      <th>city</th>\n",
              "      <th>incident_address</th>\n",
              "      <th>...</th>\n",
              "      <th>Y Coordinate (State Plane)</th>\n",
              "      <th>latitude</th>\n",
              "      <th>longitude</th>\n",
              "      <th>location</th>\n",
              "      <th>table_count</th>\n",
              "      <th>modztca</th>\n",
              "      <th>label</th>\n",
              "      <th>zcta</th>\n",
              "      <th>pop_est</th>\n",
              "      <th>the_geom</th>\n",
              "    </tr>\n",
              "  </thead>\n",
              "  <tbody>\n",
              "    <tr>\n",
              "      <th>0</th>\n",
              "      <td>45747140</td>\n",
              "      <td>3/3/2020 6:15:50 AM</td>\n",
              "      <td>NaN</td>\n",
              "      <td>3/3/2020 6:15:50 AM</td>\n",
              "      <td>Commercial Building</td>\n",
              "      <td>BROOKLYN</td>\n",
              "      <td>11207</td>\n",
              "      <td>16 BROOKLYN</td>\n",
              "      <td>BROOKLYN</td>\n",
              "      <td>1746 BROADWAY</td>\n",
              "      <td>...</td>\n",
              "      <td>188102.0</td>\n",
              "      <td>40.682939</td>\n",
              "      <td>-73.910522</td>\n",
              "      <td>(40.68293851538748, -73.91052156400578)</td>\n",
              "      <td>sightings</td>\n",
              "      <td>11207.0</td>\n",
              "      <td>11207</td>\n",
              "      <td>11207</td>\n",
              "      <td>91972.0</td>\n",
              "      <td>MULTIPOLYGON (((-73.90347629824663 40.67550542...</td>\n",
              "    </tr>\n",
              "    <tr>\n",
              "      <th>1</th>\n",
              "      <td>56989476</td>\n",
              "      <td>3/8/2023 2:27:46 AM</td>\n",
              "      <td>NaN</td>\n",
              "      <td>3/8/2023 2:27:46 AM</td>\n",
              "      <td>Construction Site</td>\n",
              "      <td>BROOKLYN</td>\n",
              "      <td>11215</td>\n",
              "      <td>06 BROOKLYN</td>\n",
              "      <td>BROOKLYN</td>\n",
              "      <td>205 14 STREET</td>\n",
              "      <td>...</td>\n",
              "      <td>182243.0</td>\n",
              "      <td>40.666891</td>\n",
              "      <td>-73.990293</td>\n",
              "      <td>(40.666891259708756, -73.99029264560139)</td>\n",
              "      <td>sightings</td>\n",
              "      <td>11215.0</td>\n",
              "      <td>11215</td>\n",
              "      <td>11215</td>\n",
              "      <td>70156.0</td>\n",
              "      <td>MULTIPOLYGON (((-73.99822639169714 40.67120366...</td>\n",
              "    </tr>\n",
              "    <tr>\n",
              "      <th>2</th>\n",
              "      <td>46533529</td>\n",
              "      <td>6/18/2020 8:17:38 PM</td>\n",
              "      <td>NaN</td>\n",
              "      <td>NaN</td>\n",
              "      <td>1-2 Family Dwelling</td>\n",
              "      <td>BROOKLYN</td>\n",
              "      <td>11249</td>\n",
              "      <td>01 BROOKLYN</td>\n",
              "      <td>BROOKLYN</td>\n",
              "      <td>20 SOUTH    4 STREET</td>\n",
              "      <td>...</td>\n",
              "      <td>199125.0</td>\n",
              "      <td>40.713224</td>\n",
              "      <td>-73.967175</td>\n",
              "      <td>(40.71322419170144, -73.96717477471884)</td>\n",
              "      <td>sightings</td>\n",
              "      <td>NaN</td>\n",
              "      <td>NaN</td>\n",
              "      <td>NaN</td>\n",
              "      <td>NaN</td>\n",
              "      <td>NaN</td>\n",
              "    </tr>\n",
              "    <tr>\n",
              "      <th>3</th>\n",
              "      <td>50422420</td>\n",
              "      <td>4/29/2021 5:18:50 PM</td>\n",
              "      <td>NaN</td>\n",
              "      <td>5/3/2021 6:30:22 AM</td>\n",
              "      <td>Other (Explain Below)</td>\n",
              "      <td>MANHATTAN</td>\n",
              "      <td>10003</td>\n",
              "      <td>03 MANHATTAN</td>\n",
              "      <td>NEW YORK CITY</td>\n",
              "      <td>336 EAST    6 STREET</td>\n",
              "      <td>...</td>\n",
              "      <td>204137.0</td>\n",
              "      <td>40.726985</td>\n",
              "      <td>-73.987578</td>\n",
              "      <td>(40.72698493398125, -73.98757795763353)</td>\n",
              "      <td>sightings</td>\n",
              "      <td>10003.0</td>\n",
              "      <td>10003</td>\n",
              "      <td>10003</td>\n",
              "      <td>54682.0</td>\n",
              "      <td>MULTIPOLYGON (((-73.98863576728334 40.72293099...</td>\n",
              "    </tr>\n",
              "    <tr>\n",
              "      <th>4</th>\n",
              "      <td>38983405</td>\n",
              "      <td>4/19/2018 12:00:00 AM</td>\n",
              "      <td>05/19/2018 04:59:18 PM</td>\n",
              "      <td>4/19/2018 12:00:00 AM</td>\n",
              "      <td>3+ Family Apt. Building</td>\n",
              "      <td>BROOKLYN</td>\n",
              "      <td>11216</td>\n",
              "      <td>03 BROOKLYN</td>\n",
              "      <td>BROOKLYN</td>\n",
              "      <td>462 NOSTRAND AVENUE</td>\n",
              "      <td>...</td>\n",
              "      <td>188153.0</td>\n",
              "      <td>40.683102</td>\n",
              "      <td>-73.950132</td>\n",
              "      <td>(40.683102482748794, -73.95013179905419)</td>\n",
              "      <td>sightings</td>\n",
              "      <td>11216.0</td>\n",
              "      <td>11216</td>\n",
              "      <td>11216</td>\n",
              "      <td>56308.0</td>\n",
              "      <td>MULTIPOLYGON (((-73.94773018706293 40.66971511...</td>\n",
              "    </tr>\n",
              "  </tbody>\n",
              "</table>\n",
              "<p>5 rows × 29 columns</p>\n",
              "</div>\n",
              "      <button class=\"colab-df-convert\" onclick=\"convertToInteractive('df-9e90ea7b-6b2d-4c58-87ad-7897c5b2119b')\"\n",
              "              title=\"Convert this dataframe to an interactive table.\"\n",
              "              style=\"display:none;\">\n",
              "\n",
              "  <svg xmlns=\"http://www.w3.org/2000/svg\" height=\"24px\"viewBox=\"0 0 24 24\"\n",
              "       width=\"24px\">\n",
              "    <path d=\"M0 0h24v24H0V0z\" fill=\"none\"/>\n",
              "    <path d=\"M18.56 5.44l.94 2.06.94-2.06 2.06-.94-2.06-.94-.94-2.06-.94 2.06-2.06.94zm-11 1L8.5 8.5l.94-2.06 2.06-.94-2.06-.94L8.5 2.5l-.94 2.06-2.06.94zm10 10l.94 2.06.94-2.06 2.06-.94-2.06-.94-.94-2.06-.94 2.06-2.06.94z\"/><path d=\"M17.41 7.96l-1.37-1.37c-.4-.4-.92-.59-1.43-.59-.52 0-1.04.2-1.43.59L10.3 9.45l-7.72 7.72c-.78.78-.78 2.05 0 2.83L4 21.41c.39.39.9.59 1.41.59.51 0 1.02-.2 1.41-.59l7.78-7.78 2.81-2.81c.8-.78.8-2.07 0-2.86zM5.41 20L4 18.59l7.72-7.72 1.47 1.35L5.41 20z\"/>\n",
              "  </svg>\n",
              "      </button>\n",
              "\n",
              "\n",
              "\n",
              "    <div id=\"df-6c7df042-f18b-49f9-bf64-b005f04009fa\">\n",
              "      <button class=\"colab-df-quickchart\" onclick=\"quickchart('df-6c7df042-f18b-49f9-bf64-b005f04009fa')\"\n",
              "              title=\"Suggest charts.\"\n",
              "              style=\"display:none;\">\n",
              "\n",
              "<svg xmlns=\"http://www.w3.org/2000/svg\" height=\"24px\"viewBox=\"0 0 24 24\"\n",
              "     width=\"24px\">\n",
              "    <g>\n",
              "        <path d=\"M19 3H5c-1.1 0-2 .9-2 2v14c0 1.1.9 2 2 2h14c1.1 0 2-.9 2-2V5c0-1.1-.9-2-2-2zM9 17H7v-7h2v7zm4 0h-2V7h2v10zm4 0h-2v-4h2v4z\"/>\n",
              "    </g>\n",
              "</svg>\n",
              "      </button>\n",
              "    </div>\n",
              "\n",
              "<style>\n",
              "  .colab-df-quickchart {\n",
              "    background-color: #E8F0FE;\n",
              "    border: none;\n",
              "    border-radius: 50%;\n",
              "    cursor: pointer;\n",
              "    display: none;\n",
              "    fill: #1967D2;\n",
              "    height: 32px;\n",
              "    padding: 0 0 0 0;\n",
              "    width: 32px;\n",
              "  }\n",
              "\n",
              "  .colab-df-quickchart:hover {\n",
              "    background-color: #E2EBFA;\n",
              "    box-shadow: 0px 1px 2px rgba(60, 64, 67, 0.3), 0px 1px 3px 1px rgba(60, 64, 67, 0.15);\n",
              "    fill: #174EA6;\n",
              "  }\n",
              "\n",
              "  [theme=dark] .colab-df-quickchart {\n",
              "    background-color: #3B4455;\n",
              "    fill: #D2E3FC;\n",
              "  }\n",
              "\n",
              "  [theme=dark] .colab-df-quickchart:hover {\n",
              "    background-color: #434B5C;\n",
              "    box-shadow: 0px 1px 3px 1px rgba(0, 0, 0, 0.15);\n",
              "    filter: drop-shadow(0px 1px 2px rgba(0, 0, 0, 0.3));\n",
              "    fill: #FFFFFF;\n",
              "  }\n",
              "</style>\n",
              "\n",
              "    <script>\n",
              "      async function quickchart(key) {\n",
              "        const containerElement = document.querySelector('#' + key);\n",
              "        const charts = await google.colab.kernel.invokeFunction(\n",
              "            'suggestCharts', [key], {});\n",
              "      }\n",
              "    </script>\n",
              "\n",
              "      <script>\n",
              "\n",
              "function displayQuickchartButton(domScope) {\n",
              "  let quickchartButtonEl =\n",
              "    domScope.querySelector('#df-6c7df042-f18b-49f9-bf64-b005f04009fa button.colab-df-quickchart');\n",
              "  quickchartButtonEl.style.display =\n",
              "    google.colab.kernel.accessAllowed ? 'block' : 'none';\n",
              "}\n",
              "\n",
              "        displayQuickchartButton(document);\n",
              "      </script>\n",
              "      <style>\n",
              "    .colab-df-container {\n",
              "      display:flex;\n",
              "      flex-wrap:wrap;\n",
              "      gap: 12px;\n",
              "    }\n",
              "\n",
              "    .colab-df-convert {\n",
              "      background-color: #E8F0FE;\n",
              "      border: none;\n",
              "      border-radius: 50%;\n",
              "      cursor: pointer;\n",
              "      display: none;\n",
              "      fill: #1967D2;\n",
              "      height: 32px;\n",
              "      padding: 0 0 0 0;\n",
              "      width: 32px;\n",
              "    }\n",
              "\n",
              "    .colab-df-convert:hover {\n",
              "      background-color: #E2EBFA;\n",
              "      box-shadow: 0px 1px 2px rgba(60, 64, 67, 0.3), 0px 1px 3px 1px rgba(60, 64, 67, 0.15);\n",
              "      fill: #174EA6;\n",
              "    }\n",
              "\n",
              "    [theme=dark] .colab-df-convert {\n",
              "      background-color: #3B4455;\n",
              "      fill: #D2E3FC;\n",
              "    }\n",
              "\n",
              "    [theme=dark] .colab-df-convert:hover {\n",
              "      background-color: #434B5C;\n",
              "      box-shadow: 0px 1px 3px 1px rgba(0, 0, 0, 0.15);\n",
              "      filter: drop-shadow(0px 1px 2px rgba(0, 0, 0, 0.3));\n",
              "      fill: #FFFFFF;\n",
              "    }\n",
              "  </style>\n",
              "\n",
              "      <script>\n",
              "        const buttonEl =\n",
              "          document.querySelector('#df-9e90ea7b-6b2d-4c58-87ad-7897c5b2119b button.colab-df-convert');\n",
              "        buttonEl.style.display =\n",
              "          google.colab.kernel.accessAllowed ? 'block' : 'none';\n",
              "\n",
              "        async function convertToInteractive(key) {\n",
              "          const element = document.querySelector('#df-9e90ea7b-6b2d-4c58-87ad-7897c5b2119b');\n",
              "          const dataTable =\n",
              "            await google.colab.kernel.invokeFunction('convertToInteractive',\n",
              "                                                     [key], {});\n",
              "          if (!dataTable) return;\n",
              "\n",
              "          const docLinkHtml = 'Like what you see? Visit the ' +\n",
              "            '<a target=\"_blank\" href=https://colab.research.google.com/notebooks/data_table.ipynb>data table notebook</a>'\n",
              "            + ' to learn more about interactive tables.';\n",
              "          element.innerHTML = '';\n",
              "          dataTable['output_type'] = 'display_data';\n",
              "          await google.colab.output.renderOutput(dataTable, element);\n",
              "          const docLink = document.createElement('div');\n",
              "          docLink.innerHTML = docLinkHtml;\n",
              "          element.appendChild(docLink);\n",
              "        }\n",
              "      </script>\n",
              "    </div>\n",
              "  </div>\n"
            ]
          },
          "metadata": {},
          "execution_count": 108
        }
      ],
      "source": [
        "rats.head()"
      ]
    },
    {
      "cell_type": "code",
      "execution_count": 109,
      "metadata": {
        "colab": {
          "base_uri": "https://localhost:8080/"
        },
        "id": "RW3lJudU0t-f",
        "outputId": "dd3e1bc0-cb87-4287-ad4c-383db0b576b3"
      },
      "outputs": [
        {
          "output_type": "stream",
          "name": "stdout",
          "text": [
            "Date range:  1/1/2010 11:20:45 AM  -  9/9/2022 9:59:51 AM\n"
          ]
        }
      ],
      "source": [
        "#check min max report dates\n",
        "min_date = min(rats['created_date'])\n",
        "max_date = max(rats['created_date'])\n",
        "print('Date range: ', min_date, ' - ', max_date)"
      ]
    },
    {
      "cell_type": "code",
      "source": [
        "#check min max report dates\n",
        "min_date = min(rats['closed_date'])\n",
        "max_date = max(rats['closed_date'])\n",
        "print('Date range: ', min_date, ' - ', max_date)"
      ],
      "metadata": {
        "colab": {
          "base_uri": "https://localhost:8080/",
          "height": 218
        },
        "id": "9m3B1njiP8YO",
        "outputId": "6d561a5c-6aa8-48ba-9aa6-6388c81f6f89"
      },
      "execution_count": 111,
      "outputs": [
        {
          "output_type": "error",
          "ename": "TypeError",
          "evalue": "ignored",
          "traceback": [
            "\u001b[0;31m---------------------------------------------------------------------------\u001b[0m",
            "\u001b[0;31mTypeError\u001b[0m                                 Traceback (most recent call last)",
            "\u001b[0;32m<ipython-input-111-dcce370654da>\u001b[0m in \u001b[0;36m<cell line: 2>\u001b[0;34m()\u001b[0m\n\u001b[1;32m      1\u001b[0m \u001b[0;31m#check min max report dates\u001b[0m\u001b[0;34m\u001b[0m\u001b[0;34m\u001b[0m\u001b[0m\n\u001b[0;32m----> 2\u001b[0;31m \u001b[0mmin_date\u001b[0m \u001b[0;34m=\u001b[0m \u001b[0mmin\u001b[0m\u001b[0;34m(\u001b[0m\u001b[0mrats\u001b[0m\u001b[0;34m[\u001b[0m\u001b[0;34m'closed_date'\u001b[0m\u001b[0;34m]\u001b[0m\u001b[0;34m)\u001b[0m\u001b[0;34m\u001b[0m\u001b[0;34m\u001b[0m\u001b[0m\n\u001b[0m\u001b[1;32m      3\u001b[0m \u001b[0mmax_date\u001b[0m \u001b[0;34m=\u001b[0m \u001b[0mmax\u001b[0m\u001b[0;34m(\u001b[0m\u001b[0mrats\u001b[0m\u001b[0;34m[\u001b[0m\u001b[0;34m'closed_date'\u001b[0m\u001b[0;34m]\u001b[0m\u001b[0;34m)\u001b[0m\u001b[0;34m\u001b[0m\u001b[0;34m\u001b[0m\u001b[0m\n\u001b[1;32m      4\u001b[0m \u001b[0mprint\u001b[0m\u001b[0;34m(\u001b[0m\u001b[0;34m'Date range: '\u001b[0m\u001b[0;34m,\u001b[0m \u001b[0mmin_date\u001b[0m\u001b[0;34m,\u001b[0m \u001b[0;34m' - '\u001b[0m\u001b[0;34m,\u001b[0m \u001b[0mmax_date\u001b[0m\u001b[0;34m)\u001b[0m\u001b[0;34m\u001b[0m\u001b[0;34m\u001b[0m\u001b[0m\n",
            "\u001b[0;31mTypeError\u001b[0m: '<' not supported between instances of 'float' and 'str'"
          ]
        }
      ]
    },
    {
      "cell_type": "markdown",
      "metadata": {
        "id": "OuUm8TOeJzsG"
      },
      "source": [
        "cant get index to stay... or is it me? reindex keeping this column that is sorted?"
      ]
    },
    {
      "cell_type": "code",
      "execution_count": null,
      "metadata": {
        "id": "auRzO53kvXjo"
      },
      "outputs": [],
      "source": [
        "rats.info()"
      ]
    },
    {
      "cell_type": "markdown",
      "metadata": {
        "id": "o6Ab5Pbas4Rv"
      },
      "source": [
        "the dates still shows as objects."
      ]
    },
    {
      "cell_type": "code",
      "execution_count": null,
      "metadata": {
        "id": "WyLZ8_uD6vpp"
      },
      "outputs": [],
      "source": [
        "rats.isnull().sum()"
      ]
    },
    {
      "cell_type": "code",
      "execution_count": null,
      "metadata": {
        "id": "8vuMrmowZOaO"
      },
      "outputs": [],
      "source": [
        "#checking the index again no sort going up to reindex nesscisary?\n",
        "rats.head()"
      ]
    },
    {
      "cell_type": "code",
      "execution_count": null,
      "metadata": {
        "id": "01oX8uDXiE_z"
      },
      "outputs": [],
      "source": [
        "rats['incident_zip'].nlargest(n=15)"
      ]
    },
    {
      "cell_type": "markdown",
      "metadata": {
        "id": "jqWRisB8wG3L"
      },
      "source": [
        "##Cleaning Rats"
      ]
    },
    {
      "cell_type": "code",
      "execution_count": null,
      "metadata": {
        "id": "S8CxyFskjyIo"
      },
      "outputs": [],
      "source": [
        "rats.sort_values(by=['incident_zip']).head(5)"
      ]
    },
    {
      "cell_type": "code",
      "execution_count": null,
      "metadata": {
        "id": "PZVoXR8MiE09"
      },
      "outputs": [],
      "source": [
        "rats_sorted = rats.sort_values(by=['created_date'], ascending=True)"
      ]
    },
    {
      "cell_type": "code",
      "execution_count": null,
      "metadata": {
        "id": "0RfIw5q0Iptl"
      },
      "outputs": [],
      "source": [
        "rats_sorted.reset_index(drop=True)"
      ]
    },
    {
      "cell_type": "code",
      "execution_count": null,
      "metadata": {
        "id": "pwLE00vWBvFM"
      },
      "outputs": [],
      "source": [
        "print('Borough Value counts after dropping columns and nulls:/n',rats_sorted['borough'].value_counts())"
      ]
    },
    {
      "cell_type": "code",
      "execution_count": null,
      "metadata": {
        "id": "mwBkR_X0lmUC"
      },
      "outputs": [],
      "source": [
        "# Percentage by lambda and DataFrame.apply() method.\n",
        "#  rat13 =   rat1.groupby(level=1).apply(lambda x:100 * x / float(x.sum()))"
      ]
    },
    {
      "cell_type": "code",
      "execution_count": null,
      "metadata": {
        "id": "XiHn8PiE_27z"
      },
      "outputs": [],
      "source": [
        "rats_sorted.loc[~rats_sorted.index.duplicated(), :].head()"
      ]
    },
    {
      "cell_type": "markdown",
      "metadata": {
        "id": "HZN8gjhNlFbv"
      },
      "source": [
        "### Dropping duplicates/ columns/ nulls"
      ]
    },
    {
      "cell_type": "code",
      "execution_count": null,
      "metadata": {
        "id": "k-6q7OvV_Wr6"
      },
      "outputs": [],
      "source": [
        "rat1 = rats_sorted.drop_duplicates()\n",
        "rat1.shape == rats_sorted.shape"
      ]
    },
    {
      "cell_type": "code",
      "execution_count": null,
      "metadata": {
        "id": "48DnC_gAdnXq"
      },
      "outputs": [],
      "source": [
        "rat1 = pd.DataFrame(rat1.sort_values(['created_date','unique_key'], ascending=True))"
      ]
    },
    {
      "cell_type": "code",
      "execution_count": null,
      "metadata": {
        "id": "8rtZNF0pJQUH"
      },
      "outputs": [],
      "source": [
        "#dropping columns that are unneeded or too many null values\n",
        "# rat1 = rat1.drop(['cities_acceptable_irs', 'irs_estimated_population', 'landmark', 'marg_error'], axis=1)\n",
        "# check missing values in different columns via heatmap\n",
        "sns.heatmap(rat1.isnull(), cbar=False)"
      ]
    },
    {
      "cell_type": "code",
      "execution_count": null,
      "metadata": {
        "id": "AZvOkBOuI8t6"
      },
      "outputs": [],
      "source": [
        "rat1.columns"
      ]
    },
    {
      "cell_type": "markdown",
      "metadata": {
        "id": "82stBIO9JTY-"
      },
      "source": [
        "####Dropping final nulls for analysis"
      ]
    },
    {
      "cell_type": "code",
      "execution_count": null,
      "metadata": {
        "id": "F0zrjvrZJejJ"
      },
      "outputs": [],
      "source": [
        "rat1.isnull().sum()"
      ]
    },
    {
      "cell_type": "code",
      "execution_count": null,
      "metadata": {
        "id": "jAjnYn7oHSL8"
      },
      "outputs": [],
      "source": [
        "missing_counts =   rat1.isnull().sum().sort_values(ascending = False)\n",
        "percent = (  rat1.isnull().sum()*100/  rat1.shape[0]).sort_values(ascending = False)"
      ]
    },
    {
      "cell_type": "code",
      "execution_count": null,
      "metadata": {
        "id": "luI4_TKyQQl8"
      },
      "outputs": [],
      "source": [
        "missing_rat1 = pd.concat([missing_counts, percent], axis = 1, keys = ['Counts', '%'])\n",
        "print(f' Missing values: \\n{missing_rat1}')"
      ]
    },
    {
      "cell_type": "markdown",
      "metadata": {
        "id": "nFWJvDRtGKJ6"
      },
      "source": [
        "Will go back and adapt as needed... for each analysis / population counts will need to be addressed also."
      ]
    },
    {
      "cell_type": "code",
      "execution_count": null,
      "metadata": {
        "id": "18PQbzzprx_5"
      },
      "outputs": [],
      "source": [
        "# drop duplicate data (== gives the boolean value)\n",
        "rat2 = rat1.drop_duplicates()\n",
        "rat2.shape == rat1.shape"
      ]
    },
    {
      "cell_type": "markdown",
      "metadata": {
        "id": "BJlzrzJxxn6Q"
      },
      "source": [
        "###pd.datetime/ created YQMWD"
      ]
    },
    {
      "cell_type": "code",
      "execution_count": 113,
      "metadata": {
        "id": "KDrdO9POhQ1p"
      },
      "outputs": [],
      "source": [
        "#Converting the date column to its specified data type\n",
        "rat1['created_date'] = pd.to_datetime(rat1['created_date'])\n",
        "rat1['closed_date'] = pd.to_datetime(rat1['closed_date'], errors='coerce')"
      ]
    },
    {
      "cell_type": "code",
      "execution_count": 155,
      "metadata": {
        "colab": {
          "base_uri": "https://localhost:8080/",
          "height": 508
        },
        "id": "5ooCE9wv8dsf",
        "outputId": "3122486f-d0b2-40ab-fb6e-859a9553b3ef"
      },
      "outputs": [
        {
          "output_type": "execute_result",
          "data": {
            "text/plain": [
              "        unique_key        created_date                due_date closed_date  \\\n",
              "204684    15633803 2010-01-01 08:29:58  01/31/2010 08:29:58 AM         NaT   \n",
              "173104    15633054 2010-01-01 11:20:45  01/31/2010 11:20:45 AM         NaT   \n",
              "172919    15633896 2010-01-01 12:11:51  01/31/2010 12:11:51 PM         NaT   \n",
              "61527     15633897 2010-01-01 12:12:04  01/31/2010 12:12:04 PM         NaT   \n",
              "175959    15633828 2010-01-01 14:15:27  01/31/2010 02:15:27 PM         NaT   \n",
              "\n",
              "                  location_type    borough  incident_zip community_board  \\\n",
              "204684  3+ Family Apt. Building   BROOKLYN         11206     03 BROOKLYN   \n",
              "173104      1-2 Family Dwelling     QUEENS         11365       07 QUEENS   \n",
              "172919  3+ Family Apt. Building  MANHATTAN         10027    10 MANHATTAN   \n",
              "61527   3+ Family Apt. Building      BRONX         10458        06 BRONX   \n",
              "175959          Vacant Building   BROOKLYN         11218     12 BROOKLYN   \n",
              "\n",
              "                 city         incident_address  ...  year quarter month  \\\n",
              "204684       BROOKLYN       202 PULASKI STREET  ...  2010       1     1   \n",
              "173104  FRESH MEADOWS         59-13 159 STREET  ...  2010       1     1   \n",
              "172919  NEW YORK CITY      317 WEST 120 STREET  ...  2010       1     1   \n",
              "61527           BRONX     2356 LORILLARD PLACE  ...  2010       1     1   \n",
              "175959       BROOKLYN  900 CONEY ISLAND AVENUE  ...  2010       1     1   \n",
              "\n",
              "       weekday day hour incident_zips                     address_zip  \\\n",
              "204684       4   1    8         11206       202 PULASKI STREET, 11206   \n",
              "173104       4   1   11         11365         59-13 159 STREET, 11365   \n",
              "172919       4   1   12         10027      317 WEST 120 STREET, 10027   \n",
              "61527        4   1   12         10458     2356 LORILLARD PLACE, 10458   \n",
              "175959       4   1   14         11218  900 CONEY ISLAND AVENUE, 11218   \n",
              "\n",
              "                                     CB_address_zip  duration  \n",
              "204684       03 BROOKLYN, 202 PULASKI STREET, 11206    0 days  \n",
              "173104           07 QUEENS, 59-13 159 STREET, 11365    0 days  \n",
              "172919     10 MANHATTAN, 317 WEST 120 STREET, 10027    0 days  \n",
              "61527         06 BRONX, 2356 LORILLARD PLACE, 10458    0 days  \n",
              "175959  12 BROOKLYN, 900 CONEY ISLAND AVENUE, 11218    0 days  \n",
              "\n",
              "[5 rows x 39 columns]"
            ],
            "text/html": [
              "\n",
              "\n",
              "  <div id=\"df-701d7da6-0613-4268-ab14-0860f37f3e56\">\n",
              "    <div class=\"colab-df-container\">\n",
              "      <div>\n",
              "<style scoped>\n",
              "    .dataframe tbody tr th:only-of-type {\n",
              "        vertical-align: middle;\n",
              "    }\n",
              "\n",
              "    .dataframe tbody tr th {\n",
              "        vertical-align: top;\n",
              "    }\n",
              "\n",
              "    .dataframe thead th {\n",
              "        text-align: right;\n",
              "    }\n",
              "</style>\n",
              "<table border=\"1\" class=\"dataframe\">\n",
              "  <thead>\n",
              "    <tr style=\"text-align: right;\">\n",
              "      <th></th>\n",
              "      <th>unique_key</th>\n",
              "      <th>created_date</th>\n",
              "      <th>due_date</th>\n",
              "      <th>closed_date</th>\n",
              "      <th>location_type</th>\n",
              "      <th>borough</th>\n",
              "      <th>incident_zip</th>\n",
              "      <th>community_board</th>\n",
              "      <th>city</th>\n",
              "      <th>incident_address</th>\n",
              "      <th>...</th>\n",
              "      <th>year</th>\n",
              "      <th>quarter</th>\n",
              "      <th>month</th>\n",
              "      <th>weekday</th>\n",
              "      <th>day</th>\n",
              "      <th>hour</th>\n",
              "      <th>incident_zips</th>\n",
              "      <th>address_zip</th>\n",
              "      <th>CB_address_zip</th>\n",
              "      <th>duration</th>\n",
              "    </tr>\n",
              "  </thead>\n",
              "  <tbody>\n",
              "    <tr>\n",
              "      <th>204684</th>\n",
              "      <td>15633803</td>\n",
              "      <td>2010-01-01 08:29:58</td>\n",
              "      <td>01/31/2010 08:29:58 AM</td>\n",
              "      <td>NaT</td>\n",
              "      <td>3+ Family Apt. Building</td>\n",
              "      <td>BROOKLYN</td>\n",
              "      <td>11206</td>\n",
              "      <td>03 BROOKLYN</td>\n",
              "      <td>BROOKLYN</td>\n",
              "      <td>202 PULASKI STREET</td>\n",
              "      <td>...</td>\n",
              "      <td>2010</td>\n",
              "      <td>1</td>\n",
              "      <td>1</td>\n",
              "      <td>4</td>\n",
              "      <td>1</td>\n",
              "      <td>8</td>\n",
              "      <td>11206</td>\n",
              "      <td>202 PULASKI STREET, 11206</td>\n",
              "      <td>03 BROOKLYN, 202 PULASKI STREET, 11206</td>\n",
              "      <td>0 days</td>\n",
              "    </tr>\n",
              "    <tr>\n",
              "      <th>173104</th>\n",
              "      <td>15633054</td>\n",
              "      <td>2010-01-01 11:20:45</td>\n",
              "      <td>01/31/2010 11:20:45 AM</td>\n",
              "      <td>NaT</td>\n",
              "      <td>1-2 Family Dwelling</td>\n",
              "      <td>QUEENS</td>\n",
              "      <td>11365</td>\n",
              "      <td>07 QUEENS</td>\n",
              "      <td>FRESH MEADOWS</td>\n",
              "      <td>59-13 159 STREET</td>\n",
              "      <td>...</td>\n",
              "      <td>2010</td>\n",
              "      <td>1</td>\n",
              "      <td>1</td>\n",
              "      <td>4</td>\n",
              "      <td>1</td>\n",
              "      <td>11</td>\n",
              "      <td>11365</td>\n",
              "      <td>59-13 159 STREET, 11365</td>\n",
              "      <td>07 QUEENS, 59-13 159 STREET, 11365</td>\n",
              "      <td>0 days</td>\n",
              "    </tr>\n",
              "    <tr>\n",
              "      <th>172919</th>\n",
              "      <td>15633896</td>\n",
              "      <td>2010-01-01 12:11:51</td>\n",
              "      <td>01/31/2010 12:11:51 PM</td>\n",
              "      <td>NaT</td>\n",
              "      <td>3+ Family Apt. Building</td>\n",
              "      <td>MANHATTAN</td>\n",
              "      <td>10027</td>\n",
              "      <td>10 MANHATTAN</td>\n",
              "      <td>NEW YORK CITY</td>\n",
              "      <td>317 WEST 120 STREET</td>\n",
              "      <td>...</td>\n",
              "      <td>2010</td>\n",
              "      <td>1</td>\n",
              "      <td>1</td>\n",
              "      <td>4</td>\n",
              "      <td>1</td>\n",
              "      <td>12</td>\n",
              "      <td>10027</td>\n",
              "      <td>317 WEST 120 STREET, 10027</td>\n",
              "      <td>10 MANHATTAN, 317 WEST 120 STREET, 10027</td>\n",
              "      <td>0 days</td>\n",
              "    </tr>\n",
              "    <tr>\n",
              "      <th>61527</th>\n",
              "      <td>15633897</td>\n",
              "      <td>2010-01-01 12:12:04</td>\n",
              "      <td>01/31/2010 12:12:04 PM</td>\n",
              "      <td>NaT</td>\n",
              "      <td>3+ Family Apt. Building</td>\n",
              "      <td>BRONX</td>\n",
              "      <td>10458</td>\n",
              "      <td>06 BRONX</td>\n",
              "      <td>BRONX</td>\n",
              "      <td>2356 LORILLARD PLACE</td>\n",
              "      <td>...</td>\n",
              "      <td>2010</td>\n",
              "      <td>1</td>\n",
              "      <td>1</td>\n",
              "      <td>4</td>\n",
              "      <td>1</td>\n",
              "      <td>12</td>\n",
              "      <td>10458</td>\n",
              "      <td>2356 LORILLARD PLACE, 10458</td>\n",
              "      <td>06 BRONX, 2356 LORILLARD PLACE, 10458</td>\n",
              "      <td>0 days</td>\n",
              "    </tr>\n",
              "    <tr>\n",
              "      <th>175959</th>\n",
              "      <td>15633828</td>\n",
              "      <td>2010-01-01 14:15:27</td>\n",
              "      <td>01/31/2010 02:15:27 PM</td>\n",
              "      <td>NaT</td>\n",
              "      <td>Vacant Building</td>\n",
              "      <td>BROOKLYN</td>\n",
              "      <td>11218</td>\n",
              "      <td>12 BROOKLYN</td>\n",
              "      <td>BROOKLYN</td>\n",
              "      <td>900 CONEY ISLAND AVENUE</td>\n",
              "      <td>...</td>\n",
              "      <td>2010</td>\n",
              "      <td>1</td>\n",
              "      <td>1</td>\n",
              "      <td>4</td>\n",
              "      <td>1</td>\n",
              "      <td>14</td>\n",
              "      <td>11218</td>\n",
              "      <td>900 CONEY ISLAND AVENUE, 11218</td>\n",
              "      <td>12 BROOKLYN, 900 CONEY ISLAND AVENUE, 11218</td>\n",
              "      <td>0 days</td>\n",
              "    </tr>\n",
              "  </tbody>\n",
              "</table>\n",
              "<p>5 rows × 39 columns</p>\n",
              "</div>\n",
              "      <button class=\"colab-df-convert\" onclick=\"convertToInteractive('df-701d7da6-0613-4268-ab14-0860f37f3e56')\"\n",
              "              title=\"Convert this dataframe to an interactive table.\"\n",
              "              style=\"display:none;\">\n",
              "\n",
              "  <svg xmlns=\"http://www.w3.org/2000/svg\" height=\"24px\"viewBox=\"0 0 24 24\"\n",
              "       width=\"24px\">\n",
              "    <path d=\"M0 0h24v24H0V0z\" fill=\"none\"/>\n",
              "    <path d=\"M18.56 5.44l.94 2.06.94-2.06 2.06-.94-2.06-.94-.94-2.06-.94 2.06-2.06.94zm-11 1L8.5 8.5l.94-2.06 2.06-.94-2.06-.94L8.5 2.5l-.94 2.06-2.06.94zm10 10l.94 2.06.94-2.06 2.06-.94-2.06-.94-.94-2.06-.94 2.06-2.06.94z\"/><path d=\"M17.41 7.96l-1.37-1.37c-.4-.4-.92-.59-1.43-.59-.52 0-1.04.2-1.43.59L10.3 9.45l-7.72 7.72c-.78.78-.78 2.05 0 2.83L4 21.41c.39.39.9.59 1.41.59.51 0 1.02-.2 1.41-.59l7.78-7.78 2.81-2.81c.8-.78.8-2.07 0-2.86zM5.41 20L4 18.59l7.72-7.72 1.47 1.35L5.41 20z\"/>\n",
              "  </svg>\n",
              "      </button>\n",
              "\n",
              "\n",
              "\n",
              "    <div id=\"df-9c8074ba-7f30-4be6-99cc-214d8b749dd4\">\n",
              "      <button class=\"colab-df-quickchart\" onclick=\"quickchart('df-9c8074ba-7f30-4be6-99cc-214d8b749dd4')\"\n",
              "              title=\"Suggest charts.\"\n",
              "              style=\"display:none;\">\n",
              "\n",
              "<svg xmlns=\"http://www.w3.org/2000/svg\" height=\"24px\"viewBox=\"0 0 24 24\"\n",
              "     width=\"24px\">\n",
              "    <g>\n",
              "        <path d=\"M19 3H5c-1.1 0-2 .9-2 2v14c0 1.1.9 2 2 2h14c1.1 0 2-.9 2-2V5c0-1.1-.9-2-2-2zM9 17H7v-7h2v7zm4 0h-2V7h2v10zm4 0h-2v-4h2v4z\"/>\n",
              "    </g>\n",
              "</svg>\n",
              "      </button>\n",
              "    </div>\n",
              "\n",
              "<style>\n",
              "  .colab-df-quickchart {\n",
              "    background-color: #E8F0FE;\n",
              "    border: none;\n",
              "    border-radius: 50%;\n",
              "    cursor: pointer;\n",
              "    display: none;\n",
              "    fill: #1967D2;\n",
              "    height: 32px;\n",
              "    padding: 0 0 0 0;\n",
              "    width: 32px;\n",
              "  }\n",
              "\n",
              "  .colab-df-quickchart:hover {\n",
              "    background-color: #E2EBFA;\n",
              "    box-shadow: 0px 1px 2px rgba(60, 64, 67, 0.3), 0px 1px 3px 1px rgba(60, 64, 67, 0.15);\n",
              "    fill: #174EA6;\n",
              "  }\n",
              "\n",
              "  [theme=dark] .colab-df-quickchart {\n",
              "    background-color: #3B4455;\n",
              "    fill: #D2E3FC;\n",
              "  }\n",
              "\n",
              "  [theme=dark] .colab-df-quickchart:hover {\n",
              "    background-color: #434B5C;\n",
              "    box-shadow: 0px 1px 3px 1px rgba(0, 0, 0, 0.15);\n",
              "    filter: drop-shadow(0px 1px 2px rgba(0, 0, 0, 0.3));\n",
              "    fill: #FFFFFF;\n",
              "  }\n",
              "</style>\n",
              "\n",
              "    <script>\n",
              "      async function quickchart(key) {\n",
              "        const containerElement = document.querySelector('#' + key);\n",
              "        const charts = await google.colab.kernel.invokeFunction(\n",
              "            'suggestCharts', [key], {});\n",
              "      }\n",
              "    </script>\n",
              "\n",
              "      <script>\n",
              "\n",
              "function displayQuickchartButton(domScope) {\n",
              "  let quickchartButtonEl =\n",
              "    domScope.querySelector('#df-9c8074ba-7f30-4be6-99cc-214d8b749dd4 button.colab-df-quickchart');\n",
              "  quickchartButtonEl.style.display =\n",
              "    google.colab.kernel.accessAllowed ? 'block' : 'none';\n",
              "}\n",
              "\n",
              "        displayQuickchartButton(document);\n",
              "      </script>\n",
              "      <style>\n",
              "    .colab-df-container {\n",
              "      display:flex;\n",
              "      flex-wrap:wrap;\n",
              "      gap: 12px;\n",
              "    }\n",
              "\n",
              "    .colab-df-convert {\n",
              "      background-color: #E8F0FE;\n",
              "      border: none;\n",
              "      border-radius: 50%;\n",
              "      cursor: pointer;\n",
              "      display: none;\n",
              "      fill: #1967D2;\n",
              "      height: 32px;\n",
              "      padding: 0 0 0 0;\n",
              "      width: 32px;\n",
              "    }\n",
              "\n",
              "    .colab-df-convert:hover {\n",
              "      background-color: #E2EBFA;\n",
              "      box-shadow: 0px 1px 2px rgba(60, 64, 67, 0.3), 0px 1px 3px 1px rgba(60, 64, 67, 0.15);\n",
              "      fill: #174EA6;\n",
              "    }\n",
              "\n",
              "    [theme=dark] .colab-df-convert {\n",
              "      background-color: #3B4455;\n",
              "      fill: #D2E3FC;\n",
              "    }\n",
              "\n",
              "    [theme=dark] .colab-df-convert:hover {\n",
              "      background-color: #434B5C;\n",
              "      box-shadow: 0px 1px 3px 1px rgba(0, 0, 0, 0.15);\n",
              "      filter: drop-shadow(0px 1px 2px rgba(0, 0, 0, 0.3));\n",
              "      fill: #FFFFFF;\n",
              "    }\n",
              "  </style>\n",
              "\n",
              "      <script>\n",
              "        const buttonEl =\n",
              "          document.querySelector('#df-701d7da6-0613-4268-ab14-0860f37f3e56 button.colab-df-convert');\n",
              "        buttonEl.style.display =\n",
              "          google.colab.kernel.accessAllowed ? 'block' : 'none';\n",
              "\n",
              "        async function convertToInteractive(key) {\n",
              "          const element = document.querySelector('#df-701d7da6-0613-4268-ab14-0860f37f3e56');\n",
              "          const dataTable =\n",
              "            await google.colab.kernel.invokeFunction('convertToInteractive',\n",
              "                                                     [key], {});\n",
              "          if (!dataTable) return;\n",
              "\n",
              "          const docLinkHtml = 'Like what you see? Visit the ' +\n",
              "            '<a target=\"_blank\" href=https://colab.research.google.com/notebooks/data_table.ipynb>data table notebook</a>'\n",
              "            + ' to learn more about interactive tables.';\n",
              "          element.innerHTML = '';\n",
              "          dataTable['output_type'] = 'display_data';\n",
              "          await google.colab.output.renderOutput(dataTable, element);\n",
              "          const docLink = document.createElement('div');\n",
              "          docLink.innerHTML = docLinkHtml;\n",
              "          element.appendChild(docLink);\n",
              "        }\n",
              "      </script>\n",
              "    </div>\n",
              "  </div>\n"
            ]
          },
          "metadata": {},
          "execution_count": 155
        }
      ],
      "source": [
        "# Creating 4 new columns for easy querying\n",
        "rat1['year']= rat1.created_date.dt.year\n",
        "rat1['quarter']= rat1.created_date.dt.quarter\n",
        "rat1['month'] = rat1.created_date.dt.month\n",
        "rat1['weekday'] = rat1.created_date.dt.weekday\n",
        "rat1['day'] = rat1.created_date.dt.day\n",
        "rat1['hour'] = rat1.created_date.dt.hour\n",
        "rat1.head()"
      ]
    },
    {
      "cell_type": "markdown",
      "metadata": {
        "id": "bj2zMeTs6DB-"
      },
      "source": [
        "### replacing values in street_name"
      ]
    },
    {
      "cell_type": "code",
      "execution_count": 115,
      "metadata": {
        "colab": {
          "base_uri": "https://localhost:8080/"
        },
        "id": "Nao3_XXduXPf",
        "outputId": "cc2fa3ba-40a3-4956-8c27-eb3c2907e12b"
      },
      "outputs": [
        {
          "output_type": "stream",
          "name": "stdout",
          "text": [
            "Are the values in 'street_name' column unique?  False\n",
            "Value counts of 'street_name' column:\n",
            "BROADWAY                        1779\n",
            "EASTERN PARKWAY                 1209\n",
            "GRAND CONCOURSE                 1158\n",
            "BEDFORD AVENUE                   927\n",
            "LAFAYETTE AVENUE                 878\n",
            "                                ... \n",
            "EAST 69TH STREET                   1\n",
            "STREET PAUL&apos;SOUTH PLACE       1\n",
            "MILTON PLACE                       1\n",
            "CHRISTOPHER LANE                   1\n",
            "PARK AVENUE MALLS                  1\n",
            "Name: street_name, Length: 7322, dtype: int64\n"
          ]
        }
      ],
      "source": [
        "# Check if values in 'street_name' column are unique\n",
        "is_unique = rat1['street_name'].is_unique\n",
        "print(\"Are the values in 'street_name' column unique? \", is_unique)\n",
        "\n",
        "# Get value counts of each unique value in 'street_name' column\n",
        "value_counts = rat1['street_name'].value_counts()\n",
        "print(\"Value counts of 'street_name' column:\")\n",
        "print(value_counts)"
      ]
    },
    {
      "cell_type": "code",
      "execution_count": 116,
      "metadata": {
        "colab": {
          "base_uri": "https://localhost:8080/"
        },
        "id": "tE_hzPLTvLRk",
        "outputId": "7c9a7913-bb61-4385-b7c5-3ac2cc8a7543"
      },
      "outputs": [
        {
          "output_type": "stream",
          "name": "stdout",
          "text": [
            "WEST  116 STREET           569\n",
            "WEST  107 STREET           507\n",
            "WEST END AVENUE            433\n",
            "WEST  122 STREET           417\n",
            "WEST  108 STREET           352\n",
            "                          ... \n",
            "WEST 239TH STREET            1\n",
            "WEST 81ST STREET             1\n",
            "WEST 75TH STREET             1\n",
            "CROSS BRONX EXPY WEST        1\n",
            "WEST   87 STREET GARDEN      1\n",
            "Name: street_name, Length: 745, dtype: int64\n"
          ]
        }
      ],
      "source": [
        "#when visualizing i noticed west had a double space and n, s, w, e was used along with north, south, east and west\n",
        "street_counts = rat1[rat1['street_name'].fillna('').str.contains('west', case=False)]['street_name'].value_counts()\n",
        "print(street_counts)"
      ]
    },
    {
      "cell_type": "code",
      "execution_count": 117,
      "metadata": {
        "id": "DAOp74_h6Ptp"
      },
      "outputs": [],
      "source": [
        "#dictionary\n",
        "replacements = {\n",
        "    r'\\bST\\b': 'STREET',\n",
        "    r'\\bAVE\\b': 'AVENUE',\n",
        "    r'\\b(BLVD|BLV)\\b': 'BOULEVARD',\n",
        "    r'\\bPL\\b': 'PLACE',\n",
        "    r'\\bCT\\b': 'COURT',\n",
        "    r'\\bDR\\b': 'DRIVE',\n",
        "    r'\\bSQ\\b': 'SQUARE',\n",
        "    r'\\bTCE\\b': 'TERRACE',\n",
        "    r'\\bAVE\\b': 'AVENUE',\n",
        "    r'\\bE\\b': 'EAST',\n",
        "    r'\\bW\\b': 'WEST',\n",
        "    r'\\bN\\b': 'NORTH',\n",
        "    r'\\bS\\b': 'SOUTH',\n",
        "    'DR MARTIN L KING JR BOULEVARD': 'DR MARTIN LUTHER KING JR BOULEVARD',\n",
        "    'DR M L KING JR BOULEVARD': 'DR MARTIN LUTHER KING JR BOULEVARD',\n",
        "    'DR MARTIN L KING JR BLVD': 'DR MARTIN LUTHER KING JR BOULEVARD',\n",
        "    'DR MARTIN LUTHER KING JR BLVD': 'DR MARTIN LUTHER KING JR BOULEVARD'\n",
        "}\n",
        "\n",
        "# Apply the replacement rules\n",
        "rat1['street_name'] = rat1['street_name'].replace(replacements, regex=True)"
      ]
    },
    {
      "cell_type": "code",
      "execution_count": 118,
      "metadata": {
        "colab": {
          "base_uri": "https://localhost:8080/"
        },
        "id": "o1jt5EVS6-9z",
        "outputId": "0c08b19f-d15f-4a23-97cf-c2b0264f577a"
      },
      "outputs": [
        {
          "output_type": "execute_result",
          "data": {
            "text/plain": [
              "array(['PULASKI STREET', '159 STREET', 'WEST 120 STREET', ...,\n",
              "       'POLITE AVENUE', 'NORTH   15 STREET', 'PARK AVENUE MALLS'],\n",
              "      dtype=object)"
            ]
          },
          "metadata": {},
          "execution_count": 118
        }
      ],
      "source": [
        "rat1['street_name'].unique()"
      ]
    },
    {
      "cell_type": "code",
      "execution_count": 119,
      "metadata": {
        "id": "SN4zmmkc338a"
      },
      "outputs": [],
      "source": [
        "#dictionary\n",
        "incident_address_replacements = {\n",
        "    r'\\bST\\b': 'STREET',\n",
        "    r'\\bAVE\\b': 'AVENUE',\n",
        "    r'\\b(BLVD|BLV)\\b': 'BOULEVARD',\n",
        "    r'\\bPL\\b': 'PLACE',\n",
        "    r'\\bCT\\b': 'COURT',\n",
        "    r'\\bDR\\b': 'DRIVE',\n",
        "    r'\\bSQ\\b': 'SQUARE',\n",
        "    r'\\bTCE\\b': 'TERRACE',\n",
        "    r'\\bAVE\\b': 'AVENUE',\n",
        "    r'\\bE\\b': 'EAST',\n",
        "    r'\\bW\\b': 'WEST',\n",
        "    r'\\bN\\b': 'NORTH',\n",
        "    r'\\bS\\b': 'SOUTH',\n",
        "    r'\\bDR MARTIN L KING JR BOULEVARD\\b': 'DR MARTIN LUTHER KING JR BOULEVARD',\n",
        "    r'\\bDR M L KING JR BOULEVARD\\b': 'DR MARTIN LUTHER KING JR BOULEVARD',\n",
        "    r'\\bDR MARTIN L KING JR BLVD\\b': 'DR MARTIN LUTHER KING JR BOULEVARD',\n",
        "    r'\\bDR MARTIN LUTHER KING JR BLVD\\b': 'DR MARTIN LUTHER KING JR BOULEVARD'\n",
        "}\n",
        "\n",
        "# Apply the replacement rules\n",
        "rat1['incident_address'] = rat1['incident_address'].replace(incident_address_replacements, regex=True)"
      ]
    },
    {
      "cell_type": "code",
      "execution_count": 120,
      "metadata": {
        "colab": {
          "base_uri": "https://localhost:8080/"
        },
        "id": "t2WbGcwjFyC_",
        "outputId": "940f62f3-7601-4dfa-e71f-2db1a9f8f282"
      },
      "outputs": [
        {
          "output_type": "stream",
          "name": "stdout",
          "text": [
            "Are the values in 'incident_address' column unique?  False\n",
            "Value counts of 'incident_address' column:\n",
            "2131 WALLACE AVENUE         317\n",
            "95 EASTERN PARKWAY          256\n",
            "651 BROOKLYN AVENUE         177\n",
            "410 EASTERN PARKWAY         150\n",
            "2486 DAVIDSON AVENUE        138\n",
            "                           ... \n",
            "424-428 WEST 35TH STREET      1\n",
            "1301 57TH STREET              1\n",
            "688 EAST 46 STREET            1\n",
            "1032 EAST 95 STREET           1\n",
            "PARK ROW                      1\n",
            "Name: incident_address, Length: 96866, dtype: int64\n"
          ]
        }
      ],
      "source": [
        "# double check if values are unique\n",
        "is_unique = rat1['incident_address'].is_unique\n",
        "print(\"Are the values in 'incident_address' column unique? \", is_unique)\n",
        "\n",
        "# Get value counts of each unique value\n",
        "value_counts = rat1['incident_address'].value_counts()\n",
        "print(\"Value counts of 'incident_address' column:\")\n",
        "print(value_counts)"
      ]
    },
    {
      "cell_type": "code",
      "execution_count": 121,
      "metadata": {
        "id": "xkNkTlzQr7ed"
      },
      "outputs": [],
      "source": [
        "#Remove extra spaces\n",
        "rat1['incident_address'] = rat1['incident_address'].apply(lambda x: \"\".join([x[i] for i in range(len(x)) if i == 0 or (x[i] != \" \" or x[i-1] != \" \")]))"
      ]
    },
    {
      "cell_type": "code",
      "execution_count": 122,
      "metadata": {
        "colab": {
          "base_uri": "https://localhost:8080/"
        },
        "id": "srIHXhWswdfX",
        "outputId": "a4447ab4-6d3e-43e8-bbcb-b52e09684819"
      },
      "outputs": [
        {
          "output_type": "stream",
          "name": "stdout",
          "text": [
            "2131 WALLACE AVENUE         317\n",
            "95 EASTERN PARKWAY          256\n",
            "651 BROOKLYN AVENUE         177\n",
            "410 EASTERN PARKWAY         150\n",
            "2486 DAVIDSON AVENUE        138\n",
            "                           ... \n",
            "424-428 WEST 35TH STREET      1\n",
            "1301 57TH STREET              1\n",
            "688 EAST 46 STREET            1\n",
            "1032 EAST 95 STREET           1\n",
            "PARK ROW                      1\n",
            "Name: incident_address, Length: 96866, dtype: int64\n"
          ]
        }
      ],
      "source": [
        "address_counts = rat1['incident_address'].fillna('').value_counts()\n",
        "print(address_counts)"
      ]
    },
    {
      "cell_type": "markdown",
      "metadata": {
        "id": "-K1b87ipqxMR"
      },
      "source": [
        "#VALUES"
      ]
    },
    {
      "cell_type": "code",
      "execution_count": 123,
      "metadata": {
        "colab": {
          "base_uri": "https://localhost:8080/"
        },
        "id": "j5OebHX3fBQL",
        "outputId": "1e1fc9d5-cd07-4008-bef0-27a7d5e0ca21"
      },
      "outputs": [
        {
          "output_type": "stream",
          "name": "stdout",
          "text": [
            "Date range:  2010-01-01 08:29:58  -  2023-07-03 02:05:32\n"
          ]
        }
      ],
      "source": [
        "#check min max crash dates\n",
        "min_date = min(rat1['created_date'])\n",
        "max_date = max(rat1['created_date'])\n",
        "print(f'Date range:  {min_date}  -  {max_date}')"
      ]
    },
    {
      "cell_type": "code",
      "source": [
        "#check min max crash dates\n",
        "min_date = min(rat1['closed_date'])\n",
        "max_date = max(rat1['closed_date'])\n",
        "print(f'Date range:  {min_date}  -  {max_date}')"
      ],
      "metadata": {
        "colab": {
          "base_uri": "https://localhost:8080/"
        },
        "id": "HsUc7BsKRb4y",
        "outputId": "e5c9ad3a-b5e8-41e8-ca9b-11aede8b190f"
      },
      "execution_count": 125,
      "outputs": [
        {
          "output_type": "stream",
          "name": "stdout",
          "text": [
            "Date range:  NaT  -  NaT\n"
          ]
        }
      ]
    },
    {
      "cell_type": "markdown",
      "metadata": {
        "id": "T-m-F0Rl8jSX"
      },
      "source": [
        "##concat zip and address... then modify this code"
      ]
    },
    {
      "cell_type": "code",
      "execution_count": 126,
      "metadata": {
        "id": "grRiomke9B_g"
      },
      "outputs": [],
      "source": [
        "# Convert \"incident_zip\" to string type\n",
        "rat1['incident_zips'] = rat1['incident_zip'].astype(str)\n",
        "\n",
        "# Create a new column combining \"incident_address\" and \"incident_zip\"\n",
        "rat1['address_zip'] = rat1['incident_address'] + ', ' + rat1['incident_zips']\n"
      ]
    },
    {
      "cell_type": "code",
      "execution_count": 127,
      "metadata": {
        "colab": {
          "base_uri": "https://localhost:8080/"
        },
        "id": "X203QFuQaGCn",
        "outputId": "a669c798-c725-4dc4-f57a-1f901b562800"
      },
      "outputs": [
        {
          "output_type": "stream",
          "name": "stdout",
          "text": [
            "Top addresses ZIP code by created date:\n",
            "created_date                                       \n",
            "2010-01-01 08:29:58  202 PULASKI STREET, 11206         1\n",
            "2010-01-01 11:20:45  59-13 159 STREET, 11365           1\n",
            "2010-01-01 12:11:51  317 WEST 120 STREET, 10027        1\n",
            "2010-01-01 12:12:04  2356 LORILLARD PLACE, 10458       1\n",
            "2010-01-01 14:15:27  900 CONEY ISLAND AVENUE, 11218    1\n",
            "                                                      ..\n",
            "2023-07-02 23:04:44  134 MONTAGUE STREET, 11201        1\n",
            "2023-07-02 23:27:12  34-20 32 STREET, 11106            1\n",
            "2023-07-03 00:19:54  3 WEST 137 STREET, 10037          1\n",
            "2023-07-03 01:08:50  PARK ROW, 10038                   1\n",
            "2023-07-03 02:05:32  EAST 73 STREET, 10021             1\n",
            "Name: address_zip, Length: 116542, dtype: int64\n",
            "\n",
            "Top addresses ZIP code by year:\n",
            "year                                  \n",
            "2010  600 WEST 196 STREET, 10040          28\n",
            "      EAST 93 STREET, 10128               23\n",
            "      2980 WEST 28 STREET, 11224          18\n",
            "      2970 WEST 27 STREET, 11224          18\n",
            "      673 DAWSON STREET, 10455            16\n",
            "                                          ..\n",
            "2023  41-49 150 STREET, 11355             42\n",
            "      18 EAST 198 STREET, 10468           31\n",
            "      260 PARKHILL AVENUE, 10304          23\n",
            "      145-03 ROCKAWAY BOULEVARD, 11436    21\n",
            "      365 WEST 25 STREET, 10001           21\n",
            "Name: address_zip, Length: 70, dtype: int64\n",
            "\n",
            "Top addresses ZIP code by quarter:\n",
            "quarter                              \n",
            "1        410 EASTERN PARKWAY, 11225       69\n",
            "         2131 WALLACE AVENUE, 10462       68\n",
            "         95 EASTERN PARKWAY, 11238        65\n",
            "         651 BROOKLYN AVENUE, 11203       64\n",
            "         1690 NELSON AVENUE, 10453        45\n",
            "2        2131 WALLACE AVENUE, 10462      111\n",
            "         410 EASTERN PARKWAY, 11225       69\n",
            "         210 WEST 107 STREET, 10025       56\n",
            "         651 BROOKLYN AVENUE, 11203       54\n",
            "         95 EASTERN PARKWAY, 11238        52\n",
            "3        2486 DAVIDSON AVENUE, 10468     130\n",
            "         95 EASTERN PARKWAY, 11238        82\n",
            "         2131 WALLACE AVENUE, 10462       72\n",
            "         60 WEST 142 STREET, 10037        56\n",
            "         1912 AVENUE H, 11230             44\n",
            "4        1912 AVENUE H, 11230             89\n",
            "         2131 WALLACE AVENUE, 10462       66\n",
            "         557 MONTGOMERY STREET, 11225     61\n",
            "         95 EASTERN PARKWAY, 11238        57\n",
            "         407 LINCOLN PLACE, 11238         54\n",
            "Name: address_zip, dtype: int64\n",
            "\n",
            "Top addresses ZIP code by month:\n",
            "month                              \n",
            "1      651 BROOKLYN AVENUE, 11203       47\n",
            "       95 EASTERN PARKWAY, 11238        25\n",
            "       2131 WALLACE AVENUE, 10462       22\n",
            "       600 HYLAN BOULEVARD, 10305       17\n",
            "       220 CABRINI BOULEVARD, 10033     17\n",
            "2      1690 NELSON AVENUE, 10453        43\n",
            "       551 WEST 204TH STREET, 10034     35\n",
            "       410 EASTERN PARKWAY, 11225       30\n",
            "       2131 WALLACE AVENUE, 10462       23\n",
            "       3336 PERRY AVENUE, 10467         22\n",
            "3      410 EASTERN PARKWAY, 11225       33\n",
            "       2131 WALLACE AVENUE, 10462       23\n",
            "       95 EASTERN PARKWAY, 11238        21\n",
            "       241 WEST 116 STREET, 10026       21\n",
            "       134 WEST 122 STREET, 10027       18\n",
            "4      2131 WALLACE AVENUE, 10462       40\n",
            "       1201 OCEAN PARKWAY, 11230        29\n",
            "       410 EASTERN PARKWAY, 11225       27\n",
            "       230 WEST 107 STREET, 10025       23\n",
            "       957 WOODYCREST AVENUE, 10452     22\n",
            "5      2131 WALLACE AVENUE, 10462       40\n",
            "       651 BROOKLYN AVENUE, 11203       35\n",
            "       210 WEST 107 STREET, 10025       34\n",
            "       905 TINTON AVENUE, 10456         32\n",
            "       259 WASHINGTON AVENUE, 11205     24\n",
            "6      2131 WALLACE AVENUE, 10462       31\n",
            "       80 NEW YORK AVENUE, 11216        19\n",
            "       410 EASTERN PARKWAY, 11225       19\n",
            "       210 WEST 107 STREET, 10025       18\n",
            "       834 HART STREET, 11237           16\n",
            "7      2486 DAVIDSON AVENUE, 10468     129\n",
            "       2131 WALLACE AVENUE, 10462       25\n",
            "       201 WEST 83 STREET, 10024        21\n",
            "       95 EASTERN PARKWAY, 11238        14\n",
            "       1074 LORIMER STREET, 11222       13\n",
            "8      95 EASTERN PARKWAY, 11238        48\n",
            "       60 WEST 142 STREET, 10037        32\n",
            "       635 RIVERSIDE DRIVE, 10031       30\n",
            "       2131 WALLACE AVENUE, 10462       23\n",
            "       1690 NELSON AVENUE, 10453        22\n",
            "9      1912 AVENUE H, 11230             31\n",
            "       2131 WALLACE AVENUE, 10462       24\n",
            "       651 BROOKLYN AVENUE, 11203       21\n",
            "       95 EASTERN PARKWAY, 11238        20\n",
            "       46-01 67 STREET, 11377           20\n",
            "10     2131 WALLACE AVENUE, 10462       32\n",
            "       1912 AVENUE H, 11230             30\n",
            "       586 LINWOOD STREET, 11208        28\n",
            "       557 MONTGOMERY STREET, 11225     26\n",
            "       95 EASTERN PARKWAY, 11238        24\n",
            "11     1912 AVENUE H, 11230             30\n",
            "       557 MONTGOMERY STREET, 11225     27\n",
            "       407 LINCOLN PLACE, 11238         25\n",
            "       95 EASTERN PARKWAY, 11238        18\n",
            "       2131 WALLACE AVENUE, 10462       17\n",
            "12     1912 AVENUE H, 11230             29\n",
            "       41-49 150 STREET, 11355          24\n",
            "       2131 WALLACE AVENUE, 10462       17\n",
            "       651 BROOKLYN AVENUE, 11203       16\n",
            "       1800 POPHAM AVENUE, 10453        16\n",
            "Name: address_zip, dtype: int64\n",
            "\n",
            "Top addresses ZIP code by weekday:\n",
            "weekday                              \n",
            "0        2131 WALLACE AVENUE, 10462      53\n",
            "         651 BROOKLYN AVENUE, 11203      36\n",
            "         95 EASTERN PARKWAY, 11238       31\n",
            "         1690 NELSON AVENUE, 10453       30\n",
            "         557 MONTGOMERY STREET, 11225    27\n",
            "1        2131 WALLACE AVENUE, 10462      59\n",
            "         2486 DAVIDSON AVENUE, 10468     53\n",
            "         95 EASTERN PARKWAY, 11238       31\n",
            "         651 BROOKLYN AVENUE, 11203      26\n",
            "         410 EASTERN PARKWAY, 11225      25\n",
            "2        2131 WALLACE AVENUE, 10462      51\n",
            "         95 EASTERN PARKWAY, 11238       44\n",
            "         557 MONTGOMERY STREET, 11225    28\n",
            "         230 WEST 107 STREET, 10025      26\n",
            "         651 BROOKLYN AVENUE, 11203      24\n",
            "3        95 EASTERN PARKWAY, 11238       54\n",
            "         2131 WALLACE AVENUE, 10462      52\n",
            "         551 WEST 204TH STREET, 10034    27\n",
            "         651 BROOKLYN AVENUE, 11203      27\n",
            "         2486 DAVIDSON AVENUE, 10468     26\n",
            "4        2131 WALLACE AVENUE, 10462      41\n",
            "         95 EASTERN PARKWAY, 11238       32\n",
            "         651 BROOKLYN AVENUE, 11203      23\n",
            "         1912 AVENUE H, 11230            20\n",
            "         407 LINCOLN PLACE, 11238        20\n",
            "5        2486 DAVIDSON AVENUE, 10468     46\n",
            "         95 EASTERN PARKWAY, 11238       34\n",
            "         2131 WALLACE AVENUE, 10462      31\n",
            "         41-49 150 STREET, 11355         22\n",
            "         651 BROOKLYN AVENUE, 11203      20\n",
            "6        41-49 150 STREET, 11355         33\n",
            "         2131 WALLACE AVENUE, 10462      30\n",
            "         95 EASTERN PARKWAY, 11238       30\n",
            "         410 EASTERN PARKWAY, 11225      22\n",
            "         651 BROOKLYN AVENUE, 11203      21\n",
            "Name: address_zip, dtype: int64\n",
            "\n",
            "Top addresses ZIP code by day of the week:\n",
            "day                                 \n",
            "1    407 LINCOLN PLACE, 11238           13\n",
            "     95 EASTERN PARKWAY, 11238          11\n",
            "     2131 WALLACE AVENUE, 10462          8\n",
            "     557 MONTGOMERY STREET, 11225        7\n",
            "     651 BROOKLYN AVENUE, 11203          7\n",
            "                                        ..\n",
            "31   95 EASTERN PARKWAY, 11238           7\n",
            "     651 BROOKLYN AVENUE, 11203          5\n",
            "     15 ARDEN STREET, 10040              4\n",
            "     782 PELHAM PARKWAY SOUTH, 10462     4\n",
            "     27 WEST 96 STREET, 10025            4\n",
            "Name: address_zip, Length: 155, dtype: int64\n",
            "\n",
            "Top addresses ZIP code by hour:\n",
            "hour                                 \n",
            "0     95 EASTERN PARKWAY, 11238          226\n",
            "      2131 WALLACE AVENUE, 10462         203\n",
            "      651 BROOKLYN AVENUE, 11203         146\n",
            "      410 EASTERN PARKWAY, 11225         135\n",
            "      2486 DAVIDSON AVENUE, 10468        127\n",
            "                                        ... \n",
            "23    76 STREET NICHOLAS PLACE, 10032     18\n",
            "      241 WEST 116 STREET, 10026          14\n",
            "      120 WEST 94 STREET, 10025           10\n",
            "      239 WEST 116 STREET, 10026           8\n",
            "      210 WEST 107 STREET, 10025           8\n",
            "Name: address_zip, Length: 120, dtype: int64\n",
            "\n"
          ]
        }
      ],
      "source": [
        "# Top addresses ZIP codes by created date\n",
        "top_addresses_by_created_date = rat1.groupby(['created_date'])['address_zip'].apply(lambda x: x.value_counts().nlargest())\n",
        "\n",
        "# Top addresses ZIP codes by year\n",
        "top_addresses_by_year = rat1.groupby(['year'])['address_zip'].apply(lambda x: x.value_counts().nlargest())\n",
        "# Top addresses ZIP codes by quarter\n",
        "top_addresses_by_quarter = rat1.groupby(['quarter'])['address_zip'].apply(lambda x: x.value_counts().nlargest())\n",
        "\n",
        "# Top addresses ZIP codes by month\n",
        "top_addresses_by_month = rat1.groupby(['month'])['address_zip'].apply(lambda x: x.value_counts().nlargest())\n",
        "# Top addresses ZIP codes by weekday\n",
        "top_addresses_by_weekday = rat1.groupby(['weekday'])['address_zip'].apply(lambda x: x.value_counts().nlargest())\n",
        "\n",
        "# Top addresses ZIP codes by day of the week\n",
        "top_addresses_by_day_of_week = rat1.groupby(['day'])['address_zip'].apply(lambda x: x.value_counts().nlargest())\n",
        "\n",
        "# Top addresses ZIP codes by hour\n",
        "top_addresses_by_hour = rat1.groupby(['hour'])['address_zip'].apply(lambda x: x.value_counts().nlargest())\n",
        "\n",
        "# Display the results\n",
        "print(\"Top addresses ZIP code by created date:\")\n",
        "print(top_addresses_by_created_date)\n",
        "print()\n",
        "\n",
        "print(\"Top addresses ZIP code by year:\")\n",
        "print(top_addresses_by_year)\n",
        "print()\n",
        "\n",
        "print(\"Top addresses ZIP code by quarter:\")\n",
        "print(top_addresses_by_quarter)\n",
        "print()\n",
        "\n",
        "print(\"Top addresses ZIP code by month:\")\n",
        "print(top_addresses_by_month)\n",
        "print()\n",
        "\n",
        "print(\"Top addresses ZIP code by weekday:\")\n",
        "print(top_addresses_by_weekday)\n",
        "print()\n",
        "\n",
        "print(\"Top addresses ZIP code by day of the week:\")\n",
        "print(top_addresses_by_day_of_week)\n",
        "print()\n",
        "\n",
        "print(\"Top addresses ZIP code by hour:\")\n",
        "print(top_addresses_by_hour)\n",
        "print()"
      ]
    },
    {
      "cell_type": "code",
      "execution_count": 128,
      "metadata": {
        "colab": {
          "base_uri": "https://localhost:8080/"
        },
        "id": "7xXbNRxIZcCB",
        "outputId": "b5d3d939-7871-42a3-b128-a773a9509362"
      },
      "outputs": [
        {
          "output_type": "stream",
          "name": "stdout",
          "text": [
            "Top street name by Created Date :\n",
            "created_date         community_board                \n",
            "2010-01-01 08:29:58  03 BROOKLYN            15633803    1\n",
            "2010-01-01 11:20:45  07 QUEENS              15633054    1\n",
            "2010-01-01 12:11:51  10 MANHATTAN           15633896    1\n",
            "2010-01-01 12:12:04  06 BRONX               15633897    1\n",
            "2010-01-01 14:15:27  12 BROOKLYN            15633828    1\n",
            "                                                       ..\n",
            "2023-07-02 23:04:44  02 BROOKLYN            58072108    1\n",
            "2023-07-02 23:27:12  01 QUEENS              58077231    1\n",
            "2023-07-03 00:19:54  10 MANHATTAN           58078235    1\n",
            "2023-07-03 01:08:50  01 MANHATTAN           58075206    1\n",
            "2023-07-03 02:05:32  Unspecified MANHATTAN  58072023    1\n",
            "Name: unique_key, Length: 205636, dtype: int64\n",
            "\n"
          ]
        }
      ],
      "source": [
        "# Top community board\n",
        "top_community_board = rat1.groupby(['created_date', 'community_board'])['unique_key'].apply(lambda x: x.value_counts().nlargest())\n",
        "print(\"Top street name by Created Date :\")\n",
        "print(top_community_board)\n",
        "print()"
      ]
    },
    {
      "cell_type": "code",
      "execution_count": 129,
      "metadata": {
        "colab": {
          "base_uri": "https://localhost:8080/"
        },
        "id": "0Ed8GxphdBmG",
        "outputId": "c8bbebab-b46d-4a6c-83e3-db2c4d1c9044"
      },
      "outputs": [
        {
          "output_type": "stream",
          "name": "stdout",
          "text": [
            "Top Community Boards by year','quarter','month','weekday':\n",
            "year  quarter  month  weekday  community_board     \n",
            "2010  1        1      0        01 BRONX                15647471\n",
            "                               01 BROOKLYN             15704272\n",
            "                               01 QUEENS               15796557\n",
            "                               02 BRONX                15752672\n",
            "                               02 MANHATTAN            15648874\n",
            "                                                         ...   \n",
            "2023  3        7      6        12 MANHATTAN            58070045\n",
            "                               14 BROOKLYN             58074172\n",
            "                               16 BROOKLYN             58064091\n",
            "                               17 BROOKLYN             58078076\n",
            "                               Unspecified BROOKLYN    58071006\n",
            "Name: unique_key, Length: 54869, dtype: int64\n",
            "\n"
          ]
        }
      ],
      "source": [
        "# Top Community Boards by year','quarter','month','weekday'\n",
        "top_cb_yqmw = rat1.groupby(['year','quarter','month','weekday', 'community_board'])['unique_key'].apply(lambda x: x.value_counts().idxmax())\n",
        "\n",
        "print(\"Top Community Boards by year','quarter','month','weekday':\")\n",
        "print(top_cb_yqmw)\n",
        "print()"
      ]
    },
    {
      "cell_type": "code",
      "execution_count": 130,
      "metadata": {
        "colab": {
          "base_uri": "https://localhost:8080/"
        },
        "id": "wSzEhVsQdBmH",
        "outputId": "f0379981-af56-4bd7-a12e-59288afc9b94"
      },
      "outputs": [
        {
          "output_type": "stream",
          "name": "stdout",
          "text": [
            "Top  Community Boards by year...:\n",
            "year  quarter  month  community_board      \n",
            "2010  1        1      01 BRONX                 15637843\n",
            "                      01 BROOKLYN              15686005\n",
            "                      01 MANHATTAN             15668832\n",
            "                      01 QUEENS                15633594\n",
            "                      01 STATEN ISLAND         15678289\n",
            "                                                 ...   \n",
            "2023  3        7      16 BROOKLYN              58063257\n",
            "                      17 BROOKLYN              58053098\n",
            "                      18 BROOKLYN              58066567\n",
            "                      Unspecified BROOKLYN     58071006\n",
            "                      Unspecified MANHATTAN    58065417\n",
            "Name: unique_key, Length: 10218, dtype: int64\n",
            "\n"
          ]
        }
      ],
      "source": [
        "# Top  Community Boards by year','quarter','month'\n",
        "top_cb_yqm = rat1.groupby(['year','quarter','month', 'community_board'])['unique_key'].apply(lambda x: x.value_counts().idxmax())\n",
        "\n",
        "print(\"Top  Community Boards by year...:\")\n",
        "print(top_cb_yqm)\n",
        "print()"
      ]
    },
    {
      "cell_type": "code",
      "execution_count": 131,
      "metadata": {
        "colab": {
          "base_uri": "https://localhost:8080/"
        },
        "id": "r7t3fUVbdBmI",
        "outputId": "cc4f5047-370c-4f7b-9180-8e069064f32e"
      },
      "outputs": [
        {
          "output_type": "stream",
          "name": "stdout",
          "text": [
            "Top  Community Boards by year and quarter.:\n",
            "year  quarter  community_board      \n",
            "2010  1        01 BRONX                 15637843\n",
            "               01 BROOKLYN              15686005\n",
            "               01 MANHATTAN             15668832\n",
            "               01 QUEENS                15633594\n",
            "               01 STATEN ISLAND         15678289\n",
            "                                          ...   \n",
            "2023  3        16 BROOKLYN              58063257\n",
            "               17 BROOKLYN              58053098\n",
            "               18 BROOKLYN              58066567\n",
            "               Unspecified BROOKLYN     58071006\n",
            "               Unspecified MANHATTAN    58065417\n",
            "Name: unique_key, Length: 3519, dtype: int64\n",
            "\n"
          ]
        }
      ],
      "source": [
        "# Top  Community Boards by year','quarter'\n",
        "top_cb_yq = rat1.groupby(['year','quarter', 'community_board'])['unique_key'].apply(lambda x: x.value_counts().idxmax())\n",
        "\n",
        "print(\"Top  Community Boards by year and quarter.:\")\n",
        "print(top_cb_yq)\n",
        "print()"
      ]
    },
    {
      "cell_type": "code",
      "execution_count": 132,
      "metadata": {
        "colab": {
          "base_uri": "https://localhost:8080/"
        },
        "id": "W_Z8uxlwdBmI",
        "outputId": "516282e1-c3ce-4f7c-e8c1-ddec096011f8"
      },
      "outputs": [
        {
          "output_type": "stream",
          "name": "stdout",
          "text": [
            "Top incident address by year and quarter.:\n",
            "year  community_board      \n",
            "2010  01 BRONX                 15637843\n",
            "      01 BROOKLYN              15686005\n",
            "      01 MANHATTAN             15668832\n",
            "      01 QUEENS                15633594\n",
            "      01 STATEN ISLAND         15678289\n",
            "                                 ...   \n",
            "2023  81 QUEENS                57763929\n",
            "      Unspecified BRONX        56508551\n",
            "      Unspecified BROOKLYN     56879053\n",
            "      Unspecified MANHATTAN    56694195\n",
            "      Unspecified QUEENS       56438436\n",
            "Name: unique_key, Length: 922, dtype: int64\n",
            "\n"
          ]
        }
      ],
      "source": [
        "# Top incident address by year\n",
        "top_cb_y = rat1.groupby(['year', 'community_board'])['unique_key'].apply(lambda x: x.value_counts().idxmax())\n",
        "\n",
        "print(\"Top incident address by year and quarter.:\")\n",
        "print(top_cb_y)\n",
        "print()"
      ]
    },
    {
      "cell_type": "code",
      "execution_count": 133,
      "metadata": {
        "id": "MEmQmfjm_JqS"
      },
      "outputs": [],
      "source": [
        "# Create a new column combining 'Community board'\"incident_address\" and \"incident_zip\"\n",
        "rat1['CB_address_zip'] = rat1['community_board'] + ', ' + rat1['incident_address'] + ', ' + rat1['incident_zips']"
      ]
    },
    {
      "cell_type": "code",
      "execution_count": 134,
      "metadata": {
        "colab": {
          "base_uri": "https://localhost:8080/"
        },
        "id": "cmIkyrJSXhqx",
        "outputId": "63fcf3b0-20a9-4b20-9586-28f69ee5ecfc"
      },
      "outputs": [
        {
          "output_type": "stream",
          "name": "stdout",
          "text": [
            "Top incident address by 'year','quarter','month', day, 'weekday'\n",
            "year  created_date         CB_address_zip                              \n",
            "2010  2010-01-01 08:29:58  03 BROOKLYN, 202 PULASKI STREET, 11206          15633803\n",
            "      2010-01-01 11:20:45  07 QUEENS, 59-13 159 STREET, 11365              15633054\n",
            "      2010-01-01 12:11:51  10 MANHATTAN, 317 WEST 120 STREET, 10027        15633896\n",
            "      2010-01-01 12:12:04  06 BRONX, 2356 LORILLARD PLACE, 10458           15633897\n",
            "      2010-01-01 14:15:27  12 BROOKLYN, 900 CONEY ISLAND AVENUE, 11218     15633828\n",
            "                                                                             ...   \n",
            "2023  2023-07-02 23:04:44  02 BROOKLYN, 134 MONTAGUE STREET, 11201         58072108\n",
            "      2023-07-02 23:27:12  01 QUEENS, 34-20 32 STREET, 11106               58077231\n",
            "      2023-07-03 00:19:54  10 MANHATTAN, 3 WEST 137 STREET, 10037          58078235\n",
            "      2023-07-03 01:08:50  01 MANHATTAN, PARK ROW, 10038                   58075206\n",
            "      2023-07-03 02:05:32  Unspecified MANHATTAN, EAST 73 STREET, 10021    58072023\n",
            "Name: unique_key, Length: 206176, dtype: int64\n",
            "\n"
          ]
        }
      ],
      "source": [
        "# Top incident address by 'year','quarter','month', day, 'weekday'\n",
        "top_addresses = rat1.groupby(['year','created_date','CB_address_zip'])['unique_key'].apply(lambda x: x.value_counts().idxmax())\n",
        "\n",
        "print(\"Top incident address by 'year','quarter','month', day, 'weekday'\")\n",
        "print(top_addresses)\n",
        "print()"
      ]
    },
    {
      "cell_type": "code",
      "execution_count": 135,
      "metadata": {
        "colab": {
          "base_uri": "https://localhost:8080/"
        },
        "id": "4JQMb4gFQmHc",
        "outputId": "199a9ada-14f4-44f6-b000-fe7c4b52bf92"
      },
      "outputs": [
        {
          "output_type": "stream",
          "name": "stdout",
          "text": [
            "Top incident address by year','quarter','month','weekday':\n",
            "year  quarter  month  weekday  CB_address_zip                         \n",
            "2010  1        1      0        01 BRONX, 574 EAST 156 STREET, 10455       15797681\n",
            "                               01 BRONX, 751 TRINITY AVENUE, 10456        15647471\n",
            "                               01 BROOKLYN, 417 FLUSHING AVENUE, 11205    15704272\n",
            "                               01 QUEENS, 38-04 BROADWAY, 11103           15796557\n",
            "                               02 BRONX, 956 ROGERS PLACE, 10459          15752672\n",
            "                                                                            ...   \n",
            "2023  3        7      6        14 BROOKLYN, 217 EAST 19 STREET, 11226     58074172\n",
            "                               14 BROOKLYN, 380 RUGBY ROAD, 11226         58073157\n",
            "                               16 BROOKLYN, 518 CHAUNCEY STREET, 11233    58064091\n",
            "                               17 BROOKLYN, 9506 AVENUE A, 11236          58078076\n",
            "                               Unspecified BROOKLYN, BROADWAY, 11211      58071006\n",
            "Name: unique_key, Length: 198797, dtype: int64\n",
            "\n"
          ]
        }
      ],
      "source": [
        "# Top incident address by year','quarter','month','weekday'\n",
        "top_addresses_yqmw = rat1.groupby(['year','quarter','month','weekday', 'CB_address_zip'])['unique_key'].apply(lambda x: x.value_counts().idxmax())\n",
        "\n",
        "print(\"Top incident address by year','quarter','month','weekday':\")\n",
        "print(top_addresses_yqmw)\n",
        "print()"
      ]
    },
    {
      "cell_type": "code",
      "execution_count": 136,
      "metadata": {
        "colab": {
          "base_uri": "https://localhost:8080/"
        },
        "id": "weSEKsWd8f_a",
        "outputId": "d6d6fb39-aecc-4fed-e089-a8ec1e5ce816"
      },
      "outputs": [
        {
          "output_type": "stream",
          "name": "stdout",
          "text": [
            "Top incident address by year...:\n",
            "year  quarter  month  CB_address_zip                              \n",
            "2010  1        1      01 BRONX, 409 EAST 154 STREET, 10455            15793704\n",
            "                      01 BRONX, 539 EAST 147 STREET, 10455            15807087\n",
            "                      01 BRONX, 574 EAST 156 STREET, 10455            15797681\n",
            "                      01 BRONX, 610 TRINITY AVENUE, 10455             15732257\n",
            "                      01 BRONX, 732 UNION AVENUE, 10455               15637843\n",
            "                                                                        ...   \n",
            "2023  3        7      17 BROOKLYN, 9506 AVENUE A, 11236               58078076\n",
            "                      18 BROOKLYN, 5803 AVENUE T, 11234               58066567\n",
            "                      Unspecified BROOKLYN, BROADWAY, 11211           58071006\n",
            "                      Unspecified MANHATTAN, EAST 73 STREET, 10021    58072023\n",
            "                      Unspecified MANHATTAN, EAST 87 STREET, 10128    58065417\n",
            "Name: unique_key, Length: 180660, dtype: int64\n",
            "\n"
          ]
        }
      ],
      "source": [
        "# Top incident address by year','quarter','month'\n",
        "top_addresses_yqm = rat1.groupby(['year','quarter','month','CB_address_zip'])['unique_key'].apply(lambda x: x.value_counts().idxmax())\n",
        "\n",
        "print(\"Top incident address by year...:\")\n",
        "print(top_addresses_yqm)\n",
        "print()"
      ]
    },
    {
      "cell_type": "code",
      "execution_count": 137,
      "metadata": {
        "colab": {
          "base_uri": "https://localhost:8080/"
        },
        "id": "KRGVvVM3Qmeg",
        "outputId": "cceaadfb-6c99-4e94-9a2e-5d8308406174"
      },
      "outputs": [
        {
          "output_type": "stream",
          "name": "stdout",
          "text": [
            "Top incident address by year and quarter.:\n",
            "year  quarter  CB_address_zip                              \n",
            "2010  1        01 BRONX, 2870 3 AVENUE, 10455                  16218966\n",
            "               01 BRONX, 301 MORRIS AVENUE, 10451              16298023\n",
            "               01 BRONX, 325 CYPRESS AVENUE, 10454             16155713\n",
            "               01 BRONX, 390 EAST 153 STREET, 10455            16091091\n",
            "               01 BRONX, 409 EAST 154 STREET, 10455            15793704\n",
            "                                                                 ...   \n",
            "2023  3        17 BROOKLYN, 9506 AVENUE A, 11236               58078076\n",
            "               18 BROOKLYN, 5803 AVENUE T, 11234               58066567\n",
            "               Unspecified BROOKLYN, BROADWAY, 11211           58071006\n",
            "               Unspecified MANHATTAN, EAST 73 STREET, 10021    58072023\n",
            "               Unspecified MANHATTAN, EAST 87 STREET, 10128    58065417\n",
            "Name: unique_key, Length: 166971, dtype: int64\n",
            "\n"
          ]
        }
      ],
      "source": [
        "# Top incident address by year','quarter'\n",
        "top_addresses_yq = rat1.groupby(['year','quarter', 'CB_address_zip'])['unique_key'].apply(lambda x: x.value_counts().idxmax())\n",
        "\n",
        "print(\"Top incident address by year and quarter.:\")\n",
        "print(top_addresses_yq)\n",
        "print()"
      ]
    },
    {
      "cell_type": "code",
      "execution_count": 138,
      "metadata": {
        "colab": {
          "base_uri": "https://localhost:8080/"
        },
        "id": "b99vXnIWaZKt",
        "outputId": "eb6b1fda-2e15-49af-e155-d0447ffd6017"
      },
      "outputs": [
        {
          "output_type": "stream",
          "name": "stdout",
          "text": [
            "Top incident address by year and quarter.:\n",
            "year  CB_address_zip                                \n",
            "2010  01 BRONX, 147 BRUCKNER BOULEVARD, 10454           18492802\n",
            "      01 BRONX, 225 STREET ANNS AVENUE, 10454           16664134\n",
            "      01 BRONX, 231 BROOK AVENUE, 10454                 17605458\n",
            "      01 BRONX, 272 MORRIS AVENUE, 10451                18592170\n",
            "      01 BRONX, 281 STREET ANN'SOUTH AVENUE, 10454      19226483\n",
            "                                                          ...   \n",
            "2023  Unspecified QUEENS, 41 STREET, 11103              56438436\n",
            "      Unspecified QUEENS, 47 AVENUE, 11101              57569401\n",
            "      Unspecified QUEENS, 57 ROAD, 11378                57708223\n",
            "      Unspecified QUEENS, 65 PLACE, 11385               57001209\n",
            "      Unspecified QUEENS, METROPOLITAN AVENUE, 11379    57767921\n",
            "Name: unique_key, Length: 147796, dtype: int64\n",
            "\n"
          ]
        }
      ],
      "source": [
        "# Top incident address by year\n",
        "top_addresses_y = rat1.groupby(['year', 'CB_address_zip'])['unique_key'].apply(lambda x: x.value_counts().idxmax())\n",
        "\n",
        "print(\"Top incident address by year and quarter.:\")\n",
        "print(top_addresses_y)\n",
        "print()"
      ]
    },
    {
      "cell_type": "code",
      "execution_count": 139,
      "metadata": {
        "id": "bYM4YUhdfu8S"
      },
      "outputs": [],
      "source": [
        "top_addresses_y = top_addresses_y.reset_index()"
      ]
    },
    {
      "cell_type": "code",
      "execution_count": 140,
      "metadata": {
        "id": "30lI5oqffdz2"
      },
      "outputs": [],
      "source": [
        "top_addresses_yq_df = top_addresses_yq.reset_index()"
      ]
    },
    {
      "cell_type": "code",
      "execution_count": 141,
      "metadata": {
        "id": "Zk4Sz7gNYhwu"
      },
      "outputs": [],
      "source": [
        "top_10_unique_addresses = rat1['incident_address'].value_counts().nlargest(10).index.tolist()"
      ]
    },
    {
      "cell_type": "code",
      "execution_count": 142,
      "metadata": {
        "colab": {
          "base_uri": "https://localhost:8080/"
        },
        "id": "ly2buaw3kiP4",
        "outputId": "61948a22-c65f-4a6e-9334-05d3799caf83"
      },
      "outputs": [
        {
          "output_type": "execute_result",
          "data": {
            "text/plain": [
              "['2131 WALLACE AVENUE',\n",
              " '95 EASTERN PARKWAY',\n",
              " '651 BROOKLYN AVENUE',\n",
              " '410 EASTERN PARKWAY',\n",
              " '2486 DAVIDSON AVENUE',\n",
              " '1912 AVENUE H',\n",
              " 'BROADWAY',\n",
              " '41-49 150 STREET',\n",
              " '557 MONTGOMERY STREET',\n",
              " '60 WEST 142 STREET']"
            ]
          },
          "metadata": {},
          "execution_count": 142
        }
      ],
      "source": [
        "top_10_unique_addresses"
      ]
    },
    {
      "cell_type": "markdown",
      "source": [
        "##DATEDIF"
      ],
      "metadata": {
        "id": "8TI3jIzpkR18"
      }
    },
    {
      "cell_type": "code",
      "source": [
        "#Converting the date column to its specified data type\n",
        "rat1['created_date'] = pd.to_datetime(rat1['created_date'], errors='coerce').dt.date\n",
        "rat1['closed_date'] = pd.to_datetime(rat1['closed_date'], errors='coerce').dt.date"
      ],
      "metadata": {
        "id": "8ch9-iuVkWnQ"
      },
      "execution_count": 156,
      "outputs": []
    },
    {
      "cell_type": "code",
      "source": [
        "# Calculate the duration between 'created_date' and 'closed_date' and assign it to 'duration' column\n",
        "rat1['duration'] = rat1['closed_date'] - rat1['created_date']\n",
        "\n",
        "# Replace NaT values in 'duration' column with zeros\n",
        "rat1['duration'] = rat1['duration'].fillna(pd.Timedelta(0))\n",
        "\n",
        "# Convert duration from nanoseconds to days\n",
        "rat1['duration'] = (rat1['duration'] / pd.Timedelta(days=1)).astype(int)\n",
        "\n",
        "# Display the updated DataFrame\n",
        "print(rat1)"
      ],
      "metadata": {
        "colab": {
          "base_uri": "https://localhost:8080/"
        },
        "id": "SeTmOhK2NbPC",
        "outputId": "efe5eade-874d-48b6-9eeb-60f430a04742"
      },
      "execution_count": 161,
      "outputs": [
        {
          "output_type": "stream",
          "name": "stdout",
          "text": [
            "        unique_key created_date                due_date closed_date  \\\n",
            "204684    15633803   2010-01-01  01/31/2010 08:29:58 AM         NaN   \n",
            "173104    15633054   2010-01-01  01/31/2010 11:20:45 AM         NaN   \n",
            "172919    15633896   2010-01-01  01/31/2010 12:11:51 PM         NaN   \n",
            "61527     15633897   2010-01-01  01/31/2010 12:12:04 PM         NaN   \n",
            "175959    15633828   2010-01-01  01/31/2010 02:15:27 PM         NaN   \n",
            "...            ...          ...                     ...         ...   \n",
            "41958     58072108   2023-07-02                     NaN         NaN   \n",
            "62070     58077231   2023-07-02                     NaN         NaN   \n",
            "162028    58078235   2023-07-03                     NaN         NaN   \n",
            "150125    58075206   2023-07-03                     NaN         NaN   \n",
            "62487     58072023   2023-07-03                     NaN         NaN   \n",
            "\n",
            "                  location_type    borough  incident_zip  \\\n",
            "204684  3+ Family Apt. Building   BROOKLYN         11206   \n",
            "173104      1-2 Family Dwelling     QUEENS         11365   \n",
            "172919  3+ Family Apt. Building  MANHATTAN         10027   \n",
            "61527   3+ Family Apt. Building      BRONX         10458   \n",
            "175959          Vacant Building   BROOKLYN         11218   \n",
            "...                         ...        ...           ...   \n",
            "41958         Construction Site   BROOKLYN         11201   \n",
            "62070   3+ Family Apt. Building     QUEENS         11106   \n",
            "162028  3+ Family Apt. Building  MANHATTAN         10037   \n",
            "150125    Other (Explain Below)  MANHATTAN         10038   \n",
            "62487     Other (Explain Below)  MANHATTAN         10021   \n",
            "\n",
            "              community_board           city         incident_address  ...  \\\n",
            "204684            03 BROOKLYN       BROOKLYN       202 PULASKI STREET  ...   \n",
            "173104              07 QUEENS  FRESH MEADOWS         59-13 159 STREET  ...   \n",
            "172919           10 MANHATTAN  NEW YORK CITY      317 WEST 120 STREET  ...   \n",
            "61527                06 BRONX          BRONX     2356 LORILLARD PLACE  ...   \n",
            "175959            12 BROOKLYN       BROOKLYN  900 CONEY ISLAND AVENUE  ...   \n",
            "...                       ...            ...                      ...  ...   \n",
            "41958             02 BROOKLYN       BROOKLYN      134 MONTAGUE STREET  ...   \n",
            "62070               01 QUEENS        ASTORIA          34-20 32 STREET  ...   \n",
            "162028           10 MANHATTAN  NEW YORK CITY        3 WEST 137 STREET  ...   \n",
            "150125           01 MANHATTAN            NaN                 PARK ROW  ...   \n",
            "62487   Unspecified MANHATTAN            NaN           EAST 73 STREET  ...   \n",
            "\n",
            "        year quarter month weekday day hour incident_zips  \\\n",
            "204684  2010       1     1       4   1    8         11206   \n",
            "173104  2010       1     1       4   1   11         11365   \n",
            "172919  2010       1     1       4   1   12         10027   \n",
            "61527   2010       1     1       4   1   12         10458   \n",
            "175959  2010       1     1       4   1   14         11218   \n",
            "...      ...     ...   ...     ...  ..  ...           ...   \n",
            "41958   2023       3     7       6   2   23         11201   \n",
            "62070   2023       3     7       6   2   23         11106   \n",
            "162028  2023       3     7       0   3    0         10037   \n",
            "150125  2023       3     7       0   3    1         10038   \n",
            "62487   2023       3     7       0   3    2         10021   \n",
            "\n",
            "                           address_zip  \\\n",
            "204684       202 PULASKI STREET, 11206   \n",
            "173104         59-13 159 STREET, 11365   \n",
            "172919      317 WEST 120 STREET, 10027   \n",
            "61527      2356 LORILLARD PLACE, 10458   \n",
            "175959  900 CONEY ISLAND AVENUE, 11218   \n",
            "...                                ...   \n",
            "41958       134 MONTAGUE STREET, 11201   \n",
            "62070           34-20 32 STREET, 11106   \n",
            "162028        3 WEST 137 STREET, 10037   \n",
            "150125                 PARK ROW, 10038   \n",
            "62487            EAST 73 STREET, 10021   \n",
            "\n",
            "                                      CB_address_zip  duration  \n",
            "204684        03 BROOKLYN, 202 PULASKI STREET, 11206         0  \n",
            "173104            07 QUEENS, 59-13 159 STREET, 11365         0  \n",
            "172919      10 MANHATTAN, 317 WEST 120 STREET, 10027         0  \n",
            "61527          06 BRONX, 2356 LORILLARD PLACE, 10458         0  \n",
            "175959   12 BROOKLYN, 900 CONEY ISLAND AVENUE, 11218         0  \n",
            "...                                              ...       ...  \n",
            "41958        02 BROOKLYN, 134 MONTAGUE STREET, 11201         0  \n",
            "62070              01 QUEENS, 34-20 32 STREET, 11106         0  \n",
            "162028        10 MANHATTAN, 3 WEST 137 STREET, 10037         0  \n",
            "150125                 01 MANHATTAN, PARK ROW, 10038         0  \n",
            "62487   Unspecified MANHATTAN, EAST 73 STREET, 10021         0  \n",
            "\n",
            "[210120 rows x 39 columns]\n"
          ]
        }
      ]
    },
    {
      "cell_type": "code",
      "source": [
        "rat1['duration'].unique()"
      ],
      "metadata": {
        "colab": {
          "base_uri": "https://localhost:8080/"
        },
        "id": "dHaSPSdDaGUW",
        "outputId": "b05681e0-d03c-424a-850e-a4d2ab8b1a32"
      },
      "execution_count": 162,
      "outputs": [
        {
          "output_type": "execute_result",
          "data": {
            "text/plain": [
              "array([     0,     64,     11,     42,      7,     20,     29,     14,\n",
              "           13,     21,     47,      5,     15,     40,      1,     77,\n",
              "            8,      6,     33,     36,     74,     10,     18,     12,\n",
              "           19,     48,     25,     63,     45,      4,      9,     17,\n",
              "            3,      2,     31,     24,     16,     34,     27,     92,\n",
              "           30,     41,     22,     38,     23,     50,    132,     58,\n",
              "          191,    166,     65,     84,     35,     69,    179,     89,\n",
              "           28,     82,     39,    150,     81,     46,     66,     26,\n",
              "          160,    181,    130,    178,     32,     43,    105,    233,\n",
              "          100,     83,     79,     99,    176,    173,    253,    244,\n",
              "          303,     51,    208,     49,     86,    131,    188,     76,\n",
              "           70,    124,     59,     54,     56,     55,    113,     52,\n",
              "          141,     37,     62,    140,     75,     53,     88,     93,\n",
              "           44,     67,    195,    162,    119,    279,    106,    146,\n",
              "          239,    284,    104,     68,    156,    236,    198,    235,\n",
              "          142,    274,     87,    171,    108,    238,     80,    102,\n",
              "           91,    112,    231,    230,    103,     61,     94,     73,\n",
              "          227,     72,    226,    271,    180,    225,    118,    117,\n",
              "          186,     95,    210,     71,     98,    111,     96,    125,\n",
              "          109,    110,     57,    144,    213,     90,    165,    101,\n",
              "           60,    169,    204,    203,    378,    202,    201,     78,\n",
              "          197,    377,    376,    196,    375,     85,    115,    114,\n",
              "          107,    174,    356,    351,    344,    175,    215,    346,\n",
              "          347,    343,    470,    345,    341,    168,    468,    338,\n",
              "          337,    163,    335,    123,    331,    154,    137,    312,\n",
              "          310,    301,    297,    296,    126,    291,    147,    280,\n",
              "          148,    138,    127,    218,    207,    149,    182,    120,\n",
              "          167,    128,    161,    121,    152,    134,     97,    129,\n",
              "          184,    192,    157,    133,    122,    187,    278,    136,\n",
              "          143,    116,    250,    159, -41286,     -7,    -11,    -51,\n",
              "          -29,     -5,    -13,     -2,     -8,    568,    -81,     -4,\n",
              "          543,    158,    538,    -10,     -6,    268,     -3,    -14,\n",
              "          -63,    -21,    -40,    -34,    183,    229,    -44,    -54,\n",
              "          -45,    139,     -9,    -74,    -16,    -33,    -12,    -31,\n",
              "          -32,    -20,    -22,    -30,    -19,    -15,    -25,    410,\n",
              "          -24,    -17,    399,    -28,    -26,    -36,    135,    -23,\n",
              "          -41,    219,    211,    -48,    -27,    -49, -42346,    -65,\n",
              "          -47,    -68,    477,    445,    442,    440,    411,    428,\n",
              "          425,    418,    414,    400,    388,    387,    206,    -37,\n",
              "          245,    240,    -52,    -53,    -58,    -60,    -64,    -66,\n",
              "          567,    545,    517,    504, -42872,    522,    -18,    489,\n",
              "          488,    485,    484,    618,    615,    591,    589,    586,\n",
              "          542,    540,    531,    529,    523,    509,    -35,    -82,\n",
              "          465,    237,    463,    459,  -6208,    434,    429,    422,\n",
              "          450,    415,    406,    401,    398,    390,    382,    380,\n",
              "          372,    365,    366,    362,    361,    353,    340,    336,\n",
              "          330,    324,    317,    314,    287,    267,    266,    265,\n",
              "          259,    246,    437,    385,    368,    172,    155,    153,\n",
              "          151,    145,  -6710,  -6711,  -6712,     -1,    503,    495,\n",
              "          460,    815,    273,    272,    224,    264,    257,    209,\n",
              "          234,    249,    222,    214,    217,    205,    228,    221,\n",
              "          199,    164,    194,    200,    190,    177,    189,    185,\n",
              "          170,    276,    275,    269,    262,    193,    223,    299,\n",
              "          389,    424,    407,    212, -44459])"
            ]
          },
          "metadata": {},
          "execution_count": 162
        }
      ]
    },
    {
      "cell_type": "code",
      "execution_count": 147,
      "metadata": {
        "colab": {
          "base_uri": "https://localhost:8080/",
          "height": 523
        },
        "id": "h-Pi6Q7WW55l",
        "outputId": "e07cf736-33cf-48aa-e418-5fb2c97ded4c"
      },
      "outputs": [
        {
          "output_type": "display_data",
          "data": {
            "text/plain": [
              "<Figure size 1000x600 with 1 Axes>"
            ],
            "image/png": "[encoded data removed]"
          },
          "metadata": {}
        }
      ],
      "source": [
        "# Top incident address by year\n",
        "# Limit top CB_address_zip values to 5 per year\n",
        "top_addresses_y_filtered = top_addresses_y.groupby('year').head(5)\n",
        "\n",
        "# Plot the countplot\n",
        "plt.figure(figsize=(10, 6))\n",
        "sns.countplot(data=top_addresses_y_filtered, x='CB_address_zip')\n",
        "plt.xlabel('Incident Address')\n",
        "plt.ylabel('Count')\n",
        "plt.title('Top Incident Addresses by Year (Limited to 5 per Year)')\n",
        "plt.xticks(rotation=45)\n",
        "plt.show()\n"
      ]
    },
    {
      "cell_type": "code",
      "execution_count": 148,
      "metadata": {
        "colab": {
          "base_uri": "https://localhost:8080/",
          "height": 500
        },
        "id": "e3f9TNa1oS6K",
        "outputId": "42fb9360-4b6d-454c-f3aa-dccaf0587731"
      },
      "outputs": [
        {
          "output_type": "error",
          "ename": "NameError",
          "evalue": "ignored",
          "traceback": [
            "\u001b[0;31m---------------------------------------------------------------------------\u001b[0m",
            "\u001b[0;31mNameError\u001b[0m                                 Traceback (most recent call last)",
            "\u001b[0;32m<ipython-input-148-c0b98091cd21>\u001b[0m in \u001b[0;36m<cell line: 6>\u001b[0;34m()\u001b[0m\n\u001b[1;32m      4\u001b[0m \u001b[0;31m# Plot the top incident ZIP codes by created date\u001b[0m\u001b[0;34m\u001b[0m\u001b[0;34m\u001b[0m\u001b[0m\n\u001b[1;32m      5\u001b[0m \u001b[0mplt\u001b[0m\u001b[0;34m.\u001b[0m\u001b[0msubplot\u001b[0m\u001b[0;34m(\u001b[0m\u001b[0;36m2\u001b[0m\u001b[0;34m,\u001b[0m \u001b[0;36m3\u001b[0m\u001b[0;34m,\u001b[0m \u001b[0;36m1\u001b[0m\u001b[0;34m)\u001b[0m\u001b[0;34m\u001b[0m\u001b[0;34m\u001b[0m\u001b[0m\n\u001b[0;32m----> 6\u001b[0;31m \u001b[0mtop_zip_by_created_date\u001b[0m\u001b[0;34m.\u001b[0m\u001b[0mplot\u001b[0m\u001b[0;34m(\u001b[0m\u001b[0mkind\u001b[0m\u001b[0;34m=\u001b[0m\u001b[0;34m'line'\u001b[0m\u001b[0;34m)\u001b[0m\u001b[0;34m\u001b[0m\u001b[0;34m\u001b[0m\u001b[0m\n\u001b[0m\u001b[1;32m      7\u001b[0m \u001b[0mplt\u001b[0m\u001b[0;34m.\u001b[0m\u001b[0mxlabel\u001b[0m\u001b[0;34m(\u001b[0m\u001b[0;34m'Created Date'\u001b[0m\u001b[0;34m)\u001b[0m\u001b[0;34m\u001b[0m\u001b[0;34m\u001b[0m\u001b[0m\n\u001b[1;32m      8\u001b[0m \u001b[0mplt\u001b[0m\u001b[0;34m.\u001b[0m\u001b[0mylabel\u001b[0m\u001b[0;34m(\u001b[0m\u001b[0;34m'Incident ZIP Code'\u001b[0m\u001b[0;34m)\u001b[0m\u001b[0;34m\u001b[0m\u001b[0;34m\u001b[0m\u001b[0m\n",
            "\u001b[0;31mNameError\u001b[0m: name 'top_zip_by_created_date' is not defined"
          ]
        },
        {
          "output_type": "display_data",
          "data": {
            "text/plain": [
              "<Figure size 1200x600 with 1 Axes>"
            ],
            "image/png": "[encoded data removed]"
          },
          "metadata": {}
        }
      ],
      "source": [
        "# Set the figure size\n",
        "plt.figure(figsize=(12, 6))\n",
        "\n",
        "# Plot the top incident ZIP codes by created date\n",
        "plt.subplot(2, 3, 1)\n",
        "top_zip_by_created_date.plot(kind='line')\n",
        "plt.xlabel('Created Date')\n",
        "plt.ylabel('Incident ZIP Code')\n",
        "plt.title('Top Incident ZIP Codes by Created Date')\n",
        "plt.xticks(rotation=45)\n",
        "# Plot the top incident ZIP codes by year\n",
        "plt.subplot(2, 3, 2)\n",
        "top_zip_by_year.plot(kind='line')\n",
        "plt.xlabel('Year')\n",
        "plt.ylabel('Incident ZIP Code')\n",
        "plt.title('Top Incident ZIP Codes by Year')\n",
        "plt.xticks(rotation=45)\n",
        "# Plot the top incident ZIP codes by quarter\n",
        "plt.subplot(2, 3, 3)\n",
        "top_zip_by_quarter.plot(kind='bar')\n",
        "plt.xlabel('Quarter')\n",
        "plt.ylabel('Incident ZIP Code')\n",
        "plt.title('Top Incident ZIP Codes by Quarter')\n",
        "plt.xticks(rotation=45)\n",
        "# Plot the top incident ZIP codes by month\n",
        "plt.subplot(2, 3, 4)\n",
        "top_zip_by_month.plot(kind='line')\n",
        "plt.xlabel('Month')\n",
        "plt.ylabel('Incident ZIP Code')\n",
        "plt.title('Top Incident ZIP Codes by Month')\n",
        "plt.xticks(rotation=45)\n",
        "# Plot the top incident ZIP codes by weekday\n",
        "plt.subplot(2, 3, 5)\n",
        "top_zip_by_weekday.plot(kind='line')\n",
        "plt.xlabel('Weekday')\n",
        "plt.ylabel('Incident ZIP Code')\n",
        "plt.title('Top Incident ZIP Codes by Weekday')\n",
        "plt.xticks(rotation=45)\n",
        "# Plot the top incident ZIP codes by hour\n",
        "plt.subplot(2, 3, 6)\n",
        "top_zip_by_hour.plot(kind='line')\n",
        "plt.xlabel('Hour')\n",
        "plt.ylabel('Incident ZIP Code')\n",
        "plt.title('Top Incident ZIP Codes by Hour')\n",
        "plt.xticks(rotation=45)\n",
        "\n",
        "\n",
        "# Adjust the layout\n",
        "plt.tight_layout()\n",
        "\n",
        "# Display the plots\n",
        "plt.show()"
      ]
    },
    {
      "cell_type": "code",
      "execution_count": 149,
      "metadata": {
        "colab": {
          "base_uri": "https://localhost:8080/",
          "height": 451
        },
        "id": "eGPN4zC2-Mbs",
        "outputId": "41aae477-e17a-4935-af6f-4b86e135cc9d"
      },
      "outputs": [
        {
          "output_type": "error",
          "ename": "ValueError",
          "evalue": "ignored",
          "traceback": [
            "\u001b[0;31m---------------------------------------------------------------------------\u001b[0m",
            "\u001b[0;31mValueError\u001b[0m                                Traceback (most recent call last)",
            "\u001b[0;32m<ipython-input-149-01819d9e595f>\u001b[0m in \u001b[0;36m<cell line: 8>\u001b[0;34m()\u001b[0m\n\u001b[1;32m      6\u001b[0m \u001b[0;31m# Plot the count of incident ZIP codes by year, month, and community board\u001b[0m\u001b[0;34m\u001b[0m\u001b[0;34m\u001b[0m\u001b[0m\n\u001b[1;32m      7\u001b[0m \u001b[0mplt\u001b[0m\u001b[0;34m.\u001b[0m\u001b[0mfigure\u001b[0m\u001b[0;34m(\u001b[0m\u001b[0mfigsize\u001b[0m\u001b[0;34m=\u001b[0m\u001b[0;34m(\u001b[0m\u001b[0;36m12\u001b[0m\u001b[0;34m,\u001b[0m \u001b[0;36m6\u001b[0m\u001b[0;34m)\u001b[0m\u001b[0;34m)\u001b[0m\u001b[0;34m\u001b[0m\u001b[0;34m\u001b[0m\u001b[0m\n\u001b[0;32m----> 8\u001b[0;31m \u001b[0msns\u001b[0m\u001b[0;34m.\u001b[0m\u001b[0mcountplot\u001b[0m\u001b[0;34m(\u001b[0m\u001b[0mdata\u001b[0m\u001b[0;34m=\u001b[0m\u001b[0mfiltered_top_addresses_df\u001b[0m\u001b[0;34m,\u001b[0m \u001b[0mx\u001b[0m\u001b[0;34m=\u001b[0m\u001b[0;34m'year'\u001b[0m\u001b[0;34m,\u001b[0m \u001b[0mhue\u001b[0m\u001b[0;34m=\u001b[0m\u001b[0;34m'community_board'\u001b[0m\u001b[0;34m,\u001b[0m \u001b[0mpalette\u001b[0m\u001b[0;34m=\u001b[0m\u001b[0;34m'viridis'\u001b[0m\u001b[0;34m)\u001b[0m\u001b[0;34m\u001b[0m\u001b[0;34m\u001b[0m\u001b[0m\n\u001b[0m\u001b[1;32m      9\u001b[0m \u001b[0;34m\u001b[0m\u001b[0m\n\u001b[1;32m     10\u001b[0m \u001b[0;31m# Set the axis labels and title\u001b[0m\u001b[0;34m\u001b[0m\u001b[0;34m\u001b[0m\u001b[0m\n",
            "\u001b[0;32m/usr/local/lib/python3.10/dist-packages/seaborn/categorical.py\u001b[0m in \u001b[0;36mcountplot\u001b[0;34m(data, x, y, hue, order, hue_order, orient, color, palette, saturation, width, dodge, ax, **kwargs)\u001b[0m\n\u001b[1;32m   2941\u001b[0m         \u001b[0;32mraise\u001b[0m \u001b[0mValueError\u001b[0m\u001b[0;34m(\u001b[0m\u001b[0;34m\"Cannot pass values for both `x` and `y`\"\u001b[0m\u001b[0;34m)\u001b[0m\u001b[0;34m\u001b[0m\u001b[0;34m\u001b[0m\u001b[0m\n\u001b[1;32m   2942\u001b[0m \u001b[0;34m\u001b[0m\u001b[0m\n\u001b[0;32m-> 2943\u001b[0;31m     plotter = _CountPlotter(\n\u001b[0m\u001b[1;32m   2944\u001b[0m         \u001b[0mx\u001b[0m\u001b[0;34m,\u001b[0m \u001b[0my\u001b[0m\u001b[0;34m,\u001b[0m \u001b[0mhue\u001b[0m\u001b[0;34m,\u001b[0m \u001b[0mdata\u001b[0m\u001b[0;34m,\u001b[0m \u001b[0morder\u001b[0m\u001b[0;34m,\u001b[0m \u001b[0mhue_order\u001b[0m\u001b[0;34m,\u001b[0m\u001b[0;34m\u001b[0m\u001b[0;34m\u001b[0m\u001b[0m\n\u001b[1;32m   2945\u001b[0m         \u001b[0mestimator\u001b[0m\u001b[0;34m,\u001b[0m \u001b[0merrorbar\u001b[0m\u001b[0;34m,\u001b[0m \u001b[0mn_boot\u001b[0m\u001b[0;34m,\u001b[0m \u001b[0munits\u001b[0m\u001b[0;34m,\u001b[0m \u001b[0mseed\u001b[0m\u001b[0;34m,\u001b[0m\u001b[0;34m\u001b[0m\u001b[0;34m\u001b[0m\u001b[0m\n",
            "\u001b[0;32m/usr/local/lib/python3.10/dist-packages/seaborn/categorical.py\u001b[0m in \u001b[0;36m__init__\u001b[0;34m(self, x, y, hue, data, order, hue_order, estimator, errorbar, n_boot, units, seed, orient, color, palette, saturation, width, errcolor, errwidth, capsize, dodge)\u001b[0m\n\u001b[1;32m   1528\u001b[0m                  errcolor, errwidth, capsize, dodge):\n\u001b[1;32m   1529\u001b[0m         \u001b[0;34m\"\"\"Initialize the plotter.\"\"\"\u001b[0m\u001b[0;34m\u001b[0m\u001b[0;34m\u001b[0m\u001b[0m\n\u001b[0;32m-> 1530\u001b[0;31m         self.establish_variables(x, y, hue, data, orient,\n\u001b[0m\u001b[1;32m   1531\u001b[0m                                  order, hue_order, units)\n\u001b[1;32m   1532\u001b[0m         \u001b[0mself\u001b[0m\u001b[0;34m.\u001b[0m\u001b[0mestablish_colors\u001b[0m\u001b[0;34m(\u001b[0m\u001b[0mcolor\u001b[0m\u001b[0;34m,\u001b[0m \u001b[0mpalette\u001b[0m\u001b[0;34m,\u001b[0m \u001b[0msaturation\u001b[0m\u001b[0;34m)\u001b[0m\u001b[0;34m\u001b[0m\u001b[0;34m\u001b[0m\u001b[0m\n",
            "\u001b[0;32m/usr/local/lib/python3.10/dist-packages/seaborn/categorical.py\u001b[0m in \u001b[0;36mestablish_variables\u001b[0;34m(self, x, y, hue, data, orient, order, hue_order, units)\u001b[0m\n\u001b[1;32m    539\u001b[0m                 \u001b[0;32mif\u001b[0m \u001b[0misinstance\u001b[0m\u001b[0;34m(\u001b[0m\u001b[0mvar\u001b[0m\u001b[0;34m,\u001b[0m \u001b[0mstr\u001b[0m\u001b[0;34m)\u001b[0m\u001b[0;34m:\u001b[0m\u001b[0;34m\u001b[0m\u001b[0;34m\u001b[0m\u001b[0m\n\u001b[1;32m    540\u001b[0m                     \u001b[0merr\u001b[0m \u001b[0;34m=\u001b[0m \u001b[0;34mf\"Could not interpret input '{var}'\"\u001b[0m\u001b[0;34m\u001b[0m\u001b[0;34m\u001b[0m\u001b[0m\n\u001b[0;32m--> 541\u001b[0;31m                     \u001b[0;32mraise\u001b[0m \u001b[0mValueError\u001b[0m\u001b[0;34m(\u001b[0m\u001b[0merr\u001b[0m\u001b[0;34m)\u001b[0m\u001b[0;34m\u001b[0m\u001b[0;34m\u001b[0m\u001b[0m\n\u001b[0m\u001b[1;32m    542\u001b[0m \u001b[0;34m\u001b[0m\u001b[0m\n\u001b[1;32m    543\u001b[0m             \u001b[0;31m# Figure out the plotting orientation\u001b[0m\u001b[0;34m\u001b[0m\u001b[0;34m\u001b[0m\u001b[0m\n",
            "\u001b[0;31mValueError\u001b[0m: Could not interpret input 'community_board'"
          ]
        },
        {
          "output_type": "display_data",
          "data": {
            "text/plain": [
              "<Figure size 1200x600 with 0 Axes>"
            ]
          },
          "metadata": {}
        }
      ],
      "source": [
        "# Reset the index to convert the series to a DataFrame\n",
        "top_addresses_df = top_addresses.reset_index()\n",
        "# Filter the data for the years 2020 to 2023\n",
        "filtered_top_addresses_df = top_addresses_df[top_addresses_df['year'].between(2020, 2023)]\n",
        "\n",
        "# Plot the count of incident ZIP codes by year, month, and community board\n",
        "plt.figure(figsize=(12, 6))\n",
        "sns.countplot(data=filtered_top_addresses_df, x='year', hue='community_board', palette='viridis')\n",
        "\n",
        "# Set the axis labels and title\n",
        "plt.xlabel('Year')\n",
        "plt.ylabel('Count')\n",
        "plt.title('Top Addresses Reporting RATS!!!! by Year and Month (2020-2023)')\n",
        "\n",
        "# Rotate the x-axis labels\n",
        "plt.xticks(rotation=45)\n",
        "\n",
        "# Show the legend\n",
        "plt.legend(loc='center left', bbox_to_anchor=(1, 0.5), fontsize=6, ncol=2, title='Community Board')\n",
        "\n",
        "# Display the plot\n",
        "plt.show()"
      ]
    },
    {
      "cell_type": "code",
      "execution_count": null,
      "metadata": {
        "id": "6v4KRvks2lhp"
      },
      "outputs": [],
      "source": [
        "fig, ax = plt.subplots(figsize=(10, 8))\n",
        "sns.scatterplot(data=rat1, x='longitude', y='latitude', hue='community_board', alpha=0.15, palette=\"viridis\", label='Rat Sightings\\n Community Districts', ax=ax)\n",
        "sns.scatterplot(data=dsny1, x='Longitude', y='Latitude', hue= 'district', palette=\"Blues\" ,label='\\nDSNY Districts', ax=ax)\n",
        "ax.legend(loc='center left', bbox_to_anchor=(1, 0.5), fontsize=6, ncol=2)\n",
        "ax.set_title('Rat Sightings by Community Districts/DSNY Districts 2010-6/2023')\n",
        "plt.show()"
      ]
    },
    {
      "cell_type": "markdown",
      "metadata": {
        "id": "NrSI7ayL5mNC"
      },
      "source": [
        "#**series count weekday**\n",
        "Monday = 0\n",
        "\n",
        "Tuesday = 1\n",
        "\n",
        "Wednesday = 2, and so on"
      ]
    },
    {
      "cell_type": "markdown",
      "metadata": {
        "id": "FlJZy2NCWkbM"
      },
      "source": [
        "#NEW df with no no nulls/ for value counts to scale and analyse/"
      ]
    },
    {
      "cell_type": "code",
      "execution_count": null,
      "metadata": {
        "id": "XUrFoPe0VVUH"
      },
      "outputs": [],
      "source": [
        "# Create a new DataFrame for rat1 analysis\n",
        "rat1_analysis = rat1.copy()"
      ]
    },
    {
      "cell_type": "code",
      "execution_count": null,
      "metadata": {
        "id": "5737woyPhx5w"
      },
      "outputs": [],
      "source": [
        "rat1_analysis.columns"
      ]
    },
    {
      "cell_type": "code",
      "execution_count": null,
      "metadata": {
        "id": "Nqm748VDegqn"
      },
      "outputs": [],
      "source": [
        "sns.heatmap(rat1_analysis.isnull(), cbar=False)"
      ]
    },
    {
      "cell_type": "code",
      "execution_count": null,
      "metadata": {
        "id": "lDrWcMLPjsXl"
      },
      "outputs": [],
      "source": [
        "# Drop the specified columns\n",
        "columns_to_drop = ['due_date', 'intersection_street_1', 'intersection_street_2', 'address_Type', 'landmark', 'status', 'X Coordinate (State Plane)',\n",
        "       'Y Coordinate (State Plane)', 'latitude', 'longitude', 'location', 'label', 'zcta', 'pop_est', 'the_geom']\n",
        "rat1_analysis = rat1_analysis.drop(columns_to_drop, axis=1)"
      ]
    },
    {
      "cell_type": "code",
      "execution_count": null,
      "metadata": {
        "id": "LVUjYsVymyC5"
      },
      "outputs": [],
      "source": [
        "# Drop rows with null values in 'created_date' column\n",
        "rat1_analysis = rat1_analysis.dropna(subset=['created_date'])"
      ]
    },
    {
      "cell_type": "code",
      "execution_count": null,
      "metadata": {
        "id": "9hzx0uxNnl4T"
      },
      "outputs": [],
      "source": [
        "sns.heatmap(rat1_analysis.isnull(), cbar=False)"
      ]
    },
    {
      "cell_type": "code",
      "execution_count": null,
      "metadata": {
        "id": "TSLbCmUMTdSR"
      },
      "outputs": [],
      "source": [
        "top_25_address_counts = rat1_analysis.groupby('CB_address_zip').agg('nunique').nlargest(25, 'unique_key', keep='first')\n",
        "\n",
        "print(top_25_address_counts)"
      ]
    },
    {
      "cell_type": "code",
      "execution_count": null,
      "metadata": {
        "id": "mtxKMkkbZ9iB"
      },
      "outputs": [],
      "source": [
        "top_address_counts = rat1_analysis.groupby('CB_address_zip').nunique().sort_values('unique_key', ascending=False)\n",
        "\n",
        "print(top_address_counts.head())"
      ]
    },
    {
      "cell_type": "code",
      "execution_count": null,
      "metadata": {
        "id": "MdYYsJNxkEK4"
      },
      "outputs": [],
      "source": [
        "top_address_counts.community_board.unique()"
      ]
    },
    {
      "cell_type": "code",
      "execution_count": null,
      "metadata": {
        "id": "2XPgTqg5CIXZ"
      },
      "outputs": [],
      "source": [
        "top_address_counts.info()"
      ]
    },
    {
      "cell_type": "code",
      "execution_count": null,
      "metadata": {
        "id": "iFmqFQREBccf"
      },
      "outputs": [],
      "source": [
        "\n",
        "# define data\n",
        "data = top_address_scale\n",
        "# define min max scaler\n",
        "scaler2 = MinMaxScaler()\n",
        "# transform data\n",
        "scaled_top_address = scaler2.fit_transform(data)\n",
        "print(scaled_top_address)"
      ]
    },
    {
      "cell_type": "code",
      "execution_count": null,
      "metadata": {
        "id": "FM-r5ZiQxT5d"
      },
      "outputs": [],
      "source": [
        "top_address_scale = top_address_counts.copy()\n",
        "\n",
        "# Select numeric columns for scaling\n",
        "numeric_columns = top_address_scale.select_dtypes(include=['int', 'float']).columns\n",
        "\n",
        "# Scale the numeric columns\n",
        "scaler = StandardScaler()\n",
        "top_address_scale[numeric_columns] = scaler.fit_transform(top_address_scale[numeric_columns])\n",
        "\n",
        "print(top_address_scale)"
      ]
    },
    {
      "cell_type": "code",
      "execution_count": null,
      "metadata": {
        "id": "k7zvpTIzFU5j"
      },
      "outputs": [],
      "source": [
        "SI_rats = rat1_dist2[rat1_dist2['community_board'].str.contains('stat', case=False)]\n",
        "print(f'Community Board districts: \\n{SI_rats.head()}')"
      ]
    },
    {
      "cell_type": "markdown",
      "metadata": {
        "id": "lRly_eoCvwZy"
      },
      "source": [
        "#RATS>>DSNY"
      ]
    },
    {
      "cell_type": "markdown",
      "metadata": {
        "id": "Hqe2Ml8evrBZ"
      },
      "source": [
        "##DSNY new dataframes / and bools"
      ]
    },
    {
      "cell_type": "code",
      "execution_count": null,
      "metadata": {
        "id": "yDnWb8Vksrax"
      },
      "outputs": [],
      "source": [
        "dsny1_dist = dsny1.district.unique()\n",
        "print(f'DSNY districts: {dsny1_dist}')"
      ]
    },
    {
      "cell_type": "code",
      "execution_count": null,
      "metadata": {
        "id": "YcxY2jNXws_g"
      },
      "outputs": [],
      "source": [
        "BRX = dsny1.drop(dsny1[(dsny1['district'] == 'BKN01') | (dsny1['district'] == 'BKN02') | (dsny1['district'] ==  'BKN03') | (dsny1['district'] == 'BKN04') | (dsny1['district'] == 'BKN05') | (dsny1['district'] == 'BKS06') | (dsny1['district'] == 'BKS07') | (dsny1['district'] == 'BKN08')|(dsny1['district'] == 'BKN09') |\n",
        "                      (dsny1['district'] == 'BKS10') | (dsny1['district'] == 'BKS11') | (dsny1['district'] ==  'BKS12') | (dsny1['district'] == 'BKS13') | (dsny1['district'] == 'BKS14') | (dsny1['district'] == 'BKS15') | (dsny1['district'] == 'BKN16') | (dsny1['district'] == 'BKN17')|(dsny1['district'] == 'BKS18') |\n",
        "                      (dsny1['district'] == 'SI01') | (dsny1['district'] == 'SI02') | (dsny1['district'] == 'SI03') | (dsny1['district'] == 'MN01') | (dsny1['district'] == 'MN02') | (dsny1['district'] == 'MN03') |\n",
        "                      (dsny1['district'] == 'MN04') | (dsny1['district'] == 'MN05') | (dsny1['district'] == 'MN06') | (dsny1['district'] == 'MN07') | (dsny1['district'] == 'MN08') | (dsny1['district'] == 'MN09') | (dsny1['district'] == 'MN06') | (dsny1['district'] == 'MN07') |\n",
        "                      (dsny1['district'] == 'MN08') | (dsny1['district'] == 'MN09') | (dsny1['district'] == 'MN10') | (dsny1['district'] == 'MN11') | (dsny1['district'] == 'MN12') | (dsny1['district'] == 'QW04') | (dsny1['district'] == 'QW01') | (dsny1['district'] == 'QW02') |\n",
        "                      (dsny1['district'] == 'QW03') | (dsny1['district'] == 'QW05') | (dsny1['district'] == 'QW06') | (dsny1['district'] == 'QE07') | (dsny1['district'] == 'QE08') | (dsny1['district'] == 'QW09') | (dsny1['district'] == 'QE10') | (dsny1['district'] == 'QE11') |\n",
        "                      (dsny1['district'] == 'QE12') | (dsny1['district'] == 'QE13') | (dsny1['district'] == 'QE14') ].index)\n",
        "BRX_dsny = pd.DataFrame(BRX)\n",
        "print(BRX_dsny.district.unique())\n"
      ]
    },
    {
      "cell_type": "code",
      "execution_count": null,
      "metadata": {
        "id": "b3n_ce3IwuVJ"
      },
      "outputs": [],
      "source": [
        " BKN = dsny1.drop(dsny1[(dsny1['district'] == 'SI01') | (dsny1['district'] == 'SI02') | (dsny1['district'] == 'SI03') | (dsny1['district'] == 'MN01') | (dsny1['district'] == 'MN02') | (dsny1['district'] == 'MN03') | (dsny1['district'] == 'MN04') | (dsny1['district'] == 'MN05')|\n",
        "                       (dsny1['district'] == 'MN06') | (dsny1['district'] == 'MN07') | (dsny1['district'] == 'MN08') | (dsny1['district'] == 'MN09') | (dsny1['district'] == 'MN06') | (dsny1['district'] == 'MN07') | (dsny1['district'] == 'MN08') | (dsny1['district'] == 'MN09') |\n",
        "                       (dsny1['district'] == 'MN10') | (dsny1['district'] == 'MN11') | (dsny1['district'] == 'MN12') | (dsny1['district'] == 'QW04') | (dsny1['district'] == 'QW01') | (dsny1['district'] == 'QW02') | (dsny1['district'] == 'QW03') | (dsny1['district'] == 'QW05') |\n",
        "                       (dsny1['district'] == 'QW06') | (dsny1['district'] == 'QE07') | (dsny1['district'] == 'QE08') | (dsny1['district'] == 'QW09') | (dsny1['district'] == 'QE10') | (dsny1['district'] == 'QE11') | (dsny1['district'] == 'QE12') | (dsny1['district'] == 'QE13') |\n",
        "                       (dsny1['district'] == 'QE14') | (dsny1['district'] == 'BX01') | (dsny1['district'] == 'BX02') | (dsny1['district'] == 'BX03') | (dsny1['district'] == 'BX04') | (dsny1['district'] == 'BX05') | (dsny1['district'] == 'BX06') | (dsny1['district'] == 'BX07') |\n",
        "                       (dsny1['district'] == 'BX08') | (dsny1['district'] == 'BX09') | (dsny1['district'] == 'BX10') | (dsny1['district'] == 'BX11') | (dsny1['district'] == 'BX12')].index)\n",
        "BKN_dsny = pd.DataFrame(BKN)\n",
        "print(BKN_dsny.district.unique())"
      ]
    },
    {
      "cell_type": "code",
      "execution_count": null,
      "metadata": {
        "id": "ix1Ip1R3w1XR"
      },
      "outputs": [],
      "source": [
        "QNS = dsny1.drop(dsny1[(dsny1['district'] == 'BKN01') | (dsny1['district'] == 'BKN02') | (dsny1['district'] ==  'BKN03') | (dsny1['district'] == 'BKN04') | (dsny1['district'] == 'BKN05') | (dsny1['district'] == 'BKS06') | (dsny1['district'] == 'BKS07') | (dsny1['district'] == 'BKN08')|(dsny1['district'] == 'BKN09') |\n",
        "                      (dsny1['district'] == 'BKS10') | (dsny1['district'] == 'BKS11') | (dsny1['district'] ==  'BKS12') | (dsny1['district'] == 'BKS13') | (dsny1['district'] == 'BKS14') | (dsny1['district'] == 'BKS15') | (dsny1['district'] == 'BKN16') | (dsny1['district'] == 'BKN17')|(dsny1['district'] == 'BKS18') |\n",
        "                      (dsny1['district'] == 'SI01') | (dsny1['district'] == 'SI02') | (dsny1['district'] == 'SI03') | (dsny1['district'] == 'MN01') | (dsny1['district'] == 'MN02') | (dsny1['district'] == 'MN03') | (dsny1['district'] == 'MN04') | (dsny1['district'] == 'MN05') | (dsny1['district'] == 'MN06') |\n",
        "                      (dsny1['district'] == 'MN07') | (dsny1['district'] == 'MN08') | (dsny1['district'] == 'MN09') | (dsny1['district'] == 'MN06') | (dsny1['district'] == 'MN07') | (dsny1['district'] == 'MN08') | (dsny1['district'] == 'MN09') | (dsny1['district'] == 'MN10') | (dsny1['district'] == 'MN11') |\n",
        "                      (dsny1['district'] == 'MN12') | (dsny1['district'] == 'BX01') | (dsny1['district'] == 'BX02') | (dsny1['district'] == 'BX03') | (dsny1['district'] == 'BX04') | (dsny1['district'] == 'BX05') | (dsny1['district'] == 'BX06') | (dsny1['district'] == 'BX07') | (dsny1['district'] == 'BX08') |\n",
        "                      (dsny1['district'] == 'BX09') | (dsny1['district'] == 'BX10') | (dsny1['district'] == 'BX11') | (dsny1['district'] == 'BX12')].index)\n",
        "QNS_dsny = pd.DataFrame(QNS)\n",
        "print(QNS_dsny.district.unique())"
      ]
    },
    {
      "cell_type": "code",
      "execution_count": null,
      "metadata": {
        "id": "i1yrfsR_w9d2"
      },
      "outputs": [],
      "source": [
        "SI = dsny1.drop(dsny1[(dsny1['district'] == 'BKN01') | (dsny1['district'] == 'BKN02') | (dsny1['district'] ==  'BKN03') | (dsny1['district'] == 'BKN04') | (dsny1['district'] == 'BKN05') | (dsny1['district'] == 'BKS06') | (dsny1['district'] == 'BKS07') | (dsny1['district'] == 'BKN08')|(dsny1['district'] == 'BKN09') |\n",
        "                      (dsny1['district'] == 'BKS10') | (dsny1['district'] == 'BKS11') | (dsny1['district'] ==  'BKS12') | (dsny1['district'] == 'BKS13') | (dsny1['district'] == 'BKS14') | (dsny1['district'] == 'BKS15') | (dsny1['district'] == 'BKN16') | (dsny1['district'] == 'BKN17')|(dsny1['district'] == 'BKS18') | (dsny1['district'] == 'MN01') | (dsny1['district'] == 'MN02') | (dsny1['district'] == 'MN03') | (dsny1['district'] == 'MN04') | (dsny1['district'] == 'MN05') | (dsny1['district'] == 'BX01') |\n",
        "                      (dsny1['district'] == 'BX02') | (dsny1['district'] == 'BX03') | (dsny1['district'] == 'BX04') | (dsny1['district'] == 'BX05') | (dsny1['district'] == 'BX06') | (dsny1['district'] == 'BX07') | (dsny1['district'] == 'BX08') | (dsny1['district'] == 'BX09') |\n",
        "                      (dsny1['district'] == 'BX10') | (dsny1['district'] == 'BX11') | (dsny1['district'] == 'BX12') | (dsny1['district'] == 'MN06') | (dsny1['district'] == 'MN07') | (dsny1['district'] == 'MN08') | (dsny1['district'] == 'MN09') | (dsny1['district'] == 'MN06') |\n",
        "                      (dsny1['district'] == 'MN07') | (dsny1['district'] == 'MN08') | (dsny1['district'] == 'MN09') | (dsny1['district'] == 'MN10') | (dsny1['district'] == 'MN11') | (dsny1['district'] == 'MN12') | (dsny1['district'] == 'QW04') | (dsny1['district'] == 'QW01') |\n",
        "                      (dsny1['district'] == 'QW02') | (dsny1['district'] == 'QW03') | (dsny1['district'] == 'QW05') | (dsny1['district'] == 'QW06') | (dsny1['district'] == 'QE07') | (dsny1['district'] == 'QE08') | (dsny1['district'] == 'QW09') | (dsny1['district'] == 'QE10') |\n",
        "                      (dsny1['district'] == 'QE11') | (dsny1['district'] == 'QE12') | (dsny1['district'] == 'QE13') | (dsny1['district'] == 'QE14')].index)\n",
        "SI_dsny = pd.DataFrame(SI)\n",
        "print(SI_dsny.district.unique())"
      ]
    },
    {
      "cell_type": "code",
      "execution_count": null,
      "metadata": {
        "id": "vhvcnaaxvpof"
      },
      "outputs": [],
      "source": [
        "NYC = dsny1.drop(dsny1[(dsny1['district'] == 'BKN01') | (dsny1['district'] == 'BKN02') | (dsny1['district'] ==  'BKN03') | (dsny1['district'] == 'BKN04') | (dsny1['district'] == 'BKN05') | (dsny1['district'] == 'BKS06') | (dsny1['district'] == 'BKS07') | (dsny1['district'] == 'BKN08')|(dsny1['district'] == 'BKN09') |\n",
        "                      (dsny1['district'] == 'BKS10') | (dsny1['district'] == 'BKS11') | (dsny1['district'] ==  'BKS12') | (dsny1['district'] == 'BKS13') | (dsny1['district'] == 'BKS14') | (dsny1['district'] == 'BKS15') | (dsny1['district'] == 'BKN16') | (dsny1['district'] == 'BKN17')|(dsny1['district'] == 'BKS18') |\n",
        "                      (dsny1['district'] == 'QW04') | (dsny1['district'] == 'QW01') | (dsny1['district'] == 'QW02') | (dsny1['district'] == 'QW03') | (dsny1['district'] == 'QW05') | (dsny1['district'] == 'QW06') | (dsny1['district'] == 'QE07') | (dsny1['district'] == 'QE08') | (dsny1['district'] == 'QW09') |\n",
        "                      (dsny1['district'] == 'QE10') | (dsny1['district'] == 'QE11') | (dsny1['district'] == 'QE12') | (dsny1['district'] == 'QE13') | (dsny1['district'] == 'QE14') | (dsny1['district'] == 'SI01') | (dsny1['district'] == 'SI02') | (dsny1['district'] == 'SI03') | (dsny1['district'] == 'BX01') |\n",
        "                      (dsny1['district'] == 'BX02') | (dsny1['district'] == 'BX03') | (dsny1['district'] == 'BX04') | (dsny1['district'] == 'BX05') | (dsny1['district'] == 'BX06') | (dsny1['district'] == 'BX07') | (dsny1['district'] == 'BX08') | (dsny1['district'] == 'BX09') | (dsny1['district'] == 'BX10') |\n",
        "                      (dsny1['district'] == 'BX11') | (dsny1['district'] == 'BX12')].index)\n",
        "NYC_dsny = pd.DataFrame(NYC)\n",
        "print(NYC_dsny.district.unique())"
      ]
    },
    {
      "cell_type": "code",
      "execution_count": null,
      "metadata": {
        "id": "32kJp7suREgI"
      },
      "outputs": [],
      "source": [
        "NYC_dsny.head()"
      ]
    },
    {
      "cell_type": "markdown",
      "metadata": {
        "id": "B3X2mIV8H2cE"
      },
      "source": [
        "##rat sightings ...needs converted to dfs? check outputs"
      ]
    },
    {
      "cell_type": "code",
      "execution_count": null,
      "metadata": {
        "id": "JKRfTZTxM-oE"
      },
      "outputs": [],
      "source": [
        "rat1.columns"
      ]
    },
    {
      "cell_type": "code",
      "execution_count": null,
      "metadata": {
        "id": "nXSACfw-JMPA"
      },
      "outputs": [],
      "source": [
        "rat1_dist = rat1['community_board'].dropna().unique()\n",
        "\n",
        "# Create a new DataFrame with all columns for the unique values of 'community_board'\n",
        "rat1_dist2 = rat1[rat1['community_board'].isin(rat1_dist)].copy()\n",
        "\n",
        "print(f'Community Board districts: \\n{rat1_dist2}')"
      ]
    },
    {
      "cell_type": "code",
      "execution_count": null,
      "metadata": {
        "id": "IyGYrxm1Hycy"
      },
      "outputs": [],
      "source": [
        "BRX_rats = rat1_dist2[rat1_dist2['community_board'].str.contains('onx', case=False)]\n",
        "print(f'Community Board districts: \\n{BRX_rats}')"
      ]
    },
    {
      "cell_type": "code",
      "execution_count": null,
      "metadata": {
        "id": "_lWPkyDJSpDh"
      },
      "outputs": [],
      "source": [
        "QNS_rats = rat1_dist2[rat1_dist2['community_board'].str.contains('queen', case=False)]\n",
        "print(f'Community Board districts: \\n{QNS_rats}')"
      ]
    },
    {
      "cell_type": "code",
      "execution_count": null,
      "metadata": {
        "id": "IeK0thELTAav"
      },
      "outputs": [],
      "source": [
        "NYC_rats = rat1_dist2[rat1_dist2['community_board'].str.contains('manh', case=False)]\n",
        "print(f'Community Board districts: \\n{NYC_rats}')"
      ]
    },
    {
      "cell_type": "code",
      "execution_count": null,
      "metadata": {
        "id": "BIlaZDaLS_iw"
      },
      "outputs": [],
      "source": [
        "BKN_rats = rat1_dist2[rat1_dist2['community_board'].str.contains('rook', case=False)]\n",
        "print(f'Community Board districts: \\n{BKN_rats}')"
      ]
    },
    {
      "cell_type": "markdown",
      "metadata": {
        "id": "llLTwbjDptk3"
      },
      "source": [
        "#check min max report dates for each of the boroughs"
      ]
    },
    {
      "cell_type": "code",
      "execution_count": null,
      "metadata": {
        "id": "J92oUfTSpsq8"
      },
      "outputs": [],
      "source": [
        "min_date = min(BRX_rats['created_date'])\n",
        "max_date = max(BRX_rats['created_date'])\n",
        "print('Bronx Sightings Date Range after cleaning and new DF: ', min_date, ' - ', max_date)"
      ]
    },
    {
      "cell_type": "code",
      "execution_count": null,
      "metadata": {
        "id": "GSZP3p1-vlec"
      },
      "outputs": [],
      "source": [
        "min_date = min(BKN_rats['created_date'])\n",
        "max_date = max(BKN_rats['created_date'])\n",
        "print('Brooklyn Sightings Date Range after cleaning and new DF: ', min_date, ' - ', max_date)"
      ]
    },
    {
      "cell_type": "code",
      "execution_count": null,
      "metadata": {
        "id": "30jpjby3GRCt"
      },
      "outputs": [],
      "source": [
        "min_date = min(NYC_rats['created_date'])\n",
        "max_date = max(NYC_rats['created_date'])\n",
        "print('Manhattan Sightings Date Range after cleaning and new DF: ', min_date, ' - ', max_date)"
      ]
    },
    {
      "cell_type": "code",
      "execution_count": null,
      "metadata": {
        "id": "QkFEtPM8GRDI"
      },
      "outputs": [],
      "source": [
        "min_date = min(QNS_rats['created_date'])\n",
        "max_date = max(QNS_rats['created_date'])\n",
        "print('Queens Sightings Date Range after cleaning and new DF: ', min_date, ' - ', max_date)"
      ]
    },
    {
      "cell_type": "code",
      "execution_count": null,
      "metadata": {
        "id": "ZU63UPGLGmBF"
      },
      "outputs": [],
      "source": [
        "min_date = min(SI_rats['created_date'])\n",
        "max_date = max(SI_rats['created_date'])\n",
        "print('Staten Island Sightings Date Range after cleaning and new DF: ', min_date, ' - ', max_date)"
      ]
    },
    {
      "cell_type": "markdown",
      "metadata": {
        "id": "SGqKTJxMVRkr"
      },
      "source": [
        "years...2023,2022"
      ]
    },
    {
      "cell_type": "code",
      "execution_count": null,
      "metadata": {
        "id": "rOCCOg1GA1Xf"
      },
      "outputs": [],
      "source": [
        "# Filter the rat1 data for the year 2023\n",
        "rat1_2023 = rat1[rat1['year'] == 2023]\n",
        "\n",
        "# Create the figure and axes\n",
        "fig, ax = plt.subplots(figsize=(10, 8))\n",
        "\n",
        "# Plot the rat sightings by community districts\n",
        "sns.scatterplot(data=rat1_2023, x='longitude', y='latitude', hue='community_board', alpha=0.15, palette=\"viridis\", label='Rat Sightings\\n Community Districts', ax=ax)\n",
        "\n",
        "# Set the title and legend\n",
        "ax.set_title('Rat Sightings by Community Districts - 2023')\n",
        "ax.legend(loc='center left', bbox_to_anchor=(1, 0.5), fontsize=6, ncol=2)\n",
        "\n",
        "# Get the value counts for community districts\n",
        "value_counts = rat1_2023['community_board'].value_counts()\n",
        "\n",
        "# Plot the top value counts\n",
        "for i, (board, count) in enumerate(value_counts[:5].iteritems()):\n",
        "    ax.text(plt.xlim()[0], plt.ylim()[1]+(i*0.01), f'{board}: {count}', fontsize=6)\n",
        "\n",
        "plt.show()"
      ]
    },
    {
      "cell_type": "markdown",
      "metadata": {
        "id": "JJ1UXuHvCRwX"
      },
      "source": [
        "##Brooklyn"
      ]
    },
    {
      "cell_type": "code",
      "execution_count": null,
      "metadata": {
        "id": "iGPK3CuG9qg4"
      },
      "outputs": [],
      "source": [
        "# Group the data and retrieve the top incident address by year, quarter, month, created_date, weekday, community_board, incident_zip, and incident_address\n",
        "top_bk= BKN_rats.groupby(['year', 'quarter', 'month', 'day', 'weekday', 'community_board', 'incident_zip','incident_address'])['unique_key'].apply(lambda x: x.value_counts().nlargest())\n",
        "\n",
        "# Reset the index to convert the series to a DataFrame\n",
        "filtered_top_df_BKN = top_bk.reset_index()\n",
        "\n",
        "# Filter the data for the years 2020-2023\n",
        "filtered_data_BKN = filtered_top_df_BKN[filtered_top_df_BKN['year'].isin([2023])]\n",
        "\n",
        "# Filter the data for months 1 to 6\n",
        "filtered_data_months_bkn = filtered_data_BKN[filtered_data_BKN['month'].between(1, 6)]\n",
        "\n",
        "# Group the filtered data by month and community board and calculate the incident count\n",
        "grouped_data_BKN = filtered_data_months_bkn.groupby(['month', 'community_board']).size().unstack()\n",
        "\n",
        "# Calculate the total incidents for each community board and sort in descending order\n",
        "total_incidents_BKN = grouped_data_BKN.sum().sort_values(ascending=False)\n",
        "\n",
        "# Select the top 5 community boards with the most incidents\n",
        "top_5_community_boards_BKN = total_incidents_BKN.head(5).index\n",
        "\n",
        "# Filter the grouped data for the top 5 community boards and reorder the columns\n",
        "top_5_data_BKN = grouped_data_BKN[top_5_community_boards_BKN]\n",
        "\n",
        "# Create a line plot\n",
        "top_5_data_BKN.plot(kind='line', figsize=(12, 6))\n",
        "plt.xlabel('Month')\n",
        "plt.ylabel('Count')\n",
        "plt.title('Rat Sighting Top 5 Community districts of Brooklyn - January-June 2023')\n",
        "plt.show()\n"
      ]
    },
    {
      "cell_type": "markdown",
      "metadata": {
        "id": "dqtfdaYDGkxR"
      },
      "source": [
        "##Bronx"
      ]
    },
    {
      "cell_type": "code",
      "execution_count": null,
      "metadata": {
        "id": "gqfxknhAGkxa"
      },
      "outputs": [],
      "source": [
        "# Group the data and retrieve the top incident address by year, quarter, month, created_date, weekday, community_board, incident_zip, and incident_address\n",
        "top_brx= BRX_rats.groupby(['year', 'quarter', 'month', 'day', 'weekday', 'community_board', 'incident_zip','incident_address'])['unique_key'].apply(lambda x: x.value_counts().nlargest())\n",
        "\n",
        "# Reset the index to convert the series to a DataFrame\n",
        "filtered_top_df_BRX = top_brx.reset_index()\n",
        "\n",
        "# Filter the data for the years 2020-2023\n",
        "filtered_data_BRX = filtered_top_df_BRX[filtered_top_df_BRX['year'].isin([2023])]\n",
        "\n",
        "# Filter the data for months 1 to 6\n",
        "filtered_data_months_brx = filtered_data_BRX[filtered_data_BRX['month'].between(1, 6)]\n",
        "\n",
        "# Group the filtered data by month and community board and calculate the incident count\n",
        "grouped_data_BRX = filtered_data_months_brx.groupby(['month', 'community_board']).size().unstack()\n",
        "\n",
        "# Calculate the total incidents for each community board and sort in descending order\n",
        "total_incidents_BRX = grouped_data_BRX.sum().sort_values(ascending=False)\n",
        "\n",
        "# Select the top 5 community boards with the most incidents\n",
        "top_5_community_boards_BRX = total_incidents_BRX.head(5).index\n",
        "\n",
        "# Filter the grouped data for the top 5 community boards and reorder the columns\n",
        "top_5_data_BRX = grouped_data_BRX[top_5_community_boards_BRX]\n",
        "\n",
        "# Create a line plot\n",
        "top_5_data_BRX.plot(kind='line', figsize=(12, 6))\n",
        "plt.xlabel('Month')\n",
        "plt.ylabel('Count')\n",
        "plt.title('Rat Sighting Top 5 Community districts of Bronx - January-June 2023')\n",
        "plt.show()\n"
      ]
    },
    {
      "cell_type": "markdown",
      "metadata": {
        "id": "JBRVoccgG0HD"
      },
      "source": [
        "##Manhattan"
      ]
    },
    {
      "cell_type": "code",
      "execution_count": null,
      "metadata": {
        "id": "5p0yT2pZG0Hb"
      },
      "outputs": [],
      "source": [
        "# Group the data and retrieve the top incident address by year, quarter, month, created_date, weekday, community_board, incident_zip, and incident_address\n",
        "top_nyc= NYC_rats.groupby(['year', 'quarter', 'month', 'day', 'weekday', 'community_board', 'incident_zip','incident_address'])['unique_key'].apply(lambda x: x.value_counts().nlargest())\n",
        "\n",
        "# Reset the index to convert the series to a DataFrame\n",
        "filtered_top_df_NYC = top_nyc.reset_index()\n",
        "\n",
        "# Filter the data for the years 2020-2023\n",
        "filtered_data_NYC = filtered_top_df_NYC[filtered_top_df_NYC['year'].isin([2023])]\n",
        "\n",
        "# Filter the data for months 1 to 6\n",
        "filtered_data_months_nyc = filtered_data_NYC[filtered_data_NYC['month'].between(1, 6)]\n",
        "\n",
        "# Group the filtered data by month and community board and calculate the incident count\n",
        "grouped_data_NYC = filtered_data_months_nyc.groupby(['month', 'community_board']).size().unstack()\n",
        "\n",
        "# Calculate the total incidents for each community board and sort in descending order\n",
        "total_incidents_NYC = grouped_data_NYC.sum().sort_values(ascending=False)\n",
        "\n",
        "# Select the top 5 community boards with the most incidents\n",
        "top_5_community_boards_NYC = total_incidents_NYC.head(5).index\n",
        "\n",
        "# Filter the grouped data for the top 5 community boards and reorder the columns\n",
        "top_5_data_NYC = grouped_data_NYC[top_5_community_boards_NYC]\n",
        "\n",
        "# Create a line plot\n",
        "top_5_data_NYC.plot(kind='line', figsize=(12, 6))\n",
        "plt.xlabel('Month')\n",
        "plt.ylabel('Count')\n",
        "plt.title('Rat Sighting Top 5 Community districts of Manhattan - January-June 2023')\n",
        "\n",
        "plt.show()\n"
      ]
    },
    {
      "cell_type": "markdown",
      "metadata": {
        "id": "u6fAUAMhG1jJ"
      },
      "source": [
        "##Queens"
      ]
    },
    {
      "cell_type": "code",
      "execution_count": null,
      "metadata": {
        "id": "XlW3ACU0G1jY"
      },
      "outputs": [],
      "source": [
        "# Group the data and retrieve the top incident address by year, quarter, month, created_date, weekday, community_board, incident_zip, and incident_address\n",
        "top_qns= QNS_rats.groupby(['year', 'quarter', 'month', 'day', 'weekday', 'community_board', 'incident_zip','incident_address'])['unique_key'].apply(lambda x: x.value_counts().nlargest())\n",
        "\n",
        "# Reset the index to convert the series to a DataFrame\n",
        "filtered_top_df_QNS = top_qns.reset_index()\n",
        "\n",
        "# Filter the data for the years 2020-2023\n",
        "filtered_data_QNS = filtered_top_df_QNS[filtered_top_df_QNS['year'].isin([2023])]\n",
        "\n",
        "# Filter the data for months 1 to 6\n",
        "filtered_data_months_qns = filtered_data_QNS[filtered_data_QNS['month'].between(1, 6)]\n",
        "\n",
        "# Group the filtered data by month and community board and calculate the incident count\n",
        "grouped_data_QNS = filtered_data_months_qns.groupby(['month', 'community_board']).size().unstack()\n",
        "\n",
        "# Calculate the total incidents for each community board and sort in descending order\n",
        "total_incidents_QNS = grouped_data_QNS.sum().sort_values(ascending=False)\n",
        "\n",
        "# Select the top 5 community boards with the most incidents\n",
        "top_5_community_boards_QNS = total_incidents_QNS.head(5).index\n",
        "\n",
        "# Filter the grouped data for the top 5 community boards and reorder the columns\n",
        "top_5_data_QNS = grouped_data_QNS[top_5_community_boards_QNS]\n",
        "\n",
        "# Create a line plot\n",
        "top_5_data_QNS.plot(kind='line', figsize=(12, 6))\n",
        "plt.xlabel('Month')\n",
        "plt.ylabel('Count')\n",
        "plt.title('Rat Sighting Top 5 Community districts of Queens - January-June 2023')\n",
        "\n",
        "plt.show()\n"
      ]
    },
    {
      "cell_type": "markdown",
      "metadata": {
        "id": "4LHaETeeG2qP"
      },
      "source": [
        "##Staten Island"
      ]
    },
    {
      "cell_type": "code",
      "execution_count": null,
      "metadata": {
        "id": "2n_xzDRJjd-C"
      },
      "outputs": [],
      "source": [
        "# Group the data and retrieve the top incident address by year, quarter, month, created_date, weekday, community_board, incident_zip, and incident_address\n",
        "top_si= SI_rats.groupby(['year', 'quarter', 'month', 'day', 'weekday', 'community_board', 'incident_zip','incident_address'])['unique_key'].apply(lambda x: x.value_counts().nlargest())\n",
        "\n",
        "# Reset the index to convert the series to a DataFrame\n",
        "filtered_top_df_SI = top_si.reset_index()\n",
        "\n",
        "# Filter the data for the years 2020-2023\n",
        "filtered_data_SI = filtered_top_df_SI[filtered_top_df_SI['year'].isin([2023])]\n",
        "\n",
        "# Filter the data for months 1 to 6\n",
        "filtered_data_months_si = filtered_data_SI[filtered_data_SI['month'].between(1, 6)]\n",
        "\n",
        "# Group the filtered data by month and community board and calculate the incident count\n",
        "grouped_data_SI = filtered_data_months_si.groupby(['month', 'community_board']).size().unstack()\n",
        "\n",
        "# Calculate the total incidents for each community board and sort in descending order\n",
        "total_incidents_SI = grouped_data_SI.sum().sort_values(ascending=False)\n",
        "\n",
        "# Select the top 5 community boards with the most incidents\n",
        "top_5_community_boards_SI = total_incidents_SI.head(5).index\n",
        "\n",
        "# Filter the grouped data for the top 5 community boards and reorder the columns\n",
        "top_5_data_SI = grouped_data_SI[top_5_community_boards_SI]\n",
        "\n",
        "# Create a line plot\n",
        "top_5_data_SI.plot(kind='line', figsize=(12, 6))\n",
        "plt.xlabel('Month')\n",
        "plt.ylabel('Count')\n",
        "plt.title('Rat Sighting in the Community districts of Staten Island - January-June 2023')\n",
        "\n",
        "plt.show()"
      ]
    },
    {
      "cell_type": "code",
      "execution_count": null,
      "metadata": {
        "id": "4Qym2OXMVHLW"
      },
      "outputs": [],
      "source": [
        "# Filter the rat1 data for the specified community districts and time period\n",
        "filtered_data = rat1[(rat1['community_board'].isin(['03 BROOKLYN', '05 QUEENS', '03 STATEN ISLAND', '08 MANHATTAN'])) & (rat1['month'].between(1, 7)) & (rat1['year'] == 2023)]\n",
        "\n",
        "# Group the filtered data by incident address and calculate the unique key count\n",
        "grouped_data = filtered_data.groupby(['location_type','community_board','incident_address', 'incident_zip'])['unique_key'].count().sort_values(ascending=False)\n",
        "\n",
        "# Select the top addresses\n",
        "top_addresses_locationtype = grouped_data.head(10)\n",
        "\n",
        "# Create a bar plot\n",
        "top_addresses_locationtype .plot(kind='bar', figsize=(12, 6))\n",
        "plt.xlabel(['location_type','community_board','incident_address'])\n",
        "plt.ylabel('Count (Unique Key)')\n",
        "plt.title('Top Incident Addresses - January to July 2023')\n",
        "plt.show()"
      ]
    },
    {
      "cell_type": "code",
      "execution_count": null,
      "metadata": {
        "id": "jvLdfcQWt5YV"
      },
      "outputs": [],
      "source": [
        "BKN_top_25_address_counts = BKN_rats.groupby('incident_address').agg('nunique').nlargest(25, 'unique_key', keep='first')\n",
        "\n",
        "print(BKN_top_25_address_counts)"
      ]
    },
    {
      "cell_type": "code",
      "execution_count": null,
      "metadata": {
        "id": "gv5ORmJ0uVu8"
      },
      "outputs": [],
      "source": [
        "BRX_top_25_address_counts = BRX_rats.groupby('incident_address').agg('nunique').nlargest(25, 'unique_key', keep='first')\n",
        "\n",
        "print(BRX_top_25_address_counts)"
      ]
    },
    {
      "cell_type": "code",
      "execution_count": null,
      "metadata": {
        "id": "5NgMPIKyufHi"
      },
      "outputs": [],
      "source": [
        "NYC_top_25_address_counts = QNS_rats.groupby('incident_address').agg('nunique').nlargest(25, 'unique_key', keep='first')\n",
        "\n",
        "print(NYC_top_25_address_counts)"
      ]
    },
    {
      "cell_type": "code",
      "execution_count": null,
      "metadata": {
        "id": "E0UFV-yHukS5"
      },
      "outputs": [],
      "source": [
        "QNS_top_25_address_counts = NYC_rats.groupby('incident_address').agg('nunique').nlargest(25, 'unique_key', keep='first')\n",
        "\n",
        "print(QNS_top_25_address_counts)"
      ]
    },
    {
      "cell_type": "code",
      "execution_count": null,
      "metadata": {
        "id": "6O3utmunuq-U"
      },
      "outputs": [],
      "source": [
        "SI_top_25_address_counts = SI_rats.groupby('incident_address').agg('nunique').nlargest(25, 'unique_key', keep='first')\n",
        "\n",
        "print(SI_top_25_address_counts)"
      ]
    },
    {
      "cell_type": "markdown",
      "metadata": {
        "id": "LyNHOSrwSwoj"
      },
      "source": [
        "##Values to df"
      ]
    },
    {
      "cell_type": "markdown",
      "metadata": {
        "id": "oazeKYh3xmCO"
      },
      "source": [
        "# Exports"
      ]
    },
    {
      "cell_type": "code",
      "execution_count": null,
      "metadata": {
        "id": "CYdz6VKGxuTs"
      },
      "outputs": [],
      "source": [
        "# Export Selected Columns to CSV File\n",
        "#column_names = ['', '','']\n",
        "#df.to_csv(\"c:/tmp/courses.csv\",index=False, columns=column_names)\n",
        "\n",
        "# Writes Content to CSV File"
      ]
    },
    {
      "cell_type": "markdown",
      "metadata": {
        "id": "LMNznJMyWgs1"
      },
      "source": [
        "##Print to file"
      ]
    },
    {
      "cell_type": "code",
      "execution_count": null,
      "metadata": {
        "id": "gbahp9NNY41X"
      },
      "outputs": [],
      "source": [
        "# BRX_dsny.to_csv(\"/content/drive/MyDrive/Projects/rats_analysis_application/Datasources/outputs_pandas/BRX_dsny.csv\")\n",
        "# BRX_rats.to_csv(\"/content/drive/MyDrive/Projects/rats_analysis_application/Datasources/outputs_pandas/BRX_rats.csv\")\n",
        "# BKN_dsny.to_csv(\"/content/drive/MyDrive/Projects/rats_analysis_application/Datasources/outputs_pandas/BKN_dsny.csv\")\n",
        "# BKN_rats.to_csv(\"/content/drive/MyDrive/Projects/rats_analysis_application/Datasources/outputs_pandas/BKN_rats.csv\")\n",
        "# NYC_dsny.to_csv(\"/content/drive/MyDrive/Projects/rats_analysis_application/Datasources/outputs_pandas/NYC_dsny.csv\")\n",
        "# NYC_rats.to_csv(\"/content/drive/MyDrive/Projects/rats_analysis_application/Datasources/outputs_pandas/NYC_rats.csv\")\n",
        "# QNS_dsny.to_csv(\"/content/drive/MyDrive/Projects/rats_analysis_application/Datasources/outputs_pandas/QNS_dsny.csv\")\n",
        "# QNS_rats.to_csv(\"/content/drive/MyDrive/Projects/rats_analysis_application/Datasources/outputs_pandas/QNS_rats.csv\")\n",
        "# SI_dsny.to_csv(\"/content/drive/MyDrive/Projects/rats_analysis_application/Datasources/outputs_pandas/SI_dsny.csv\")\n",
        "# SI_rats.to_csv(\"/content/drive/MyDrive/Projects/rats_analysis_application/Datasources/outputs_pandas/SI_rats.csv\")\n",
        "# rat1.to_csv(r\"C:\\Users\\xx\\Desktop\\RatNYC\\Datasources\\2023.1\\en_US-US\\rats1\\rat1.csv\")\n",
        "#rat1.to_csv(\"/content/drive/MyDrive/Projects/rats_analysis_application/Datasources/outputs_pandas/rat1.csv\")\n",
        "# dsny1.to_csv(\"/content/drive/MyDrive/Projects/rats_analysis_application/Datasources/outputs_pandas/dsny1.csv\")"
      ]
    },
    {
      "cell_type": "code",
      "execution_count": null,
      "metadata": {
        "id": "0CJdhLQlYWOR"
      },
      "outputs": [],
      "source": [
        "# top_addresses.to_csv(\"/content/drive/MyDrive/Projects/rats_analysis_application/Datasources/outputs_pandas/top_addresses.csv\")\n",
        "# SI_top_25_address_counts.to_csv(\"/content/drive/MyDrive/Projects/rats_analysis_application/Datasources/outputs_pandas/SI_top_25_address_counts.csv\")\n",
        "# BRX_top_25_address_counts.to_csv(\"/content/drive/MyDrive/Projects/rats_analysis_application/Datasources/outputs_pandas/BRX_top_25_address_counts.csv\")\n",
        "# BKN_top_25_address_counts.to_csv(\"/content/drive/MyDrive/Projects/rats_analysis_application/Datasources/outputs_pandas/BKN_top_25_address_counts.csv\")\n",
        "# QNS_top_25_address_counts.to_csv(\"/content/drive/MyDrive/Projects/rats_analysis_application/Datasources/outputs_pandas/QNS_top_25_address_counts.csv\")\n",
        "# NYC_top_25_address_counts.to_csv(\"/content/drive/MyDrive/Projects/rats_analysis_application/Datasources/outputs_pandas/NYC_top_25_address_counts.csv\")"
      ]
    },
    {
      "cell_type": "code",
      "execution_count": null,
      "metadata": {
        "id": "p27ytF9Jnna6"
      },
      "outputs": [],
      "source": [
        "scaled_top_address.to_csv(\"/content/drive/MyDrive/Projects/rats_analysis_application/Datasources/outputs_pandas/scaled_top_address.csv\")"
      ]
    },
    {
      "cell_type": "code",
      "execution_count": null,
      "metadata": {
        "id": "fI3gm0eswl5R"
      },
      "outputs": [],
      "source": [
        "# top_5_data_BKN.to_csv(\"/content/drive/MyDrive/Projects/rats_analysis_application/Datasources/outputs_pandas/top_5_data_BKN.csv\")\n",
        "# top_5_data_BRX.to_csv(\"/content/drive/MyDrive/Projects/rats_analysis_application/Datasources/outputs_pandas/top_5_data_BRX.csv\")\n",
        "# top_5_data_NYC.to_csv(\"/content/drive/MyDrive/Projects/rats_analysis_application/Datasources/outputs_pandas/top_5_data_NYC.csv\")\n",
        "# top_5_data_QNS.to_csv(\"/content/drive/MyDrive/Projects/rats_analysis_application/Datasources/outputs_pandas/top_5_data_QNS.csv\")\n",
        "# top_5_data_SI.to_csv(\"/content/drive/MyDrive/Projects/rats_analysis_application/Datasources/outputs_pandas/top_5_data_SI.csv\")"
      ]
    },
    {
      "cell_type": "code",
      "execution_count": null,
      "metadata": {
        "id": "_R8fIdOftUj9"
      },
      "outputs": [],
      "source": [
        "# output_directory = '/content/drive/MyDrive/Projects/rats_analysis_application/Datasources/outputs_pandas/'  # Update with your username\n",
        "\n",
        "\n",
        "\n"
      ]
    },
    {
      "cell_type": "code",
      "execution_count": null,
      "metadata": {
        "id": "CLPJ6K492UcZ"
      },
      "outputs": [],
      "source": [
        "# output_file_path1 = os.path.join(output_directory, 'top_25_address_counts.csv')\n",
        "# output_file_path2 = os.path.join(output_directory, 'top_address_counts.csv')\n",
        "# output_file_path3 = os.path.join(output_directory, 'top_address_scale.csv')\n",
        "\n",
        "# top_address_scale.to_csv(output_file_path3, index=False, mode='w')\n",
        "# top_25_address_counts.to_csv(output_file_path1, index=False, mode='w')\n",
        "# top_address_counts.to_csv(output_file_path2, index=False, mode='w')"
      ]
    },
    {
      "cell_type": "code",
      "execution_count": null,
      "metadata": {
        "id": "yxaEZeZardCg"
      },
      "outputs": [],
      "source": [
        "import os\n",
        "\n",
        "output_directory = os.getcwd()\n",
        "print(output_directory)"
      ]
    }
  ],
  "metadata": {
    "colab": {
      "collapsed_sections": [
        "oazeKYh3xmCO"
      ],
      "provenance": [],
      "toc_visible": true
    },
    "kernelspec": {
      "display_name": "Python 3",
      "name": "python3"
    },
    "language_info": {
      "name": "python"
    }
  },
  "nbformat": 4,
  "nbformat_minor": 0
}